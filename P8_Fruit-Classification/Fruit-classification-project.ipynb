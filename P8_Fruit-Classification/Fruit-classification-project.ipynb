{
 "cells": [
  {
   "cell_type": "markdown",
   "metadata": {
    "colab_type": "text",
    "id": "tIiIl2hEWqlq"
   },
   "source": [
    "## Setup and configuration"
   ]
  },
  {
   "cell_type": "markdown",
   "metadata": {
    "colab_type": "text",
    "id": "xz7oY3YcPSZe"
   },
   "source": [
    "1. Firstly, we'll import usefull packages.\n",
    "2. Then, we'll load the data, before visualize and preprocess it.\n",
    "3. We'll try a simple CNN model and then we will evaluate its performances.\n",
    "4. And finally, we'll use techniques such as data augmentation, learning rate decay and dropout to increase our model's accuracy."
   ]
  },
  {
   "cell_type": "markdown",
   "metadata": {
    "colab_type": "text",
    "id": "C4VkgMMepiyf"
   },
   "source": [
    "**Import Packages**"
   ]
  },
  {
   "cell_type": "code",
   "execution_count": 3,
   "metadata": {
    "colab": {},
    "colab_type": "code",
    "id": "Wx9m5esyW0qh"
   },
   "outputs": [],
   "source": [
    "import numpy as np                          # linear algebra\n",
    "import os                                   # used for loading the data\n",
    "from sklearn.metrics import confusion_matrix# confusion matrix to carry out error analysis\n",
    "import seaborn as sn                        # heatmap\n",
    "from sklearn.utils import shuffle           # shuffle the data\n",
    "import matplotlib.pyplot as plt             # 2D plotting library\n",
    "import tensorflow as tf                     # best library ever"
   ]
  },
  {
   "cell_type": "markdown",
   "metadata": {
    "colab_type": "text",
    "id": "qpcquX3ptpJ1"
   },
   "source": [
    "**Import datas**"
   ]
  },
  {
   "cell_type": "code",
   "execution_count": 4,
   "metadata": {
    "colab": {},
    "colab_type": "code",
    "id": "-KhtOc8mPKv3"
   },
   "outputs": [],
   "source": [
    "train_url = 'temp/fruits-360/Training'\n",
    "test_url = 'temp/fruits-360/Test'"
   ]
  },
  {
   "cell_type": "code",
   "execution_count": 6,
   "metadata": {
    "colab": {},
    "colab_type": "code",
    "id": "9gesKu8iPZBP"
   },
   "outputs": [
    {
     "name": "stdout",
     "output_type": "stream",
     "text": [
      "Found 57276 images belonging to 114 classes.\n",
      "Found 19548 images belonging to 114 classes.\n"
     ]
    }
   ],
   "source": [
    "from keras.preprocessing.image import ImageDataGenerator\n",
    "\n",
    "datagen = ImageDataGenerator()\n",
    "\n",
    "#Load dataset\n",
    "train_generator = datagen.flow_from_directory(\n",
    "        train_url,\n",
    "        target_size=(100, 100),\n",
    "        batch_size=32,\n",
    "        color_mode='rgb',\n",
    "        class_mode='categorical')\n",
    "\n",
    "validation_generator = datagen.flow_from_directory(\n",
    "        test_url,\n",
    "        target_size=(100, 100),\n",
    "        batch_size=32,\n",
    "        color_mode='rgb',\n",
    "        class_mode='categorical')"
   ]
  },
  {
   "cell_type": "markdown",
   "metadata": {},
   "source": [
    "**Let's explore the dataset**\n",
    "\n",
    "We can, for example, ask ourselves:\n",
    "\n",
    "- How many training and testing examples do we have ?\n",
    "- What is the size of the images ?\n",
    "- What is the proportion of each observed category ?"
   ]
  },
  {
   "cell_type": "code",
   "execution_count": null,
   "metadata": {},
   "outputs": [],
   "source": []
  }
 ],
 "metadata": {
  "colab": {
   "collapsed_sections": [],
   "name": "Fruit-Classification.ipynb",
   "provenance": [],
   "version": "0.3.2"
  },
  "kernelspec": {
   "display_name": "Python 3",
   "language": "python",
   "name": "python3"
  },
  "language_info": {
   "codemirror_mode": {
    "name": "ipython",
    "version": 3
   },
   "file_extension": ".py",
   "mimetype": "text/x-python",
   "name": "python",
   "nbconvert_exporter": "python",
   "pygments_lexer": "ipython3",
   "version": "3.7.1"
  }
 },
 "nbformat": 4,
 "nbformat_minor": 1
}
