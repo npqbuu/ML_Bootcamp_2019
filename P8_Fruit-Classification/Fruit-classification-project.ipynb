{
  "nbformat": 4,
  "nbformat_minor": 0,
  "metadata": {
    "colab": {
      "name": "Fruit-Classification.ipynb",
      "version": "0.3.2",
      "provenance": [],
      "collapsed_sections": []
    },
    "kernelspec": {
      "name": "python3",
      "display_name": "Python 3"
    }
  },
  "cells": [
    {
      "cell_type": "markdown",
      "metadata": {
        "id": "tIiIl2hEWqlq",
        "colab_type": "text"
      },
      "source": [
        "## Setup and configuration"
      ]
    },
    {
      "cell_type": "markdown",
      "metadata": {
        "id": "xz7oY3YcPSZe",
        "colab_type": "text"
      },
      "source": [
        "1. Firstly, we'll import usefull packages.\n",
        "2. Then, we'll load the data, before visualize and preprocess it.\n",
        "3. We'll try a simple CNN model and then we will evaluate its performances.\n",
        "4. And finally, we'll use techniques such as data augmentation, learning rate decay and dropout to increase our model's accuracy."
      ]
    },
    {
      "cell_type": "markdown",
      "metadata": {
        "id": "C4VkgMMepiyf",
        "colab_type": "text"
      },
      "source": [
        "**Import Packages**"
      ]
    },
    {
      "cell_type": "code",
      "metadata": {
        "id": "Wx9m5esyW0qh",
        "colab_type": "code",
        "colab": {}
      },
      "source": [
        "import numpy as np                          # linear algebra\n",
        "import os                                   # used for loading the data\n",
        "from sklearn.metrics import confusion_matrix# confusion matrix to carry out error analysis\n",
        "import seaborn as sn                        # heatmap\n",
        "from sklearn.utils import shuffle           # shuffle the data\n",
        "import matplotlib.pyplot as plt             # 2D plotting library\n",
        "import cv2                                  # image processing library\n",
        "import tensorflow as tf                     # best library ever"
      ],
      "execution_count": 0,
      "outputs": []
    },
    {
      "cell_type": "markdown",
      "metadata": {
        "id": "qpcquX3ptpJ1",
        "colab_type": "text"
      },
      "source": [
        "**Import datas**"
      ]
    },
    {
      "cell_type": "code",
      "metadata": {
        "id": "-KhtOc8mPKv3",
        "colab_type": "code",
        "colab": {}
      },
      "source": [
        "train_url = \n",
        "test_url ="
      ],
      "execution_count": 0,
      "outputs": []
    },
    {
      "cell_type": "code",
      "metadata": {
        "id": "9gesKu8iPZBP",
        "colab_type": "code",
        "colab": {}
      },
      "source": [
        "from keras.preprocessing.image import ImageDataGenerator\n",
        "\n",
        "image_gen = ImageDataGenerator()\n",
        "\n",
        "#Load dataset\n",
        "train_generator = train_datagen.flow_from_directory(\n",
        "        'temp/fruits-360/Training',\n",
        "        target_size=(100, 100),\n",
        "        batch_size=32,\n",
        "        color_mode='rgb',\n",
        "        class_mode='categorical')\n",
        "\n",
        "validation_generator = test_datagen.flow_from_directory(\n",
        "        'temp/fruits-360/Test',\n",
        "        target_size=(100, 100),\n",
        "        batch_size=32,\n",
        "        color_mode='rgb',\n",
        "        class_mode='categorical')"
      ],
      "execution_count": 0,
      "outputs": []
    }
  ]
}