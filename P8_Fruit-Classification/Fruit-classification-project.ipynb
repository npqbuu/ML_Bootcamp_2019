{
  "nbformat": 4,
  "nbformat_minor": 0,
  "metadata": {
    "colab": {
      "name": "Fruit-Classification.ipynb",
      "version": "0.3.2",
      "provenance": [],
      "collapsed_sections": []
    },
    "kernelspec": {
      "name": "python3",
      "display_name": "Python 3"
    }
  },
  "cells": [
    {
      "cell_type": "markdown",
      "metadata": {
        "id": "tIiIl2hEWqlq",
        "colab_type": "text"
      },
      "source": [
        "## Setup and configuration"
      ]
    },
    {
      "cell_type": "markdown",
      "metadata": {
        "id": "xz7oY3YcPSZe",
        "colab_type": "text"
      },
      "source": [
        "1. Firstly, we'll import usefull packages.\n",
        "2. Then, we'll load the data, before visualize and preprocess it.\n",
        "3. We'll try a simple CNN model and then we will evaluate its performances.\n",
        "4. And finally, we'll use techniques such as data augmentation, learning rate decay and dropout to increase our model's accuracy."
      ]
    },
    {
      "cell_type": "markdown",
      "metadata": {
        "id": "C4VkgMMepiyf",
        "colab_type": "text"
      },
      "source": [
        "**Import Packages**"
      ]
    },
    {
      "cell_type": "code",
      "metadata": {
        "id": "Wx9m5esyW0qh",
        "colab_type": "code",
        "colab": {}
      },
      "source": [
        "import numpy as np                          # linear algebra\n",
        "import os                                   # used for loading the data\n",
        "from sklearn.metrics import confusion_matrix# confusion matrix to carry out error analysis\n",
        "import seaborn as sn                        # heatmap\n",
        "from sklearn.utils import shuffle           # shuffle the data\n",
        "import matplotlib.pyplot as plt             # 2D plotting library\n",
        "import cv2                                  # image processing library\n",
        "import tensorflow as tf                     # best library ever"
      ],
      "execution_count": 0,
      "outputs": []
    },
    {
      "cell_type": "code",
      "metadata": {
        "id": "-KhtOc8mPKv3",
        "colab_type": "code",
        "colab": {}
      },
      "source": [
        "# Here's our 6 categories that we have to classify.\n",
        "class_names = ['mountain', 'street', 'glacier', 'buildings', 'sea', 'forest']\n",
        "class_names_label = {'mountain': 0,\n",
        "                    'street' : 1,\n",
        "                    'glacier' : 2,\n",
        "                    'buildings' : 3,\n",
        "                    'sea' : 4,\n",
        "                    'forest' : 5\n",
        "                    }\n",
        "nb_classes = 6"
      ],
      "execution_count": 0,
      "outputs": []
    },
    {
      "cell_type": "code",
      "metadata": {
        "id": "9gesKu8iPZBP",
        "colab_type": "code",
        "colab": {}
      },
      "source": [
        ""
      ],
      "execution_count": 0,
      "outputs": []
    }
  ]
}