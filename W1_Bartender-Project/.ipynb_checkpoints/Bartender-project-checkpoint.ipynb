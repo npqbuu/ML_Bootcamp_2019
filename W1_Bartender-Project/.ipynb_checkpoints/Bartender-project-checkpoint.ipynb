{
 "cells": [
  {
   "cell_type": "code",
   "execution_count": 1,
   "metadata": {},
   "outputs": [],
   "source": [
    "#init\n",
    "\n",
    "questions = { \n",
    "    \"strong\": \"Do ye like yer drinks strong?\",\n",
    "    \"salty\": \"Do ye like it with a salty tang?\",\n",
    "    \"bitter\": \"Are ye a lubber who likes it bitter?\",\n",
    "    \"sweet\": \"Would ye like a bit of sweetness with yer poison?\",\n",
    "    \"fruity\": \"Are ye one for a fruity finish?\", } \n",
    " \n",
    "ingredients = {\"strong\": [\"glug of rum\", \"slug of whisky\", \"splash of gin\"],\n",
    "               \"salty\": [\"olive on a stick\", \"salt-dusted rim\", \"rasher of bacon\"],\n",
    "               \"bitter\": [\"shake of bitters\", \"splash of tonic\", \"twist of lemon peel\"],\n",
    "               \"sweet\": [\"sugar cube\", \"spoonful of honey\", \"spash of cola\"],\n",
    "               \"fruity\": [\"slice of orange\", \"dash of cassis\", \"cherry on top\"], }"
   ]
  },
  {
   "cell_type": "markdown",
   "metadata": {},
   "source": [
    "Given two above dictionaries, construct the Python program (using functions) to ask users entering their tastes and then match randomly with the ingredients (print out outputs for user). "
   ]
  },
  {
   "cell_type": "code",
   "execution_count": 2,
   "metadata": {},
   "outputs": [],
   "source": [
    "import random\n",
    "\n",
    "def bartender():\n",
    "    for taste in questions:\n",
    "        print(questions[taste] + ' y/n')\n",
    "        answer = input()\n",
    "        if answer == 'y':\n",
    "            print(ingredients[taste][random.randint(0, 2)])\n",
    "            break\n",
    "            \n",
    "# Chuyen qua random choice"
   ]
  },
  {
   "cell_type": "code",
   "execution_count": 7,
   "metadata": {},
   "outputs": [
    {
     "name": "stdout",
     "output_type": "stream",
     "text": [
      "Do ye like yer drinks strong? y/n\n",
      "n\n",
      "Do ye like it with a salty tang? y/n\n",
      "n\n",
      "Are ye a lubber who likes it bitter? y/n\n",
      "n\n",
      "Would ye like a bit of sweetness with yer poison? y/n\n",
      "y\n",
      "spash of cola\n"
     ]
    }
   ],
   "source": [
    "#Test here\n",
    "bartender()"
   ]
  },
  {
   "cell_type": "code",
   "execution_count": null,
   "metadata": {},
   "outputs": [],
   "source": []
  }
 ],
 "metadata": {
  "kernelspec": {
   "display_name": "Python 3",
   "language": "python",
   "name": "python3"
  },
  "language_info": {
   "codemirror_mode": {
    "name": "ipython",
    "version": 3
   },
   "file_extension": ".py",
   "mimetype": "text/x-python",
   "name": "python",
   "nbconvert_exporter": "python",
   "pygments_lexer": "ipython3",
   "version": "3.7.1"
  }
 },
 "nbformat": 4,
 "nbformat_minor": 2
}
