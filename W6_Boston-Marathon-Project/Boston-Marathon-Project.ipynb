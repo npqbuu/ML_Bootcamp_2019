{
 "cells": [
  {
   "cell_type": "code",
   "execution_count": 1,
   "metadata": {},
   "outputs": [],
   "source": [
    "## Import libaries"
   ]
  },
  {
   "cell_type": "markdown",
   "metadata": {},
   "source": [
    "### Dimension reduction"
   ]
  },
  {
   "cell_type": "code",
   "execution_count": null,
   "metadata": {},
   "outputs": [],
   "source": [
    "#Standar Scaler\n",
    "\n",
    "from sklearn.preprocessing import StandardScaler\n",
    "\n",
    "numeric_features = ['Month', 'DayofMonth', 'DayOfWeek', 'CRSElapsedTime', 'AirTime', 'DepDelay', 'Distance', 'TaxiIn', 'TaxiOut', 'PotD']\n",
    "X_train_numeric = X_train[numeric_features]\n",
    "X_test_numeric = X_test[numeric_features]\n",
    "\n",
    "\n",
    "# Fit on training set only.\n",
    "scaler = StandardScaler().fit(X_train_numeric)\n",
    "\n",
    "\n",
    "    \n",
    "# Apply transform to both the training set and the test set.\n",
    "X_train_numeric = scaler.transform(X_train_numeric)\n",
    "X_test_numeric = scaler.transform(X_test_numeric)\n",
    "\n",
    "#PCA\n",
    "from sklearn.decomposition import PCA\n",
    "\n",
    "# Fit on training set only.\n",
    "pca = PCA(n_components=1).fit(X_train_numeric)\n",
    "\n",
    "# Apply transform to both the training set and the test set.\n",
    "X_train.insert(0, 'PCA', pca.transform(X_train_numeric))\n",
    "X_test.insert(0, 'PCA', pca.transform(X_test_numeric))\n",
    "#X_train['PCA'] = pca.transform(X_train_numeric)\n",
    "#X_test['PCA'] = pca.transform(X_test_numeric)\n",
    "\n",
    "X_train.drop(numeric_features, axis = 1, inplace = True)\n",
    "X_test.drop(numeric_features, axis = 1, inplace= True)"
   ]
  },
  {
   "cell_type": "markdown",
   "metadata": {},
   "source": [
    "### Feature selection"
   ]
  },
  {
   "cell_type": "code",
   "execution_count": null,
   "metadata": {},
   "outputs": [],
   "source": [
    "# RFE\n",
    "from sklearn.feature_selection import RFE\n",
    "\n",
    "from sklearn.linear_model import LogisticRegression\n",
    "model = LogisticRegression()\n",
    "rfe = RFE(estimator = model, n_features_to_select = 10, step = 5)"
   ]
  }
 ],
 "metadata": {
  "kernelspec": {
   "display_name": "Python 3",
   "language": "python",
   "name": "python3"
  },
  "language_info": {
   "codemirror_mode": {
    "name": "ipython",
    "version": 3
   },
   "file_extension": ".py",
   "mimetype": "text/x-python",
   "name": "python",
   "nbconvert_exporter": "python",
   "pygments_lexer": "ipython3",
   "version": "3.7.1"
  }
 },
 "nbformat": 4,
 "nbformat_minor": 2
}
