{
  "nbformat": 4,
  "nbformat_minor": 0,
  "metadata": {
    "colab": {
      "name": "Feature_engineering.ipynb",
      "version": "0.3.2",
      "provenance": []
    },
    "language_info": {
      "codemirror_mode": {
        "name": "ipython",
        "version": 3
      },
      "file_extension": ".py",
      "mimetype": "text/x-python",
      "name": "python",
      "nbconvert_exporter": "python",
      "pygments_lexer": "ipython3",
      "version": "3.7.1"
    },
    "kernelspec": {
      "display_name": "Python 3",
      "language": "python",
      "name": "python3"
    }
  },
  "cells": [
    {
      "cell_type": "markdown",
      "metadata": {
        "id": "HCtlpmVG9g4T",
        "colab_type": "text"
      },
      "source": [
        "## Import libaries"
      ]
    },
    {
      "cell_type": "code",
      "metadata": {
        "id": "br4j_Wi69h5e",
        "colab_type": "code",
        "colab": {}
      },
      "source": [
        "import pandas as pd\n",
        "import numpy as np \n",
        "import seaborn as sns \n",
        "%matplotlib inline\n",
        "import matplotlib.pyplot as plt\n",
        "import scipy.stats as ss\n",
        "from sklearn.metrics import f1_score"
      ],
      "execution_count": 0,
      "outputs": []
    },
    {
      "cell_type": "markdown",
      "metadata": {
        "id": "Y7u4Tbsg9jV5",
        "colab_type": "text"
      },
      "source": [
        "## Import data"
      ]
    },
    {
      "cell_type": "code",
      "metadata": {
        "id": "0t-c0jMq9ksB",
        "colab_type": "code",
        "colab": {}
      },
      "source": [
        "# Read from url - Take time to run\n",
        "url = \"http://stat-computing.org/dataexpo/2009/2008.csv.bz2\"\n",
        "df = pd.read_csv(url, compression='bz2')\n",
        "\n",
        "# Read from drive\n",
        "#df = pd.read_csv('./temp/Airline.csv')"
      ],
      "execution_count": 0,
      "outputs": []
    },
    {
      "cell_type": "code",
      "metadata": {
        "id": "K7k-c_gr9oBp",
        "colab_type": "code",
        "colab": {}
      },
      "source": [
        "# Reduce rows\n",
        "df = df.sample(frac=0.25)"
      ],
      "execution_count": 0,
      "outputs": []
    },
    {
      "cell_type": "code",
      "metadata": {
        "id": "KSNFkY6F9pLf",
        "colab_type": "code",
        "colab": {
          "base_uri": "https://localhost:8080/",
          "height": 0
        },
        "outputId": "3dd38f96-11ff-4e4e-eb62-4a8b00f04cba"
      },
      "source": [
        "df.head()"
      ],
      "execution_count": 4,
      "outputs": [
        {
          "output_type": "execute_result",
          "data": {
            "text/html": [
              "<div>\n",
              "<style scoped>\n",
              "    .dataframe tbody tr th:only-of-type {\n",
              "        vertical-align: middle;\n",
              "    }\n",
              "\n",
              "    .dataframe tbody tr th {\n",
              "        vertical-align: top;\n",
              "    }\n",
              "\n",
              "    .dataframe thead th {\n",
              "        text-align: right;\n",
              "    }\n",
              "</style>\n",
              "<table border=\"1\" class=\"dataframe\">\n",
              "  <thead>\n",
              "    <tr style=\"text-align: right;\">\n",
              "      <th></th>\n",
              "      <th>Year</th>\n",
              "      <th>Month</th>\n",
              "      <th>DayofMonth</th>\n",
              "      <th>DayOfWeek</th>\n",
              "      <th>DepTime</th>\n",
              "      <th>CRSDepTime</th>\n",
              "      <th>ArrTime</th>\n",
              "      <th>CRSArrTime</th>\n",
              "      <th>UniqueCarrier</th>\n",
              "      <th>FlightNum</th>\n",
              "      <th>TailNum</th>\n",
              "      <th>ActualElapsedTime</th>\n",
              "      <th>CRSElapsedTime</th>\n",
              "      <th>AirTime</th>\n",
              "      <th>ArrDelay</th>\n",
              "      <th>DepDelay</th>\n",
              "      <th>Origin</th>\n",
              "      <th>Dest</th>\n",
              "      <th>Distance</th>\n",
              "      <th>TaxiIn</th>\n",
              "      <th>TaxiOut</th>\n",
              "      <th>Cancelled</th>\n",
              "      <th>CancellationCode</th>\n",
              "      <th>Diverted</th>\n",
              "      <th>CarrierDelay</th>\n",
              "      <th>WeatherDelay</th>\n",
              "      <th>NASDelay</th>\n",
              "      <th>SecurityDelay</th>\n",
              "      <th>LateAircraftDelay</th>\n",
              "    </tr>\n",
              "  </thead>\n",
              "  <tbody>\n",
              "    <tr>\n",
              "      <th>6364273</th>\n",
              "      <td>2008</td>\n",
              "      <td>11</td>\n",
              "      <td>29</td>\n",
              "      <td>6</td>\n",
              "      <td>551.0</td>\n",
              "      <td>550</td>\n",
              "      <td>854.0</td>\n",
              "      <td>855</td>\n",
              "      <td>AA</td>\n",
              "      <td>558</td>\n",
              "      <td>N524AA</td>\n",
              "      <td>123.0</td>\n",
              "      <td>125.0</td>\n",
              "      <td>107.0</td>\n",
              "      <td>-1.0</td>\n",
              "      <td>1.0</td>\n",
              "      <td>TUS</td>\n",
              "      <td>DFW</td>\n",
              "      <td>813</td>\n",
              "      <td>7.0</td>\n",
              "      <td>9.0</td>\n",
              "      <td>0</td>\n",
              "      <td>NaN</td>\n",
              "      <td>0</td>\n",
              "      <td>NaN</td>\n",
              "      <td>NaN</td>\n",
              "      <td>NaN</td>\n",
              "      <td>NaN</td>\n",
              "      <td>NaN</td>\n",
              "    </tr>\n",
              "    <tr>\n",
              "      <th>1811573</th>\n",
              "      <td>2008</td>\n",
              "      <td>4</td>\n",
              "      <td>9</td>\n",
              "      <td>3</td>\n",
              "      <td>1110.0</td>\n",
              "      <td>1110</td>\n",
              "      <td>1226.0</td>\n",
              "      <td>1235</td>\n",
              "      <td>WN</td>\n",
              "      <td>2559</td>\n",
              "      <td>N392SW</td>\n",
              "      <td>76.0</td>\n",
              "      <td>85.0</td>\n",
              "      <td>66.0</td>\n",
              "      <td>-9.0</td>\n",
              "      <td>0.0</td>\n",
              "      <td>OAK</td>\n",
              "      <td>LAS</td>\n",
              "      <td>407</td>\n",
              "      <td>4.0</td>\n",
              "      <td>6.0</td>\n",
              "      <td>0</td>\n",
              "      <td>NaN</td>\n",
              "      <td>0</td>\n",
              "      <td>NaN</td>\n",
              "      <td>NaN</td>\n",
              "      <td>NaN</td>\n",
              "      <td>NaN</td>\n",
              "      <td>NaN</td>\n",
              "    </tr>\n",
              "    <tr>\n",
              "      <th>1828485</th>\n",
              "      <td>2008</td>\n",
              "      <td>4</td>\n",
              "      <td>14</td>\n",
              "      <td>1</td>\n",
              "      <td>1940.0</td>\n",
              "      <td>1940</td>\n",
              "      <td>100.0</td>\n",
              "      <td>55</td>\n",
              "      <td>WN</td>\n",
              "      <td>162</td>\n",
              "      <td>N704SW</td>\n",
              "      <td>200.0</td>\n",
              "      <td>195.0</td>\n",
              "      <td>190.0</td>\n",
              "      <td>5.0</td>\n",
              "      <td>0.0</td>\n",
              "      <td>PHX</td>\n",
              "      <td>MDW</td>\n",
              "      <td>1444</td>\n",
              "      <td>4.0</td>\n",
              "      <td>6.0</td>\n",
              "      <td>0</td>\n",
              "      <td>NaN</td>\n",
              "      <td>0</td>\n",
              "      <td>NaN</td>\n",
              "      <td>NaN</td>\n",
              "      <td>NaN</td>\n",
              "      <td>NaN</td>\n",
              "      <td>NaN</td>\n",
              "    </tr>\n",
              "    <tr>\n",
              "      <th>3805381</th>\n",
              "      <td>2008</td>\n",
              "      <td>7</td>\n",
              "      <td>17</td>\n",
              "      <td>4</td>\n",
              "      <td>1458.0</td>\n",
              "      <td>1450</td>\n",
              "      <td>1558.0</td>\n",
              "      <td>1555</td>\n",
              "      <td>OO</td>\n",
              "      <td>2754</td>\n",
              "      <td>N709BR</td>\n",
              "      <td>60.0</td>\n",
              "      <td>65.0</td>\n",
              "      <td>48.0</td>\n",
              "      <td>3.0</td>\n",
              "      <td>8.0</td>\n",
              "      <td>DSM</td>\n",
              "      <td>MKE</td>\n",
              "      <td>311</td>\n",
              "      <td>5.0</td>\n",
              "      <td>7.0</td>\n",
              "      <td>0</td>\n",
              "      <td>NaN</td>\n",
              "      <td>0</td>\n",
              "      <td>NaN</td>\n",
              "      <td>NaN</td>\n",
              "      <td>NaN</td>\n",
              "      <td>NaN</td>\n",
              "      <td>NaN</td>\n",
              "    </tr>\n",
              "    <tr>\n",
              "      <th>1722515</th>\n",
              "      <td>2008</td>\n",
              "      <td>3</td>\n",
              "      <td>27</td>\n",
              "      <td>4</td>\n",
              "      <td>2102.0</td>\n",
              "      <td>2055</td>\n",
              "      <td>2341.0</td>\n",
              "      <td>2332</td>\n",
              "      <td>AS</td>\n",
              "      <td>598</td>\n",
              "      <td>N649AS</td>\n",
              "      <td>159.0</td>\n",
              "      <td>157.0</td>\n",
              "      <td>125.0</td>\n",
              "      <td>9.0</td>\n",
              "      <td>7.0</td>\n",
              "      <td>SEA</td>\n",
              "      <td>LAX</td>\n",
              "      <td>954</td>\n",
              "      <td>5.0</td>\n",
              "      <td>29.0</td>\n",
              "      <td>0</td>\n",
              "      <td>NaN</td>\n",
              "      <td>0</td>\n",
              "      <td>NaN</td>\n",
              "      <td>NaN</td>\n",
              "      <td>NaN</td>\n",
              "      <td>NaN</td>\n",
              "      <td>NaN</td>\n",
              "    </tr>\n",
              "  </tbody>\n",
              "</table>\n",
              "</div>"
            ],
            "text/plain": [
              "         Year  Month  DayofMonth  ...  NASDelay  SecurityDelay  LateAircraftDelay\n",
              "6364273  2008     11          29  ...       NaN            NaN                NaN\n",
              "1811573  2008      4           9  ...       NaN            NaN                NaN\n",
              "1828485  2008      4          14  ...       NaN            NaN                NaN\n",
              "3805381  2008      7          17  ...       NaN            NaN                NaN\n",
              "1722515  2008      3          27  ...       NaN            NaN                NaN\n",
              "\n",
              "[5 rows x 29 columns]"
            ]
          },
          "metadata": {
            "tags": []
          },
          "execution_count": 4
        }
      ]
    },
    {
      "cell_type": "markdown",
      "metadata": {
        "id": "_0NAHR1a9l6_",
        "colab_type": "text"
      },
      "source": [
        "## Data pre-processing"
      ]
    },
    {
      "cell_type": "code",
      "metadata": {
        "id": "1uQMWbnH9rqD",
        "colab_type": "code",
        "colab": {
          "base_uri": "https://localhost:8080/",
          "height": 0
        },
        "outputId": "459d7a50-c9ab-40a1-e5aa-35ba1655e355"
      },
      "source": [
        "df.count()"
      ],
      "execution_count": 5,
      "outputs": [
        {
          "output_type": "execute_result",
          "data": {
            "text/plain": [
              "Year                 1752432\n",
              "Month                1752432\n",
              "DayofMonth           1752432\n",
              "DayOfWeek            1752432\n",
              "DepTime              1718523\n",
              "CRSDepTime           1752432\n",
              "ArrTime              1714743\n",
              "CRSArrTime           1752432\n",
              "UniqueCarrier        1752432\n",
              "FlightNum            1752432\n",
              "TailNum              1731729\n",
              "ActualElapsedTime    1713954\n",
              "CRSElapsedTime       1752229\n",
              "AirTime              1713954\n",
              "ArrDelay             1713954\n",
              "DepDelay             1718523\n",
              "Origin               1752432\n",
              "Dest                 1752432\n",
              "Distance             1752432\n",
              "TaxiIn               1714743\n",
              "TaxiOut              1718334\n",
              "Cancelled            1752432\n",
              "CancellationCode       34209\n",
              "Diverted             1752432\n",
              "CarrierDelay          381253\n",
              "WeatherDelay          381253\n",
              "NASDelay              381253\n",
              "SecurityDelay         381253\n",
              "LateAircraftDelay     381253\n",
              "dtype: int64"
            ]
          },
          "metadata": {
            "tags": []
          },
          "execution_count": 5
        }
      ]
    },
    {
      "cell_type": "code",
      "metadata": {
        "id": "iepEpLUa9tb1",
        "colab_type": "code",
        "colab": {
          "base_uri": "https://localhost:8080/",
          "height": 235
        },
        "outputId": "96531164-2f80-43f3-d470-bba69d1db7b7"
      },
      "source": [
        "#Create Date column\n",
        "#df['Date'] = pd.to_datetime(df[['Year', 'Month', 'DayofMonth']])\n",
        "\n",
        "# Drop columns\n",
        "# Year: The dataset only contains data in 2008\n",
        "# Cancelled + CancellationCode + Diverted: Cancelled flight does not have delay label.\n",
        "df.drop(['Year', 'Cancelled', 'CancellationCode', 'Diverted'], axis=1, inplace=True)\n",
        "# Delay details: Only 20% rows have these features.\n",
        "df.drop(['CarrierDelay', 'WeatherDelay', 'NASDelay', 'SecurityDelay', 'LateAircraftDelay'], axis=1, inplace=True)\n",
        "# Time: Only keep CRSArrTime, CRSElapsedTime\n",
        "df.drop(['DepTime', 'ArrTime', 'CRSDepTime', 'ActualElapsedTime', 'DepDelay'], axis=1, inplace=True)\n",
        "# Airport: Only keep the Dest Airport\n",
        "df.drop(['Origin'], axis=1, inplace=True)\n",
        "# Carrier: Drop FlightNum and TailNum\n",
        "df.drop(['FlightNum', 'TailNum'], axis=1, inplace=True)\n",
        "\n",
        "df.dropna(inplace=True)\n",
        "df.drop_duplicates(inplace=True)\n",
        "\n",
        "df.count()"
      ],
      "execution_count": 6,
      "outputs": [
        {
          "output_type": "execute_result",
          "data": {
            "text/plain": [
              "Month             1713954\n",
              "DayofMonth        1713954\n",
              "DayOfWeek         1713954\n",
              "CRSArrTime        1713954\n",
              "UniqueCarrier     1713954\n",
              "CRSElapsedTime    1713954\n",
              "AirTime           1713954\n",
              "ArrDelay          1713954\n",
              "Dest              1713954\n",
              "Distance          1713954\n",
              "TaxiIn            1713954\n",
              "TaxiOut           1713954\n",
              "dtype: int64"
            ]
          },
          "metadata": {
            "tags": []
          },
          "execution_count": 6
        }
      ]
    },
    {
      "cell_type": "code",
      "metadata": {
        "id": "XcOFd9co9upr",
        "colab_type": "code",
        "colab": {}
      },
      "source": [
        "# Convert CRSArrTime to Parts of the Day\n",
        "conditions = [\n",
        "    (df['CRSArrTime'] >= 500) & (df['CRSArrTime'] < 1201),\n",
        "    (df['CRSArrTime'] >= 1201) & (df['CRSArrTime'] < 1701),\n",
        "    (df['CRSArrTime'] >= 1701) & (df['CRSArrTime'] < 2101)]\n",
        "choices = [1, 2, 3]\n",
        "df['PotD'] = np.select(conditions, choices, default=4)\n",
        "\n",
        "# Morning, Afternoon, Evening, Night"
      ],
      "execution_count": 0,
      "outputs": []
    },
    {
      "cell_type": "code",
      "metadata": {
        "id": "wB2nV-i09v2R",
        "colab_type": "code",
        "colab": {}
      },
      "source": [
        "# Convert ArrDelay to Delay\n",
        "# A flight only counts as late if it is more than 30 minutes late.\n",
        "conditions = [\n",
        "    (df['ArrDelay'] > 30)]\n",
        "choices = [1]\n",
        "df['Delay'] = np.select(conditions, choices, default=0)\n",
        "df.drop(['CRSArrTime'], axis=1, inplace=True)"
      ],
      "execution_count": 0,
      "outputs": []
    },
    {
      "cell_type": "code",
      "metadata": {
        "id": "t2tWtvTu9w2v",
        "colab_type": "code",
        "colab": {
          "base_uri": "https://localhost:8080/",
          "height": 252
        },
        "outputId": "192c30ca-1d13-459d-b480-b4da6185fc45"
      },
      "source": [
        "df.dtypes"
      ],
      "execution_count": 9,
      "outputs": [
        {
          "output_type": "execute_result",
          "data": {
            "text/plain": [
              "Month               int64\n",
              "DayofMonth          int64\n",
              "DayOfWeek           int64\n",
              "UniqueCarrier      object\n",
              "CRSElapsedTime    float64\n",
              "AirTime           float64\n",
              "ArrDelay          float64\n",
              "Dest               object\n",
              "Distance            int64\n",
              "TaxiIn            float64\n",
              "TaxiOut           float64\n",
              "PotD                int64\n",
              "Delay               int64\n",
              "dtype: object"
            ]
          },
          "metadata": {
            "tags": []
          },
          "execution_count": 9
        }
      ]
    },
    {
      "cell_type": "code",
      "metadata": {
        "id": "Yr3Uh1o19xs5",
        "colab_type": "code",
        "colab": {
          "base_uri": "https://localhost:8080/",
          "height": 195
        },
        "outputId": "a6a9acd2-b0ee-4dbf-a091-fc61335dff9c"
      },
      "source": [
        "df.head()"
      ],
      "execution_count": 10,
      "outputs": [
        {
          "output_type": "execute_result",
          "data": {
            "text/html": [
              "<div>\n",
              "<style scoped>\n",
              "    .dataframe tbody tr th:only-of-type {\n",
              "        vertical-align: middle;\n",
              "    }\n",
              "\n",
              "    .dataframe tbody tr th {\n",
              "        vertical-align: top;\n",
              "    }\n",
              "\n",
              "    .dataframe thead th {\n",
              "        text-align: right;\n",
              "    }\n",
              "</style>\n",
              "<table border=\"1\" class=\"dataframe\">\n",
              "  <thead>\n",
              "    <tr style=\"text-align: right;\">\n",
              "      <th></th>\n",
              "      <th>Month</th>\n",
              "      <th>DayofMonth</th>\n",
              "      <th>DayOfWeek</th>\n",
              "      <th>UniqueCarrier</th>\n",
              "      <th>CRSElapsedTime</th>\n",
              "      <th>AirTime</th>\n",
              "      <th>ArrDelay</th>\n",
              "      <th>Dest</th>\n",
              "      <th>Distance</th>\n",
              "      <th>TaxiIn</th>\n",
              "      <th>TaxiOut</th>\n",
              "      <th>PotD</th>\n",
              "      <th>Delay</th>\n",
              "    </tr>\n",
              "  </thead>\n",
              "  <tbody>\n",
              "    <tr>\n",
              "      <th>6364273</th>\n",
              "      <td>11</td>\n",
              "      <td>29</td>\n",
              "      <td>6</td>\n",
              "      <td>AA</td>\n",
              "      <td>125.0</td>\n",
              "      <td>107.0</td>\n",
              "      <td>-1.0</td>\n",
              "      <td>DFW</td>\n",
              "      <td>813</td>\n",
              "      <td>7.0</td>\n",
              "      <td>9.0</td>\n",
              "      <td>1</td>\n",
              "      <td>0</td>\n",
              "    </tr>\n",
              "    <tr>\n",
              "      <th>1811573</th>\n",
              "      <td>4</td>\n",
              "      <td>9</td>\n",
              "      <td>3</td>\n",
              "      <td>WN</td>\n",
              "      <td>85.0</td>\n",
              "      <td>66.0</td>\n",
              "      <td>-9.0</td>\n",
              "      <td>LAS</td>\n",
              "      <td>407</td>\n",
              "      <td>4.0</td>\n",
              "      <td>6.0</td>\n",
              "      <td>2</td>\n",
              "      <td>0</td>\n",
              "    </tr>\n",
              "    <tr>\n",
              "      <th>1828485</th>\n",
              "      <td>4</td>\n",
              "      <td>14</td>\n",
              "      <td>1</td>\n",
              "      <td>WN</td>\n",
              "      <td>195.0</td>\n",
              "      <td>190.0</td>\n",
              "      <td>5.0</td>\n",
              "      <td>MDW</td>\n",
              "      <td>1444</td>\n",
              "      <td>4.0</td>\n",
              "      <td>6.0</td>\n",
              "      <td>4</td>\n",
              "      <td>0</td>\n",
              "    </tr>\n",
              "    <tr>\n",
              "      <th>3805381</th>\n",
              "      <td>7</td>\n",
              "      <td>17</td>\n",
              "      <td>4</td>\n",
              "      <td>OO</td>\n",
              "      <td>65.0</td>\n",
              "      <td>48.0</td>\n",
              "      <td>3.0</td>\n",
              "      <td>MKE</td>\n",
              "      <td>311</td>\n",
              "      <td>5.0</td>\n",
              "      <td>7.0</td>\n",
              "      <td>2</td>\n",
              "      <td>0</td>\n",
              "    </tr>\n",
              "    <tr>\n",
              "      <th>1722515</th>\n",
              "      <td>3</td>\n",
              "      <td>27</td>\n",
              "      <td>4</td>\n",
              "      <td>AS</td>\n",
              "      <td>157.0</td>\n",
              "      <td>125.0</td>\n",
              "      <td>9.0</td>\n",
              "      <td>LAX</td>\n",
              "      <td>954</td>\n",
              "      <td>5.0</td>\n",
              "      <td>29.0</td>\n",
              "      <td>4</td>\n",
              "      <td>0</td>\n",
              "    </tr>\n",
              "  </tbody>\n",
              "</table>\n",
              "</div>"
            ],
            "text/plain": [
              "         Month  DayofMonth  DayOfWeek  ... TaxiOut  PotD  Delay\n",
              "6364273     11          29          6  ...     9.0     1      0\n",
              "1811573      4           9          3  ...     6.0     2      0\n",
              "1828485      4          14          1  ...     6.0     4      0\n",
              "3805381      7          17          4  ...     7.0     2      0\n",
              "1722515      3          27          4  ...    29.0     4      0\n",
              "\n",
              "[5 rows x 13 columns]"
            ]
          },
          "metadata": {
            "tags": []
          },
          "execution_count": 10
        }
      ]
    },
    {
      "cell_type": "markdown",
      "metadata": {
        "id": "IvSv99cZ_HY4",
        "colab_type": "text"
      },
      "source": [
        "## Model evaluation\n",
        "We will use F1 score as the evaluation metric. Our target value is binary so it’s a binary classification problem, and out data is inbalance, so in this case F1 score is a good way for evaluation for this type of problems."
      ]
    },
    {
      "cell_type": "code",
      "metadata": {
        "id": "bdngp5gv_In5",
        "colab_type": "code",
        "colab": {}
      },
      "source": [
        "# Create a copy of original dataset\n",
        "df_backup = df.copy()"
      ],
      "execution_count": 0,
      "outputs": []
    },
    {
      "cell_type": "code",
      "metadata": {
        "id": "fqqUeuv4OpIh",
        "colab_type": "code",
        "colab": {}
      },
      "source": [
        "df = df_backup.copy()"
      ],
      "execution_count": 0,
      "outputs": []
    },
    {
      "cell_type": "markdown",
      "metadata": {
        "id": "W5CFEMokOe-3",
        "colab_type": "text"
      },
      "source": [
        "Label Encoder"
      ]
    },
    {
      "cell_type": "code",
      "metadata": {
        "id": "dQMxFr2yOdrg",
        "colab_type": "code",
        "colab": {}
      },
      "source": [
        "from sklearn.preprocessing import LabelEncoder\n",
        "\n",
        "# Dest column\n",
        "df['Dest'] = LabelEncoder().fit_transform(df['Dest'])\n",
        "\n",
        "# UniqueCarrier column\n",
        "df['UniqueCarrier'] = LabelEncoder().fit_transform(df['UniqueCarrier'])"
      ],
      "execution_count": 0,
      "outputs": []
    },
    {
      "cell_type": "markdown",
      "metadata": {
        "id": "_SabU2eEKK9S",
        "colab_type": "text"
      },
      "source": [
        "Holdout"
      ]
    },
    {
      "cell_type": "code",
      "metadata": {
        "id": "LLzpqpMd_J9Z",
        "colab_type": "code",
        "colab": {
          "base_uri": "https://localhost:8080/",
          "height": 101
        },
        "outputId": "8b1e03a8-61f3-46c2-def6-2c7d4b79ecca"
      },
      "source": [
        "X_data = df.drop(['Delay', 'ArrDelay'], axis=1)\n",
        "y_data = df['Delay']\n",
        "\n",
        "# Holdout\n",
        "from sklearn.model_selection import train_test_split\n",
        "\n",
        "X_train, X_test, y_train, y_test = train_test_split(X_data, y_data, test_size=0.2, random_state=0)\n",
        "\n",
        "X_train.reset_index(inplace = True)\n",
        "X_train.drop(['index'], axis = 1, inplace = True)\n",
        "X_test.reset_index(inplace = True)\n",
        "X_test.drop(['index'], axis = 1, inplace = True)"
      ],
      "execution_count": 47,
      "outputs": [
        {
          "output_type": "stream",
          "text": [
            "/usr/local/lib/python3.6/dist-packages/pandas/core/frame.py:3940: SettingWithCopyWarning: \n",
            "A value is trying to be set on a copy of a slice from a DataFrame\n",
            "\n",
            "See the caveats in the documentation: http://pandas.pydata.org/pandas-docs/stable/indexing.html#indexing-view-versus-copy\n",
            "  errors=errors)\n"
          ],
          "name": "stderr"
        }
      ]
    },
    {
      "cell_type": "code",
      "metadata": {
        "id": "PVS6asNuHN6u",
        "colab_type": "code",
        "colab": {
          "base_uri": "https://localhost:8080/",
          "height": 195
        },
        "outputId": "56fd67f7-502a-45b2-8b30-1de02c975ec1"
      },
      "source": [
        "X_train.head()"
      ],
      "execution_count": 48,
      "outputs": [
        {
          "output_type": "execute_result",
          "data": {
            "text/html": [
              "<div>\n",
              "<style scoped>\n",
              "    .dataframe tbody tr th:only-of-type {\n",
              "        vertical-align: middle;\n",
              "    }\n",
              "\n",
              "    .dataframe tbody tr th {\n",
              "        vertical-align: top;\n",
              "    }\n",
              "\n",
              "    .dataframe thead th {\n",
              "        text-align: right;\n",
              "    }\n",
              "</style>\n",
              "<table border=\"1\" class=\"dataframe\">\n",
              "  <thead>\n",
              "    <tr style=\"text-align: right;\">\n",
              "      <th></th>\n",
              "      <th>Month</th>\n",
              "      <th>DayofMonth</th>\n",
              "      <th>DayOfWeek</th>\n",
              "      <th>UniqueCarrier</th>\n",
              "      <th>CRSElapsedTime</th>\n",
              "      <th>AirTime</th>\n",
              "      <th>Dest</th>\n",
              "      <th>Distance</th>\n",
              "      <th>TaxiIn</th>\n",
              "      <th>TaxiOut</th>\n",
              "      <th>PotD</th>\n",
              "    </tr>\n",
              "  </thead>\n",
              "  <tbody>\n",
              "    <tr>\n",
              "      <th>0</th>\n",
              "      <td>9</td>\n",
              "      <td>23</td>\n",
              "      <td>2</td>\n",
              "      <td>19</td>\n",
              "      <td>49.0</td>\n",
              "      <td>37.0</td>\n",
              "      <td>145</td>\n",
              "      <td>216</td>\n",
              "      <td>9.0</td>\n",
              "      <td>14.0</td>\n",
              "      <td>1</td>\n",
              "    </tr>\n",
              "    <tr>\n",
              "      <th>1</th>\n",
              "      <td>8</td>\n",
              "      <td>30</td>\n",
              "      <td>6</td>\n",
              "      <td>15</td>\n",
              "      <td>270.0</td>\n",
              "      <td>237.0</td>\n",
              "      <td>258</td>\n",
              "      <td>1846</td>\n",
              "      <td>7.0</td>\n",
              "      <td>13.0</td>\n",
              "      <td>4</td>\n",
              "    </tr>\n",
              "    <tr>\n",
              "      <th>2</th>\n",
              "      <td>12</td>\n",
              "      <td>1</td>\n",
              "      <td>1</td>\n",
              "      <td>12</td>\n",
              "      <td>103.0</td>\n",
              "      <td>70.0</td>\n",
              "      <td>140</td>\n",
              "      <td>503</td>\n",
              "      <td>18.0</td>\n",
              "      <td>13.0</td>\n",
              "      <td>3</td>\n",
              "    </tr>\n",
              "    <tr>\n",
              "      <th>3</th>\n",
              "      <td>11</td>\n",
              "      <td>1</td>\n",
              "      <td>6</td>\n",
              "      <td>9</td>\n",
              "      <td>91.0</td>\n",
              "      <td>68.0</td>\n",
              "      <td>240</td>\n",
              "      <td>481</td>\n",
              "      <td>4.0</td>\n",
              "      <td>12.0</td>\n",
              "      <td>3</td>\n",
              "    </tr>\n",
              "    <tr>\n",
              "      <th>4</th>\n",
              "      <td>1</td>\n",
              "      <td>7</td>\n",
              "      <td>1</td>\n",
              "      <td>19</td>\n",
              "      <td>106.0</td>\n",
              "      <td>69.0</td>\n",
              "      <td>57</td>\n",
              "      <td>441</td>\n",
              "      <td>4.0</td>\n",
              "      <td>24.0</td>\n",
              "      <td>3</td>\n",
              "    </tr>\n",
              "  </tbody>\n",
              "</table>\n",
              "</div>"
            ],
            "text/plain": [
              "   Month  DayofMonth  DayOfWeek  UniqueCarrier  ...  Distance  TaxiIn  TaxiOut  PotD\n",
              "0      9          23          2             19  ...       216     9.0     14.0     1\n",
              "1      8          30          6             15  ...      1846     7.0     13.0     4\n",
              "2     12           1          1             12  ...       503    18.0     13.0     3\n",
              "3     11           1          6              9  ...       481     4.0     12.0     3\n",
              "4      1           7          1             19  ...       441     4.0     24.0     3\n",
              "\n",
              "[5 rows x 11 columns]"
            ]
          },
          "metadata": {
            "tags": []
          },
          "execution_count": 48
        }
      ]
    },
    {
      "cell_type": "code",
      "metadata": {
        "id": "QWwz5I7PSE-h",
        "colab_type": "code",
        "colab": {}
      },
      "source": [
        "X_train_backup = X_train.copy()\n",
        "X_test_backup = X_test.copy()"
      ],
      "execution_count": 0,
      "outputs": []
    },
    {
      "cell_type": "markdown",
      "metadata": {
        "id": "wLVIsnL96S4o",
        "colab_type": "text"
      },
      "source": [
        "### Dimension reduction"
      ]
    },
    {
      "cell_type": "code",
      "metadata": {
        "id": "Kei2m3RhSPlD",
        "colab_type": "code",
        "colab": {}
      },
      "source": [
        "X_train = X_train_backup.copy()\n",
        "X_test = X_test_backup.copy()"
      ],
      "execution_count": 0,
      "outputs": []
    },
    {
      "cell_type": "code",
      "metadata": {
        "id": "8Ep0sv-X6S4r",
        "colab_type": "code",
        "colab": {}
      },
      "source": [
        "#Standar Scaler\n",
        "\n",
        "from sklearn.preprocessing import StandardScaler\n",
        "\n",
        "numeric_features = ['Month', 'DayofMonth', 'DayOfWeek', 'CRSElapsedTime', 'AirTime', 'Distance', 'TaxiIn', 'TaxiOut', 'PotD']\n",
        "X_train_numeric = X_train[numeric_features]\n",
        "X_test_numeric = X_test[numeric_features]\n",
        "\n",
        "\n",
        "# Fit on training set only.\n",
        "scaler = StandardScaler().fit(X_train_numeric)\n",
        "    \n",
        "# Apply transform to both the training set and the test set.\n",
        "X_train_numeric = scaler.transform(X_train_numeric)\n",
        "X_test_numeric = scaler.transform(X_test_numeric)"
      ],
      "execution_count": 0,
      "outputs": []
    },
    {
      "cell_type": "code",
      "metadata": {
        "id": "EA_QIEzZ-YQy",
        "colab_type": "code",
        "colab": {
          "base_uri": "https://localhost:8080/",
          "height": 283
        },
        "outputId": "569d1603-ba32-4363-856e-10b7ff61758d"
      },
      "source": [
        "#PCA\n",
        "from sklearn.decomposition import PCA\n",
        "\n",
        "# Create a PCA instance: pca\n",
        "pca = PCA(n_components=9)\n",
        "principalComponents = pca.fit_transform(X_train_numeric)\n",
        "\n",
        "# Plot the explained variances\n",
        "features = range(pca.n_components_)\n",
        "plt.bar(features, pca.explained_variance_ratio_, color='black')\n",
        "plt.xlabel('PCA features')\n",
        "plt.ylabel('variance %')\n",
        "plt.xticks(features)\n",
        "\n",
        "# Save components to a DataFrame\n",
        "PCA_components = pd.DataFrame(principalComponents)"
      ],
      "execution_count": 52,
      "outputs": [
        {
          "output_type": "display_data",
          "data": {
            "image/png": "[encoded data removed]",
            "text/plain": [
              "<Figure size 432x288 with 1 Axes>"
            ]
          },
          "metadata": {
            "tags": []
          }
        }
      ]
    },
    {
      "cell_type": "code",
      "metadata": {
        "id": "N1hNKCIz-T_8",
        "colab_type": "code",
        "colab": {}
      },
      "source": [
        "# Fit on training set only.\n",
        "pca = PCA(n_components=7).fit(X_train_numeric)\n",
        "\n",
        "# Apply transform to both the training set and the test set.\n",
        "pca_train = pca.transform(X_train_numeric)\n",
        "pca_test = pca.transform(X_test_numeric)\n",
        "\n",
        "# Save components to a DataFrame\n",
        "PCA_components_train = pd.DataFrame(pca_train)\n",
        "PCA_components_test = pd.DataFrame(pca_test)\n",
        "\n",
        "# Merge principal components with main dataframe\n",
        "X_train = pd.concat([X_train, PCA_components_train], axis = 1)\n",
        "X_test = pd.concat([X_test, PCA_components_test], axis = 1)\n",
        "\n",
        "X_train.drop(numeric_features, axis = 1, inplace = True)\n",
        "X_test.drop(numeric_features, axis = 1, inplace = True)"
      ],
      "execution_count": 0,
      "outputs": []
    },
    {
      "cell_type": "code",
      "metadata": {
        "id": "9usnxHUVG9fL",
        "colab_type": "code",
        "colab": {
          "base_uri": "https://localhost:8080/",
          "height": 195
        },
        "outputId": "e7a74b0b-1777-4a1d-b686-4bdfa912e9f4"
      },
      "source": [
        "X_train.head()"
      ],
      "execution_count": 54,
      "outputs": [
        {
          "output_type": "execute_result",
          "data": {
            "text/html": [
              "<div>\n",
              "<style scoped>\n",
              "    .dataframe tbody tr th:only-of-type {\n",
              "        vertical-align: middle;\n",
              "    }\n",
              "\n",
              "    .dataframe tbody tr th {\n",
              "        vertical-align: top;\n",
              "    }\n",
              "\n",
              "    .dataframe thead th {\n",
              "        text-align: right;\n",
              "    }\n",
              "</style>\n",
              "<table border=\"1\" class=\"dataframe\">\n",
              "  <thead>\n",
              "    <tr style=\"text-align: right;\">\n",
              "      <th></th>\n",
              "      <th>UniqueCarrier</th>\n",
              "      <th>Dest</th>\n",
              "      <th>0</th>\n",
              "      <th>1</th>\n",
              "      <th>2</th>\n",
              "      <th>3</th>\n",
              "      <th>4</th>\n",
              "      <th>5</th>\n",
              "      <th>6</th>\n",
              "    </tr>\n",
              "  </thead>\n",
              "  <tbody>\n",
              "    <tr>\n",
              "      <th>0</th>\n",
              "      <td>19</td>\n",
              "      <td>145</td>\n",
              "      <td>-1.842993</td>\n",
              "      <td>-1.113948</td>\n",
              "      <td>0.434613</td>\n",
              "      <td>-0.454938</td>\n",
              "      <td>1.278217</td>\n",
              "      <td>-0.553451</td>\n",
              "      <td>-0.259644</td>\n",
              "    </tr>\n",
              "    <tr>\n",
              "      <th>1</th>\n",
              "      <td>15</td>\n",
              "      <td>258</td>\n",
              "      <td>3.526130</td>\n",
              "      <td>0.309585</td>\n",
              "      <td>-1.119633</td>\n",
              "      <td>1.295631</td>\n",
              "      <td>1.093328</td>\n",
              "      <td>1.170174</td>\n",
              "      <td>0.950072</td>\n",
              "    </tr>\n",
              "    <tr>\n",
              "      <th>2</th>\n",
              "      <td>12</td>\n",
              "      <td>140</td>\n",
              "      <td>-0.562339</td>\n",
              "      <td>-0.495220</td>\n",
              "      <td>2.007075</td>\n",
              "      <td>-2.368865</td>\n",
              "      <td>0.137840</td>\n",
              "      <td>0.946152</td>\n",
              "      <td>1.701975</td>\n",
              "    </tr>\n",
              "    <tr>\n",
              "      <th>3</th>\n",
              "      <td>9</td>\n",
              "      <td>240</td>\n",
              "      <td>-0.894405</td>\n",
              "      <td>-0.030087</td>\n",
              "      <td>-0.375182</td>\n",
              "      <td>-0.792488</td>\n",
              "      <td>-1.237432</td>\n",
              "      <td>2.109235</td>\n",
              "      <td>0.026197</td>\n",
              "    </tr>\n",
              "    <tr>\n",
              "      <th>4</th>\n",
              "      <td>19</td>\n",
              "      <td>57</td>\n",
              "      <td>-0.705803</td>\n",
              "      <td>1.938835</td>\n",
              "      <td>0.115941</td>\n",
              "      <td>-0.987849</td>\n",
              "      <td>-0.699430</td>\n",
              "      <td>-1.368748</td>\n",
              "      <td>0.127551</td>\n",
              "    </tr>\n",
              "  </tbody>\n",
              "</table>\n",
              "</div>"
            ],
            "text/plain": [
              "   UniqueCarrier  Dest         0  ...         4         5         6\n",
              "0             19   145 -1.842993  ...  1.278217 -0.553451 -0.259644\n",
              "1             15   258  3.526130  ...  1.093328  1.170174  0.950072\n",
              "2             12   140 -0.562339  ...  0.137840  0.946152  1.701975\n",
              "3              9   240 -0.894405  ... -1.237432  2.109235  0.026197\n",
              "4             19    57 -0.705803  ... -0.699430 -1.368748  0.127551\n",
              "\n",
              "[5 rows x 9 columns]"
            ]
          },
          "metadata": {
            "tags": []
          },
          "execution_count": 54
        }
      ]
    },
    {
      "cell_type": "markdown",
      "metadata": {
        "id": "-LhkDf6iRWsv",
        "colab_type": "text"
      },
      "source": [
        "#### Naive Bayes"
      ]
    },
    {
      "cell_type": "markdown",
      "metadata": {
        "id": "O0VrxukPKeq_",
        "colab_type": "text"
      },
      "source": [
        "Default parameters"
      ]
    },
    {
      "cell_type": "code",
      "metadata": {
        "id": "Etr5q15JKcHH",
        "colab_type": "code",
        "colab": {
          "base_uri": "https://localhost:8080/",
          "height": 168
        },
        "outputId": "d3ac6617-9890-40da-beaa-f4f5346171df"
      },
      "source": [
        "from sklearn.naive_bayes import GaussianNB\n",
        "model = GaussianNB()\n",
        "model.fit(X_train, y_train)\n",
        "y_pred = model.predict(X_test)\n",
        "\n",
        "# Report\n",
        "from sklearn.metrics import classification_report\n",
        "\n",
        "print(classification_report(y_test, y_pred))"
      ],
      "execution_count": 55,
      "outputs": [
        {
          "output_type": "stream",
          "text": [
            "              precision    recall  f1-score   support\n",
            "\n",
            "           0       0.89      0.96      0.92    297860\n",
            "           1       0.44      0.20      0.27     44931\n",
            "\n",
            "    accuracy                           0.86    342791\n",
            "   macro avg       0.66      0.58      0.60    342791\n",
            "weighted avg       0.83      0.86      0.84    342791\n",
            "\n"
          ],
          "name": "stdout"
        }
      ]
    },
    {
      "cell_type": "markdown",
      "metadata": {
        "id": "TPJoiI_mK3Fz",
        "colab_type": "text"
      },
      "source": [
        "#### Random Forest"
      ]
    },
    {
      "cell_type": "markdown",
      "metadata": {
        "id": "Ovct-y1PK_G5",
        "colab_type": "text"
      },
      "source": [
        "Default parameters"
      ]
    },
    {
      "cell_type": "code",
      "metadata": {
        "id": "Lj6FCL1zK4F2",
        "colab_type": "code",
        "colab": {}
      },
      "source": [
        "from sklearn.ensemble import RandomForestClassifier\n",
        "\n",
        "model = RandomForestClassifier(n_jobs = -1)\n",
        "model.fit(X_train, y_train)\n",
        "y_pred = model.predict(X_test)\n",
        "\n",
        "# Report\n",
        "from sklearn.metrics import classification_report\n",
        "\n",
        "\n",
        "print(classification_report(y_test, y_pred))"
      ],
      "execution_count": 0,
      "outputs": []
    },
    {
      "cell_type": "markdown",
      "metadata": {
        "id": "TitWG78-LEX-",
        "colab_type": "text"
      },
      "source": [
        "Hyperparameter tuning"
      ]
    },
    {
      "cell_type": "code",
      "metadata": {
        "id": "qYF66VkgLE9D",
        "colab_type": "code",
        "colab": {}
      },
      "source": [
        "# n_estimators\n",
        "n_estimators = [1, 5, 10, 15, 20, 25, 50]\n",
        "test_results = []\n",
        "for estimator in n_estimators:\n",
        "    model = RandomForestClassifier(n_estimators = estimator, n_jobs = -1)\n",
        "    model.fit(X_train, y_train)\n",
        "  \n",
        "    y_pred = model.predict(X_test)\n",
        "    f1 = f1_score(y_test, y_pred)\n",
        "    test_results.append(f1)\n",
        "    \n",
        "    print(estimator, ' done!')\n",
        "    \n",
        "# Plot metrics line chart\n",
        "sns.lineplot(x = n_estimators, y = test_results)"
      ],
      "execution_count": 0,
      "outputs": []
    },
    {
      "cell_type": "code",
      "metadata": {
        "id": "5sAs5eC1LGYy",
        "colab_type": "code",
        "colab": {}
      },
      "source": [
        "# max_depths\n",
        "max_depths = np.linspace(5, 35, 7)\n",
        "test_results = []\n",
        "\n",
        "for max_depth in max_depths:\n",
        "    model = RandomForestClassifier(max_depth = max_depth, n_jobs = -1)\n",
        "    model.fit(X_train, y_train)\n",
        "  \n",
        "    y_pred = model.predict(X_test)\n",
        "    f1 = f1_score(y_test, y_pred)\n",
        "    test_results.append(f1)\n",
        "    \n",
        "    print(max_depth, ' done!')\n",
        "\n",
        "# Plot metrics line chart\n",
        "sns.lineplot(x = max_depths, y = test_results)"
      ],
      "execution_count": 0,
      "outputs": []
    },
    {
      "cell_type": "markdown",
      "metadata": {
        "id": "f5urhvB1LMl4",
        "colab_type": "text"
      },
      "source": [
        "**Final model**\n",
        "\n",
        "Best parameters:\n",
        "- n_estimators = 15\n",
        "- max_depths = 25"
      ]
    },
    {
      "cell_type": "code",
      "metadata": {
        "id": "ttl31351LOXv",
        "colab_type": "code",
        "colab": {}
      },
      "source": [
        "model = RandomForestClassifier(n_estimators = 15, max_depth = 25, n_jobs = -1)\n",
        "model.fit(X_train, y_train)\n",
        "y_pred = model.predict(X_test)\n",
        "\n",
        "# Report\n",
        "from sklearn.metrics import classification_report\n",
        "\n",
        "print(classification_report(y_test, y_pred))"
      ],
      "execution_count": 0,
      "outputs": []
    },
    {
      "cell_type": "markdown",
      "metadata": {
        "id": "oGrqHaNZQrG5",
        "colab_type": "text"
      },
      "source": [
        "### Feature selection"
      ]
    },
    {
      "cell_type": "code",
      "metadata": {
        "id": "n2KyVYrqSYTF",
        "colab_type": "code",
        "colab": {}
      },
      "source": [
        "X_train = X_train_backup.copy()\n",
        "X_test = X_test_backup.copy()"
      ],
      "execution_count": 0,
      "outputs": []
    },
    {
      "cell_type": "code",
      "metadata": {
        "id": "ZwVvVFh7QsSm",
        "colab_type": "code",
        "colab": {
          "base_uri": "https://localhost:8080/",
          "height": 370
        },
        "outputId": "0b5962bf-13bd-4ffa-cce8-b3e89d5d9f45"
      },
      "source": [
        "# RFE\n",
        "from sklearn.feature_selection import RFE\n",
        "\n",
        "from sklearn.naive_bayes import GaussianNB\n",
        "model = GaussianNB()\n",
        "rfe = RFE(estimator = model, n_features_to_select = None)\n",
        "rfe = rfe.fit(X_train, y_train)\n",
        "\n",
        "#Summarize the selection of the attributes\n",
        "print(rfe.support_)\n",
        "print(rfe.ranking_)\n",
        "X_train.columns[rfe.support_]"
      ],
      "execution_count": 61,
      "outputs": [
        {
          "output_type": "error",
          "ename": "RuntimeError",
          "evalue": "ignored",
          "traceback": [
            "\u001b[0;31m---------------------------------------------------------------------------\u001b[0m",
            "\u001b[0;31mRuntimeError\u001b[0m                              Traceback (most recent call last)",
            "\u001b[0;32m<ipython-input-61-5d3d98979bbf>\u001b[0m in \u001b[0;36m<module>\u001b[0;34m()\u001b[0m\n\u001b[1;32m      4\u001b[0m \u001b[0mmodel\u001b[0m \u001b[0;34m=\u001b[0m \u001b[0mGaussianNB\u001b[0m\u001b[0;34m(\u001b[0m\u001b[0;34m)\u001b[0m\u001b[0;34m\u001b[0m\u001b[0;34m\u001b[0m\u001b[0m\n\u001b[1;32m      5\u001b[0m \u001b[0mrfe\u001b[0m \u001b[0;34m=\u001b[0m \u001b[0mRFE\u001b[0m\u001b[0;34m(\u001b[0m\u001b[0mestimator\u001b[0m \u001b[0;34m=\u001b[0m \u001b[0mmodel\u001b[0m\u001b[0;34m,\u001b[0m \u001b[0mn_features_to_select\u001b[0m \u001b[0;34m=\u001b[0m \u001b[0;32mNone\u001b[0m\u001b[0;34m)\u001b[0m\u001b[0;34m\u001b[0m\u001b[0;34m\u001b[0m\u001b[0m\n\u001b[0;32m----> 6\u001b[0;31m \u001b[0mrfe\u001b[0m \u001b[0;34m=\u001b[0m \u001b[0mrfe\u001b[0m\u001b[0;34m.\u001b[0m\u001b[0mfit\u001b[0m\u001b[0;34m(\u001b[0m\u001b[0mX_train\u001b[0m\u001b[0;34m,\u001b[0m \u001b[0my_train\u001b[0m\u001b[0;34m)\u001b[0m\u001b[0;34m\u001b[0m\u001b[0;34m\u001b[0m\u001b[0m\n\u001b[0m\u001b[1;32m      7\u001b[0m \u001b[0;34m\u001b[0m\u001b[0m\n\u001b[1;32m      8\u001b[0m \u001b[0;31m#Summarize the selection of the attributes\u001b[0m\u001b[0;34m\u001b[0m\u001b[0;34m\u001b[0m\u001b[0;34m\u001b[0m\u001b[0m\n",
            "\u001b[0;32m/usr/local/lib/python3.6/dist-packages/sklearn/feature_selection/rfe.py\u001b[0m in \u001b[0;36mfit\u001b[0;34m(self, X, y)\u001b[0m\n\u001b[1;32m    142\u001b[0m             \u001b[0mThe\u001b[0m \u001b[0mtarget\u001b[0m \u001b[0mvalues\u001b[0m\u001b[0;34m.\u001b[0m\u001b[0;34m\u001b[0m\u001b[0;34m\u001b[0m\u001b[0m\n\u001b[1;32m    143\u001b[0m         \"\"\"\n\u001b[0;32m--> 144\u001b[0;31m         \u001b[0;32mreturn\u001b[0m \u001b[0mself\u001b[0m\u001b[0;34m.\u001b[0m\u001b[0m_fit\u001b[0m\u001b[0;34m(\u001b[0m\u001b[0mX\u001b[0m\u001b[0;34m,\u001b[0m \u001b[0my\u001b[0m\u001b[0;34m)\u001b[0m\u001b[0;34m\u001b[0m\u001b[0;34m\u001b[0m\u001b[0m\n\u001b[0m\u001b[1;32m    145\u001b[0m \u001b[0;34m\u001b[0m\u001b[0m\n\u001b[1;32m    146\u001b[0m     \u001b[0;32mdef\u001b[0m \u001b[0m_fit\u001b[0m\u001b[0;34m(\u001b[0m\u001b[0mself\u001b[0m\u001b[0;34m,\u001b[0m \u001b[0mX\u001b[0m\u001b[0;34m,\u001b[0m \u001b[0my\u001b[0m\u001b[0;34m,\u001b[0m \u001b[0mstep_score\u001b[0m\u001b[0;34m=\u001b[0m\u001b[0;32mNone\u001b[0m\u001b[0;34m)\u001b[0m\u001b[0;34m:\u001b[0m\u001b[0;34m\u001b[0m\u001b[0;34m\u001b[0m\u001b[0m\n",
            "\u001b[0;32m/usr/local/lib/python3.6/dist-packages/sklearn/feature_selection/rfe.py\u001b[0m in \u001b[0;36m_fit\u001b[0;34m(self, X, y, step_score)\u001b[0m\n\u001b[1;32m    189\u001b[0m                 \u001b[0mcoefs\u001b[0m \u001b[0;34m=\u001b[0m \u001b[0mgetattr\u001b[0m\u001b[0;34m(\u001b[0m\u001b[0mestimator\u001b[0m\u001b[0;34m,\u001b[0m \u001b[0;34m'feature_importances_'\u001b[0m\u001b[0;34m,\u001b[0m \u001b[0;32mNone\u001b[0m\u001b[0;34m)\u001b[0m\u001b[0;34m\u001b[0m\u001b[0;34m\u001b[0m\u001b[0m\n\u001b[1;32m    190\u001b[0m             \u001b[0;32mif\u001b[0m \u001b[0mcoefs\u001b[0m \u001b[0;32mis\u001b[0m \u001b[0;32mNone\u001b[0m\u001b[0;34m:\u001b[0m\u001b[0;34m\u001b[0m\u001b[0;34m\u001b[0m\u001b[0m\n\u001b[0;32m--> 191\u001b[0;31m                 raise RuntimeError('The classifier does not expose '\n\u001b[0m\u001b[1;32m    192\u001b[0m                                    \u001b[0;34m'\"coef_\" or \"feature_importances_\" '\u001b[0m\u001b[0;34m\u001b[0m\u001b[0;34m\u001b[0m\u001b[0m\n\u001b[1;32m    193\u001b[0m                                    'attributes')\n",
            "\u001b[0;31mRuntimeError\u001b[0m: The classifier does not expose \"coef_\" or \"feature_importances_\" attributes"
          ]
        }
      ]
    },
    {
      "cell_type": "code",
      "metadata": {
        "id": "UtX7r207XAro",
        "colab_type": "code",
        "colab": {
          "base_uri": "https://localhost:8080/",
          "height": 104
        },
        "outputId": "ce7fcf88-da8e-4a3a-ef3d-78e9e742941d"
      },
      "source": [
        "# RFE\n",
        "from sklearn.feature_selection import RFE\n",
        "\n",
        "from sklearn.linear_model import LogisticRegression\n",
        "model = LogisticRegression()\n",
        "rfe = RFE(estimator = model, n_features_to_select = None)\n",
        "rfe = rfe.fit(X_train, y_train)\n",
        "\n",
        "#Summarize the selection of the attributes\n",
        "print(rfe.support_)\n",
        "print(rfe.ranking_)\n",
        "X_train.columns[rfe.support_]"
      ],
      "execution_count": 0,
      "outputs": [
        {
          "output_type": "stream",
          "text": [
            "/usr/local/lib/python3.6/dist-packages/sklearn/linear_model/logistic.py:432: FutureWarning: Default solver will be changed to 'lbfgs' in 0.22. Specify a solver to silence this warning.\n",
            "  FutureWarning)\n",
            "/usr/local/lib/python3.6/dist-packages/sklearn/linear_model/logistic.py:432: FutureWarning: Default solver will be changed to 'lbfgs' in 0.22. Specify a solver to silence this warning.\n",
            "  FutureWarning)\n"
          ],
          "name": "stderr"
        }
      ]
    },
    {
      "cell_type": "code",
      "metadata": {
        "id": "R9bLV9lxV5j4",
        "colab_type": "code",
        "colab": {}
      },
      "source": [
        ""
      ],
      "execution_count": 0,
      "outputs": []
    }
  ]
}