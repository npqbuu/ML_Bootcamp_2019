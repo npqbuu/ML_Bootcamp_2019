{
  "nbformat": 4,
  "nbformat_minor": 0,
  "metadata": {
    "colab": {
      "name": "Feature_engineering.ipynb",
      "version": "0.3.2",
      "provenance": []
    },
    "language_info": {
      "codemirror_mode": {
        "name": "ipython",
        "version": 3
      },
      "file_extension": ".py",
      "mimetype": "text/x-python",
      "name": "python",
      "nbconvert_exporter": "python",
      "pygments_lexer": "ipython3",
      "version": "3.7.1"
    },
    "kernelspec": {
      "display_name": "Python 3",
      "language": "python",
      "name": "python3"
    }
  },
  "cells": [
    {
      "cell_type": "markdown",
      "metadata": {
        "id": "HCtlpmVG9g4T",
        "colab_type": "text"
      },
      "source": [
        "## Import libaries"
      ]
    },
    {
      "cell_type": "code",
      "metadata": {
        "id": "br4j_Wi69h5e",
        "colab_type": "code",
        "colab": {}
      },
      "source": [
        "import pandas as pd\n",
        "import numpy as np \n",
        "import seaborn as sns \n",
        "%matplotlib inline\n",
        "import matplotlib.pyplot as plt\n",
        "import scipy.stats as ss\n",
        "from sklearn.metrics import f1_score"
      ],
      "execution_count": 0,
      "outputs": []
    },
    {
      "cell_type": "markdown",
      "metadata": {
        "id": "Y7u4Tbsg9jV5",
        "colab_type": "text"
      },
      "source": [
        "## Import data"
      ]
    },
    {
      "cell_type": "code",
      "metadata": {
        "id": "0t-c0jMq9ksB",
        "colab_type": "code",
        "colab": {}
      },
      "source": [
        "# Read from url - Take time to run\n",
        "url = \"http://stat-computing.org/dataexpo/2009/2008.csv.bz2\"\n",
        "df = pd.read_csv(url, compression='bz2')\n",
        "\n",
        "# Read from drive\n",
        "#df = pd.read_csv('./temp/Airline.csv')"
      ],
      "execution_count": 0,
      "outputs": []
    },
    {
      "cell_type": "code",
      "metadata": {
        "id": "K7k-c_gr9oBp",
        "colab_type": "code",
        "colab": {}
      },
      "source": [
        "# Reduce rows\n",
        "df = df.sample(frac=0.25)"
      ],
      "execution_count": 0,
      "outputs": []
    },
    {
      "cell_type": "code",
      "metadata": {
        "id": "KSNFkY6F9pLf",
        "colab_type": "code",
        "outputId": "66df34eb-aa32-47b2-caf7-8679103b7747",
        "colab": {
          "base_uri": "https://localhost:8080/",
          "height": 253
        }
      },
      "source": [
        "df.head()"
      ],
      "execution_count": 4,
      "outputs": [
        {
          "output_type": "execute_result",
          "data": {
            "text/plain": [
              "         Year  Month  DayofMonth  DayOfWeek  DepTime  CRSDepTime  ArrTime  \\\n",
              "4728168  2008      8          31          7   1847.0        1850   2257.0   \n",
              "4260274  2008      8          11          1   1739.0        1740   1936.0   \n",
              "4949258  2008      9          29          1   1652.0        1652   1857.0   \n",
              "5254342  2008      9           5          5    605.0         605    757.0   \n",
              "124716   2008      1          29          2    845.0         850   1008.0   \n",
              "\n",
              "         CRSArrTime UniqueCarrier  FlightNum        ...         TaxiIn  \\\n",
              "4728168        2320            AA        762        ...           10.0   \n",
              "4260274        1955            WN       2978        ...            5.0   \n",
              "4949258        1859            XE       2131        ...            9.0   \n",
              "5254342         745            9E       2950        ...           17.0   \n",
              "124716         1000            XE       2034        ...            4.0   \n",
              "\n",
              "         TaxiOut  Cancelled  CancellationCode  Diverted  CarrierDelay  \\\n",
              "4728168      7.0          0               NaN         0           NaN   \n",
              "4260274     10.0          0               NaN         0           NaN   \n",
              "4949258     13.0          0               NaN         0           NaN   \n",
              "5254342     15.0          0               NaN         0           NaN   \n",
              "124716       9.0          0               NaN         0           NaN   \n",
              "\n",
              "        WeatherDelay NASDelay  SecurityDelay  LateAircraftDelay  \n",
              "4728168          NaN      NaN            NaN                NaN  \n",
              "4260274          NaN      NaN            NaN                NaN  \n",
              "4949258          NaN      NaN            NaN                NaN  \n",
              "5254342          NaN      NaN            NaN                NaN  \n",
              "124716           NaN      NaN            NaN                NaN  \n",
              "\n",
              "[5 rows x 29 columns]"
            ],
            "text/html": [
              "<div>\n",
              "<style scoped>\n",
              "    .dataframe tbody tr th:only-of-type {\n",
              "        vertical-align: middle;\n",
              "    }\n",
              "\n",
              "    .dataframe tbody tr th {\n",
              "        vertical-align: top;\n",
              "    }\n",
              "\n",
              "    .dataframe thead th {\n",
              "        text-align: right;\n",
              "    }\n",
              "</style>\n",
              "<table border=\"1\" class=\"dataframe\">\n",
              "  <thead>\n",
              "    <tr style=\"text-align: right;\">\n",
              "      <th></th>\n",
              "      <th>Year</th>\n",
              "      <th>Month</th>\n",
              "      <th>DayofMonth</th>\n",
              "      <th>DayOfWeek</th>\n",
              "      <th>DepTime</th>\n",
              "      <th>CRSDepTime</th>\n",
              "      <th>ArrTime</th>\n",
              "      <th>CRSArrTime</th>\n",
              "      <th>UniqueCarrier</th>\n",
              "      <th>FlightNum</th>\n",
              "      <th>...</th>\n",
              "      <th>TaxiIn</th>\n",
              "      <th>TaxiOut</th>\n",
              "      <th>Cancelled</th>\n",
              "      <th>CancellationCode</th>\n",
              "      <th>Diverted</th>\n",
              "      <th>CarrierDelay</th>\n",
              "      <th>WeatherDelay</th>\n",
              "      <th>NASDelay</th>\n",
              "      <th>SecurityDelay</th>\n",
              "      <th>LateAircraftDelay</th>\n",
              "    </tr>\n",
              "  </thead>\n",
              "  <tbody>\n",
              "    <tr>\n",
              "      <th>4728168</th>\n",
              "      <td>2008</td>\n",
              "      <td>8</td>\n",
              "      <td>31</td>\n",
              "      <td>7</td>\n",
              "      <td>1847.0</td>\n",
              "      <td>1850</td>\n",
              "      <td>2257.0</td>\n",
              "      <td>2320</td>\n",
              "      <td>AA</td>\n",
              "      <td>762</td>\n",
              "      <td>...</td>\n",
              "      <td>10.0</td>\n",
              "      <td>7.0</td>\n",
              "      <td>0</td>\n",
              "      <td>NaN</td>\n",
              "      <td>0</td>\n",
              "      <td>NaN</td>\n",
              "      <td>NaN</td>\n",
              "      <td>NaN</td>\n",
              "      <td>NaN</td>\n",
              "      <td>NaN</td>\n",
              "    </tr>\n",
              "    <tr>\n",
              "      <th>4260274</th>\n",
              "      <td>2008</td>\n",
              "      <td>8</td>\n",
              "      <td>11</td>\n",
              "      <td>1</td>\n",
              "      <td>1739.0</td>\n",
              "      <td>1740</td>\n",
              "      <td>1936.0</td>\n",
              "      <td>1955</td>\n",
              "      <td>WN</td>\n",
              "      <td>2978</td>\n",
              "      <td>...</td>\n",
              "      <td>5.0</td>\n",
              "      <td>10.0</td>\n",
              "      <td>0</td>\n",
              "      <td>NaN</td>\n",
              "      <td>0</td>\n",
              "      <td>NaN</td>\n",
              "      <td>NaN</td>\n",
              "      <td>NaN</td>\n",
              "      <td>NaN</td>\n",
              "      <td>NaN</td>\n",
              "    </tr>\n",
              "    <tr>\n",
              "      <th>4949258</th>\n",
              "      <td>2008</td>\n",
              "      <td>9</td>\n",
              "      <td>29</td>\n",
              "      <td>1</td>\n",
              "      <td>1652.0</td>\n",
              "      <td>1652</td>\n",
              "      <td>1857.0</td>\n",
              "      <td>1859</td>\n",
              "      <td>XE</td>\n",
              "      <td>2131</td>\n",
              "      <td>...</td>\n",
              "      <td>9.0</td>\n",
              "      <td>13.0</td>\n",
              "      <td>0</td>\n",
              "      <td>NaN</td>\n",
              "      <td>0</td>\n",
              "      <td>NaN</td>\n",
              "      <td>NaN</td>\n",
              "      <td>NaN</td>\n",
              "      <td>NaN</td>\n",
              "      <td>NaN</td>\n",
              "    </tr>\n",
              "    <tr>\n",
              "      <th>5254342</th>\n",
              "      <td>2008</td>\n",
              "      <td>9</td>\n",
              "      <td>5</td>\n",
              "      <td>5</td>\n",
              "      <td>605.0</td>\n",
              "      <td>605</td>\n",
              "      <td>757.0</td>\n",
              "      <td>745</td>\n",
              "      <td>9E</td>\n",
              "      <td>2950</td>\n",
              "      <td>...</td>\n",
              "      <td>17.0</td>\n",
              "      <td>15.0</td>\n",
              "      <td>0</td>\n",
              "      <td>NaN</td>\n",
              "      <td>0</td>\n",
              "      <td>NaN</td>\n",
              "      <td>NaN</td>\n",
              "      <td>NaN</td>\n",
              "      <td>NaN</td>\n",
              "      <td>NaN</td>\n",
              "    </tr>\n",
              "    <tr>\n",
              "      <th>124716</th>\n",
              "      <td>2008</td>\n",
              "      <td>1</td>\n",
              "      <td>29</td>\n",
              "      <td>2</td>\n",
              "      <td>845.0</td>\n",
              "      <td>850</td>\n",
              "      <td>1008.0</td>\n",
              "      <td>1000</td>\n",
              "      <td>XE</td>\n",
              "      <td>2034</td>\n",
              "      <td>...</td>\n",
              "      <td>4.0</td>\n",
              "      <td>9.0</td>\n",
              "      <td>0</td>\n",
              "      <td>NaN</td>\n",
              "      <td>0</td>\n",
              "      <td>NaN</td>\n",
              "      <td>NaN</td>\n",
              "      <td>NaN</td>\n",
              "      <td>NaN</td>\n",
              "      <td>NaN</td>\n",
              "    </tr>\n",
              "  </tbody>\n",
              "</table>\n",
              "<p>5 rows × 29 columns</p>\n",
              "</div>"
            ]
          },
          "metadata": {
            "tags": []
          },
          "execution_count": 4
        }
      ]
    },
    {
      "cell_type": "markdown",
      "metadata": {
        "id": "_0NAHR1a9l6_",
        "colab_type": "text"
      },
      "source": [
        "## Data pre-processing"
      ]
    },
    {
      "cell_type": "code",
      "metadata": {
        "id": "1uQMWbnH9rqD",
        "colab_type": "code",
        "outputId": "6ceb7c6e-8059-4bb3-e9fc-4ce1ce7b50a0",
        "colab": {
          "base_uri": "https://localhost:8080/",
          "height": 527
        }
      },
      "source": [
        "df.count()"
      ],
      "execution_count": 5,
      "outputs": [
        {
          "output_type": "execute_result",
          "data": {
            "text/plain": [
              "Year                 1752432\n",
              "Month                1752432\n",
              "DayofMonth           1752432\n",
              "DayOfWeek            1752432\n",
              "DepTime              1718476\n",
              "CRSDepTime           1752432\n",
              "ArrTime              1714678\n",
              "CRSArrTime           1752432\n",
              "UniqueCarrier        1752432\n",
              "FlightNum            1752432\n",
              "TailNum              1731612\n",
              "ActualElapsedTime    1713926\n",
              "CRSElapsedTime       1752223\n",
              "AirTime              1713926\n",
              "ArrDelay             1713926\n",
              "DepDelay             1718476\n",
              "Origin               1752432\n",
              "Dest                 1752432\n",
              "Distance             1752432\n",
              "TaxiIn               1714678\n",
              "TaxiOut              1718291\n",
              "Cancelled            1752432\n",
              "CancellationCode       34224\n",
              "Diverted             1752432\n",
              "CarrierDelay          381053\n",
              "WeatherDelay          381053\n",
              "NASDelay              381053\n",
              "SecurityDelay         381053\n",
              "LateAircraftDelay     381053\n",
              "dtype: int64"
            ]
          },
          "metadata": {
            "tags": []
          },
          "execution_count": 5
        }
      ]
    },
    {
      "cell_type": "code",
      "metadata": {
        "id": "iepEpLUa9tb1",
        "colab_type": "code",
        "outputId": "c7adbabe-6619-473c-c365-8777f619378f",
        "colab": {
          "base_uri": "https://localhost:8080/",
          "height": 238
        }
      },
      "source": [
        "#Create Date column\n",
        "#df['Date'] = pd.to_datetime(df[['Year', 'Month', 'DayofMonth']])\n",
        "\n",
        "# Drop columns\n",
        "# Year: The dataset only contains data in 2008\n",
        "# Cancelled + CancellationCode + Diverted: Cancelled flight does not have delay label.\n",
        "df.drop(['Year', 'Cancelled', 'CancellationCode', 'Diverted'], axis=1, inplace=True)\n",
        "# Delay details: Only 20% rows have these features.\n",
        "df.drop(['CarrierDelay', 'WeatherDelay', 'NASDelay', 'SecurityDelay', 'LateAircraftDelay'], axis=1, inplace=True)\n",
        "# Time: Only keep CRSArrTime, CRSElapsedTime\n",
        "df.drop(['DepTime', 'ArrTime', 'CRSDepTime', 'ActualElapsedTime', 'DepDelay'], axis=1, inplace=True)\n",
        "# Airport: Only keep the Dest Airport\n",
        "df.drop(['Origin'], axis=1, inplace=True)\n",
        "# Carrier: Drop FlightNum and TailNum\n",
        "df.drop(['FlightNum', 'TailNum'], axis=1, inplace=True)\n",
        "\n",
        "df.dropna(inplace=True)\n",
        "df.drop_duplicates(inplace=True)\n",
        "\n",
        "df.count()"
      ],
      "execution_count": 6,
      "outputs": [
        {
          "output_type": "execute_result",
          "data": {
            "text/plain": [
              "Month             1713926\n",
              "DayofMonth        1713926\n",
              "DayOfWeek         1713926\n",
              "CRSArrTime        1713926\n",
              "UniqueCarrier     1713926\n",
              "CRSElapsedTime    1713926\n",
              "AirTime           1713926\n",
              "ArrDelay          1713926\n",
              "Dest              1713926\n",
              "Distance          1713926\n",
              "TaxiIn            1713926\n",
              "TaxiOut           1713926\n",
              "dtype: int64"
            ]
          },
          "metadata": {
            "tags": []
          },
          "execution_count": 6
        }
      ]
    },
    {
      "cell_type": "code",
      "metadata": {
        "id": "XcOFd9co9upr",
        "colab_type": "code",
        "colab": {}
      },
      "source": [
        "# Convert CRSArrTime to Parts of the Day\n",
        "conditions = [\n",
        "    (df['CRSArrTime'] >= 500) & (df['CRSArrTime'] < 1201),\n",
        "    (df['CRSArrTime'] >= 1201) & (df['CRSArrTime'] < 1701),\n",
        "    (df['CRSArrTime'] >= 1701) & (df['CRSArrTime'] < 2101)]\n",
        "choices = [1, 2, 3]\n",
        "df['PotD'] = np.select(conditions, choices, default=4)\n",
        "\n",
        "# Morning, Afternoon, Evening, Night"
      ],
      "execution_count": 0,
      "outputs": []
    },
    {
      "cell_type": "code",
      "metadata": {
        "id": "wB2nV-i09v2R",
        "colab_type": "code",
        "colab": {}
      },
      "source": [
        "# Convert ArrDelay to Delay\n",
        "# A flight only counts as late if it is more than 30 minutes late.\n",
        "conditions = [\n",
        "    (df['ArrDelay'] > 30)]\n",
        "choices = [1]\n",
        "df['Delay'] = np.select(conditions, choices, default=0)\n",
        "df.drop(['CRSArrTime'], axis=1, inplace=True)"
      ],
      "execution_count": 0,
      "outputs": []
    },
    {
      "cell_type": "code",
      "metadata": {
        "id": "t2tWtvTu9w2v",
        "colab_type": "code",
        "outputId": "7e83a21c-5408-4952-88ad-4b21039e2287",
        "colab": {
          "base_uri": "https://localhost:8080/",
          "height": 255
        }
      },
      "source": [
        "df.dtypes"
      ],
      "execution_count": 9,
      "outputs": [
        {
          "output_type": "execute_result",
          "data": {
            "text/plain": [
              "Month               int64\n",
              "DayofMonth          int64\n",
              "DayOfWeek           int64\n",
              "UniqueCarrier      object\n",
              "CRSElapsedTime    float64\n",
              "AirTime           float64\n",
              "ArrDelay          float64\n",
              "Dest               object\n",
              "Distance            int64\n",
              "TaxiIn            float64\n",
              "TaxiOut           float64\n",
              "PotD                int64\n",
              "Delay               int64\n",
              "dtype: object"
            ]
          },
          "metadata": {
            "tags": []
          },
          "execution_count": 9
        }
      ]
    },
    {
      "cell_type": "code",
      "metadata": {
        "id": "Yr3Uh1o19xs5",
        "colab_type": "code",
        "outputId": "aacc0214-8939-45dd-bbb0-918360c7f915",
        "colab": {
          "base_uri": "https://localhost:8080/",
          "height": 204
        }
      },
      "source": [
        "df.head()"
      ],
      "execution_count": 10,
      "outputs": [
        {
          "output_type": "execute_result",
          "data": {
            "text/plain": [
              "         Month  DayofMonth  DayOfWeek UniqueCarrier  CRSElapsedTime  AirTime  \\\n",
              "4728168      8          31          7            AA           210.0    173.0   \n",
              "4260274      8          11          1            WN           135.0    102.0   \n",
              "4949258      9          29          1            XE           127.0    103.0   \n",
              "5254342      9           5          5            9E           100.0     80.0   \n",
              "124716       1          29          2            XE           130.0    130.0   \n",
              "\n",
              "         ArrDelay Dest  Distance  TaxiIn  TaxiOut  PotD  Delay  \n",
              "4728168     -23.0  LGA      1389    10.0      7.0     4      0  \n",
              "4260274     -19.0  MCO       787     5.0     10.0     3      0  \n",
              "4949258      -2.0  IAH       657     9.0     13.0     3      0  \n",
              "5254342      12.0  DTW       398    17.0     15.0     1      0  \n",
              "124716        8.0  MCI       694     4.0      9.0     1      0  "
            ],
            "text/html": [
              "<div>\n",
              "<style scoped>\n",
              "    .dataframe tbody tr th:only-of-type {\n",
              "        vertical-align: middle;\n",
              "    }\n",
              "\n",
              "    .dataframe tbody tr th {\n",
              "        vertical-align: top;\n",
              "    }\n",
              "\n",
              "    .dataframe thead th {\n",
              "        text-align: right;\n",
              "    }\n",
              "</style>\n",
              "<table border=\"1\" class=\"dataframe\">\n",
              "  <thead>\n",
              "    <tr style=\"text-align: right;\">\n",
              "      <th></th>\n",
              "      <th>Month</th>\n",
              "      <th>DayofMonth</th>\n",
              "      <th>DayOfWeek</th>\n",
              "      <th>UniqueCarrier</th>\n",
              "      <th>CRSElapsedTime</th>\n",
              "      <th>AirTime</th>\n",
              "      <th>ArrDelay</th>\n",
              "      <th>Dest</th>\n",
              "      <th>Distance</th>\n",
              "      <th>TaxiIn</th>\n",
              "      <th>TaxiOut</th>\n",
              "      <th>PotD</th>\n",
              "      <th>Delay</th>\n",
              "    </tr>\n",
              "  </thead>\n",
              "  <tbody>\n",
              "    <tr>\n",
              "      <th>4728168</th>\n",
              "      <td>8</td>\n",
              "      <td>31</td>\n",
              "      <td>7</td>\n",
              "      <td>AA</td>\n",
              "      <td>210.0</td>\n",
              "      <td>173.0</td>\n",
              "      <td>-23.0</td>\n",
              "      <td>LGA</td>\n",
              "      <td>1389</td>\n",
              "      <td>10.0</td>\n",
              "      <td>7.0</td>\n",
              "      <td>4</td>\n",
              "      <td>0</td>\n",
              "    </tr>\n",
              "    <tr>\n",
              "      <th>4260274</th>\n",
              "      <td>8</td>\n",
              "      <td>11</td>\n",
              "      <td>1</td>\n",
              "      <td>WN</td>\n",
              "      <td>135.0</td>\n",
              "      <td>102.0</td>\n",
              "      <td>-19.0</td>\n",
              "      <td>MCO</td>\n",
              "      <td>787</td>\n",
              "      <td>5.0</td>\n",
              "      <td>10.0</td>\n",
              "      <td>3</td>\n",
              "      <td>0</td>\n",
              "    </tr>\n",
              "    <tr>\n",
              "      <th>4949258</th>\n",
              "      <td>9</td>\n",
              "      <td>29</td>\n",
              "      <td>1</td>\n",
              "      <td>XE</td>\n",
              "      <td>127.0</td>\n",
              "      <td>103.0</td>\n",
              "      <td>-2.0</td>\n",
              "      <td>IAH</td>\n",
              "      <td>657</td>\n",
              "      <td>9.0</td>\n",
              "      <td>13.0</td>\n",
              "      <td>3</td>\n",
              "      <td>0</td>\n",
              "    </tr>\n",
              "    <tr>\n",
              "      <th>5254342</th>\n",
              "      <td>9</td>\n",
              "      <td>5</td>\n",
              "      <td>5</td>\n",
              "      <td>9E</td>\n",
              "      <td>100.0</td>\n",
              "      <td>80.0</td>\n",
              "      <td>12.0</td>\n",
              "      <td>DTW</td>\n",
              "      <td>398</td>\n",
              "      <td>17.0</td>\n",
              "      <td>15.0</td>\n",
              "      <td>1</td>\n",
              "      <td>0</td>\n",
              "    </tr>\n",
              "    <tr>\n",
              "      <th>124716</th>\n",
              "      <td>1</td>\n",
              "      <td>29</td>\n",
              "      <td>2</td>\n",
              "      <td>XE</td>\n",
              "      <td>130.0</td>\n",
              "      <td>130.0</td>\n",
              "      <td>8.0</td>\n",
              "      <td>MCI</td>\n",
              "      <td>694</td>\n",
              "      <td>4.0</td>\n",
              "      <td>9.0</td>\n",
              "      <td>1</td>\n",
              "      <td>0</td>\n",
              "    </tr>\n",
              "  </tbody>\n",
              "</table>\n",
              "</div>"
            ]
          },
          "metadata": {
            "tags": []
          },
          "execution_count": 10
        }
      ]
    },
    {
      "cell_type": "markdown",
      "metadata": {
        "id": "IvSv99cZ_HY4",
        "colab_type": "text"
      },
      "source": [
        "## Model evaluation\n",
        "We will use F1 score as the evaluation metric. Our target value is binary so it’s a binary classification problem, and out data is inbalance, so in this case F1 score is a good way for evaluation for this type of problems."
      ]
    },
    {
      "cell_type": "code",
      "metadata": {
        "id": "bdngp5gv_In5",
        "colab_type": "code",
        "colab": {}
      },
      "source": [
        "# Create a copy of original dataset\n",
        "df_backup = df.copy()"
      ],
      "execution_count": 0,
      "outputs": []
    },
    {
      "cell_type": "code",
      "metadata": {
        "id": "fqqUeuv4OpIh",
        "colab_type": "code",
        "colab": {}
      },
      "source": [
        "df = df_backup.copy()"
      ],
      "execution_count": 0,
      "outputs": []
    },
    {
      "cell_type": "markdown",
      "metadata": {
        "id": "W5CFEMokOe-3",
        "colab_type": "text"
      },
      "source": [
        "Label Encoder"
      ]
    },
    {
      "cell_type": "code",
      "metadata": {
        "id": "dQMxFr2yOdrg",
        "colab_type": "code",
        "colab": {}
      },
      "source": [
        "from sklearn.preprocessing import LabelEncoder\n",
        "\n",
        "# Dest column\n",
        "df['Dest'] = LabelEncoder().fit_transform(df['Dest'])\n",
        "\n",
        "# UniqueCarrier column\n",
        "df['UniqueCarrier'] = LabelEncoder().fit_transform(df['UniqueCarrier'])"
      ],
      "execution_count": 0,
      "outputs": []
    },
    {
      "cell_type": "markdown",
      "metadata": {
        "id": "_SabU2eEKK9S",
        "colab_type": "text"
      },
      "source": [
        "Holdout"
      ]
    },
    {
      "cell_type": "code",
      "metadata": {
        "id": "LLzpqpMd_J9Z",
        "colab_type": "code",
        "outputId": "0692962c-5ed6-4c08-f355-91079b89574e",
        "colab": {
          "base_uri": "https://localhost:8080/",
          "height": 102
        }
      },
      "source": [
        "X_data = df.drop(['Delay', 'ArrDelay'], axis=1)\n",
        "y_data = df['Delay']\n",
        "\n",
        "# Holdout\n",
        "from sklearn.model_selection import train_test_split\n",
        "\n",
        "X_train, X_test, y_train, y_test = train_test_split(X_data, y_data, test_size=0.2, random_state=0)\n",
        "\n",
        "X_train.reset_index(inplace = True)\n",
        "X_train.drop(['index'], axis = 1, inplace = True)\n",
        "X_test.reset_index(inplace = True)\n",
        "X_test.drop(['index'], axis = 1, inplace = True)"
      ],
      "execution_count": 14,
      "outputs": [
        {
          "output_type": "stream",
          "text": [
            "/home/npqbuu/anaconda3/lib/python3.7/site-packages/pandas/core/frame.py:3697: SettingWithCopyWarning: \n",
            "A value is trying to be set on a copy of a slice from a DataFrame\n",
            "\n",
            "See the caveats in the documentation: http://pandas.pydata.org/pandas-docs/stable/indexing.html#indexing-view-versus-copy\n",
            "  errors=errors)\n"
          ],
          "name": "stderr"
        }
      ]
    },
    {
      "cell_type": "code",
      "metadata": {
        "id": "PVS6asNuHN6u",
        "colab_type": "code",
        "outputId": "1a11ccff-89fa-46b2-8b9d-831b8edd0cad",
        "colab": {
          "base_uri": "https://localhost:8080/",
          "height": 204
        }
      },
      "source": [
        "X_train.head()"
      ],
      "execution_count": 15,
      "outputs": [
        {
          "output_type": "execute_result",
          "data": {
            "text/plain": [
              "   Month  DayofMonth  DayOfWeek  UniqueCarrier  CRSElapsedTime  AirTime  Dest  \\\n",
              "0      7           8          2             17            70.0     47.0   204   \n",
              "1      4          14          1             19           112.0     95.0    80   \n",
              "2      5           5          1             11           105.0    103.0    86   \n",
              "3      4          20          7             15           239.0    232.0    80   \n",
              "4      4          16          3             18            94.0     50.0   224   \n",
              "\n",
              "   Distance  TaxiIn  TaxiOut  PotD  \n",
              "0       325     5.0     12.0     3  \n",
              "1       392     5.0     10.0     1  \n",
              "2       624     5.0     12.0     2  \n",
              "3      1545     8.0     14.0     2  \n",
              "4       319     5.0     35.0     1  "
            ],
            "text/html": [
              "<div>\n",
              "<style scoped>\n",
              "    .dataframe tbody tr th:only-of-type {\n",
              "        vertical-align: middle;\n",
              "    }\n",
              "\n",
              "    .dataframe tbody tr th {\n",
              "        vertical-align: top;\n",
              "    }\n",
              "\n",
              "    .dataframe thead th {\n",
              "        text-align: right;\n",
              "    }\n",
              "</style>\n",
              "<table border=\"1\" class=\"dataframe\">\n",
              "  <thead>\n",
              "    <tr style=\"text-align: right;\">\n",
              "      <th></th>\n",
              "      <th>Month</th>\n",
              "      <th>DayofMonth</th>\n",
              "      <th>DayOfWeek</th>\n",
              "      <th>UniqueCarrier</th>\n",
              "      <th>CRSElapsedTime</th>\n",
              "      <th>AirTime</th>\n",
              "      <th>Dest</th>\n",
              "      <th>Distance</th>\n",
              "      <th>TaxiIn</th>\n",
              "      <th>TaxiOut</th>\n",
              "      <th>PotD</th>\n",
              "    </tr>\n",
              "  </thead>\n",
              "  <tbody>\n",
              "    <tr>\n",
              "      <th>0</th>\n",
              "      <td>7</td>\n",
              "      <td>8</td>\n",
              "      <td>2</td>\n",
              "      <td>17</td>\n",
              "      <td>70.0</td>\n",
              "      <td>47.0</td>\n",
              "      <td>204</td>\n",
              "      <td>325</td>\n",
              "      <td>5.0</td>\n",
              "      <td>12.0</td>\n",
              "      <td>3</td>\n",
              "    </tr>\n",
              "    <tr>\n",
              "      <th>1</th>\n",
              "      <td>4</td>\n",
              "      <td>14</td>\n",
              "      <td>1</td>\n",
              "      <td>19</td>\n",
              "      <td>112.0</td>\n",
              "      <td>95.0</td>\n",
              "      <td>80</td>\n",
              "      <td>392</td>\n",
              "      <td>5.0</td>\n",
              "      <td>10.0</td>\n",
              "      <td>1</td>\n",
              "    </tr>\n",
              "    <tr>\n",
              "      <th>2</th>\n",
              "      <td>5</td>\n",
              "      <td>5</td>\n",
              "      <td>1</td>\n",
              "      <td>11</td>\n",
              "      <td>105.0</td>\n",
              "      <td>103.0</td>\n",
              "      <td>86</td>\n",
              "      <td>624</td>\n",
              "      <td>5.0</td>\n",
              "      <td>12.0</td>\n",
              "      <td>2</td>\n",
              "    </tr>\n",
              "    <tr>\n",
              "      <th>3</th>\n",
              "      <td>4</td>\n",
              "      <td>20</td>\n",
              "      <td>7</td>\n",
              "      <td>15</td>\n",
              "      <td>239.0</td>\n",
              "      <td>232.0</td>\n",
              "      <td>80</td>\n",
              "      <td>1545</td>\n",
              "      <td>8.0</td>\n",
              "      <td>14.0</td>\n",
              "      <td>2</td>\n",
              "    </tr>\n",
              "    <tr>\n",
              "      <th>4</th>\n",
              "      <td>4</td>\n",
              "      <td>16</td>\n",
              "      <td>3</td>\n",
              "      <td>18</td>\n",
              "      <td>94.0</td>\n",
              "      <td>50.0</td>\n",
              "      <td>224</td>\n",
              "      <td>319</td>\n",
              "      <td>5.0</td>\n",
              "      <td>35.0</td>\n",
              "      <td>1</td>\n",
              "    </tr>\n",
              "  </tbody>\n",
              "</table>\n",
              "</div>"
            ]
          },
          "metadata": {
            "tags": []
          },
          "execution_count": 15
        }
      ]
    },
    {
      "cell_type": "code",
      "metadata": {
        "id": "QWwz5I7PSE-h",
        "colab_type": "code",
        "colab": {}
      },
      "source": [
        "X_train_backup = X_train.copy()\n",
        "X_test_backup = X_test.copy()"
      ],
      "execution_count": 0,
      "outputs": []
    },
    {
      "cell_type": "markdown",
      "metadata": {
        "id": "wLVIsnL96S4o",
        "colab_type": "text"
      },
      "source": [
        "### Dimension reduction"
      ]
    },
    {
      "cell_type": "code",
      "metadata": {
        "id": "Kei2m3RhSPlD",
        "colab_type": "code",
        "colab": {}
      },
      "source": [
        "X_train = X_train_backup.copy()\n",
        "X_test = X_test_backup.copy()"
      ],
      "execution_count": 0,
      "outputs": []
    },
    {
      "cell_type": "code",
      "metadata": {
        "id": "8Ep0sv-X6S4r",
        "colab_type": "code",
        "colab": {
          "base_uri": "https://localhost:8080/",
          "height": 119
        },
        "outputId": "29bbf2b4-b37f-46ec-c7df-d63713a0e4d9"
      },
      "source": [
        "#Standar Scaler\n",
        "\n",
        "from sklearn.preprocessing import StandardScaler\n",
        "\n",
        "numeric_features = ['Month', 'DayofMonth', 'DayOfWeek', 'CRSElapsedTime', 'AirTime', 'Distance', 'TaxiIn', 'TaxiOut', 'PotD']\n",
        "X_train_numeric = X_train[numeric_features]\n",
        "X_test_numeric = X_test[numeric_features]\n",
        "\n",
        "\n",
        "# Fit on training set only.\n",
        "scaler = StandardScaler().fit(X_train_numeric)\n",
        "    \n",
        "# Apply transform to both the training set and the test set.\n",
        "X_train_numeric = scaler.transform(X_train_numeric)\n",
        "X_test_numeric = scaler.transform(X_test_numeric)"
      ],
      "execution_count": 18,
      "outputs": [
        {
          "output_type": "stream",
          "text": [
            "/home/npqbuu/anaconda3/lib/python3.7/site-packages/sklearn/preprocessing/data.py:625: DataConversionWarning: Data with input dtype int64, float64 were all converted to float64 by StandardScaler.\n",
            "  return self.partial_fit(X, y)\n",
            "/home/npqbuu/anaconda3/lib/python3.7/site-packages/ipykernel_launcher.py:12: DataConversionWarning: Data with input dtype int64, float64 were all converted to float64 by StandardScaler.\n",
            "  if sys.path[0] == '':\n",
            "/home/npqbuu/anaconda3/lib/python3.7/site-packages/ipykernel_launcher.py:13: DataConversionWarning: Data with input dtype int64, float64 were all converted to float64 by StandardScaler.\n",
            "  del sys.path[0]\n"
          ],
          "name": "stderr"
        }
      ]
    },
    {
      "cell_type": "code",
      "metadata": {
        "id": "EA_QIEzZ-YQy",
        "colab_type": "code",
        "outputId": "9ac69b61-1fd7-4567-9368-3778b15c511c",
        "colab": {
          "base_uri": "https://localhost:8080/",
          "height": 283
        }
      },
      "source": [
        "#PCA\n",
        "from sklearn.decomposition import PCA\n",
        "\n",
        "# Create a PCA instance: pca\n",
        "pca = PCA(n_components=9)\n",
        "principalComponents = pca.fit_transform(X_train_numeric)\n",
        "\n",
        "# Plot the explained variances\n",
        "features = range(pca.n_components_)\n",
        "plt.bar(features, pca.explained_variance_ratio_, color='black')\n",
        "plt.xlabel('PCA features')\n",
        "plt.ylabel('variance %')\n",
        "plt.xticks(features)\n",
        "\n",
        "# Save components to a DataFrame\n",
        "PCA_components = pd.DataFrame(principalComponents)"
      ],
      "execution_count": 19,
      "outputs": [
        {
          "output_type": "display_data",
          "data": {
            "text/plain": [
              "<Figure size 432x288 with 1 Axes>"
            ],
            "image/png": "[encoded data removed]"
          },
          "metadata": {
            "tags": [],
            "needs_background": "light"
          }
        }
      ]
    },
    {
      "cell_type": "code",
      "metadata": {
        "id": "N1hNKCIz-T_8",
        "colab_type": "code",
        "colab": {}
      },
      "source": [
        "# Fit on training set only.\n",
        "pca = PCA(n_components=7).fit(X_train_numeric)\n",
        "\n",
        "# Apply transform to both the training set and the test set.\n",
        "pca_train = pca.transform(X_train_numeric)\n",
        "pca_test = pca.transform(X_test_numeric)\n",
        "\n",
        "# Save components to a DataFrame\n",
        "PCA_components_train = pd.DataFrame(pca_train)\n",
        "PCA_components_test = pd.DataFrame(pca_test)\n",
        "\n",
        "# Merge principal components with main dataframe\n",
        "X_train = pd.concat([X_train, PCA_components_train], axis = 1)\n",
        "X_test = pd.concat([X_test, PCA_components_test], axis = 1)\n",
        "\n",
        "X_train.drop(numeric_features, axis = 1, inplace = True)\n",
        "X_test.drop(numeric_features, axis = 1, inplace = True)"
      ],
      "execution_count": 0,
      "outputs": []
    },
    {
      "cell_type": "code",
      "metadata": {
        "id": "9usnxHUVG9fL",
        "colab_type": "code",
        "outputId": "2150fd80-b113-40c3-efd4-d7f9255fa81b",
        "colab": {
          "base_uri": "https://localhost:8080/",
          "height": 204
        }
      },
      "source": [
        "X_train.head()"
      ],
      "execution_count": 21,
      "outputs": [
        {
          "output_type": "execute_result",
          "data": {
            "text/plain": [
              "   UniqueCarrier  Dest         0         1         2         3         4  \\\n",
              "0             17   204 -1.406468  0.643953 -0.702229  1.099634 -0.321214   \n",
              "1             19    80 -0.751306 -0.532859 -0.455016  0.705698 -0.380566   \n",
              "2             11    86 -0.418989  0.158020 -0.607913  1.409661 -0.882752   \n",
              "3             15    80  2.817755 -0.647829  0.305244 -1.603500 -0.556511   \n",
              "4             18   224 -1.118150  0.586819  0.862721  0.195222 -0.015342   \n",
              "\n",
              "          5         6  \n",
              "0  0.038620  0.580080  \n",
              "1 -1.792338 -0.249156  \n",
              "2 -0.966056  0.129553  \n",
              "3  0.184937 -0.036239  \n",
              "4 -1.019900 -1.735436  "
            ],
            "text/html": [
              "<div>\n",
              "<style scoped>\n",
              "    .dataframe tbody tr th:only-of-type {\n",
              "        vertical-align: middle;\n",
              "    }\n",
              "\n",
              "    .dataframe tbody tr th {\n",
              "        vertical-align: top;\n",
              "    }\n",
              "\n",
              "    .dataframe thead th {\n",
              "        text-align: right;\n",
              "    }\n",
              "</style>\n",
              "<table border=\"1\" class=\"dataframe\">\n",
              "  <thead>\n",
              "    <tr style=\"text-align: right;\">\n",
              "      <th></th>\n",
              "      <th>UniqueCarrier</th>\n",
              "      <th>Dest</th>\n",
              "      <th>0</th>\n",
              "      <th>1</th>\n",
              "      <th>2</th>\n",
              "      <th>3</th>\n",
              "      <th>4</th>\n",
              "      <th>5</th>\n",
              "      <th>6</th>\n",
              "    </tr>\n",
              "  </thead>\n",
              "  <tbody>\n",
              "    <tr>\n",
              "      <th>0</th>\n",
              "      <td>17</td>\n",
              "      <td>204</td>\n",
              "      <td>-1.406468</td>\n",
              "      <td>0.643953</td>\n",
              "      <td>-0.702229</td>\n",
              "      <td>1.099634</td>\n",
              "      <td>-0.321214</td>\n",
              "      <td>0.038620</td>\n",
              "      <td>0.580080</td>\n",
              "    </tr>\n",
              "    <tr>\n",
              "      <th>1</th>\n",
              "      <td>19</td>\n",
              "      <td>80</td>\n",
              "      <td>-0.751306</td>\n",
              "      <td>-0.532859</td>\n",
              "      <td>-0.455016</td>\n",
              "      <td>0.705698</td>\n",
              "      <td>-0.380566</td>\n",
              "      <td>-1.792338</td>\n",
              "      <td>-0.249156</td>\n",
              "    </tr>\n",
              "    <tr>\n",
              "      <th>2</th>\n",
              "      <td>11</td>\n",
              "      <td>86</td>\n",
              "      <td>-0.418989</td>\n",
              "      <td>0.158020</td>\n",
              "      <td>-0.607913</td>\n",
              "      <td>1.409661</td>\n",
              "      <td>-0.882752</td>\n",
              "      <td>-0.966056</td>\n",
              "      <td>0.129553</td>\n",
              "    </tr>\n",
              "    <tr>\n",
              "      <th>3</th>\n",
              "      <td>15</td>\n",
              "      <td>80</td>\n",
              "      <td>2.817755</td>\n",
              "      <td>-0.647829</td>\n",
              "      <td>0.305244</td>\n",
              "      <td>-1.603500</td>\n",
              "      <td>-0.556511</td>\n",
              "      <td>0.184937</td>\n",
              "      <td>-0.036239</td>\n",
              "    </tr>\n",
              "    <tr>\n",
              "      <th>4</th>\n",
              "      <td>18</td>\n",
              "      <td>224</td>\n",
              "      <td>-1.118150</td>\n",
              "      <td>0.586819</td>\n",
              "      <td>0.862721</td>\n",
              "      <td>0.195222</td>\n",
              "      <td>-0.015342</td>\n",
              "      <td>-1.019900</td>\n",
              "      <td>-1.735436</td>\n",
              "    </tr>\n",
              "  </tbody>\n",
              "</table>\n",
              "</div>"
            ]
          },
          "metadata": {
            "tags": []
          },
          "execution_count": 21
        }
      ]
    },
    {
      "cell_type": "markdown",
      "metadata": {
        "id": "-LhkDf6iRWsv",
        "colab_type": "text"
      },
      "source": [
        "#### Naive Bayes"
      ]
    },
    {
      "cell_type": "markdown",
      "metadata": {
        "id": "O0VrxukPKeq_",
        "colab_type": "text"
      },
      "source": [
        "Default parameters"
      ]
    },
    {
      "cell_type": "code",
      "metadata": {
        "id": "Etr5q15JKcHH",
        "colab_type": "code",
        "outputId": "197ab025-ac0c-48d9-a8cf-a8409390be27",
        "colab": {
          "base_uri": "https://localhost:8080/",
          "height": 170
        }
      },
      "source": [
        "from sklearn.naive_bayes import GaussianNB\n",
        "model = GaussianNB()\n",
        "model.fit(X_train, y_train)\n",
        "y_pred = model.predict(X_test)\n",
        "\n",
        "# Report\n",
        "from sklearn.metrics import classification_report\n",
        "\n",
        "print(classification_report(y_test, y_pred))"
      ],
      "execution_count": 22,
      "outputs": [
        {
          "output_type": "stream",
          "text": [
            "              precision    recall  f1-score   support\n",
            "\n",
            "           0       0.89      0.96      0.92    297778\n",
            "           1       0.45      0.20      0.27     45008\n",
            "\n",
            "   micro avg       0.86      0.86      0.86    342786\n",
            "   macro avg       0.67      0.58      0.60    342786\n",
            "weighted avg       0.83      0.86      0.84    342786\n",
            "\n"
          ],
          "name": "stdout"
        }
      ]
    },
    {
      "cell_type": "markdown",
      "metadata": {
        "id": "TPJoiI_mK3Fz",
        "colab_type": "text"
      },
      "source": [
        "#### Random Forest"
      ]
    },
    {
      "cell_type": "markdown",
      "metadata": {
        "id": "Ovct-y1PK_G5",
        "colab_type": "text"
      },
      "source": [
        "Default parameters"
      ]
    },
    {
      "cell_type": "code",
      "metadata": {
        "id": "Lj6FCL1zK4F2",
        "colab_type": "code",
        "colab": {
          "base_uri": "https://localhost:8080/",
          "height": 204
        },
        "outputId": "537d1bd5-1975-449f-852d-0375a4b1694f"
      },
      "source": [
        "from sklearn.ensemble import RandomForestClassifier\n",
        "\n",
        "model = RandomForestClassifier(n_jobs = -1)\n",
        "model.fit(X_train, y_train)\n",
        "y_pred = model.predict(X_test)\n",
        "\n",
        "# Report\n",
        "from sklearn.metrics import classification_report\n",
        "\n",
        "\n",
        "print(classification_report(y_test, y_pred))"
      ],
      "execution_count": 23,
      "outputs": [
        {
          "output_type": "stream",
          "text": [
            "/home/npqbuu/anaconda3/lib/python3.7/site-packages/sklearn/ensemble/forest.py:246: FutureWarning: The default value of n_estimators will change from 10 in version 0.20 to 100 in 0.22.\n",
            "  \"10 in version 0.20 to 100 in 0.22.\", FutureWarning)\n"
          ],
          "name": "stderr"
        },
        {
          "output_type": "stream",
          "text": [
            "              precision    recall  f1-score   support\n",
            "\n",
            "           0       0.89      0.99      0.93    297778\n",
            "           1       0.64      0.15      0.25     45008\n",
            "\n",
            "   micro avg       0.88      0.88      0.88    342786\n",
            "   macro avg       0.76      0.57      0.59    342786\n",
            "weighted avg       0.85      0.88      0.84    342786\n",
            "\n"
          ],
          "name": "stdout"
        }
      ]
    },
    {
      "cell_type": "markdown",
      "metadata": {
        "id": "TitWG78-LEX-",
        "colab_type": "text"
      },
      "source": [
        "Hyperparameter tuning"
      ]
    },
    {
      "cell_type": "code",
      "metadata": {
        "id": "qYF66VkgLE9D",
        "colab_type": "code",
        "colab": {
          "base_uri": "https://localhost:8080/",
          "height": 405
        },
        "outputId": "f2ad98b5-b7d9-4089-e640-718cd99de2a3"
      },
      "source": [
        "# n_estimators\n",
        "n_estimators = [1, 5, 6, 7, 8, 9, 10, 15]\n",
        "test_results = []\n",
        "train_results = []\n",
        "for estimator in n_estimators:\n",
        "    model = RandomForestClassifier(n_estimators = estimator, n_jobs = -1)\n",
        "    model.fit(X_train, y_train)\n",
        "  \n",
        "    y_pred = model.predict(X_test)\n",
        "    f1 = f1_score(y_test, y_pred)\n",
        "    test_results.append(f1)\n",
        "    \n",
        "    train_pred = model.predict(X_train)\n",
        "    f1 = f1_score(y_train, train_pred)\n",
        "    train_results.append(f1)\n",
        "\n",
        "    \n",
        "    print(estimator, ' done!')\n",
        "    \n",
        "# Plot metrics line chart\n",
        "sns.lineplot(x = n_estimators, y = test_results, label='Test F1')\n",
        "sns.lineplot(x = n_estimators, y = train_results, label='Train F1')"
      ],
      "execution_count": 24,
      "outputs": [
        {
          "output_type": "stream",
          "text": [
            "1  done!\n",
            "5  done!\n",
            "10  done!\n",
            "15  done!\n",
            "20  done!\n",
            "25  done!\n",
            "50  done!\n"
          ],
          "name": "stdout"
        },
        {
          "output_type": "execute_result",
          "data": {
            "text/plain": [
              "<matplotlib.axes._subplots.AxesSubplot at 0x7fabdb1951d0>"
            ]
          },
          "metadata": {
            "tags": []
          },
          "execution_count": 24
        },
        {
          "output_type": "display_data",
          "data": {
            "text/plain": [
              "<Figure size 432x288 with 1 Axes>"
            ],
            "image/png": "[encoded data removed]"
          },
          "metadata": {
            "tags": [],
            "needs_background": "light"
          }
        }
      ]
    },
    {
      "cell_type": "code",
      "metadata": {
        "id": "5sAs5eC1LGYy",
        "colab_type": "code",
        "colab": {
          "base_uri": "https://localhost:8080/",
          "height": 643
        },
        "outputId": "fbfabd86-c2ce-4c71-82ca-e84007530e0b"
      },
      "source": [
        "# max_depths\n",
        "max_depths = np.linspace(5, 26, 8)\n",
        "test_results = []\n",
        "train_results = []\n",
        "\n",
        "for max_depth in max_depths:\n",
        "    model = RandomForestClassifier(max_depth = max_depth, n_jobs = -1)\n",
        "    model.fit(X_train, y_train)\n",
        "  \n",
        "    y_pred = model.predict(X_test)\n",
        "    f1 = f1_score(y_test, y_pred)\n",
        "    test_results.append(f1)\n",
        "    \n",
        "    train_pred = model.predict(X_train)\n",
        "    f1 = f1_score(y_train, train_pred)\n",
        "    train_results.append(f1)\n",
        "    \n",
        "    print(max_depth, ' done!')\n",
        "\n",
        "# Plot metrics line chart\n",
        "sns.lineplot(x = n_estimators, y = test_results, label='Test F1')\n",
        "sns.lineplot(x = n_estimators, y = train_results, label='Train F1')"
      ],
      "execution_count": 25,
      "outputs": [
        {
          "output_type": "stream",
          "text": [
            "/home/npqbuu/anaconda3/lib/python3.7/site-packages/sklearn/ensemble/forest.py:246: FutureWarning: The default value of n_estimators will change from 10 in version 0.20 to 100 in 0.22.\n",
            "  \"10 in version 0.20 to 100 in 0.22.\", FutureWarning)\n"
          ],
          "name": "stderr"
        },
        {
          "output_type": "stream",
          "text": [
            "5.0  done!\n"
          ],
          "name": "stdout"
        },
        {
          "output_type": "stream",
          "text": [
            "/home/npqbuu/anaconda3/lib/python3.7/site-packages/sklearn/ensemble/forest.py:246: FutureWarning: The default value of n_estimators will change from 10 in version 0.20 to 100 in 0.22.\n",
            "  \"10 in version 0.20 to 100 in 0.22.\", FutureWarning)\n"
          ],
          "name": "stderr"
        },
        {
          "output_type": "stream",
          "text": [
            "10.0  done!\n"
          ],
          "name": "stdout"
        },
        {
          "output_type": "stream",
          "text": [
            "/home/npqbuu/anaconda3/lib/python3.7/site-packages/sklearn/ensemble/forest.py:246: FutureWarning: The default value of n_estimators will change from 10 in version 0.20 to 100 in 0.22.\n",
            "  \"10 in version 0.20 to 100 in 0.22.\", FutureWarning)\n"
          ],
          "name": "stderr"
        },
        {
          "output_type": "stream",
          "text": [
            "15.0  done!\n"
          ],
          "name": "stdout"
        },
        {
          "output_type": "stream",
          "text": [
            "/home/npqbuu/anaconda3/lib/python3.7/site-packages/sklearn/ensemble/forest.py:246: FutureWarning: The default value of n_estimators will change from 10 in version 0.20 to 100 in 0.22.\n",
            "  \"10 in version 0.20 to 100 in 0.22.\", FutureWarning)\n"
          ],
          "name": "stderr"
        },
        {
          "output_type": "stream",
          "text": [
            "20.0  done!\n"
          ],
          "name": "stdout"
        },
        {
          "output_type": "stream",
          "text": [
            "/home/npqbuu/anaconda3/lib/python3.7/site-packages/sklearn/ensemble/forest.py:246: FutureWarning: The default value of n_estimators will change from 10 in version 0.20 to 100 in 0.22.\n",
            "  \"10 in version 0.20 to 100 in 0.22.\", FutureWarning)\n"
          ],
          "name": "stderr"
        },
        {
          "output_type": "stream",
          "text": [
            "25.0  done!\n"
          ],
          "name": "stdout"
        },
        {
          "output_type": "stream",
          "text": [
            "/home/npqbuu/anaconda3/lib/python3.7/site-packages/sklearn/ensemble/forest.py:246: FutureWarning: The default value of n_estimators will change from 10 in version 0.20 to 100 in 0.22.\n",
            "  \"10 in version 0.20 to 100 in 0.22.\", FutureWarning)\n"
          ],
          "name": "stderr"
        },
        {
          "output_type": "stream",
          "text": [
            "30.0  done!\n"
          ],
          "name": "stdout"
        },
        {
          "output_type": "stream",
          "text": [
            "/home/npqbuu/anaconda3/lib/python3.7/site-packages/sklearn/ensemble/forest.py:246: FutureWarning: The default value of n_estimators will change from 10 in version 0.20 to 100 in 0.22.\n",
            "  \"10 in version 0.20 to 100 in 0.22.\", FutureWarning)\n"
          ],
          "name": "stderr"
        },
        {
          "output_type": "stream",
          "text": [
            "35.0  done!\n"
          ],
          "name": "stdout"
        },
        {
          "output_type": "execute_result",
          "data": {
            "text/plain": [
              "<matplotlib.axes._subplots.AxesSubplot at 0x7fabdb299a90>"
            ]
          },
          "metadata": {
            "tags": []
          },
          "execution_count": 25
        },
        {
          "output_type": "display_data",
          "data": {
            "text/plain": [
              "<Figure size 432x288 with 1 Axes>"
            ],
            "image/png": "[encoded data removed]"
          },
          "metadata": {
            "tags": [],
            "needs_background": "light"
          }
        }
      ]
    },
    {
      "cell_type": "markdown",
      "metadata": {
        "id": "f5urhvB1LMl4",
        "colab_type": "text"
      },
      "source": [
        "**Final model**\n",
        "\n",
        "Best parameters:\n",
        "- n_estimators = 15\n",
        "- max_depths = 25"
      ]
    },
    {
      "cell_type": "code",
      "metadata": {
        "id": "ttl31351LOXv",
        "colab_type": "code",
        "colab": {}
      },
      "source": [
        "model = RandomForestClassifier(n_estimators = 15, max_depth = 25, n_jobs = -1)\n",
        "model.fit(X_train, y_train)\n",
        "y_pred = model.predict(X_test)\n",
        "\n",
        "# Report\n",
        "from sklearn.metrics import classification_report\n",
        "\n",
        "print(classification_report(y_test, y_pred))"
      ],
      "execution_count": 0,
      "outputs": []
    },
    {
      "cell_type": "markdown",
      "metadata": {
        "id": "oGrqHaNZQrG5",
        "colab_type": "text"
      },
      "source": [
        "### Feature selection"
      ]
    },
    {
      "cell_type": "code",
      "metadata": {
        "id": "n2KyVYrqSYTF",
        "colab_type": "code",
        "colab": {}
      },
      "source": [
        "X_train = X_train_backup.copy()\n",
        "X_test = X_test_backup.copy()"
      ],
      "execution_count": 0,
      "outputs": []
    },
    {
      "cell_type": "code",
      "metadata": {
        "id": "ZwVvVFh7QsSm",
        "colab_type": "code",
        "outputId": "d8d3ee62-6199-459b-e062-3222aaf4660b",
        "colab": {
          "base_uri": "https://localhost:8080/",
          "height": 469
        }
      },
      "source": [
        "# RFE\n",
        "from sklearn.feature_selection import RFE\n",
        "\n",
        "from sklearn.naive_bayes import GaussianNB\n",
        "model = GaussianNB()\n",
        "rfe = RFE(estimator = model, n_features_to_select = None)\n",
        "rfe = rfe.fit(X_train, y_train)\n",
        "\n",
        "#Summarize the selection of the attributes\n",
        "print(rfe.support_)\n",
        "print(rfe.ranking_)\n",
        "X_train.columns[rfe.support_]"
      ],
      "execution_count": 27,
      "outputs": [
        {
          "output_type": "error",
          "ename": "RuntimeError",
          "evalue": "ignored",
          "traceback": [
            "\u001b[0;31m---------------------------------------------------------------------------\u001b[0m",
            "\u001b[0;31mRuntimeError\u001b[0m                              Traceback (most recent call last)",
            "\u001b[0;32m<ipython-input-27-5d3d98979bbf>\u001b[0m in \u001b[0;36m<module>\u001b[0;34m\u001b[0m\n\u001b[1;32m      4\u001b[0m \u001b[0mmodel\u001b[0m \u001b[0;34m=\u001b[0m \u001b[0mGaussianNB\u001b[0m\u001b[0;34m(\u001b[0m\u001b[0;34m)\u001b[0m\u001b[0;34m\u001b[0m\u001b[0;34m\u001b[0m\u001b[0m\n\u001b[1;32m      5\u001b[0m \u001b[0mrfe\u001b[0m \u001b[0;34m=\u001b[0m \u001b[0mRFE\u001b[0m\u001b[0;34m(\u001b[0m\u001b[0mestimator\u001b[0m \u001b[0;34m=\u001b[0m \u001b[0mmodel\u001b[0m\u001b[0;34m,\u001b[0m \u001b[0mn_features_to_select\u001b[0m \u001b[0;34m=\u001b[0m \u001b[0;32mNone\u001b[0m\u001b[0;34m)\u001b[0m\u001b[0;34m\u001b[0m\u001b[0;34m\u001b[0m\u001b[0m\n\u001b[0;32m----> 6\u001b[0;31m \u001b[0mrfe\u001b[0m \u001b[0;34m=\u001b[0m \u001b[0mrfe\u001b[0m\u001b[0;34m.\u001b[0m\u001b[0mfit\u001b[0m\u001b[0;34m(\u001b[0m\u001b[0mX_train\u001b[0m\u001b[0;34m,\u001b[0m \u001b[0my_train\u001b[0m\u001b[0;34m)\u001b[0m\u001b[0;34m\u001b[0m\u001b[0;34m\u001b[0m\u001b[0m\n\u001b[0m\u001b[1;32m      7\u001b[0m \u001b[0;34m\u001b[0m\u001b[0m\n\u001b[1;32m      8\u001b[0m \u001b[0;31m#Summarize the selection of the attributes\u001b[0m\u001b[0;34m\u001b[0m\u001b[0;34m\u001b[0m\u001b[0;34m\u001b[0m\u001b[0m\n",
            "\u001b[0;32m~/anaconda3/lib/python3.7/site-packages/sklearn/feature_selection/rfe.py\u001b[0m in \u001b[0;36mfit\u001b[0;34m(self, X, y)\u001b[0m\n\u001b[1;32m    138\u001b[0m             \u001b[0mThe\u001b[0m \u001b[0mtarget\u001b[0m \u001b[0mvalues\u001b[0m\u001b[0;34m.\u001b[0m\u001b[0;34m\u001b[0m\u001b[0;34m\u001b[0m\u001b[0m\n\u001b[1;32m    139\u001b[0m         \"\"\"\n\u001b[0;32m--> 140\u001b[0;31m         \u001b[0;32mreturn\u001b[0m \u001b[0mself\u001b[0m\u001b[0;34m.\u001b[0m\u001b[0m_fit\u001b[0m\u001b[0;34m(\u001b[0m\u001b[0mX\u001b[0m\u001b[0;34m,\u001b[0m \u001b[0my\u001b[0m\u001b[0;34m)\u001b[0m\u001b[0;34m\u001b[0m\u001b[0;34m\u001b[0m\u001b[0m\n\u001b[0m\u001b[1;32m    141\u001b[0m \u001b[0;34m\u001b[0m\u001b[0m\n\u001b[1;32m    142\u001b[0m     \u001b[0;32mdef\u001b[0m \u001b[0m_fit\u001b[0m\u001b[0;34m(\u001b[0m\u001b[0mself\u001b[0m\u001b[0;34m,\u001b[0m \u001b[0mX\u001b[0m\u001b[0;34m,\u001b[0m \u001b[0my\u001b[0m\u001b[0;34m,\u001b[0m \u001b[0mstep_score\u001b[0m\u001b[0;34m=\u001b[0m\u001b[0;32mNone\u001b[0m\u001b[0;34m)\u001b[0m\u001b[0;34m:\u001b[0m\u001b[0;34m\u001b[0m\u001b[0;34m\u001b[0m\u001b[0m\n",
            "\u001b[0;32m~/anaconda3/lib/python3.7/site-packages/sklearn/feature_selection/rfe.py\u001b[0m in \u001b[0;36m_fit\u001b[0;34m(self, X, y, step_score)\u001b[0m\n\u001b[1;32m    185\u001b[0m                 \u001b[0mcoefs\u001b[0m \u001b[0;34m=\u001b[0m \u001b[0mgetattr\u001b[0m\u001b[0;34m(\u001b[0m\u001b[0mestimator\u001b[0m\u001b[0;34m,\u001b[0m \u001b[0;34m'feature_importances_'\u001b[0m\u001b[0;34m,\u001b[0m \u001b[0;32mNone\u001b[0m\u001b[0;34m)\u001b[0m\u001b[0;34m\u001b[0m\u001b[0;34m\u001b[0m\u001b[0m\n\u001b[1;32m    186\u001b[0m             \u001b[0;32mif\u001b[0m \u001b[0mcoefs\u001b[0m \u001b[0;32mis\u001b[0m \u001b[0;32mNone\u001b[0m\u001b[0;34m:\u001b[0m\u001b[0;34m\u001b[0m\u001b[0;34m\u001b[0m\u001b[0m\n\u001b[0;32m--> 187\u001b[0;31m                 raise RuntimeError('The classifier does not expose '\n\u001b[0m\u001b[1;32m    188\u001b[0m                                    \u001b[0;34m'\"coef_\" or \"feature_importances_\" '\u001b[0m\u001b[0;34m\u001b[0m\u001b[0;34m\u001b[0m\u001b[0m\n\u001b[1;32m    189\u001b[0m                                    'attributes')\n",
            "\u001b[0;31mRuntimeError\u001b[0m: The classifier does not expose \"coef_\" or \"feature_importances_\" attributes"
          ]
        }
      ]
    },
    {
      "cell_type": "code",
      "metadata": {
        "id": "UtX7r207XAro",
        "colab_type": "code",
        "outputId": "565aa6d3-c4fb-445f-9f81-5a27b1c7b6ef",
        "colab": {
          "base_uri": "https://localhost:8080/",
          "height": 306
        }
      },
      "source": [
        "# RFE\n",
        "from sklearn.feature_selection import RFE\n",
        "\n",
        "from sklearn.linear_model import LogisticRegression\n",
        "model = LogisticRegression()\n",
        "rfe = RFE(estimator = model, n_features_to_select = None)\n",
        "rfe = rfe.fit(X_train, y_train)\n",
        "\n",
        "#Summarize the selection of the attributes\n",
        "print(rfe.support_)\n",
        "print(rfe.ranking_)\n",
        "X_train.columns[rfe.support_]"
      ],
      "execution_count": 28,
      "outputs": [
        {
          "output_type": "stream",
          "text": [
            "/home/npqbuu/anaconda3/lib/python3.7/site-packages/sklearn/linear_model/logistic.py:433: FutureWarning: Default solver will be changed to 'lbfgs' in 0.22. Specify a solver to silence this warning.\n",
            "  FutureWarning)\n",
            "/home/npqbuu/anaconda3/lib/python3.7/site-packages/sklearn/linear_model/logistic.py:433: FutureWarning: Default solver will be changed to 'lbfgs' in 0.22. Specify a solver to silence this warning.\n",
            "  FutureWarning)\n",
            "/home/npqbuu/anaconda3/lib/python3.7/site-packages/sklearn/linear_model/logistic.py:433: FutureWarning: Default solver will be changed to 'lbfgs' in 0.22. Specify a solver to silence this warning.\n",
            "  FutureWarning)\n",
            "/home/npqbuu/anaconda3/lib/python3.7/site-packages/sklearn/linear_model/logistic.py:433: FutureWarning: Default solver will be changed to 'lbfgs' in 0.22. Specify a solver to silence this warning.\n",
            "  FutureWarning)\n",
            "/home/npqbuu/anaconda3/lib/python3.7/site-packages/sklearn/linear_model/logistic.py:433: FutureWarning: Default solver will be changed to 'lbfgs' in 0.22. Specify a solver to silence this warning.\n",
            "  FutureWarning)\n",
            "/home/npqbuu/anaconda3/lib/python3.7/site-packages/sklearn/linear_model/logistic.py:433: FutureWarning: Default solver will be changed to 'lbfgs' in 0.22. Specify a solver to silence this warning.\n",
            "  FutureWarning)\n",
            "/home/npqbuu/anaconda3/lib/python3.7/site-packages/sklearn/linear_model/logistic.py:433: FutureWarning: Default solver will be changed to 'lbfgs' in 0.22. Specify a solver to silence this warning.\n",
            "  FutureWarning)\n"
          ],
          "name": "stderr"
        },
        {
          "output_type": "stream",
          "text": [
            "[False False False False  True  True False False  True  True  True]\n",
            "[2 6 3 4 1 1 7 5 1 1 1]\n"
          ],
          "name": "stdout"
        },
        {
          "output_type": "execute_result",
          "data": {
            "text/plain": [
              "Index(['CRSElapsedTime', 'AirTime', 'TaxiIn', 'TaxiOut', 'PotD'], dtype='object')"
            ]
          },
          "metadata": {
            "tags": []
          },
          "execution_count": 28
        }
      ]
    },
    {
      "cell_type": "code",
      "metadata": {
        "id": "R9bLV9lxV5j4",
        "colab_type": "code",
        "colab": {}
      },
      "source": [
        ""
      ],
      "execution_count": 0,
      "outputs": []
    }
  ]
}