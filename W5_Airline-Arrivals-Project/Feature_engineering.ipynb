{
 "cells": [
  {
   "cell_type": "markdown",
   "metadata": {
    "colab_type": "text",
    "id": "HCtlpmVG9g4T"
   },
   "source": [
    "## Import libaries"
   ]
  },
  {
   "cell_type": "code",
   "execution_count": 1,
   "metadata": {
    "colab": {},
    "colab_type": "code",
    "id": "br4j_Wi69h5e"
   },
   "outputs": [],
   "source": [
    "import pandas as pd\n",
    "import numpy as np \n",
    "import seaborn as sns \n",
    "%matplotlib inline\n",
    "import matplotlib.pyplot as plt\n",
    "import scipy.stats as ss\n",
    "from sklearn.metrics import f1_score"
   ]
  },
  {
   "cell_type": "markdown",
   "metadata": {
    "colab_type": "text",
    "id": "Y7u4Tbsg9jV5"
   },
   "source": [
    "## Import data"
   ]
  },
  {
   "cell_type": "code",
   "execution_count": 2,
   "metadata": {
    "colab": {},
    "colab_type": "code",
    "id": "0t-c0jMq9ksB"
   },
   "outputs": [],
   "source": [
    "# Read from url - Take time to run\n",
    "#url = \"http://stat-computing.org/dataexpo/2009/2008.csv.bz2\"\n",
    "#df = pd.read_csv(url, compression='bz2')\n",
    "\n",
    "# Read from drive\n",
    "df = pd.read_csv('./temp/Airline.csv')"
   ]
  },
  {
   "cell_type": "code",
   "execution_count": 3,
   "metadata": {
    "colab": {},
    "colab_type": "code",
    "id": "K7k-c_gr9oBp"
   },
   "outputs": [],
   "source": [
    "# Reduce rows\n",
    "df = df.sample(frac=0.25)"
   ]
  },
  {
   "cell_type": "code",
   "execution_count": 4,
   "metadata": {
    "colab": {
     "base_uri": "https://localhost:8080/",
     "height": 253
    },
    "colab_type": "code",
    "id": "KSNFkY6F9pLf",
    "outputId": "66df34eb-aa32-47b2-caf7-8679103b7747"
   },
   "outputs": [
    {
     "data": {
      "text/html": [
       "<div>\n",
       "<style scoped>\n",
       "    .dataframe tbody tr th:only-of-type {\n",
       "        vertical-align: middle;\n",
       "    }\n",
       "\n",
       "    .dataframe tbody tr th {\n",
       "        vertical-align: top;\n",
       "    }\n",
       "\n",
       "    .dataframe thead th {\n",
       "        text-align: right;\n",
       "    }\n",
       "</style>\n",
       "<table border=\"1\" class=\"dataframe\">\n",
       "  <thead>\n",
       "    <tr style=\"text-align: right;\">\n",
       "      <th></th>\n",
       "      <th>Year</th>\n",
       "      <th>Month</th>\n",
       "      <th>DayofMonth</th>\n",
       "      <th>DayOfWeek</th>\n",
       "      <th>DepTime</th>\n",
       "      <th>CRSDepTime</th>\n",
       "      <th>ArrTime</th>\n",
       "      <th>CRSArrTime</th>\n",
       "      <th>UniqueCarrier</th>\n",
       "      <th>FlightNum</th>\n",
       "      <th>...</th>\n",
       "      <th>TaxiIn</th>\n",
       "      <th>TaxiOut</th>\n",
       "      <th>Cancelled</th>\n",
       "      <th>CancellationCode</th>\n",
       "      <th>Diverted</th>\n",
       "      <th>CarrierDelay</th>\n",
       "      <th>WeatherDelay</th>\n",
       "      <th>NASDelay</th>\n",
       "      <th>SecurityDelay</th>\n",
       "      <th>LateAircraftDelay</th>\n",
       "    </tr>\n",
       "  </thead>\n",
       "  <tbody>\n",
       "    <tr>\n",
       "      <th>744407</th>\n",
       "      <td>2008</td>\n",
       "      <td>2</td>\n",
       "      <td>25</td>\n",
       "      <td>1</td>\n",
       "      <td>1610.0</td>\n",
       "      <td>1525</td>\n",
       "      <td>1703.0</td>\n",
       "      <td>1628</td>\n",
       "      <td>YV</td>\n",
       "      <td>7315</td>\n",
       "      <td>...</td>\n",
       "      <td>4.0</td>\n",
       "      <td>9.0</td>\n",
       "      <td>0</td>\n",
       "      <td>NaN</td>\n",
       "      <td>0</td>\n",
       "      <td>35.0</td>\n",
       "      <td>0.0</td>\n",
       "      <td>0.0</td>\n",
       "      <td>0.0</td>\n",
       "      <td>0.0</td>\n",
       "    </tr>\n",
       "    <tr>\n",
       "      <th>3592462</th>\n",
       "      <td>2008</td>\n",
       "      <td>6</td>\n",
       "      <td>10</td>\n",
       "      <td>2</td>\n",
       "      <td>607.0</td>\n",
       "      <td>610</td>\n",
       "      <td>828.0</td>\n",
       "      <td>816</td>\n",
       "      <td>DL</td>\n",
       "      <td>1201</td>\n",
       "      <td>...</td>\n",
       "      <td>6.0</td>\n",
       "      <td>25.0</td>\n",
       "      <td>0</td>\n",
       "      <td>NaN</td>\n",
       "      <td>0</td>\n",
       "      <td>NaN</td>\n",
       "      <td>NaN</td>\n",
       "      <td>NaN</td>\n",
       "      <td>NaN</td>\n",
       "      <td>NaN</td>\n",
       "    </tr>\n",
       "    <tr>\n",
       "      <th>6094590</th>\n",
       "      <td>2008</td>\n",
       "      <td>11</td>\n",
       "      <td>16</td>\n",
       "      <td>7</td>\n",
       "      <td>757.0</td>\n",
       "      <td>800</td>\n",
       "      <td>1025.0</td>\n",
       "      <td>1023</td>\n",
       "      <td>OO</td>\n",
       "      <td>4534</td>\n",
       "      <td>...</td>\n",
       "      <td>4.0</td>\n",
       "      <td>16.0</td>\n",
       "      <td>0</td>\n",
       "      <td>NaN</td>\n",
       "      <td>0</td>\n",
       "      <td>NaN</td>\n",
       "      <td>NaN</td>\n",
       "      <td>NaN</td>\n",
       "      <td>NaN</td>\n",
       "      <td>NaN</td>\n",
       "    </tr>\n",
       "    <tr>\n",
       "      <th>4134950</th>\n",
       "      <td>2008</td>\n",
       "      <td>7</td>\n",
       "      <td>7</td>\n",
       "      <td>1</td>\n",
       "      <td>919.0</td>\n",
       "      <td>915</td>\n",
       "      <td>1327.0</td>\n",
       "      <td>1215</td>\n",
       "      <td>AA</td>\n",
       "      <td>1704</td>\n",
       "      <td>...</td>\n",
       "      <td>8.0</td>\n",
       "      <td>78.0</td>\n",
       "      <td>0</td>\n",
       "      <td>NaN</td>\n",
       "      <td>0</td>\n",
       "      <td>0.0</td>\n",
       "      <td>0.0</td>\n",
       "      <td>72.0</td>\n",
       "      <td>0.0</td>\n",
       "      <td>0.0</td>\n",
       "    </tr>\n",
       "    <tr>\n",
       "      <th>71179</th>\n",
       "      <td>2008</td>\n",
       "      <td>1</td>\n",
       "      <td>24</td>\n",
       "      <td>4</td>\n",
       "      <td>1143.0</td>\n",
       "      <td>1145</td>\n",
       "      <td>1312.0</td>\n",
       "      <td>1315</td>\n",
       "      <td>WN</td>\n",
       "      <td>179</td>\n",
       "      <td>...</td>\n",
       "      <td>3.0</td>\n",
       "      <td>7.0</td>\n",
       "      <td>0</td>\n",
       "      <td>NaN</td>\n",
       "      <td>0</td>\n",
       "      <td>NaN</td>\n",
       "      <td>NaN</td>\n",
       "      <td>NaN</td>\n",
       "      <td>NaN</td>\n",
       "      <td>NaN</td>\n",
       "    </tr>\n",
       "  </tbody>\n",
       "</table>\n",
       "<p>5 rows × 29 columns</p>\n",
       "</div>"
      ],
      "text/plain": [
       "         Year  Month  DayofMonth  DayOfWeek  DepTime  CRSDepTime  ArrTime  \\\n",
       "744407   2008      2          25          1   1610.0        1525   1703.0   \n",
       "3592462  2008      6          10          2    607.0         610    828.0   \n",
       "6094590  2008     11          16          7    757.0         800   1025.0   \n",
       "4134950  2008      7           7          1    919.0         915   1327.0   \n",
       "71179    2008      1          24          4   1143.0        1145   1312.0   \n",
       "\n",
       "         CRSArrTime UniqueCarrier  FlightNum        ...         TaxiIn  \\\n",
       "744407         1628            YV       7315        ...            4.0   \n",
       "3592462         816            DL       1201        ...            6.0   \n",
       "6094590        1023            OO       4534        ...            4.0   \n",
       "4134950        1215            AA       1704        ...            8.0   \n",
       "71179          1315            WN        179        ...            3.0   \n",
       "\n",
       "         TaxiOut  Cancelled  CancellationCode  Diverted  CarrierDelay  \\\n",
       "744407       9.0          0               NaN         0          35.0   \n",
       "3592462     25.0          0               NaN         0           NaN   \n",
       "6094590     16.0          0               NaN         0           NaN   \n",
       "4134950     78.0          0               NaN         0           0.0   \n",
       "71179        7.0          0               NaN         0           NaN   \n",
       "\n",
       "        WeatherDelay NASDelay  SecurityDelay  LateAircraftDelay  \n",
       "744407           0.0      0.0            0.0                0.0  \n",
       "3592462          NaN      NaN            NaN                NaN  \n",
       "6094590          NaN      NaN            NaN                NaN  \n",
       "4134950          0.0     72.0            0.0                0.0  \n",
       "71179            NaN      NaN            NaN                NaN  \n",
       "\n",
       "[5 rows x 29 columns]"
      ]
     },
     "execution_count": 4,
     "metadata": {},
     "output_type": "execute_result"
    }
   ],
   "source": [
    "df.head()"
   ]
  },
  {
   "cell_type": "markdown",
   "metadata": {
    "colab_type": "text",
    "id": "_0NAHR1a9l6_"
   },
   "source": [
    "## Data pre-processing"
   ]
  },
  {
   "cell_type": "code",
   "execution_count": 5,
   "metadata": {
    "colab": {
     "base_uri": "https://localhost:8080/",
     "height": 527
    },
    "colab_type": "code",
    "id": "1uQMWbnH9rqD",
    "outputId": "6ceb7c6e-8059-4bb3-e9fc-4ce1ce7b50a0"
   },
   "outputs": [
    {
     "data": {
      "text/plain": [
       "Year                 1752432\n",
       "Month                1752432\n",
       "DayofMonth           1752432\n",
       "DayOfWeek            1752432\n",
       "DepTime              1718269\n",
       "CRSDepTime           1752432\n",
       "ArrTime              1714416\n",
       "CRSArrTime           1752432\n",
       "UniqueCarrier        1752432\n",
       "FlightNum            1752432\n",
       "TailNum              1731543\n",
       "ActualElapsedTime    1713605\n",
       "CRSElapsedTime       1752230\n",
       "AirTime              1713605\n",
       "ArrDelay             1713605\n",
       "DepDelay             1718269\n",
       "Origin               1752432\n",
       "Dest                 1752432\n",
       "Distance             1752432\n",
       "TaxiIn               1714416\n",
       "TaxiOut              1718091\n",
       "Cancelled            1752432\n",
       "CancellationCode       34416\n",
       "Diverted             1752432\n",
       "CarrierDelay          381472\n",
       "WeatherDelay          381472\n",
       "NASDelay              381472\n",
       "SecurityDelay         381472\n",
       "LateAircraftDelay     381472\n",
       "dtype: int64"
      ]
     },
     "execution_count": 5,
     "metadata": {},
     "output_type": "execute_result"
    }
   ],
   "source": [
    "df.count()"
   ]
  },
  {
   "cell_type": "code",
   "execution_count": 6,
   "metadata": {
    "colab": {
     "base_uri": "https://localhost:8080/",
     "height": 238
    },
    "colab_type": "code",
    "id": "iepEpLUa9tb1",
    "outputId": "c7adbabe-6619-473c-c365-8777f619378f"
   },
   "outputs": [
    {
     "data": {
      "text/plain": [
       "Month             1713605\n",
       "DayofMonth        1713605\n",
       "DayOfWeek         1713605\n",
       "CRSArrTime        1713605\n",
       "UniqueCarrier     1713605\n",
       "CRSElapsedTime    1713605\n",
       "AirTime           1713605\n",
       "ArrDelay          1713605\n",
       "Dest              1713605\n",
       "Distance          1713605\n",
       "TaxiIn            1713605\n",
       "TaxiOut           1713605\n",
       "dtype: int64"
      ]
     },
     "execution_count": 6,
     "metadata": {},
     "output_type": "execute_result"
    }
   ],
   "source": [
    "#Create Date column\n",
    "#df['Date'] = pd.to_datetime(df[['Year', 'Month', 'DayofMonth']])\n",
    "\n",
    "# Drop columns\n",
    "# Year: The dataset only contains data in 2008\n",
    "# Cancelled + CancellationCode + Diverted: Cancelled flight does not have delay label.\n",
    "df.drop(['Year', 'Cancelled', 'CancellationCode', 'Diverted'], axis=1, inplace=True)\n",
    "# Delay details: Only 20% rows have these features.\n",
    "df.drop(['CarrierDelay', 'WeatherDelay', 'NASDelay', 'SecurityDelay', 'LateAircraftDelay'], axis=1, inplace=True)\n",
    "# Time: Only keep CRSArrTime, CRSElapsedTime\n",
    "df.drop(['DepTime', 'ArrTime', 'CRSDepTime', 'ActualElapsedTime', 'DepDelay'], axis=1, inplace=True)\n",
    "# Airport: Only keep the Dest Airport\n",
    "df.drop(['Origin'], axis=1, inplace=True)\n",
    "# Carrier: Drop FlightNum and TailNum\n",
    "df.drop(['FlightNum', 'TailNum'], axis=1, inplace=True)\n",
    "\n",
    "df.dropna(inplace=True)\n",
    "df.drop_duplicates(inplace=True)\n",
    "\n",
    "df.count()"
   ]
  },
  {
   "cell_type": "code",
   "execution_count": 7,
   "metadata": {
    "colab": {},
    "colab_type": "code",
    "id": "XcOFd9co9upr"
   },
   "outputs": [],
   "source": [
    "# Convert CRSArrTime to Parts of the Day\n",
    "conditions = [\n",
    "    (df['CRSArrTime'] >= 500) & (df['CRSArrTime'] < 1201),\n",
    "    (df['CRSArrTime'] >= 1201) & (df['CRSArrTime'] < 1701),\n",
    "    (df['CRSArrTime'] >= 1701) & (df['CRSArrTime'] < 2101)]\n",
    "choices = [1, 2, 3]\n",
    "df['PotD'] = np.select(conditions, choices, default=4)\n",
    "\n",
    "# Morning, Afternoon, Evening, Night"
   ]
  },
  {
   "cell_type": "code",
   "execution_count": 8,
   "metadata": {
    "colab": {},
    "colab_type": "code",
    "id": "wB2nV-i09v2R"
   },
   "outputs": [],
   "source": [
    "# Convert ArrDelay to Delay\n",
    "# A flight only counts as late if it is more than 30 minutes late.\n",
    "conditions = [\n",
    "    (df['ArrDelay'] > 30)]\n",
    "choices = [1]\n",
    "df['Delay'] = np.select(conditions, choices, default=0)\n",
    "df.drop(['CRSArrTime'], axis=1, inplace=True)"
   ]
  },
  {
   "cell_type": "code",
   "execution_count": 9,
   "metadata": {
    "colab": {
     "base_uri": "https://localhost:8080/",
     "height": 255
    },
    "colab_type": "code",
    "id": "t2tWtvTu9w2v",
    "outputId": "7e83a21c-5408-4952-88ad-4b21039e2287"
   },
   "outputs": [
    {
     "data": {
      "text/plain": [
       "Month               int64\n",
       "DayofMonth          int64\n",
       "DayOfWeek           int64\n",
       "UniqueCarrier      object\n",
       "CRSElapsedTime    float64\n",
       "AirTime           float64\n",
       "ArrDelay          float64\n",
       "Dest               object\n",
       "Distance            int64\n",
       "TaxiIn            float64\n",
       "TaxiOut           float64\n",
       "PotD                int64\n",
       "Delay               int64\n",
       "dtype: object"
      ]
     },
     "execution_count": 9,
     "metadata": {},
     "output_type": "execute_result"
    }
   ],
   "source": [
    "df.dtypes"
   ]
  },
  {
   "cell_type": "code",
   "execution_count": 10,
   "metadata": {
    "colab": {
     "base_uri": "https://localhost:8080/",
     "height": 204
    },
    "colab_type": "code",
    "id": "Yr3Uh1o19xs5",
    "outputId": "aacc0214-8939-45dd-bbb0-918360c7f915"
   },
   "outputs": [
    {
     "data": {
      "text/html": [
       "<div>\n",
       "<style scoped>\n",
       "    .dataframe tbody tr th:only-of-type {\n",
       "        vertical-align: middle;\n",
       "    }\n",
       "\n",
       "    .dataframe tbody tr th {\n",
       "        vertical-align: top;\n",
       "    }\n",
       "\n",
       "    .dataframe thead th {\n",
       "        text-align: right;\n",
       "    }\n",
       "</style>\n",
       "<table border=\"1\" class=\"dataframe\">\n",
       "  <thead>\n",
       "    <tr style=\"text-align: right;\">\n",
       "      <th></th>\n",
       "      <th>Month</th>\n",
       "      <th>DayofMonth</th>\n",
       "      <th>DayOfWeek</th>\n",
       "      <th>UniqueCarrier</th>\n",
       "      <th>CRSElapsedTime</th>\n",
       "      <th>AirTime</th>\n",
       "      <th>ArrDelay</th>\n",
       "      <th>Dest</th>\n",
       "      <th>Distance</th>\n",
       "      <th>TaxiIn</th>\n",
       "      <th>TaxiOut</th>\n",
       "      <th>PotD</th>\n",
       "      <th>Delay</th>\n",
       "    </tr>\n",
       "  </thead>\n",
       "  <tbody>\n",
       "    <tr>\n",
       "      <th>744407</th>\n",
       "      <td>2</td>\n",
       "      <td>25</td>\n",
       "      <td>1</td>\n",
       "      <td>YV</td>\n",
       "      <td>63.0</td>\n",
       "      <td>40.0</td>\n",
       "      <td>35.0</td>\n",
       "      <td>RDU</td>\n",
       "      <td>224</td>\n",
       "      <td>4.0</td>\n",
       "      <td>9.0</td>\n",
       "      <td>2</td>\n",
       "      <td>1</td>\n",
       "    </tr>\n",
       "    <tr>\n",
       "      <th>3592462</th>\n",
       "      <td>6</td>\n",
       "      <td>10</td>\n",
       "      <td>2</td>\n",
       "      <td>DL</td>\n",
       "      <td>126.0</td>\n",
       "      <td>110.0</td>\n",
       "      <td>12.0</td>\n",
       "      <td>CVG</td>\n",
       "      <td>661</td>\n",
       "      <td>6.0</td>\n",
       "      <td>25.0</td>\n",
       "      <td>1</td>\n",
       "      <td>0</td>\n",
       "    </tr>\n",
       "    <tr>\n",
       "      <th>6094590</th>\n",
       "      <td>11</td>\n",
       "      <td>16</td>\n",
       "      <td>7</td>\n",
       "      <td>OO</td>\n",
       "      <td>83.0</td>\n",
       "      <td>68.0</td>\n",
       "      <td>2.0</td>\n",
       "      <td>SLC</td>\n",
       "      <td>422</td>\n",
       "      <td>4.0</td>\n",
       "      <td>16.0</td>\n",
       "      <td>1</td>\n",
       "      <td>0</td>\n",
       "    </tr>\n",
       "    <tr>\n",
       "      <th>4134950</th>\n",
       "      <td>7</td>\n",
       "      <td>7</td>\n",
       "      <td>1</td>\n",
       "      <td>AA</td>\n",
       "      <td>120.0</td>\n",
       "      <td>102.0</td>\n",
       "      <td>72.0</td>\n",
       "      <td>EWR</td>\n",
       "      <td>719</td>\n",
       "      <td>8.0</td>\n",
       "      <td>78.0</td>\n",
       "      <td>2</td>\n",
       "      <td>1</td>\n",
       "    </tr>\n",
       "    <tr>\n",
       "      <th>71179</th>\n",
       "      <td>1</td>\n",
       "      <td>24</td>\n",
       "      <td>4</td>\n",
       "      <td>WN</td>\n",
       "      <td>90.0</td>\n",
       "      <td>79.0</td>\n",
       "      <td>-3.0</td>\n",
       "      <td>OKC</td>\n",
       "      <td>462</td>\n",
       "      <td>3.0</td>\n",
       "      <td>7.0</td>\n",
       "      <td>2</td>\n",
       "      <td>0</td>\n",
       "    </tr>\n",
       "  </tbody>\n",
       "</table>\n",
       "</div>"
      ],
      "text/plain": [
       "         Month  DayofMonth  DayOfWeek UniqueCarrier  CRSElapsedTime  AirTime  \\\n",
       "744407       2          25          1            YV            63.0     40.0   \n",
       "3592462      6          10          2            DL           126.0    110.0   \n",
       "6094590     11          16          7            OO            83.0     68.0   \n",
       "4134950      7           7          1            AA           120.0    102.0   \n",
       "71179        1          24          4            WN            90.0     79.0   \n",
       "\n",
       "         ArrDelay Dest  Distance  TaxiIn  TaxiOut  PotD  Delay  \n",
       "744407       35.0  RDU       224     4.0      9.0     2      1  \n",
       "3592462      12.0  CVG       661     6.0     25.0     1      0  \n",
       "6094590       2.0  SLC       422     4.0     16.0     1      0  \n",
       "4134950      72.0  EWR       719     8.0     78.0     2      1  \n",
       "71179        -3.0  OKC       462     3.0      7.0     2      0  "
      ]
     },
     "execution_count": 10,
     "metadata": {},
     "output_type": "execute_result"
    }
   ],
   "source": [
    "df.head()"
   ]
  },
  {
   "cell_type": "markdown",
   "metadata": {
    "colab_type": "text",
    "id": "IvSv99cZ_HY4"
   },
   "source": [
    "## Model evaluation\n",
    "We will use F1 score as the evaluation metric. Our target value is binary so it’s a binary classification problem, and out data is inbalance, so in this case F1 score is a good way for evaluation for this type of problems."
   ]
  },
  {
   "cell_type": "code",
   "execution_count": 11,
   "metadata": {
    "colab": {},
    "colab_type": "code",
    "id": "bdngp5gv_In5"
   },
   "outputs": [],
   "source": [
    "# Create a copy of original dataset\n",
    "df_backup = df.copy()"
   ]
  },
  {
   "cell_type": "code",
   "execution_count": 12,
   "metadata": {
    "colab": {},
    "colab_type": "code",
    "id": "fqqUeuv4OpIh"
   },
   "outputs": [],
   "source": [
    "df = df_backup.copy()"
   ]
  },
  {
   "cell_type": "markdown",
   "metadata": {
    "colab_type": "text",
    "id": "W5CFEMokOe-3"
   },
   "source": [
    "Label Encoder"
   ]
  },
  {
   "cell_type": "code",
   "execution_count": 13,
   "metadata": {
    "colab": {},
    "colab_type": "code",
    "id": "dQMxFr2yOdrg"
   },
   "outputs": [],
   "source": [
    "from sklearn.preprocessing import LabelEncoder\n",
    "\n",
    "# Dest column\n",
    "df['Dest'] = LabelEncoder().fit_transform(df['Dest'])\n",
    "\n",
    "# UniqueCarrier column\n",
    "df['UniqueCarrier'] = LabelEncoder().fit_transform(df['UniqueCarrier'])"
   ]
  },
  {
   "cell_type": "markdown",
   "metadata": {
    "colab_type": "text",
    "id": "_SabU2eEKK9S"
   },
   "source": [
    "Holdout"
   ]
  },
  {
   "cell_type": "code",
   "execution_count": 14,
   "metadata": {
    "colab": {
     "base_uri": "https://localhost:8080/",
     "height": 102
    },
    "colab_type": "code",
    "id": "LLzpqpMd_J9Z",
    "outputId": "0692962c-5ed6-4c08-f355-91079b89574e"
   },
   "outputs": [
    {
     "name": "stderr",
     "output_type": "stream",
     "text": [
      "/home/npqbuu/anaconda3/lib/python3.7/site-packages/pandas/core/frame.py:3697: SettingWithCopyWarning: \n",
      "A value is trying to be set on a copy of a slice from a DataFrame\n",
      "\n",
      "See the caveats in the documentation: http://pandas.pydata.org/pandas-docs/stable/indexing.html#indexing-view-versus-copy\n",
      "  errors=errors)\n"
     ]
    }
   ],
   "source": [
    "X_data = df.drop(['Delay', 'ArrDelay'], axis=1)\n",
    "y_data = df['Delay']\n",
    "\n",
    "# Holdout\n",
    "from sklearn.model_selection import train_test_split\n",
    "\n",
    "X_train, X_test, y_train, y_test = train_test_split(X_data, y_data, test_size=0.2, random_state=0)\n",
    "\n",
    "X_train.reset_index(inplace = True)\n",
    "X_train.drop(['index'], axis = 1, inplace = True)\n",
    "X_test.reset_index(inplace = True)\n",
    "X_test.drop(['index'], axis = 1, inplace = True)"
   ]
  },
  {
   "cell_type": "code",
   "execution_count": 15,
   "metadata": {
    "colab": {
     "base_uri": "https://localhost:8080/",
     "height": 204
    },
    "colab_type": "code",
    "id": "PVS6asNuHN6u",
    "outputId": "1a11ccff-89fa-46b2-8b9d-831b8edd0cad"
   },
   "outputs": [
    {
     "data": {
      "text/html": [
       "<div>\n",
       "<style scoped>\n",
       "    .dataframe tbody tr th:only-of-type {\n",
       "        vertical-align: middle;\n",
       "    }\n",
       "\n",
       "    .dataframe tbody tr th {\n",
       "        vertical-align: top;\n",
       "    }\n",
       "\n",
       "    .dataframe thead th {\n",
       "        text-align: right;\n",
       "    }\n",
       "</style>\n",
       "<table border=\"1\" class=\"dataframe\">\n",
       "  <thead>\n",
       "    <tr style=\"text-align: right;\">\n",
       "      <th></th>\n",
       "      <th>Month</th>\n",
       "      <th>DayofMonth</th>\n",
       "      <th>DayOfWeek</th>\n",
       "      <th>UniqueCarrier</th>\n",
       "      <th>CRSElapsedTime</th>\n",
       "      <th>AirTime</th>\n",
       "      <th>Dest</th>\n",
       "      <th>Distance</th>\n",
       "      <th>TaxiIn</th>\n",
       "      <th>TaxiOut</th>\n",
       "      <th>PotD</th>\n",
       "    </tr>\n",
       "  </thead>\n",
       "  <tbody>\n",
       "    <tr>\n",
       "      <th>0</th>\n",
       "      <td>11</td>\n",
       "      <td>22</td>\n",
       "      <td>6</td>\n",
       "      <td>18</td>\n",
       "      <td>74.0</td>\n",
       "      <td>52.0</td>\n",
       "      <td>41</td>\n",
       "      <td>308</td>\n",
       "      <td>3.0</td>\n",
       "      <td>14.0</td>\n",
       "      <td>1</td>\n",
       "    </tr>\n",
       "    <tr>\n",
       "      <th>1</th>\n",
       "      <td>6</td>\n",
       "      <td>26</td>\n",
       "      <td>4</td>\n",
       "      <td>17</td>\n",
       "      <td>120.0</td>\n",
       "      <td>91.0</td>\n",
       "      <td>204</td>\n",
       "      <td>588</td>\n",
       "      <td>4.0</td>\n",
       "      <td>25.0</td>\n",
       "      <td>4</td>\n",
       "    </tr>\n",
       "    <tr>\n",
       "      <th>2</th>\n",
       "      <td>10</td>\n",
       "      <td>29</td>\n",
       "      <td>3</td>\n",
       "      <td>0</td>\n",
       "      <td>67.0</td>\n",
       "      <td>33.0</td>\n",
       "      <td>87</td>\n",
       "      <td>133</td>\n",
       "      <td>10.0</td>\n",
       "      <td>36.0</td>\n",
       "      <td>2</td>\n",
       "    </tr>\n",
       "    <tr>\n",
       "      <th>3</th>\n",
       "      <td>2</td>\n",
       "      <td>9</td>\n",
       "      <td>6</td>\n",
       "      <td>17</td>\n",
       "      <td>175.0</td>\n",
       "      <td>146.0</td>\n",
       "      <td>220</td>\n",
       "      <td>1037</td>\n",
       "      <td>5.0</td>\n",
       "      <td>7.0</td>\n",
       "      <td>3</td>\n",
       "    </tr>\n",
       "    <tr>\n",
       "      <th>4</th>\n",
       "      <td>1</td>\n",
       "      <td>11</td>\n",
       "      <td>5</td>\n",
       "      <td>17</td>\n",
       "      <td>105.0</td>\n",
       "      <td>86.0</td>\n",
       "      <td>80</td>\n",
       "      <td>602</td>\n",
       "      <td>6.0</td>\n",
       "      <td>8.0</td>\n",
       "      <td>4</td>\n",
       "    </tr>\n",
       "  </tbody>\n",
       "</table>\n",
       "</div>"
      ],
      "text/plain": [
       "   Month  DayofMonth  DayOfWeek  UniqueCarrier  CRSElapsedTime  AirTime  Dest  \\\n",
       "0     11          22          6             18            74.0     52.0    41   \n",
       "1      6          26          4             17           120.0     91.0   204   \n",
       "2     10          29          3              0            67.0     33.0    87   \n",
       "3      2           9          6             17           175.0    146.0   220   \n",
       "4      1          11          5             17           105.0     86.0    80   \n",
       "\n",
       "   Distance  TaxiIn  TaxiOut  PotD  \n",
       "0       308     3.0     14.0     1  \n",
       "1       588     4.0     25.0     4  \n",
       "2       133    10.0     36.0     2  \n",
       "3      1037     5.0      7.0     3  \n",
       "4       602     6.0      8.0     4  "
      ]
     },
     "execution_count": 15,
     "metadata": {},
     "output_type": "execute_result"
    }
   ],
   "source": [
    "X_train.head()"
   ]
  },
  {
   "cell_type": "code",
   "execution_count": 16,
   "metadata": {
    "colab": {},
    "colab_type": "code",
    "id": "QWwz5I7PSE-h"
   },
   "outputs": [],
   "source": [
    "X_train_backup = X_train.copy()\n",
    "X_test_backup = X_test.copy()"
   ]
  },
  {
   "cell_type": "markdown",
   "metadata": {
    "colab_type": "text",
    "id": "wLVIsnL96S4o"
   },
   "source": [
    "### Dimension reduction"
   ]
  },
  {
   "cell_type": "code",
   "execution_count": 17,
   "metadata": {
    "colab": {},
    "colab_type": "code",
    "id": "Kei2m3RhSPlD"
   },
   "outputs": [],
   "source": [
    "X_train = X_train_backup.copy()\n",
    "X_test = X_test_backup.copy()"
   ]
  },
  {
   "cell_type": "code",
   "execution_count": 18,
   "metadata": {
    "colab": {
     "base_uri": "https://localhost:8080/",
     "height": 119
    },
    "colab_type": "code",
    "id": "8Ep0sv-X6S4r",
    "outputId": "29bbf2b4-b37f-46ec-c7df-d63713a0e4d9"
   },
   "outputs": [
    {
     "name": "stderr",
     "output_type": "stream",
     "text": [
      "/home/npqbuu/anaconda3/lib/python3.7/site-packages/sklearn/preprocessing/data.py:625: DataConversionWarning: Data with input dtype int64, float64 were all converted to float64 by StandardScaler.\n",
      "  return self.partial_fit(X, y)\n",
      "/home/npqbuu/anaconda3/lib/python3.7/site-packages/ipykernel_launcher.py:14: DataConversionWarning: Data with input dtype int64, float64 were all converted to float64 by StandardScaler.\n",
      "  \n",
      "/home/npqbuu/anaconda3/lib/python3.7/site-packages/ipykernel_launcher.py:15: DataConversionWarning: Data with input dtype int64, float64 were all converted to float64 by StandardScaler.\n",
      "  from ipykernel import kernelapp as app\n"
     ]
    }
   ],
   "source": [
    "#Standar Scaler\n",
    "\n",
    "from sklearn.preprocessing import StandardScaler\n",
    "\n",
    "numeric_features = ['Month', 'DayofMonth', 'DayOfWeek', 'CRSElapsedTime', 'AirTime', 'Distance', 'TaxiIn', 'TaxiOut', 'PotD']\n",
    "X_train_numeric = X_train[numeric_features]\n",
    "X_test_numeric = X_test[numeric_features]\n",
    "\n",
    "\n",
    "# Fit on training set only.\n",
    "scaler = StandardScaler().fit(X_train_numeric)\n",
    "    \n",
    "# Apply transform to both the training set and the test set.\n",
    "X_train_numeric = scaler.transform(X_train_numeric)\n",
    "X_test_numeric = scaler.transform(X_test_numeric)"
   ]
  },
  {
   "cell_type": "code",
   "execution_count": 19,
   "metadata": {
    "colab": {
     "base_uri": "https://localhost:8080/",
     "height": 283
    },
    "colab_type": "code",
    "id": "EA_QIEzZ-YQy",
    "outputId": "9ac69b61-1fd7-4567-9368-3778b15c511c"
   },
   "outputs": [
    {
     "data": {
      "image/png": "[encoded data removed]",
      "text/plain": [
       "<Figure size 432x288 with 1 Axes>"
      ]
     },
     "metadata": {
      "needs_background": "light"
     },
     "output_type": "display_data"
    }
   ],
   "source": [
    "#PCA\n",
    "from sklearn.decomposition import PCA\n",
    "\n",
    "# Create a PCA instance: pca\n",
    "pca = PCA(n_components=9)\n",
    "principalComponents = pca.fit_transform(X_train_numeric)\n",
    "\n",
    "# Plot the explained variances\n",
    "features = range(pca.n_components_)\n",
    "plt.bar(features, pca.explained_variance_ratio_, color='black')\n",
    "plt.xlabel('PCA features')\n",
    "plt.ylabel('variance %')\n",
    "plt.xticks(features)\n",
    "\n",
    "# Save components to a DataFrame\n",
    "PCA_components = pd.DataFrame(principalComponents)"
   ]
  },
  {
   "cell_type": "code",
   "execution_count": 20,
   "metadata": {
    "colab": {},
    "colab_type": "code",
    "id": "N1hNKCIz-T_8"
   },
   "outputs": [],
   "source": [
    "# Fit on training set only.\n",
    "pca = PCA(n_components=7).fit(X_train_numeric)\n",
    "\n",
    "# Apply transform to both the training set and the test set.\n",
    "pca_train = pca.transform(X_train_numeric)\n",
    "pca_test = pca.transform(X_test_numeric)\n",
    "\n",
    "# Save components to a DataFrame\n",
    "PCA_components_train = pd.DataFrame(pca_train)\n",
    "PCA_components_test = pd.DataFrame(pca_test)\n",
    "\n",
    "# Merge principal components with main dataframe\n",
    "X_train = pd.concat([X_train, PCA_components_train], axis = 1)\n",
    "X_test = pd.concat([X_test, PCA_components_test], axis = 1)\n",
    "\n",
    "X_train.drop(numeric_features, axis = 1, inplace = True)\n",
    "X_test.drop(numeric_features, axis = 1, inplace = True)"
   ]
  },
  {
   "cell_type": "code",
   "execution_count": 21,
   "metadata": {
    "colab": {
     "base_uri": "https://localhost:8080/",
     "height": 204
    },
    "colab_type": "code",
    "id": "9usnxHUVG9fL",
    "outputId": "2150fd80-b113-40c3-efd4-d7f9255fa81b"
   },
   "outputs": [
    {
     "data": {
      "text/html": [
       "<div>\n",
       "<style scoped>\n",
       "    .dataframe tbody tr th:only-of-type {\n",
       "        vertical-align: middle;\n",
       "    }\n",
       "\n",
       "    .dataframe tbody tr th {\n",
       "        vertical-align: top;\n",
       "    }\n",
       "\n",
       "    .dataframe thead th {\n",
       "        text-align: right;\n",
       "    }\n",
       "</style>\n",
       "<table border=\"1\" class=\"dataframe\">\n",
       "  <thead>\n",
       "    <tr style=\"text-align: right;\">\n",
       "      <th></th>\n",
       "      <th>UniqueCarrier</th>\n",
       "      <th>Dest</th>\n",
       "      <th>0</th>\n",
       "      <th>1</th>\n",
       "      <th>2</th>\n",
       "      <th>3</th>\n",
       "      <th>4</th>\n",
       "      <th>5</th>\n",
       "      <th>6</th>\n",
       "    </tr>\n",
       "  </thead>\n",
       "  <tbody>\n",
       "    <tr>\n",
       "      <th>0</th>\n",
       "      <td>18</td>\n",
       "      <td>41</td>\n",
       "      <td>-1.490445</td>\n",
       "      <td>-1.311231</td>\n",
       "      <td>-0.441417</td>\n",
       "      <td>-0.569898</td>\n",
       "      <td>0.599264</td>\n",
       "      <td>0.985474</td>\n",
       "      <td>-1.255336</td>\n",
       "    </tr>\n",
       "    <tr>\n",
       "      <th>1</th>\n",
       "      <td>17</td>\n",
       "      <td>204</td>\n",
       "      <td>-0.165347</td>\n",
       "      <td>1.729200</td>\n",
       "      <td>-0.223016</td>\n",
       "      <td>-0.665682</td>\n",
       "      <td>1.231656</td>\n",
       "      <td>0.510357</td>\n",
       "      <td>0.282994</td>\n",
       "    </tr>\n",
       "    <tr>\n",
       "      <th>2</th>\n",
       "      <td>0</td>\n",
       "      <td>87</td>\n",
       "      <td>-1.531102</td>\n",
       "      <td>0.272664</td>\n",
       "      <td>1.333003</td>\n",
       "      <td>0.476739</td>\n",
       "      <td>2.195193</td>\n",
       "      <td>0.301846</td>\n",
       "      <td>-0.863465</td>\n",
       "    </tr>\n",
       "    <tr>\n",
       "      <th>3</th>\n",
       "      <td>17</td>\n",
       "      <td>220</td>\n",
       "      <td>1.014831</td>\n",
       "      <td>0.462528</td>\n",
       "      <td>-0.489077</td>\n",
       "      <td>-1.172350</td>\n",
       "      <td>-1.567586</td>\n",
       "      <td>0.036714</td>\n",
       "      <td>0.726579</td>\n",
       "    </tr>\n",
       "    <tr>\n",
       "      <th>4</th>\n",
       "      <td>17</td>\n",
       "      <td>80</td>\n",
       "      <td>-0.416366</td>\n",
       "      <td>1.417720</td>\n",
       "      <td>-0.308677</td>\n",
       "      <td>-1.024915</td>\n",
       "      <td>-1.158486</td>\n",
       "      <td>-0.038385</td>\n",
       "      <td>1.493461</td>\n",
       "    </tr>\n",
       "  </tbody>\n",
       "</table>\n",
       "</div>"
      ],
      "text/plain": [
       "   UniqueCarrier  Dest         0         1         2         3         4  \\\n",
       "0             18    41 -1.490445 -1.311231 -0.441417 -0.569898  0.599264   \n",
       "1             17   204 -0.165347  1.729200 -0.223016 -0.665682  1.231656   \n",
       "2              0    87 -1.531102  0.272664  1.333003  0.476739  2.195193   \n",
       "3             17   220  1.014831  0.462528 -0.489077 -1.172350 -1.567586   \n",
       "4             17    80 -0.416366  1.417720 -0.308677 -1.024915 -1.158486   \n",
       "\n",
       "          5         6  \n",
       "0  0.985474 -1.255336  \n",
       "1  0.510357  0.282994  \n",
       "2  0.301846 -0.863465  \n",
       "3  0.036714  0.726579  \n",
       "4 -0.038385  1.493461  "
      ]
     },
     "execution_count": 21,
     "metadata": {},
     "output_type": "execute_result"
    }
   ],
   "source": [
    "X_train.head()"
   ]
  },
  {
   "cell_type": "markdown",
   "metadata": {
    "colab_type": "text",
    "id": "-LhkDf6iRWsv"
   },
   "source": [
    "#### Naive Bayes"
   ]
  },
  {
   "cell_type": "markdown",
   "metadata": {
    "colab_type": "text",
    "id": "O0VrxukPKeq_"
   },
   "source": [
    "Default parameters"
   ]
  },
  {
   "cell_type": "code",
   "execution_count": 22,
   "metadata": {
    "colab": {
     "base_uri": "https://localhost:8080/",
     "height": 170
    },
    "colab_type": "code",
    "id": "Etr5q15JKcHH",
    "outputId": "197ab025-ac0c-48d9-a8cf-a8409390be27"
   },
   "outputs": [
    {
     "name": "stdout",
     "output_type": "stream",
     "text": [
      "              precision    recall  f1-score   support\n",
      "\n",
      "           0       0.89      0.96      0.92    297445\n",
      "           1       0.45      0.20      0.27     45276\n",
      "\n",
      "   micro avg       0.86      0.86      0.86    342721\n",
      "   macro avg       0.67      0.58      0.60    342721\n",
      "weighted avg       0.83      0.86      0.84    342721\n",
      "\n"
     ]
    }
   ],
   "source": [
    "from sklearn.naive_bayes import GaussianNB\n",
    "model = GaussianNB()\n",
    "model.fit(X_train, y_train)\n",
    "y_pred = model.predict(X_test)\n",
    "\n",
    "# Report\n",
    "from sklearn.metrics import classification_report\n",
    "\n",
    "print(classification_report(y_test, y_pred))"
   ]
  },
  {
   "cell_type": "markdown",
   "metadata": {
    "colab_type": "text",
    "id": "TPJoiI_mK3Fz"
   },
   "source": [
    "#### Random Forest"
   ]
  },
  {
   "cell_type": "markdown",
   "metadata": {
    "colab_type": "text",
    "id": "Ovct-y1PK_G5"
   },
   "source": [
    "Default parameters"
   ]
  },
  {
   "cell_type": "code",
   "execution_count": 23,
   "metadata": {
    "colab": {
     "base_uri": "https://localhost:8080/",
     "height": 204
    },
    "colab_type": "code",
    "id": "Lj6FCL1zK4F2",
    "outputId": "537d1bd5-1975-449f-852d-0375a4b1694f"
   },
   "outputs": [
    {
     "name": "stderr",
     "output_type": "stream",
     "text": [
      "/home/npqbuu/anaconda3/lib/python3.7/site-packages/sklearn/ensemble/forest.py:246: FutureWarning: The default value of n_estimators will change from 10 in version 0.20 to 100 in 0.22.\n",
      "  \"10 in version 0.20 to 100 in 0.22.\", FutureWarning)\n"
     ]
    },
    {
     "name": "stdout",
     "output_type": "stream",
     "text": [
      "              precision    recall  f1-score   support\n",
      "\n",
      "           0       0.88      0.99      0.93    297445\n",
      "           1       0.66      0.14      0.23     45276\n",
      "\n",
      "   micro avg       0.88      0.88      0.88    342721\n",
      "   macro avg       0.77      0.56      0.58    342721\n",
      "weighted avg       0.85      0.88      0.84    342721\n",
      "\n"
     ]
    }
   ],
   "source": [
    "from sklearn.ensemble import RandomForestClassifier\n",
    "\n",
    "model = RandomForestClassifier(n_jobs = -1, class_weight = 'balanced')\n",
    "model.fit(X_train, y_train)\n",
    "y_pred = model.predict(X_test)\n",
    "\n",
    "# Report\n",
    "from sklearn.metrics import classification_report\n",
    "\n",
    "\n",
    "print(classification_report(y_test, y_pred))"
   ]
  },
  {
   "cell_type": "markdown",
   "metadata": {
    "colab_type": "text",
    "id": "TitWG78-LEX-"
   },
   "source": [
    "Hyperparameter tuning"
   ]
  },
  {
   "cell_type": "code",
   "execution_count": 24,
   "metadata": {
    "colab": {
     "base_uri": "https://localhost:8080/",
     "height": 405
    },
    "colab_type": "code",
    "id": "qYF66VkgLE9D",
    "outputId": "f2ad98b5-b7d9-4089-e640-718cd99de2a3"
   },
   "outputs": [
    {
     "name": "stdout",
     "output_type": "stream",
     "text": [
      "1  done!\n",
      "3  done!\n",
      "5  done!\n",
      "7  done!\n",
      "9  done!\n",
      "11  done!\n",
      "13  done!\n",
      "15  done!\n",
      "20  done!\n",
      "25  done!\n"
     ]
    },
    {
     "data": {
      "text/plain": [
       "<matplotlib.axes._subplots.AxesSubplot at 0x7f1da808b710>"
      ]
     },
     "execution_count": 24,
     "metadata": {},
     "output_type": "execute_result"
    },
    {
     "data": {
      "image/png": "[encoded data removed]",
      "text/plain": [
       "<Figure size 432x288 with 1 Axes>"
      ]
     },
     "metadata": {
      "needs_background": "light"
     },
     "output_type": "display_data"
    }
   ],
   "source": [
    "# n_estimators\n",
    "n_estimators = [1, 3, 5, 7, 9, 11, 13, 15, 20, 25]\n",
    "test_results = []\n",
    "train_results = []\n",
    "for estimator in n_estimators:\n",
    "    model = RandomForestClassifier(n_estimators = estimator, n_jobs = -1, class_weight = 'balanced')\n",
    "    model.fit(X_train, y_train)\n",
    "  \n",
    "    y_pred = model.predict(X_test)\n",
    "    f1 = f1_score(y_test, y_pred)\n",
    "    test_results.append(f1)\n",
    "    \n",
    "    train_pred = model.predict(X_train)\n",
    "    f1 = f1_score(y_train, train_pred)\n",
    "    train_results.append(f1)\n",
    "\n",
    "    \n",
    "    print(estimator, ' done!')\n",
    "    \n",
    "# Plot metrics line chart\n",
    "sns.lineplot(x = n_estimators, y = test_results, label='Test F1')\n",
    "sns.lineplot(x = n_estimators, y = train_results, label='Train F1')"
   ]
  },
  {
   "cell_type": "code",
   "execution_count": 25,
   "metadata": {
    "colab": {
     "base_uri": "https://localhost:8080/",
     "height": 643
    },
    "colab_type": "code",
    "id": "5sAs5eC1LGYy",
    "outputId": "fbfabd86-c2ce-4c71-82ca-e84007530e0b"
   },
   "outputs": [
    {
     "name": "stderr",
     "output_type": "stream",
     "text": [
      "/home/npqbuu/anaconda3/lib/python3.7/site-packages/sklearn/ensemble/forest.py:246: FutureWarning: The default value of n_estimators will change from 10 in version 0.20 to 100 in 0.22.\n",
      "  \"10 in version 0.20 to 100 in 0.22.\", FutureWarning)\n"
     ]
    },
    {
     "name": "stdout",
     "output_type": "stream",
     "text": [
      "5.0  done!\n"
     ]
    },
    {
     "name": "stderr",
     "output_type": "stream",
     "text": [
      "/home/npqbuu/anaconda3/lib/python3.7/site-packages/sklearn/ensemble/forest.py:246: FutureWarning: The default value of n_estimators will change from 10 in version 0.20 to 100 in 0.22.\n",
      "  \"10 in version 0.20 to 100 in 0.22.\", FutureWarning)\n"
     ]
    },
    {
     "name": "stdout",
     "output_type": "stream",
     "text": [
      "8.0  done!\n"
     ]
    },
    {
     "name": "stderr",
     "output_type": "stream",
     "text": [
      "/home/npqbuu/anaconda3/lib/python3.7/site-packages/sklearn/ensemble/forest.py:246: FutureWarning: The default value of n_estimators will change from 10 in version 0.20 to 100 in 0.22.\n",
      "  \"10 in version 0.20 to 100 in 0.22.\", FutureWarning)\n"
     ]
    },
    {
     "name": "stdout",
     "output_type": "stream",
     "text": [
      "11.0  done!\n"
     ]
    },
    {
     "name": "stderr",
     "output_type": "stream",
     "text": [
      "/home/npqbuu/anaconda3/lib/python3.7/site-packages/sklearn/ensemble/forest.py:246: FutureWarning: The default value of n_estimators will change from 10 in version 0.20 to 100 in 0.22.\n",
      "  \"10 in version 0.20 to 100 in 0.22.\", FutureWarning)\n"
     ]
    },
    {
     "name": "stdout",
     "output_type": "stream",
     "text": [
      "14.0  done!\n"
     ]
    },
    {
     "name": "stderr",
     "output_type": "stream",
     "text": [
      "/home/npqbuu/anaconda3/lib/python3.7/site-packages/sklearn/ensemble/forest.py:246: FutureWarning: The default value of n_estimators will change from 10 in version 0.20 to 100 in 0.22.\n",
      "  \"10 in version 0.20 to 100 in 0.22.\", FutureWarning)\n"
     ]
    },
    {
     "name": "stdout",
     "output_type": "stream",
     "text": [
      "17.0  done!\n"
     ]
    },
    {
     "name": "stderr",
     "output_type": "stream",
     "text": [
      "/home/npqbuu/anaconda3/lib/python3.7/site-packages/sklearn/ensemble/forest.py:246: FutureWarning: The default value of n_estimators will change from 10 in version 0.20 to 100 in 0.22.\n",
      "  \"10 in version 0.20 to 100 in 0.22.\", FutureWarning)\n"
     ]
    },
    {
     "name": "stdout",
     "output_type": "stream",
     "text": [
      "20.0  done!\n"
     ]
    },
    {
     "name": "stderr",
     "output_type": "stream",
     "text": [
      "/home/npqbuu/anaconda3/lib/python3.7/site-packages/sklearn/ensemble/forest.py:246: FutureWarning: The default value of n_estimators will change from 10 in version 0.20 to 100 in 0.22.\n",
      "  \"10 in version 0.20 to 100 in 0.22.\", FutureWarning)\n"
     ]
    },
    {
     "name": "stdout",
     "output_type": "stream",
     "text": [
      "23.0  done!\n"
     ]
    },
    {
     "name": "stderr",
     "output_type": "stream",
     "text": [
      "/home/npqbuu/anaconda3/lib/python3.7/site-packages/sklearn/ensemble/forest.py:246: FutureWarning: The default value of n_estimators will change from 10 in version 0.20 to 100 in 0.22.\n",
      "  \"10 in version 0.20 to 100 in 0.22.\", FutureWarning)\n"
     ]
    },
    {
     "name": "stdout",
     "output_type": "stream",
     "text": [
      "26.0  done!\n"
     ]
    },
    {
     "data": {
      "text/plain": [
       "<matplotlib.axes._subplots.AxesSubplot at 0x7f1da8050cc0>"
      ]
     },
     "execution_count": 25,
     "metadata": {},
     "output_type": "execute_result"
    },
    {
     "data": {
      "image/png": "[encoded data removed]",
      "text/plain": [
       "<Figure size 432x288 with 1 Axes>"
      ]
     },
     "metadata": {
      "needs_background": "light"
     },
     "output_type": "display_data"
    }
   ],
   "source": [
    "# max_depths\n",
    "max_depths = np.linspace(5, 26, 8)\n",
    "test_results = []\n",
    "train_results = []\n",
    "\n",
    "for max_depth in max_depths:\n",
    "    model = RandomForestClassifier(max_depth = max_depth, n_jobs = -1, class_weight = 'balanced')\n",
    "    model.fit(X_train, y_train)\n",
    "  \n",
    "    y_pred = model.predict(X_test)\n",
    "    f1 = f1_score(y_test, y_pred)\n",
    "    test_results.append(f1)\n",
    "    \n",
    "    train_pred = model.predict(X_train)\n",
    "    f1 = f1_score(y_train, train_pred)\n",
    "    train_results.append(f1)\n",
    "    \n",
    "    print(max_depth, ' done!')\n",
    "\n",
    "# Plot metrics line chart\n",
    "sns.lineplot(x = max_depths, y = test_results, label='Test F1')\n",
    "sns.lineplot(x = max_depths, y = train_results, label='Train F1')"
   ]
  },
  {
   "cell_type": "markdown",
   "metadata": {
    "colab_type": "text",
    "id": "f5urhvB1LMl4"
   },
   "source": [
    "**Final model**\n",
    "\n",
    "Best parameters:\n",
    "- n_estimators = 15\n",
    "- max_depths = 25"
   ]
  },
  {
   "cell_type": "code",
   "execution_count": null,
   "metadata": {
    "colab": {},
    "colab_type": "code",
    "id": "ttl31351LOXv"
   },
   "outputs": [],
   "source": [
    "model = RandomForestClassifier(n_estimators = 15, max_depth = 25, n_jobs = -1, class_weight = 'balanced')\n",
    "model.fit(X_train, y_train)\n",
    "y_pred = model.predict(X_test)\n",
    "\n",
    "# Report\n",
    "from sklearn.metrics import classification_report\n",
    "\n",
    "print(classification_report(y_test, y_pred))"
   ]
  },
  {
   "cell_type": "markdown",
   "metadata": {
    "colab_type": "text",
    "id": "oGrqHaNZQrG5"
   },
   "source": [
    "### Feature selection"
   ]
  },
  {
   "cell_type": "code",
   "execution_count": null,
   "metadata": {
    "colab": {},
    "colab_type": "code",
    "id": "n2KyVYrqSYTF"
   },
   "outputs": [],
   "source": [
    "X_train = X_train_backup.copy()\n",
    "X_test = X_test_backup.copy()"
   ]
  },
  {
   "cell_type": "code",
   "execution_count": null,
   "metadata": {
    "colab": {
     "base_uri": "https://localhost:8080/",
     "height": 306
    },
    "colab_type": "code",
    "id": "UtX7r207XAro",
    "outputId": "565aa6d3-c4fb-445f-9f81-5a27b1c7b6ef"
   },
   "outputs": [],
   "source": [
    "# RFE\n",
    "from sklearn.feature_selection import RFE\n",
    "\n",
    "from sklearn.ensemble import RandomForestClassifier\n",
    "model = RandomForestClassifier(n_jobs = -1, class_weight = 'balanced')\n",
    "rfe = RFE(estimator = model, n_features_to_select = None)\n",
    "rfe = rfe.fit(X_train, y_train)\n",
    "\n",
    "#Summarize the selection of the attributes\n",
    "print(rfe.support_)\n",
    "print(rfe.ranking_)\n",
    "X_train.columns[rfe.support_]"
   ]
  },
  {
   "cell_type": "code",
   "execution_count": null,
   "metadata": {
    "colab": {},
    "colab_type": "code",
    "id": "R9bLV9lxV5j4"
   },
   "outputs": [],
   "source": []
  }
 ],
 "metadata": {
  "colab": {
   "name": "Feature_engineering.ipynb",
   "provenance": [],
   "version": "0.3.2"
  },
  "kernelspec": {
   "display_name": "Python 3",
   "language": "python",
   "name": "python3"
  },
  "language_info": {
   "codemirror_mode": {
    "name": "ipython",
    "version": 3
   },
   "file_extension": ".py",
   "mimetype": "text/x-python",
   "name": "python",
   "nbconvert_exporter": "python",
   "pygments_lexer": "ipython3",
   "version": "3.7.3"
  }
 },
 "nbformat": 4,
 "nbformat_minor": 1
}
