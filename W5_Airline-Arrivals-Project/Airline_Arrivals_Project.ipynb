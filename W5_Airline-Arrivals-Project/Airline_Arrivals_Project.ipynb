{
  "nbformat": 4,
  "nbformat_minor": 0,
  "metadata": {
    "colab": {
      "name": "Airline-Arrivals-Project.ipynb",
      "version": "0.3.2",
      "provenance": [],
      "collapsed_sections": [
        "bPfcZg50Cb6w"
      ]
    },
    "language_info": {
      "codemirror_mode": {
        "name": "ipython",
        "version": 3
      },
      "file_extension": ".py",
      "mimetype": "text/x-python",
      "name": "python",
      "nbconvert_exporter": "python",
      "pygments_lexer": "ipython3",
      "version": "3.7.1"
    },
    "kernelspec": {
      "display_name": "Python 3",
      "language": "python",
      "name": "python3"
    },
    "accelerator": "GPU"
  },
  "cells": [
    {
      "cell_type": "markdown",
      "metadata": {
        "colab_type": "text",
        "id": "oBv97VwGCb3u"
      },
      "source": [
        "## Import libaries"
      ]
    },
    {
      "cell_type": "code",
      "metadata": {
        "colab_type": "code",
        "id": "EDKkmpj8Cb35",
        "colab": {}
      },
      "source": [
        "import pandas as pd\n",
        "import numpy as np \n",
        "import seaborn as sns \n",
        "%matplotlib inline\n",
        "import matplotlib.pyplot as plt\n",
        "import scipy.stats as ss\n",
        "from sklearn.metrics import f1_score"
      ],
      "execution_count": 0,
      "outputs": []
    },
    {
      "cell_type": "markdown",
      "metadata": {
        "colab_type": "text",
        "id": "ofNzk5TgCb4N"
      },
      "source": [
        "## Import data"
      ]
    },
    {
      "cell_type": "code",
      "metadata": {
        "colab_type": "code",
        "id": "6UHfQT3ZCb4R",
        "colab": {}
      },
      "source": [
        "# Read from url - Take time to run\n",
        "url = \"http://stat-computing.org/dataexpo/2009/2008.csv.bz2\"\n",
        "df = pd.read_csv(url, compression='bz2')\n",
        "\n",
        "# Read from drive\n",
        "#df = pd.read_csv('./temp/Airline.csv')"
      ],
      "execution_count": 0,
      "outputs": []
    },
    {
      "cell_type": "code",
      "metadata": {
        "colab_type": "code",
        "id": "m0kZacuhCb4e",
        "colab": {}
      },
      "source": [
        "# Reduce rows\n",
        "df = df.sample(frac=0.25)"
      ],
      "execution_count": 0,
      "outputs": []
    },
    {
      "cell_type": "code",
      "metadata": {
        "colab_type": "code",
        "id": "AuoVngUzCb4p",
        "outputId": "5382c799-df5e-4246-caf9-a5d112463040",
        "scrolled": true,
        "colab": {
          "base_uri": "https://localhost:8080/",
          "height": 215
        }
      },
      "source": [
        "df.head()"
      ],
      "execution_count": 6,
      "outputs": [
        {
          "output_type": "execute_result",
          "data": {
            "text/html": [
              "<div>\n",
              "<style scoped>\n",
              "    .dataframe tbody tr th:only-of-type {\n",
              "        vertical-align: middle;\n",
              "    }\n",
              "\n",
              "    .dataframe tbody tr th {\n",
              "        vertical-align: top;\n",
              "    }\n",
              "\n",
              "    .dataframe thead th {\n",
              "        text-align: right;\n",
              "    }\n",
              "</style>\n",
              "<table border=\"1\" class=\"dataframe\">\n",
              "  <thead>\n",
              "    <tr style=\"text-align: right;\">\n",
              "      <th></th>\n",
              "      <th>Year</th>\n",
              "      <th>Month</th>\n",
              "      <th>DayofMonth</th>\n",
              "      <th>DayOfWeek</th>\n",
              "      <th>DepTime</th>\n",
              "      <th>CRSDepTime</th>\n",
              "      <th>ArrTime</th>\n",
              "      <th>CRSArrTime</th>\n",
              "      <th>UniqueCarrier</th>\n",
              "      <th>FlightNum</th>\n",
              "      <th>TailNum</th>\n",
              "      <th>ActualElapsedTime</th>\n",
              "      <th>CRSElapsedTime</th>\n",
              "      <th>AirTime</th>\n",
              "      <th>ArrDelay</th>\n",
              "      <th>DepDelay</th>\n",
              "      <th>Origin</th>\n",
              "      <th>Dest</th>\n",
              "      <th>Distance</th>\n",
              "      <th>TaxiIn</th>\n",
              "      <th>TaxiOut</th>\n",
              "      <th>Cancelled</th>\n",
              "      <th>CancellationCode</th>\n",
              "      <th>Diverted</th>\n",
              "      <th>CarrierDelay</th>\n",
              "      <th>WeatherDelay</th>\n",
              "      <th>NASDelay</th>\n",
              "      <th>SecurityDelay</th>\n",
              "      <th>LateAircraftDelay</th>\n",
              "    </tr>\n",
              "  </thead>\n",
              "  <tbody>\n",
              "    <tr>\n",
              "      <th>3876048</th>\n",
              "      <td>2008</td>\n",
              "      <td>7</td>\n",
              "      <td>4</td>\n",
              "      <td>5</td>\n",
              "      <td>1142.0</td>\n",
              "      <td>1145</td>\n",
              "      <td>1249.0</td>\n",
              "      <td>1301</td>\n",
              "      <td>US</td>\n",
              "      <td>1711</td>\n",
              "      <td>N948UW</td>\n",
              "      <td>67.0</td>\n",
              "      <td>76.0</td>\n",
              "      <td>48.0</td>\n",
              "      <td>-12.0</td>\n",
              "      <td>-3.0</td>\n",
              "      <td>CLT</td>\n",
              "      <td>ORF</td>\n",
              "      <td>290</td>\n",
              "      <td>3.0</td>\n",
              "      <td>16.0</td>\n",
              "      <td>0</td>\n",
              "      <td>NaN</td>\n",
              "      <td>0</td>\n",
              "      <td>NaN</td>\n",
              "      <td>NaN</td>\n",
              "      <td>NaN</td>\n",
              "      <td>NaN</td>\n",
              "      <td>NaN</td>\n",
              "    </tr>\n",
              "    <tr>\n",
              "      <th>4417116</th>\n",
              "      <td>2008</td>\n",
              "      <td>8</td>\n",
              "      <td>8</td>\n",
              "      <td>5</td>\n",
              "      <td>1029.0</td>\n",
              "      <td>949</td>\n",
              "      <td>1022.0</td>\n",
              "      <td>958</td>\n",
              "      <td>OO</td>\n",
              "      <td>6036</td>\n",
              "      <td>N412SW</td>\n",
              "      <td>53.0</td>\n",
              "      <td>69.0</td>\n",
              "      <td>42.0</td>\n",
              "      <td>24.0</td>\n",
              "      <td>40.0</td>\n",
              "      <td>TVC</td>\n",
              "      <td>ORD</td>\n",
              "      <td>224</td>\n",
              "      <td>3.0</td>\n",
              "      <td>8.0</td>\n",
              "      <td>0</td>\n",
              "      <td>NaN</td>\n",
              "      <td>0</td>\n",
              "      <td>0.0</td>\n",
              "      <td>0.0</td>\n",
              "      <td>0.0</td>\n",
              "      <td>0.0</td>\n",
              "      <td>24.0</td>\n",
              "    </tr>\n",
              "    <tr>\n",
              "      <th>4320833</th>\n",
              "      <td>2008</td>\n",
              "      <td>8</td>\n",
              "      <td>29</td>\n",
              "      <td>5</td>\n",
              "      <td>1548.0</td>\n",
              "      <td>1550</td>\n",
              "      <td>1657.0</td>\n",
              "      <td>1630</td>\n",
              "      <td>WN</td>\n",
              "      <td>319</td>\n",
              "      <td>N694SW</td>\n",
              "      <td>129.0</td>\n",
              "      <td>100.0</td>\n",
              "      <td>83.0</td>\n",
              "      <td>27.0</td>\n",
              "      <td>-2.0</td>\n",
              "      <td>DAL</td>\n",
              "      <td>ELP</td>\n",
              "      <td>562</td>\n",
              "      <td>4.0</td>\n",
              "      <td>42.0</td>\n",
              "      <td>0</td>\n",
              "      <td>NaN</td>\n",
              "      <td>0</td>\n",
              "      <td>0.0</td>\n",
              "      <td>0.0</td>\n",
              "      <td>27.0</td>\n",
              "      <td>0.0</td>\n",
              "      <td>0.0</td>\n",
              "    </tr>\n",
              "    <tr>\n",
              "      <th>5293470</th>\n",
              "      <td>2008</td>\n",
              "      <td>9</td>\n",
              "      <td>9</td>\n",
              "      <td>2</td>\n",
              "      <td>2041.0</td>\n",
              "      <td>2035</td>\n",
              "      <td>2332.0</td>\n",
              "      <td>2325</td>\n",
              "      <td>AA</td>\n",
              "      <td>1226</td>\n",
              "      <td>N5BUAA</td>\n",
              "      <td>171.0</td>\n",
              "      <td>170.0</td>\n",
              "      <td>140.0</td>\n",
              "      <td>7.0</td>\n",
              "      <td>6.0</td>\n",
              "      <td>MIA</td>\n",
              "      <td>LGA</td>\n",
              "      <td>1097</td>\n",
              "      <td>4.0</td>\n",
              "      <td>27.0</td>\n",
              "      <td>0</td>\n",
              "      <td>NaN</td>\n",
              "      <td>0</td>\n",
              "      <td>NaN</td>\n",
              "      <td>NaN</td>\n",
              "      <td>NaN</td>\n",
              "      <td>NaN</td>\n",
              "      <td>NaN</td>\n",
              "    </tr>\n",
              "    <tr>\n",
              "      <th>3899078</th>\n",
              "      <td>2008</td>\n",
              "      <td>7</td>\n",
              "      <td>22</td>\n",
              "      <td>2</td>\n",
              "      <td>619.0</td>\n",
              "      <td>625</td>\n",
              "      <td>758.0</td>\n",
              "      <td>813</td>\n",
              "      <td>US</td>\n",
              "      <td>1093</td>\n",
              "      <td>N440US</td>\n",
              "      <td>99.0</td>\n",
              "      <td>108.0</td>\n",
              "      <td>75.0</td>\n",
              "      <td>-15.0</td>\n",
              "      <td>-6.0</td>\n",
              "      <td>EWR</td>\n",
              "      <td>CLT</td>\n",
              "      <td>529</td>\n",
              "      <td>15.0</td>\n",
              "      <td>9.0</td>\n",
              "      <td>0</td>\n",
              "      <td>NaN</td>\n",
              "      <td>0</td>\n",
              "      <td>NaN</td>\n",
              "      <td>NaN</td>\n",
              "      <td>NaN</td>\n",
              "      <td>NaN</td>\n",
              "      <td>NaN</td>\n",
              "    </tr>\n",
              "  </tbody>\n",
              "</table>\n",
              "</div>"
            ],
            "text/plain": [
              "         Year  Month  DayofMonth  ...  NASDelay  SecurityDelay  LateAircraftDelay\n",
              "3876048  2008      7           4  ...       NaN            NaN                NaN\n",
              "4417116  2008      8           8  ...       0.0            0.0               24.0\n",
              "4320833  2008      8          29  ...      27.0            0.0                0.0\n",
              "5293470  2008      9           9  ...       NaN            NaN                NaN\n",
              "3899078  2008      7          22  ...       NaN            NaN                NaN\n",
              "\n",
              "[5 rows x 29 columns]"
            ]
          },
          "metadata": {
            "tags": []
          },
          "execution_count": 6
        }
      ]
    },
    {
      "cell_type": "markdown",
      "metadata": {
        "colab_type": "text",
        "id": "wiaJPuNNCb4w"
      },
      "source": [
        "Variable descriptions: http://stat-computing.org/dataexpo/2009/the-data.html\n",
        "\n",
        "Reference: https://www.kaggle.com/fabiendaniel/predicting-flight-delays-tutorial"
      ]
    },
    {
      "cell_type": "markdown",
      "metadata": {
        "colab_type": "text",
        "id": "M3qKieX-Cb4y"
      },
      "source": [
        "## Data pre-processing"
      ]
    },
    {
      "cell_type": "code",
      "metadata": {
        "colab_type": "code",
        "id": "MJaJV73iCb4z",
        "outputId": "0c8d8236-94d9-4fe5-cec5-63eec825e004",
        "colab": {
          "base_uri": "https://localhost:8080/",
          "height": 521
        }
      },
      "source": [
        "df.count()"
      ],
      "execution_count": 7,
      "outputs": [
        {
          "output_type": "execute_result",
          "data": {
            "text/plain": [
              "Year                 1752432\n",
              "Month                1752432\n",
              "DayofMonth           1752432\n",
              "DayOfWeek            1752432\n",
              "DepTime              1718129\n",
              "CRSDepTime           1752432\n",
              "ArrTime              1714325\n",
              "CRSArrTime           1752432\n",
              "UniqueCarrier        1752432\n",
              "FlightNum            1752432\n",
              "TailNum              1731352\n",
              "ActualElapsedTime    1713565\n",
              "CRSElapsedTime       1752237\n",
              "AirTime              1713565\n",
              "ArrDelay             1713565\n",
              "DepDelay             1718129\n",
              "Origin               1752432\n",
              "Dest                 1752432\n",
              "Distance             1752432\n",
              "TaxiIn               1714325\n",
              "TaxiOut              1717938\n",
              "Cancelled            1752432\n",
              "CancellationCode       34598\n",
              "Diverted             1752432\n",
              "CarrierDelay          381508\n",
              "WeatherDelay          381508\n",
              "NASDelay              381508\n",
              "SecurityDelay         381508\n",
              "LateAircraftDelay     381508\n",
              "dtype: int64"
            ]
          },
          "metadata": {
            "tags": []
          },
          "execution_count": 7
        }
      ]
    },
    {
      "cell_type": "code",
      "metadata": {
        "colab_type": "code",
        "id": "ybsWiOhICb43",
        "outputId": "c2111541-0417-4912-a2ac-36d919458382",
        "colab": {
          "base_uri": "https://localhost:8080/",
          "height": 235
        }
      },
      "source": [
        "#Create Date column\n",
        "#df['Date'] = pd.to_datetime(df[['Year', 'Month', 'DayofMonth']])\n",
        "\n",
        "# Drop columns\n",
        "# Year: The dataset only contains data in 2008\n",
        "# Cancelled + CancellationCode + Diverted: Cancelled flight does not have delay label.\n",
        "df.drop(['Year', 'Cancelled', 'CancellationCode', 'Diverted'], axis=1, inplace=True)\n",
        "# Delay details: Only 20% rows have these features.\n",
        "df.drop(['CarrierDelay', 'WeatherDelay', 'NASDelay', 'SecurityDelay', 'LateAircraftDelay'], axis=1, inplace=True)\n",
        "# Time: Only keep CRSArrTime, CRSElapsedTime\n",
        "df.drop(['DepTime', 'ArrTime', 'CRSDepTime', 'ActualElapsedTime', 'DepDelay'], axis=1, inplace=True)\n",
        "# Airport: Only keep the Dest Airport\n",
        "df.drop(['Origin'], axis=1, inplace=True)\n",
        "# Carrier: Drop FlightNum and TailNum\n",
        "df.drop(['FlightNum', 'TailNum'], axis=1, inplace=True)\n",
        "\n",
        "df.dropna(inplace=True)\n",
        "df.drop_duplicates(inplace=True)\n",
        "\n",
        "df.count()"
      ],
      "execution_count": 8,
      "outputs": [
        {
          "output_type": "execute_result",
          "data": {
            "text/plain": [
              "Month             1713564\n",
              "DayofMonth        1713564\n",
              "DayOfWeek         1713564\n",
              "CRSArrTime        1713564\n",
              "UniqueCarrier     1713564\n",
              "CRSElapsedTime    1713564\n",
              "AirTime           1713564\n",
              "ArrDelay          1713564\n",
              "Dest              1713564\n",
              "Distance          1713564\n",
              "TaxiIn            1713564\n",
              "TaxiOut           1713564\n",
              "dtype: int64"
            ]
          },
          "metadata": {
            "tags": []
          },
          "execution_count": 8
        }
      ]
    },
    {
      "cell_type": "code",
      "metadata": {
        "colab_type": "code",
        "id": "ioRac8TMCb49",
        "colab": {}
      },
      "source": [
        "# Convert CRSArrTime to Parts of the Day\n",
        "conditions = [\n",
        "    (df['CRSArrTime'] >= 500) & (df['CRSArrTime'] < 1201),\n",
        "    (df['CRSArrTime'] >= 1201) & (df['CRSArrTime'] < 1701),\n",
        "    (df['CRSArrTime'] >= 1701) & (df['CRSArrTime'] < 2101)]\n",
        "choices = [1, 2, 3]\n",
        "df['PotD'] = np.select(conditions, choices, default=4)\n",
        "\n",
        "# Morning, Afternoon, Evening, Night"
      ],
      "execution_count": 0,
      "outputs": []
    },
    {
      "cell_type": "code",
      "metadata": {
        "colab_type": "code",
        "id": "0j0x4lmqCb5R",
        "colab": {}
      },
      "source": [
        "# Convert ArrDelay to Delay\n",
        "# A flight only counts as late if it is more than 30 minutes late.\n",
        "conditions = [\n",
        "    (df['ArrDelay'] > 30)]\n",
        "choices = [1]\n",
        "df['Delay'] = np.select(conditions, choices, default=0)\n",
        "df.drop(['CRSArrTime'], axis=1, inplace=True)"
      ],
      "execution_count": 0,
      "outputs": []
    },
    {
      "cell_type": "code",
      "metadata": {
        "colab_type": "code",
        "id": "nE8Ha8MjCb5U",
        "outputId": "59c274a8-fd4d-4502-e0e6-2ed8a7d78c69",
        "colab": {
          "base_uri": "https://localhost:8080/",
          "height": 252
        }
      },
      "source": [
        "df.dtypes"
      ],
      "execution_count": 11,
      "outputs": [
        {
          "output_type": "execute_result",
          "data": {
            "text/plain": [
              "Month               int64\n",
              "DayofMonth          int64\n",
              "DayOfWeek           int64\n",
              "UniqueCarrier      object\n",
              "CRSElapsedTime    float64\n",
              "AirTime           float64\n",
              "ArrDelay          float64\n",
              "Dest               object\n",
              "Distance            int64\n",
              "TaxiIn            float64\n",
              "TaxiOut           float64\n",
              "PotD                int64\n",
              "Delay               int64\n",
              "dtype: object"
            ]
          },
          "metadata": {
            "tags": []
          },
          "execution_count": 11
        }
      ]
    },
    {
      "cell_type": "code",
      "metadata": {
        "colab_type": "code",
        "id": "aW8e-5kiCb5X",
        "outputId": "8391df76-2ec1-48b8-d0d0-87c90a5c2d07",
        "colab": {
          "base_uri": "https://localhost:8080/",
          "height": 195
        }
      },
      "source": [
        "df.head()"
      ],
      "execution_count": 12,
      "outputs": [
        {
          "output_type": "execute_result",
          "data": {
            "text/html": [
              "<div>\n",
              "<style scoped>\n",
              "    .dataframe tbody tr th:only-of-type {\n",
              "        vertical-align: middle;\n",
              "    }\n",
              "\n",
              "    .dataframe tbody tr th {\n",
              "        vertical-align: top;\n",
              "    }\n",
              "\n",
              "    .dataframe thead th {\n",
              "        text-align: right;\n",
              "    }\n",
              "</style>\n",
              "<table border=\"1\" class=\"dataframe\">\n",
              "  <thead>\n",
              "    <tr style=\"text-align: right;\">\n",
              "      <th></th>\n",
              "      <th>Month</th>\n",
              "      <th>DayofMonth</th>\n",
              "      <th>DayOfWeek</th>\n",
              "      <th>UniqueCarrier</th>\n",
              "      <th>CRSElapsedTime</th>\n",
              "      <th>AirTime</th>\n",
              "      <th>ArrDelay</th>\n",
              "      <th>Dest</th>\n",
              "      <th>Distance</th>\n",
              "      <th>TaxiIn</th>\n",
              "      <th>TaxiOut</th>\n",
              "      <th>PotD</th>\n",
              "      <th>Delay</th>\n",
              "    </tr>\n",
              "  </thead>\n",
              "  <tbody>\n",
              "    <tr>\n",
              "      <th>3876048</th>\n",
              "      <td>7</td>\n",
              "      <td>4</td>\n",
              "      <td>5</td>\n",
              "      <td>US</td>\n",
              "      <td>76.0</td>\n",
              "      <td>48.0</td>\n",
              "      <td>-12.0</td>\n",
              "      <td>ORF</td>\n",
              "      <td>290</td>\n",
              "      <td>3.0</td>\n",
              "      <td>16.0</td>\n",
              "      <td>2</td>\n",
              "      <td>0</td>\n",
              "    </tr>\n",
              "    <tr>\n",
              "      <th>4417116</th>\n",
              "      <td>8</td>\n",
              "      <td>8</td>\n",
              "      <td>5</td>\n",
              "      <td>OO</td>\n",
              "      <td>69.0</td>\n",
              "      <td>42.0</td>\n",
              "      <td>24.0</td>\n",
              "      <td>ORD</td>\n",
              "      <td>224</td>\n",
              "      <td>3.0</td>\n",
              "      <td>8.0</td>\n",
              "      <td>1</td>\n",
              "      <td>0</td>\n",
              "    </tr>\n",
              "    <tr>\n",
              "      <th>4320833</th>\n",
              "      <td>8</td>\n",
              "      <td>29</td>\n",
              "      <td>5</td>\n",
              "      <td>WN</td>\n",
              "      <td>100.0</td>\n",
              "      <td>83.0</td>\n",
              "      <td>27.0</td>\n",
              "      <td>ELP</td>\n",
              "      <td>562</td>\n",
              "      <td>4.0</td>\n",
              "      <td>42.0</td>\n",
              "      <td>2</td>\n",
              "      <td>0</td>\n",
              "    </tr>\n",
              "    <tr>\n",
              "      <th>5293470</th>\n",
              "      <td>9</td>\n",
              "      <td>9</td>\n",
              "      <td>2</td>\n",
              "      <td>AA</td>\n",
              "      <td>170.0</td>\n",
              "      <td>140.0</td>\n",
              "      <td>7.0</td>\n",
              "      <td>LGA</td>\n",
              "      <td>1097</td>\n",
              "      <td>4.0</td>\n",
              "      <td>27.0</td>\n",
              "      <td>4</td>\n",
              "      <td>0</td>\n",
              "    </tr>\n",
              "    <tr>\n",
              "      <th>3899078</th>\n",
              "      <td>7</td>\n",
              "      <td>22</td>\n",
              "      <td>2</td>\n",
              "      <td>US</td>\n",
              "      <td>108.0</td>\n",
              "      <td>75.0</td>\n",
              "      <td>-15.0</td>\n",
              "      <td>CLT</td>\n",
              "      <td>529</td>\n",
              "      <td>15.0</td>\n",
              "      <td>9.0</td>\n",
              "      <td>1</td>\n",
              "      <td>0</td>\n",
              "    </tr>\n",
              "  </tbody>\n",
              "</table>\n",
              "</div>"
            ],
            "text/plain": [
              "         Month  DayofMonth  DayOfWeek  ... TaxiOut  PotD  Delay\n",
              "3876048      7           4          5  ...    16.0     2      0\n",
              "4417116      8           8          5  ...     8.0     1      0\n",
              "4320833      8          29          5  ...    42.0     2      0\n",
              "5293470      9           9          2  ...    27.0     4      0\n",
              "3899078      7          22          2  ...     9.0     1      0\n",
              "\n",
              "[5 rows x 13 columns]"
            ]
          },
          "metadata": {
            "tags": []
          },
          "execution_count": 12
        }
      ]
    },
    {
      "cell_type": "markdown",
      "metadata": {
        "colab_type": "text",
        "id": "eZHZZ74dCb5e"
      },
      "source": [
        "## Data analysis"
      ]
    },
    {
      "cell_type": "code",
      "metadata": {
        "colab_type": "code",
        "id": "QhySIYE0Cb5f",
        "outputId": "bca7f5a8-15f2-4c7d-ffd6-df925ff66c5f",
        "colab": {
          "base_uri": "https://localhost:8080/",
          "height": 284
        }
      },
      "source": [
        "#Check basic stats\n",
        "df.describe()"
      ],
      "execution_count": 13,
      "outputs": [
        {
          "output_type": "execute_result",
          "data": {
            "text/html": [
              "<div>\n",
              "<style scoped>\n",
              "    .dataframe tbody tr th:only-of-type {\n",
              "        vertical-align: middle;\n",
              "    }\n",
              "\n",
              "    .dataframe tbody tr th {\n",
              "        vertical-align: top;\n",
              "    }\n",
              "\n",
              "    .dataframe thead th {\n",
              "        text-align: right;\n",
              "    }\n",
              "</style>\n",
              "<table border=\"1\" class=\"dataframe\">\n",
              "  <thead>\n",
              "    <tr style=\"text-align: right;\">\n",
              "      <th></th>\n",
              "      <th>Month</th>\n",
              "      <th>DayofMonth</th>\n",
              "      <th>DayOfWeek</th>\n",
              "      <th>CRSElapsedTime</th>\n",
              "      <th>AirTime</th>\n",
              "      <th>ArrDelay</th>\n",
              "      <th>Distance</th>\n",
              "      <th>TaxiIn</th>\n",
              "      <th>TaxiOut</th>\n",
              "      <th>PotD</th>\n",
              "      <th>Delay</th>\n",
              "    </tr>\n",
              "  </thead>\n",
              "  <tbody>\n",
              "    <tr>\n",
              "      <th>count</th>\n",
              "      <td>1.713564e+06</td>\n",
              "      <td>1.713564e+06</td>\n",
              "      <td>1.713564e+06</td>\n",
              "      <td>1.713564e+06</td>\n",
              "      <td>1.713564e+06</td>\n",
              "      <td>1.713564e+06</td>\n",
              "      <td>1.713564e+06</td>\n",
              "      <td>1.713564e+06</td>\n",
              "      <td>1.713564e+06</td>\n",
              "      <td>1.713564e+06</td>\n",
              "      <td>1.713564e+06</td>\n",
              "    </tr>\n",
              "    <tr>\n",
              "      <th>mean</th>\n",
              "      <td>6.388967e+00</td>\n",
              "      <td>1.574511e+01</td>\n",
              "      <td>3.924039e+00</td>\n",
              "      <td>1.290621e+02</td>\n",
              "      <td>1.039917e+02</td>\n",
              "      <td>8.188780e+00</td>\n",
              "      <td>7.285296e+02</td>\n",
              "      <td>6.861907e+00</td>\n",
              "      <td>1.644468e+01</td>\n",
              "      <td>2.243442e+00</td>\n",
              "      <td>1.315959e-01</td>\n",
              "    </tr>\n",
              "    <tr>\n",
              "      <th>std</th>\n",
              "      <td>3.399896e+00</td>\n",
              "      <td>8.800632e+00</td>\n",
              "      <td>1.988815e+00</td>\n",
              "      <td>6.951902e+01</td>\n",
              "      <td>6.741613e+01</td>\n",
              "      <td>3.858462e+01</td>\n",
              "      <td>5.631184e+02</td>\n",
              "      <td>4.934304e+00</td>\n",
              "      <td>1.133752e+01</td>\n",
              "      <td>1.019117e+00</td>\n",
              "      <td>3.380510e-01</td>\n",
              "    </tr>\n",
              "    <tr>\n",
              "      <th>min</th>\n",
              "      <td>1.000000e+00</td>\n",
              "      <td>1.000000e+00</td>\n",
              "      <td>1.000000e+00</td>\n",
              "      <td>-1.400000e+02</td>\n",
              "      <td>0.000000e+00</td>\n",
              "      <td>-9.000000e+01</td>\n",
              "      <td>1.100000e+01</td>\n",
              "      <td>0.000000e+00</td>\n",
              "      <td>0.000000e+00</td>\n",
              "      <td>1.000000e+00</td>\n",
              "      <td>0.000000e+00</td>\n",
              "    </tr>\n",
              "    <tr>\n",
              "      <th>25%</th>\n",
              "      <td>3.000000e+00</td>\n",
              "      <td>8.000000e+00</td>\n",
              "      <td>2.000000e+00</td>\n",
              "      <td>8.000000e+01</td>\n",
              "      <td>5.500000e+01</td>\n",
              "      <td>-1.000000e+01</td>\n",
              "      <td>3.260000e+02</td>\n",
              "      <td>4.000000e+00</td>\n",
              "      <td>1.000000e+01</td>\n",
              "      <td>1.000000e+00</td>\n",
              "      <td>0.000000e+00</td>\n",
              "    </tr>\n",
              "    <tr>\n",
              "      <th>50%</th>\n",
              "      <td>6.000000e+00</td>\n",
              "      <td>1.600000e+01</td>\n",
              "      <td>4.000000e+00</td>\n",
              "      <td>1.110000e+02</td>\n",
              "      <td>8.600000e+01</td>\n",
              "      <td>-2.000000e+00</td>\n",
              "      <td>5.810000e+02</td>\n",
              "      <td>6.000000e+00</td>\n",
              "      <td>1.400000e+01</td>\n",
              "      <td>2.000000e+00</td>\n",
              "      <td>0.000000e+00</td>\n",
              "    </tr>\n",
              "    <tr>\n",
              "      <th>75%</th>\n",
              "      <td>9.000000e+00</td>\n",
              "      <td>2.300000e+01</td>\n",
              "      <td>6.000000e+00</td>\n",
              "      <td>1.590000e+02</td>\n",
              "      <td>1.320000e+02</td>\n",
              "      <td>1.200000e+01</td>\n",
              "      <td>9.540000e+02</td>\n",
              "      <td>8.000000e+00</td>\n",
              "      <td>1.900000e+01</td>\n",
              "      <td>3.000000e+00</td>\n",
              "      <td>0.000000e+00</td>\n",
              "    </tr>\n",
              "    <tr>\n",
              "      <th>max</th>\n",
              "      <td>1.200000e+01</td>\n",
              "      <td>3.100000e+01</td>\n",
              "      <td>7.000000e+00</td>\n",
              "      <td>6.600000e+02</td>\n",
              "      <td>1.154000e+03</td>\n",
              "      <td>1.707000e+03</td>\n",
              "      <td>4.962000e+03</td>\n",
              "      <td>3.080000e+02</td>\n",
              "      <td>4.290000e+02</td>\n",
              "      <td>4.000000e+00</td>\n",
              "      <td>1.000000e+00</td>\n",
              "    </tr>\n",
              "  </tbody>\n",
              "</table>\n",
              "</div>"
            ],
            "text/plain": [
              "              Month    DayofMonth  ...          PotD         Delay\n",
              "count  1.713564e+06  1.713564e+06  ...  1.713564e+06  1.713564e+06\n",
              "mean   6.388967e+00  1.574511e+01  ...  2.243442e+00  1.315959e-01\n",
              "std    3.399896e+00  8.800632e+00  ...  1.019117e+00  3.380510e-01\n",
              "min    1.000000e+00  1.000000e+00  ...  1.000000e+00  0.000000e+00\n",
              "25%    3.000000e+00  8.000000e+00  ...  1.000000e+00  0.000000e+00\n",
              "50%    6.000000e+00  1.600000e+01  ...  2.000000e+00  0.000000e+00\n",
              "75%    9.000000e+00  2.300000e+01  ...  3.000000e+00  0.000000e+00\n",
              "max    1.200000e+01  3.100000e+01  ...  4.000000e+00  1.000000e+00\n",
              "\n",
              "[8 rows x 11 columns]"
            ]
          },
          "metadata": {
            "tags": []
          },
          "execution_count": 13
        }
      ]
    },
    {
      "cell_type": "code",
      "metadata": {
        "colab_type": "code",
        "id": "FPJr_B0cCb5h",
        "outputId": "f5cc9fef-f8ca-4843-a5cb-9f6a8309a37a",
        "colab": {
          "base_uri": "https://localhost:8080/",
          "height": 373
        }
      },
      "source": [
        "#Check correlation\n",
        "df.corr()"
      ],
      "execution_count": 14,
      "outputs": [
        {
          "output_type": "execute_result",
          "data": {
            "text/html": [
              "<div>\n",
              "<style scoped>\n",
              "    .dataframe tbody tr th:only-of-type {\n",
              "        vertical-align: middle;\n",
              "    }\n",
              "\n",
              "    .dataframe tbody tr th {\n",
              "        vertical-align: top;\n",
              "    }\n",
              "\n",
              "    .dataframe thead th {\n",
              "        text-align: right;\n",
              "    }\n",
              "</style>\n",
              "<table border=\"1\" class=\"dataframe\">\n",
              "  <thead>\n",
              "    <tr style=\"text-align: right;\">\n",
              "      <th></th>\n",
              "      <th>Month</th>\n",
              "      <th>DayofMonth</th>\n",
              "      <th>DayOfWeek</th>\n",
              "      <th>CRSElapsedTime</th>\n",
              "      <th>AirTime</th>\n",
              "      <th>ArrDelay</th>\n",
              "      <th>Distance</th>\n",
              "      <th>TaxiIn</th>\n",
              "      <th>TaxiOut</th>\n",
              "      <th>PotD</th>\n",
              "      <th>Delay</th>\n",
              "    </tr>\n",
              "  </thead>\n",
              "  <tbody>\n",
              "    <tr>\n",
              "      <th>Month</th>\n",
              "      <td>1.000000</td>\n",
              "      <td>-0.000750</td>\n",
              "      <td>-0.005032</td>\n",
              "      <td>-0.006797</td>\n",
              "      <td>-0.012789</td>\n",
              "      <td>-0.042160</td>\n",
              "      <td>-0.005940</td>\n",
              "      <td>0.006934</td>\n",
              "      <td>-0.015952</td>\n",
              "      <td>-0.006387</td>\n",
              "      <td>-0.035716</td>\n",
              "    </tr>\n",
              "    <tr>\n",
              "      <th>DayofMonth</th>\n",
              "      <td>-0.000750</td>\n",
              "      <td>1.000000</td>\n",
              "      <td>0.004719</td>\n",
              "      <td>0.001783</td>\n",
              "      <td>0.001244</td>\n",
              "      <td>0.001940</td>\n",
              "      <td>0.001652</td>\n",
              "      <td>-0.003073</td>\n",
              "      <td>-0.000275</td>\n",
              "      <td>-0.001821</td>\n",
              "      <td>-0.000150</td>\n",
              "    </tr>\n",
              "    <tr>\n",
              "      <th>DayOfWeek</th>\n",
              "      <td>-0.005032</td>\n",
              "      <td>0.004719</td>\n",
              "      <td>1.000000</td>\n",
              "      <td>0.014735</td>\n",
              "      <td>0.013636</td>\n",
              "      <td>0.010308</td>\n",
              "      <td>0.016439</td>\n",
              "      <td>0.010411</td>\n",
              "      <td>-0.006840</td>\n",
              "      <td>0.003193</td>\n",
              "      <td>0.010577</td>\n",
              "    </tr>\n",
              "    <tr>\n",
              "      <th>CRSElapsedTime</th>\n",
              "      <td>-0.006797</td>\n",
              "      <td>0.001783</td>\n",
              "      <td>0.014735</td>\n",
              "      <td>1.000000</td>\n",
              "      <td>0.988166</td>\n",
              "      <td>0.011996</td>\n",
              "      <td>0.983185</td>\n",
              "      <td>0.103952</td>\n",
              "      <td>0.142750</td>\n",
              "      <td>0.090683</td>\n",
              "      <td>0.030865</td>\n",
              "    </tr>\n",
              "    <tr>\n",
              "      <th>AirTime</th>\n",
              "      <td>-0.012789</td>\n",
              "      <td>0.001244</td>\n",
              "      <td>0.013636</td>\n",
              "      <td>0.988166</td>\n",
              "      <td>1.000000</td>\n",
              "      <td>0.034217</td>\n",
              "      <td>0.982900</td>\n",
              "      <td>0.084830</td>\n",
              "      <td>0.107943</td>\n",
              "      <td>0.077502</td>\n",
              "      <td>0.041116</td>\n",
              "    </tr>\n",
              "    <tr>\n",
              "      <th>ArrDelay</th>\n",
              "      <td>-0.042160</td>\n",
              "      <td>0.001940</td>\n",
              "      <td>0.010308</td>\n",
              "      <td>0.011996</td>\n",
              "      <td>0.034217</td>\n",
              "      <td>1.000000</td>\n",
              "      <td>0.005731</td>\n",
              "      <td>0.125004</td>\n",
              "      <td>0.321531</td>\n",
              "      <td>0.115405</td>\n",
              "      <td>0.739574</td>\n",
              "    </tr>\n",
              "    <tr>\n",
              "      <th>Distance</th>\n",
              "      <td>-0.005940</td>\n",
              "      <td>0.001652</td>\n",
              "      <td>0.016439</td>\n",
              "      <td>0.983185</td>\n",
              "      <td>0.982900</td>\n",
              "      <td>0.005731</td>\n",
              "      <td>1.000000</td>\n",
              "      <td>0.076743</td>\n",
              "      <td>0.091115</td>\n",
              "      <td>0.090389</td>\n",
              "      <td>0.018721</td>\n",
              "    </tr>\n",
              "    <tr>\n",
              "      <th>TaxiIn</th>\n",
              "      <td>0.006934</td>\n",
              "      <td>-0.003073</td>\n",
              "      <td>0.010411</td>\n",
              "      <td>0.103952</td>\n",
              "      <td>0.084830</td>\n",
              "      <td>0.125004</td>\n",
              "      <td>0.076743</td>\n",
              "      <td>1.000000</td>\n",
              "      <td>0.040515</td>\n",
              "      <td>-0.019629</td>\n",
              "      <td>0.088498</td>\n",
              "    </tr>\n",
              "    <tr>\n",
              "      <th>TaxiOut</th>\n",
              "      <td>-0.015952</td>\n",
              "      <td>-0.000275</td>\n",
              "      <td>-0.006840</td>\n",
              "      <td>0.142750</td>\n",
              "      <td>0.107943</td>\n",
              "      <td>0.321531</td>\n",
              "      <td>0.091115</td>\n",
              "      <td>0.040515</td>\n",
              "      <td>1.000000</td>\n",
              "      <td>0.057425</td>\n",
              "      <td>0.289410</td>\n",
              "    </tr>\n",
              "    <tr>\n",
              "      <th>PotD</th>\n",
              "      <td>-0.006387</td>\n",
              "      <td>-0.001821</td>\n",
              "      <td>0.003193</td>\n",
              "      <td>0.090683</td>\n",
              "      <td>0.077502</td>\n",
              "      <td>0.115405</td>\n",
              "      <td>0.090389</td>\n",
              "      <td>-0.019629</td>\n",
              "      <td>0.057425</td>\n",
              "      <td>1.000000</td>\n",
              "      <td>0.134264</td>\n",
              "    </tr>\n",
              "    <tr>\n",
              "      <th>Delay</th>\n",
              "      <td>-0.035716</td>\n",
              "      <td>-0.000150</td>\n",
              "      <td>0.010577</td>\n",
              "      <td>0.030865</td>\n",
              "      <td>0.041116</td>\n",
              "      <td>0.739574</td>\n",
              "      <td>0.018721</td>\n",
              "      <td>0.088498</td>\n",
              "      <td>0.289410</td>\n",
              "      <td>0.134264</td>\n",
              "      <td>1.000000</td>\n",
              "    </tr>\n",
              "  </tbody>\n",
              "</table>\n",
              "</div>"
            ],
            "text/plain": [
              "                   Month  DayofMonth  DayOfWeek  ...   TaxiOut      PotD     Delay\n",
              "Month           1.000000   -0.000750  -0.005032  ... -0.015952 -0.006387 -0.035716\n",
              "DayofMonth     -0.000750    1.000000   0.004719  ... -0.000275 -0.001821 -0.000150\n",
              "DayOfWeek      -0.005032    0.004719   1.000000  ... -0.006840  0.003193  0.010577\n",
              "CRSElapsedTime -0.006797    0.001783   0.014735  ...  0.142750  0.090683  0.030865\n",
              "AirTime        -0.012789    0.001244   0.013636  ...  0.107943  0.077502  0.041116\n",
              "ArrDelay       -0.042160    0.001940   0.010308  ...  0.321531  0.115405  0.739574\n",
              "Distance       -0.005940    0.001652   0.016439  ...  0.091115  0.090389  0.018721\n",
              "TaxiIn          0.006934   -0.003073   0.010411  ...  0.040515 -0.019629  0.088498\n",
              "TaxiOut        -0.015952   -0.000275  -0.006840  ...  1.000000  0.057425  0.289410\n",
              "PotD           -0.006387   -0.001821   0.003193  ...  0.057425  1.000000  0.134264\n",
              "Delay          -0.035716   -0.000150   0.010577  ...  0.289410  0.134264  1.000000\n",
              "\n",
              "[11 rows x 11 columns]"
            ]
          },
          "metadata": {
            "tags": []
          },
          "execution_count": 14
        }
      ]
    },
    {
      "cell_type": "code",
      "metadata": {
        "colab_type": "code",
        "id": "hNIrsbELCb5k",
        "outputId": "cbff659e-1da4-407a-d73a-39acedd7c308",
        "colab": {
          "base_uri": "https://localhost:8080/",
          "height": 669
        }
      },
      "source": [
        "# Groupby carrier\n",
        "df.groupby(['UniqueCarrier']).mean()"
      ],
      "execution_count": 15,
      "outputs": [
        {
          "output_type": "execute_result",
          "data": {
            "text/html": [
              "<div>\n",
              "<style scoped>\n",
              "    .dataframe tbody tr th:only-of-type {\n",
              "        vertical-align: middle;\n",
              "    }\n",
              "\n",
              "    .dataframe tbody tr th {\n",
              "        vertical-align: top;\n",
              "    }\n",
              "\n",
              "    .dataframe thead th {\n",
              "        text-align: right;\n",
              "    }\n",
              "</style>\n",
              "<table border=\"1\" class=\"dataframe\">\n",
              "  <thead>\n",
              "    <tr style=\"text-align: right;\">\n",
              "      <th></th>\n",
              "      <th>Month</th>\n",
              "      <th>DayofMonth</th>\n",
              "      <th>DayOfWeek</th>\n",
              "      <th>CRSElapsedTime</th>\n",
              "      <th>AirTime</th>\n",
              "      <th>ArrDelay</th>\n",
              "      <th>Distance</th>\n",
              "      <th>TaxiIn</th>\n",
              "      <th>TaxiOut</th>\n",
              "      <th>PotD</th>\n",
              "      <th>Delay</th>\n",
              "    </tr>\n",
              "    <tr>\n",
              "      <th>UniqueCarrier</th>\n",
              "      <th></th>\n",
              "      <th></th>\n",
              "      <th></th>\n",
              "      <th></th>\n",
              "      <th></th>\n",
              "      <th></th>\n",
              "      <th></th>\n",
              "      <th></th>\n",
              "      <th></th>\n",
              "      <th></th>\n",
              "      <th></th>\n",
              "    </tr>\n",
              "  </thead>\n",
              "  <tbody>\n",
              "    <tr>\n",
              "      <th>9E</th>\n",
              "      <td>6.514351</td>\n",
              "      <td>15.761954</td>\n",
              "      <td>3.910452</td>\n",
              "      <td>100.358633</td>\n",
              "      <td>71.111710</td>\n",
              "      <td>4.075505</td>\n",
              "      <td>451.036062</td>\n",
              "      <td>8.502693</td>\n",
              "      <td>18.111094</td>\n",
              "      <td>2.191732</td>\n",
              "      <td>0.107034</td>\n",
              "    </tr>\n",
              "    <tr>\n",
              "      <th>AA</th>\n",
              "      <td>6.460591</td>\n",
              "      <td>15.805708</td>\n",
              "      <td>3.956917</td>\n",
              "      <td>167.499493</td>\n",
              "      <td>141.771350</td>\n",
              "      <td>12.586927</td>\n",
              "      <td>1055.945786</td>\n",
              "      <td>8.236573</td>\n",
              "      <td>16.893622</td>\n",
              "      <td>2.324001</td>\n",
              "      <td>0.171962</td>\n",
              "    </tr>\n",
              "    <tr>\n",
              "      <th>AQ</th>\n",
              "      <td>1.458940</td>\n",
              "      <td>15.502079</td>\n",
              "      <td>3.991684</td>\n",
              "      <td>76.431393</td>\n",
              "      <td>62.987006</td>\n",
              "      <td>-3.269231</td>\n",
              "      <td>433.482848</td>\n",
              "      <td>3.911642</td>\n",
              "      <td>8.084719</td>\n",
              "      <td>2.125260</td>\n",
              "      <td>0.020790</td>\n",
              "    </tr>\n",
              "    <tr>\n",
              "      <th>AS</th>\n",
              "      <td>6.436229</td>\n",
              "      <td>15.726642</td>\n",
              "      <td>3.946207</td>\n",
              "      <td>155.139336</td>\n",
              "      <td>131.813080</td>\n",
              "      <td>4.765522</td>\n",
              "      <td>961.850849</td>\n",
              "      <td>5.783092</td>\n",
              "      <td>15.505396</td>\n",
              "      <td>2.343691</td>\n",
              "      <td>0.106881</td>\n",
              "    </tr>\n",
              "    <tr>\n",
              "      <th>B6</th>\n",
              "      <td>6.404740</td>\n",
              "      <td>15.808123</td>\n",
              "      <td>3.997035</td>\n",
              "      <td>179.381123</td>\n",
              "      <td>149.819566</td>\n",
              "      <td>11.123972</td>\n",
              "      <td>1096.946461</td>\n",
              "      <td>6.250365</td>\n",
              "      <td>21.797912</td>\n",
              "      <td>2.346168</td>\n",
              "      <td>0.166152</td>\n",
              "    </tr>\n",
              "    <tr>\n",
              "      <th>CO</th>\n",
              "      <td>6.317907</td>\n",
              "      <td>15.759720</td>\n",
              "      <td>3.897915</td>\n",
              "      <td>185.987683</td>\n",
              "      <td>155.434281</td>\n",
              "      <td>10.877522</td>\n",
              "      <td>1151.542403</td>\n",
              "      <td>7.959364</td>\n",
              "      <td>20.494739</td>\n",
              "      <td>2.304761</td>\n",
              "      <td>0.150661</td>\n",
              "    </tr>\n",
              "    <tr>\n",
              "      <th>DL</th>\n",
              "      <td>6.486626</td>\n",
              "      <td>15.688603</td>\n",
              "      <td>3.914358</td>\n",
              "      <td>156.149357</td>\n",
              "      <td>126.801607</td>\n",
              "      <td>7.997906</td>\n",
              "      <td>923.962717</td>\n",
              "      <td>8.672760</td>\n",
              "      <td>20.590205</td>\n",
              "      <td>2.250851</td>\n",
              "      <td>0.118474</td>\n",
              "    </tr>\n",
              "    <tr>\n",
              "      <th>EV</th>\n",
              "      <td>6.490459</td>\n",
              "      <td>15.702446</td>\n",
              "      <td>3.928106</td>\n",
              "      <td>95.530485</td>\n",
              "      <td>69.785002</td>\n",
              "      <td>10.366437</td>\n",
              "      <td>443.245949</td>\n",
              "      <td>7.358685</td>\n",
              "      <td>16.725921</td>\n",
              "      <td>2.103339</td>\n",
              "      <td>0.149315</td>\n",
              "    </tr>\n",
              "    <tr>\n",
              "      <th>F9</th>\n",
              "      <td>6.455578</td>\n",
              "      <td>15.813018</td>\n",
              "      <td>3.948366</td>\n",
              "      <td>143.315057</td>\n",
              "      <td>121.560821</td>\n",
              "      <td>6.232813</td>\n",
              "      <td>879.626162</td>\n",
              "      <td>7.399361</td>\n",
              "      <td>14.506202</td>\n",
              "      <td>2.345078</td>\n",
              "      <td>0.092209</td>\n",
              "    </tr>\n",
              "    <tr>\n",
              "      <th>FL</th>\n",
              "      <td>6.448519</td>\n",
              "      <td>15.772111</td>\n",
              "      <td>4.002471</td>\n",
              "      <td>127.102746</td>\n",
              "      <td>104.174292</td>\n",
              "      <td>9.217201</td>\n",
              "      <td>728.449167</td>\n",
              "      <td>7.764496</td>\n",
              "      <td>15.030846</td>\n",
              "      <td>2.304068</td>\n",
              "      <td>0.129205</td>\n",
              "    </tr>\n",
              "    <tr>\n",
              "      <th>HA</th>\n",
              "      <td>6.823192</td>\n",
              "      <td>15.739139</td>\n",
              "      <td>4.020766</td>\n",
              "      <td>89.676709</td>\n",
              "      <td>75.329356</td>\n",
              "      <td>1.209374</td>\n",
              "      <td>565.382754</td>\n",
              "      <td>5.506823</td>\n",
              "      <td>9.640781</td>\n",
              "      <td>2.116290</td>\n",
              "      <td>0.038763</td>\n",
              "    </tr>\n",
              "    <tr>\n",
              "      <th>MQ</th>\n",
              "      <td>6.344684</td>\n",
              "      <td>15.764595</td>\n",
              "      <td>3.925715</td>\n",
              "      <td>90.806068</td>\n",
              "      <td>67.078191</td>\n",
              "      <td>9.918030</td>\n",
              "      <td>410.984605</td>\n",
              "      <td>6.918523</td>\n",
              "      <td>16.083532</td>\n",
              "      <td>2.094801</td>\n",
              "      <td>0.153325</td>\n",
              "    </tr>\n",
              "    <tr>\n",
              "      <th>NW</th>\n",
              "      <td>6.211018</td>\n",
              "      <td>15.700592</td>\n",
              "      <td>3.934480</td>\n",
              "      <td>139.668963</td>\n",
              "      <td>113.067147</td>\n",
              "      <td>7.462526</td>\n",
              "      <td>807.013397</td>\n",
              "      <td>8.302051</td>\n",
              "      <td>19.200367</td>\n",
              "      <td>2.272049</td>\n",
              "      <td>0.119523</td>\n",
              "    </tr>\n",
              "    <tr>\n",
              "      <th>OH</th>\n",
              "      <td>6.172730</td>\n",
              "      <td>15.738657</td>\n",
              "      <td>3.850558</td>\n",
              "      <td>108.732808</td>\n",
              "      <td>80.049300</td>\n",
              "      <td>12.012246</td>\n",
              "      <td>487.090704</td>\n",
              "      <td>7.242003</td>\n",
              "      <td>21.718768</td>\n",
              "      <td>2.212888</td>\n",
              "      <td>0.166206</td>\n",
              "    </tr>\n",
              "    <tr>\n",
              "      <th>OO</th>\n",
              "      <td>6.388342</td>\n",
              "      <td>15.731812</td>\n",
              "      <td>3.926904</td>\n",
              "      <td>92.054361</td>\n",
              "      <td>69.554520</td>\n",
              "      <td>6.541598</td>\n",
              "      <td>431.479999</td>\n",
              "      <td>6.111090</td>\n",
              "      <td>15.581693</td>\n",
              "      <td>2.171602</td>\n",
              "      <td>0.115248</td>\n",
              "    </tr>\n",
              "    <tr>\n",
              "      <th>UA</th>\n",
              "      <td>6.340335</td>\n",
              "      <td>15.783111</td>\n",
              "      <td>3.948296</td>\n",
              "      <td>172.706988</td>\n",
              "      <td>145.393207</td>\n",
              "      <td>11.322359</td>\n",
              "      <td>1086.392094</td>\n",
              "      <td>6.788960</td>\n",
              "      <td>17.771577</td>\n",
              "      <td>2.295111</td>\n",
              "      <td>0.168890</td>\n",
              "    </tr>\n",
              "    <tr>\n",
              "      <th>US</th>\n",
              "      <td>6.404316</td>\n",
              "      <td>15.693625</td>\n",
              "      <td>3.902804</td>\n",
              "      <td>147.721351</td>\n",
              "      <td>119.975809</td>\n",
              "      <td>2.791933</td>\n",
              "      <td>859.573099</td>\n",
              "      <td>6.417282</td>\n",
              "      <td>18.392283</td>\n",
              "      <td>2.313823</td>\n",
              "      <td>0.099861</td>\n",
              "    </tr>\n",
              "    <tr>\n",
              "      <th>WN</th>\n",
              "      <td>6.481387</td>\n",
              "      <td>15.731029</td>\n",
              "      <td>3.893120</td>\n",
              "      <td>112.341161</td>\n",
              "      <td>91.772471</td>\n",
              "      <td>5.123956</td>\n",
              "      <td>635.745178</td>\n",
              "      <td>4.809209</td>\n",
              "      <td>10.566713</td>\n",
              "      <td>2.262545</td>\n",
              "      <td>0.103957</td>\n",
              "    </tr>\n",
              "    <tr>\n",
              "      <th>XE</th>\n",
              "      <td>6.018447</td>\n",
              "      <td>15.739766</td>\n",
              "      <td>3.880139</td>\n",
              "      <td>114.612669</td>\n",
              "      <td>89.424960</td>\n",
              "      <td>10.688785</td>\n",
              "      <td>589.359386</td>\n",
              "      <td>7.138495</td>\n",
              "      <td>17.405295</td>\n",
              "      <td>2.167033</td>\n",
              "      <td>0.151210</td>\n",
              "    </tr>\n",
              "    <tr>\n",
              "      <th>YV</th>\n",
              "      <td>6.469011</td>\n",
              "      <td>15.794649</td>\n",
              "      <td>3.958049</td>\n",
              "      <td>88.989520</td>\n",
              "      <td>64.550523</td>\n",
              "      <td>12.010971</td>\n",
              "      <td>394.038414</td>\n",
              "      <td>6.876652</td>\n",
              "      <td>17.377413</td>\n",
              "      <td>2.198539</td>\n",
              "      <td>0.155475</td>\n",
              "    </tr>\n",
              "  </tbody>\n",
              "</table>\n",
              "</div>"
            ],
            "text/plain": [
              "                  Month  DayofMonth  DayOfWeek  ...    TaxiOut      PotD     Delay\n",
              "UniqueCarrier                                   ...                               \n",
              "9E             6.514351   15.761954   3.910452  ...  18.111094  2.191732  0.107034\n",
              "AA             6.460591   15.805708   3.956917  ...  16.893622  2.324001  0.171962\n",
              "AQ             1.458940   15.502079   3.991684  ...   8.084719  2.125260  0.020790\n",
              "AS             6.436229   15.726642   3.946207  ...  15.505396  2.343691  0.106881\n",
              "B6             6.404740   15.808123   3.997035  ...  21.797912  2.346168  0.166152\n",
              "CO             6.317907   15.759720   3.897915  ...  20.494739  2.304761  0.150661\n",
              "DL             6.486626   15.688603   3.914358  ...  20.590205  2.250851  0.118474\n",
              "EV             6.490459   15.702446   3.928106  ...  16.725921  2.103339  0.149315\n",
              "F9             6.455578   15.813018   3.948366  ...  14.506202  2.345078  0.092209\n",
              "FL             6.448519   15.772111   4.002471  ...  15.030846  2.304068  0.129205\n",
              "HA             6.823192   15.739139   4.020766  ...   9.640781  2.116290  0.038763\n",
              "MQ             6.344684   15.764595   3.925715  ...  16.083532  2.094801  0.153325\n",
              "NW             6.211018   15.700592   3.934480  ...  19.200367  2.272049  0.119523\n",
              "OH             6.172730   15.738657   3.850558  ...  21.718768  2.212888  0.166206\n",
              "OO             6.388342   15.731812   3.926904  ...  15.581693  2.171602  0.115248\n",
              "UA             6.340335   15.783111   3.948296  ...  17.771577  2.295111  0.168890\n",
              "US             6.404316   15.693625   3.902804  ...  18.392283  2.313823  0.099861\n",
              "WN             6.481387   15.731029   3.893120  ...  10.566713  2.262545  0.103957\n",
              "XE             6.018447   15.739766   3.880139  ...  17.405295  2.167033  0.151210\n",
              "YV             6.469011   15.794649   3.958049  ...  17.377413  2.198539  0.155475\n",
              "\n",
              "[20 rows x 11 columns]"
            ]
          },
          "metadata": {
            "tags": []
          },
          "execution_count": 15
        }
      ]
    },
    {
      "cell_type": "code",
      "metadata": {
        "colab_type": "code",
        "id": "qFABJ3z5Cb5p",
        "outputId": "b316372a-8e21-4b24-fc76-b262445eb413",
        "colab": {
          "base_uri": "https://localhost:8080/",
          "height": 1000
        }
      },
      "source": [
        "# Groupby destination airport\n",
        "df.groupby(['Dest']).mean()"
      ],
      "execution_count": 16,
      "outputs": [
        {
          "output_type": "execute_result",
          "data": {
            "text/html": [
              "<div>\n",
              "<style scoped>\n",
              "    .dataframe tbody tr th:only-of-type {\n",
              "        vertical-align: middle;\n",
              "    }\n",
              "\n",
              "    .dataframe tbody tr th {\n",
              "        vertical-align: top;\n",
              "    }\n",
              "\n",
              "    .dataframe thead th {\n",
              "        text-align: right;\n",
              "    }\n",
              "</style>\n",
              "<table border=\"1\" class=\"dataframe\">\n",
              "  <thead>\n",
              "    <tr style=\"text-align: right;\">\n",
              "      <th></th>\n",
              "      <th>Month</th>\n",
              "      <th>DayofMonth</th>\n",
              "      <th>DayOfWeek</th>\n",
              "      <th>CRSElapsedTime</th>\n",
              "      <th>AirTime</th>\n",
              "      <th>ArrDelay</th>\n",
              "      <th>Distance</th>\n",
              "      <th>TaxiIn</th>\n",
              "      <th>TaxiOut</th>\n",
              "      <th>PotD</th>\n",
              "      <th>Delay</th>\n",
              "    </tr>\n",
              "    <tr>\n",
              "      <th>Dest</th>\n",
              "      <th></th>\n",
              "      <th></th>\n",
              "      <th></th>\n",
              "      <th></th>\n",
              "      <th></th>\n",
              "      <th></th>\n",
              "      <th></th>\n",
              "      <th></th>\n",
              "      <th></th>\n",
              "      <th></th>\n",
              "      <th></th>\n",
              "    </tr>\n",
              "  </thead>\n",
              "  <tbody>\n",
              "    <tr>\n",
              "      <th>ABE</th>\n",
              "      <td>6.564784</td>\n",
              "      <td>15.637874</td>\n",
              "      <td>3.922757</td>\n",
              "      <td>100.543189</td>\n",
              "      <td>73.675249</td>\n",
              "      <td>8.750000</td>\n",
              "      <td>536.267442</td>\n",
              "      <td>4.499169</td>\n",
              "      <td>20.000000</td>\n",
              "      <td>2.694352</td>\n",
              "      <td>0.145349</td>\n",
              "    </tr>\n",
              "    <tr>\n",
              "      <th>ABI</th>\n",
              "      <td>6.230284</td>\n",
              "      <td>15.307571</td>\n",
              "      <td>4.052050</td>\n",
              "      <td>53.479495</td>\n",
              "      <td>33.578864</td>\n",
              "      <td>8.438486</td>\n",
              "      <td>158.000000</td>\n",
              "      <td>3.604101</td>\n",
              "      <td>15.003155</td>\n",
              "      <td>2.687697</td>\n",
              "      <td>0.129338</td>\n",
              "    </tr>\n",
              "    <tr>\n",
              "      <th>ABQ</th>\n",
              "      <td>6.432276</td>\n",
              "      <td>15.668795</td>\n",
              "      <td>3.947353</td>\n",
              "      <td>114.490620</td>\n",
              "      <td>92.568412</td>\n",
              "      <td>6.102937</td>\n",
              "      <td>654.550241</td>\n",
              "      <td>5.341911</td>\n",
              "      <td>13.469993</td>\n",
              "      <td>2.268638</td>\n",
              "      <td>0.109125</td>\n",
              "    </tr>\n",
              "    <tr>\n",
              "      <th>ABY</th>\n",
              "      <td>6.245487</td>\n",
              "      <td>16.119134</td>\n",
              "      <td>3.956679</td>\n",
              "      <td>54.288809</td>\n",
              "      <td>27.660650</td>\n",
              "      <td>8.194946</td>\n",
              "      <td>146.000000</td>\n",
              "      <td>3.617329</td>\n",
              "      <td>23.129964</td>\n",
              "      <td>2.592058</td>\n",
              "      <td>0.101083</td>\n",
              "    </tr>\n",
              "    <tr>\n",
              "      <th>ACK</th>\n",
              "      <td>7.240385</td>\n",
              "      <td>17.596154</td>\n",
              "      <td>4.163462</td>\n",
              "      <td>87.442308</td>\n",
              "      <td>46.192308</td>\n",
              "      <td>22.028846</td>\n",
              "      <td>208.134615</td>\n",
              "      <td>5.548077</td>\n",
              "      <td>35.721154</td>\n",
              "      <td>2.269231</td>\n",
              "      <td>0.240385</td>\n",
              "    </tr>\n",
              "    <tr>\n",
              "      <th>ACT</th>\n",
              "      <td>6.046875</td>\n",
              "      <td>16.007812</td>\n",
              "      <td>4.039062</td>\n",
              "      <td>44.925781</td>\n",
              "      <td>23.552734</td>\n",
              "      <td>4.335938</td>\n",
              "      <td>89.000000</td>\n",
              "      <td>4.746094</td>\n",
              "      <td>14.640625</td>\n",
              "      <td>2.250000</td>\n",
              "      <td>0.097656</td>\n",
              "    </tr>\n",
              "    <tr>\n",
              "      <th>ACV</th>\n",
              "      <td>6.743444</td>\n",
              "      <td>15.493729</td>\n",
              "      <td>3.857469</td>\n",
              "      <td>77.388826</td>\n",
              "      <td>57.313569</td>\n",
              "      <td>11.755986</td>\n",
              "      <td>268.513113</td>\n",
              "      <td>4.401368</td>\n",
              "      <td>15.858609</td>\n",
              "      <td>2.437856</td>\n",
              "      <td>0.160775</td>\n",
              "    </tr>\n",
              "    <tr>\n",
              "      <th>ACY</th>\n",
              "      <td>2.478261</td>\n",
              "      <td>16.913043</td>\n",
              "      <td>3.652174</td>\n",
              "      <td>113.913043</td>\n",
              "      <td>88.521739</td>\n",
              "      <td>4.478261</td>\n",
              "      <td>678.000000</td>\n",
              "      <td>3.478261</td>\n",
              "      <td>20.956522</td>\n",
              "      <td>3.043478</td>\n",
              "      <td>0.130435</td>\n",
              "    </tr>\n",
              "    <tr>\n",
              "      <th>ADK</th>\n",
              "      <td>6.034483</td>\n",
              "      <td>13.000000</td>\n",
              "      <td>5.344828</td>\n",
              "      <td>187.068966</td>\n",
              "      <td>171.068966</td>\n",
              "      <td>5.965517</td>\n",
              "      <td>1192.000000</td>\n",
              "      <td>4.482759</td>\n",
              "      <td>13.827586</td>\n",
              "      <td>2.689655</td>\n",
              "      <td>0.034483</td>\n",
              "    </tr>\n",
              "    <tr>\n",
              "      <th>ADQ</th>\n",
              "      <td>6.518072</td>\n",
              "      <td>16.451807</td>\n",
              "      <td>3.698795</td>\n",
              "      <td>62.126506</td>\n",
              "      <td>43.813253</td>\n",
              "      <td>-0.355422</td>\n",
              "      <td>252.000000</td>\n",
              "      <td>3.265060</td>\n",
              "      <td>12.813253</td>\n",
              "      <td>1.632530</td>\n",
              "      <td>0.072289</td>\n",
              "    </tr>\n",
              "    <tr>\n",
              "      <th>AEX</th>\n",
              "      <td>6.236577</td>\n",
              "      <td>15.171141</td>\n",
              "      <td>4.062081</td>\n",
              "      <td>87.169463</td>\n",
              "      <td>62.575503</td>\n",
              "      <td>8.822148</td>\n",
              "      <td>358.431208</td>\n",
              "      <td>3.595638</td>\n",
              "      <td>20.166107</td>\n",
              "      <td>2.290268</td>\n",
              "      <td>0.130872</td>\n",
              "    </tr>\n",
              "    <tr>\n",
              "      <th>AGS</th>\n",
              "      <td>6.697865</td>\n",
              "      <td>15.308703</td>\n",
              "      <td>3.898194</td>\n",
              "      <td>58.157635</td>\n",
              "      <td>30.522167</td>\n",
              "      <td>10.689655</td>\n",
              "      <td>144.083744</td>\n",
              "      <td>3.261084</td>\n",
              "      <td>22.075534</td>\n",
              "      <td>2.259442</td>\n",
              "      <td>0.159278</td>\n",
              "    </tr>\n",
              "    <tr>\n",
              "      <th>AKN</th>\n",
              "      <td>7.148148</td>\n",
              "      <td>18.037037</td>\n",
              "      <td>3.703704</td>\n",
              "      <td>67.370370</td>\n",
              "      <td>46.185185</td>\n",
              "      <td>12.148148</td>\n",
              "      <td>289.000000</td>\n",
              "      <td>4.185185</td>\n",
              "      <td>13.185185</td>\n",
              "      <td>1.962963</td>\n",
              "      <td>0.111111</td>\n",
              "    </tr>\n",
              "    <tr>\n",
              "      <th>ALB</th>\n",
              "      <td>6.233977</td>\n",
              "      <td>15.778902</td>\n",
              "      <td>3.931616</td>\n",
              "      <td>110.688132</td>\n",
              "      <td>85.283962</td>\n",
              "      <td>8.323214</td>\n",
              "      <td>626.665440</td>\n",
              "      <td>4.128795</td>\n",
              "      <td>17.647347</td>\n",
              "      <td>2.695799</td>\n",
              "      <td>0.133088</td>\n",
              "    </tr>\n",
              "    <tr>\n",
              "      <th>ALO</th>\n",
              "      <td>6.493333</td>\n",
              "      <td>15.986667</td>\n",
              "      <td>3.733333</td>\n",
              "      <td>58.240000</td>\n",
              "      <td>32.720000</td>\n",
              "      <td>6.946667</td>\n",
              "      <td>166.000000</td>\n",
              "      <td>4.360000</td>\n",
              "      <td>21.186667</td>\n",
              "      <td>4.000000</td>\n",
              "      <td>0.120000</td>\n",
              "    </tr>\n",
              "    <tr>\n",
              "      <th>AMA</th>\n",
              "      <td>6.410367</td>\n",
              "      <td>16.003780</td>\n",
              "      <td>3.890389</td>\n",
              "      <td>76.265119</td>\n",
              "      <td>56.234881</td>\n",
              "      <td>7.164147</td>\n",
              "      <td>364.628510</td>\n",
              "      <td>4.618790</td>\n",
              "      <td>12.086393</td>\n",
              "      <td>2.223002</td>\n",
              "      <td>0.120950</td>\n",
              "    </tr>\n",
              "    <tr>\n",
              "      <th>ANC</th>\n",
              "      <td>6.537783</td>\n",
              "      <td>15.748977</td>\n",
              "      <td>3.989236</td>\n",
              "      <td>187.487836</td>\n",
              "      <td>166.932400</td>\n",
              "      <td>7.284177</td>\n",
              "      <td>1250.238967</td>\n",
              "      <td>5.012702</td>\n",
              "      <td>13.980624</td>\n",
              "      <td>2.654682</td>\n",
              "      <td>0.134553</td>\n",
              "    </tr>\n",
              "    <tr>\n",
              "      <th>ASE</th>\n",
              "      <td>5.555842</td>\n",
              "      <td>16.339347</td>\n",
              "      <td>4.121993</td>\n",
              "      <td>67.487973</td>\n",
              "      <td>45.779210</td>\n",
              "      <td>10.284364</td>\n",
              "      <td>242.649485</td>\n",
              "      <td>3.570447</td>\n",
              "      <td>18.411512</td>\n",
              "      <td>2.207904</td>\n",
              "      <td>0.161512</td>\n",
              "    </tr>\n",
              "    <tr>\n",
              "      <th>ATL</th>\n",
              "      <td>6.523744</td>\n",
              "      <td>15.719099</td>\n",
              "      <td>3.928808</td>\n",
              "      <td>120.140042</td>\n",
              "      <td>93.849169</td>\n",
              "      <td>9.932391</td>\n",
              "      <td>642.488729</td>\n",
              "      <td>10.804290</td>\n",
              "      <td>15.695247</td>\n",
              "      <td>2.057529</td>\n",
              "      <td>0.134125</td>\n",
              "    </tr>\n",
              "    <tr>\n",
              "      <th>ATW</th>\n",
              "      <td>6.637807</td>\n",
              "      <td>16.038961</td>\n",
              "      <td>3.738817</td>\n",
              "      <td>70.114719</td>\n",
              "      <td>46.805195</td>\n",
              "      <td>10.433622</td>\n",
              "      <td>272.663781</td>\n",
              "      <td>4.601732</td>\n",
              "      <td>17.652237</td>\n",
              "      <td>2.434343</td>\n",
              "      <td>0.152958</td>\n",
              "    </tr>\n",
              "    <tr>\n",
              "      <th>AUS</th>\n",
              "      <td>6.277403</td>\n",
              "      <td>15.815227</td>\n",
              "      <td>3.879906</td>\n",
              "      <td>121.482571</td>\n",
              "      <td>98.024051</td>\n",
              "      <td>8.005850</td>\n",
              "      <td>703.205249</td>\n",
              "      <td>5.310636</td>\n",
              "      <td>15.355326</td>\n",
              "      <td>2.421142</td>\n",
              "      <td>0.126838</td>\n",
              "    </tr>\n",
              "    <tr>\n",
              "      <th>AVL</th>\n",
              "      <td>6.882246</td>\n",
              "      <td>15.713768</td>\n",
              "      <td>3.927536</td>\n",
              "      <td>91.769928</td>\n",
              "      <td>63.852355</td>\n",
              "      <td>9.119565</td>\n",
              "      <td>411.424819</td>\n",
              "      <td>3.814312</td>\n",
              "      <td>21.563406</td>\n",
              "      <td>2.512681</td>\n",
              "      <td>0.167572</td>\n",
              "    </tr>\n",
              "    <tr>\n",
              "      <th>AVP</th>\n",
              "      <td>6.461121</td>\n",
              "      <td>15.960217</td>\n",
              "      <td>3.869801</td>\n",
              "      <td>105.211573</td>\n",
              "      <td>76.779385</td>\n",
              "      <td>11.564195</td>\n",
              "      <td>558.728752</td>\n",
              "      <td>3.694394</td>\n",
              "      <td>21.292948</td>\n",
              "      <td>2.945750</td>\n",
              "      <td>0.182640</td>\n",
              "    </tr>\n",
              "    <tr>\n",
              "      <th>AZO</th>\n",
              "      <td>6.080447</td>\n",
              "      <td>15.307263</td>\n",
              "      <td>3.915084</td>\n",
              "      <td>52.378771</td>\n",
              "      <td>27.693855</td>\n",
              "      <td>9.262570</td>\n",
              "      <td>142.689385</td>\n",
              "      <td>4.498324</td>\n",
              "      <td>19.031285</td>\n",
              "      <td>2.439106</td>\n",
              "      <td>0.157542</td>\n",
              "    </tr>\n",
              "    <tr>\n",
              "      <th>BDL</th>\n",
              "      <td>6.250000</td>\n",
              "      <td>15.854029</td>\n",
              "      <td>3.893212</td>\n",
              "      <td>127.297185</td>\n",
              "      <td>102.241170</td>\n",
              "      <td>7.718129</td>\n",
              "      <td>771.280353</td>\n",
              "      <td>5.487721</td>\n",
              "      <td>16.936120</td>\n",
              "      <td>2.591611</td>\n",
              "      <td>0.130519</td>\n",
              "    </tr>\n",
              "    <tr>\n",
              "      <th>BET</th>\n",
              "      <td>6.554167</td>\n",
              "      <td>15.737500</td>\n",
              "      <td>3.808333</td>\n",
              "      <td>76.666667</td>\n",
              "      <td>60.420833</td>\n",
              "      <td>6.029167</td>\n",
              "      <td>399.000000</td>\n",
              "      <td>3.391667</td>\n",
              "      <td>11.791667</td>\n",
              "      <td>2.116667</td>\n",
              "      <td>0.120833</td>\n",
              "    </tr>\n",
              "    <tr>\n",
              "      <th>BFL</th>\n",
              "      <td>6.120918</td>\n",
              "      <td>15.899382</td>\n",
              "      <td>3.962930</td>\n",
              "      <td>85.548985</td>\n",
              "      <td>62.150927</td>\n",
              "      <td>6.875552</td>\n",
              "      <td>361.554281</td>\n",
              "      <td>4.519859</td>\n",
              "      <td>18.315975</td>\n",
              "      <td>2.403354</td>\n",
              "      <td>0.109444</td>\n",
              "    </tr>\n",
              "    <tr>\n",
              "      <th>BGM</th>\n",
              "      <td>6.582857</td>\n",
              "      <td>15.354286</td>\n",
              "      <td>4.074286</td>\n",
              "      <td>83.348571</td>\n",
              "      <td>54.960000</td>\n",
              "      <td>4.548571</td>\n",
              "      <td>378.000000</td>\n",
              "      <td>5.125714</td>\n",
              "      <td>19.942857</td>\n",
              "      <td>2.960000</td>\n",
              "      <td>0.114286</td>\n",
              "    </tr>\n",
              "    <tr>\n",
              "      <th>BGR</th>\n",
              "      <td>6.587021</td>\n",
              "      <td>16.501475</td>\n",
              "      <td>4.128319</td>\n",
              "      <td>105.939528</td>\n",
              "      <td>74.337758</td>\n",
              "      <td>9.728614</td>\n",
              "      <td>538.255162</td>\n",
              "      <td>5.352507</td>\n",
              "      <td>23.051622</td>\n",
              "      <td>2.560472</td>\n",
              "      <td>0.165192</td>\n",
              "    </tr>\n",
              "    <tr>\n",
              "      <th>BHM</th>\n",
              "      <td>6.422439</td>\n",
              "      <td>15.725353</td>\n",
              "      <td>3.906997</td>\n",
              "      <td>98.212528</td>\n",
              "      <td>74.733031</td>\n",
              "      <td>7.162450</td>\n",
              "      <td>516.703717</td>\n",
              "      <td>3.781539</td>\n",
              "      <td>16.234863</td>\n",
              "      <td>2.193160</td>\n",
              "      <td>0.128075</td>\n",
              "    </tr>\n",
              "    <tr>\n",
              "      <th>...</th>\n",
              "      <td>...</td>\n",
              "      <td>...</td>\n",
              "      <td>...</td>\n",
              "      <td>...</td>\n",
              "      <td>...</td>\n",
              "      <td>...</td>\n",
              "      <td>...</td>\n",
              "      <td>...</td>\n",
              "      <td>...</td>\n",
              "      <td>...</td>\n",
              "      <td>...</td>\n",
              "    </tr>\n",
              "    <tr>\n",
              "      <th>SPS</th>\n",
              "      <td>5.106430</td>\n",
              "      <td>16.252772</td>\n",
              "      <td>3.946785</td>\n",
              "      <td>56.286031</td>\n",
              "      <td>31.108647</td>\n",
              "      <td>3.529933</td>\n",
              "      <td>113.000000</td>\n",
              "      <td>6.503326</td>\n",
              "      <td>15.791574</td>\n",
              "      <td>2.212860</td>\n",
              "      <td>0.110865</td>\n",
              "    </tr>\n",
              "    <tr>\n",
              "      <th>SRQ</th>\n",
              "      <td>5.756292</td>\n",
              "      <td>15.445672</td>\n",
              "      <td>4.077962</td>\n",
              "      <td>121.324125</td>\n",
              "      <td>97.929405</td>\n",
              "      <td>10.340086</td>\n",
              "      <td>686.143033</td>\n",
              "      <td>4.383671</td>\n",
              "      <td>19.988950</td>\n",
              "      <td>2.130755</td>\n",
              "      <td>0.138735</td>\n",
              "    </tr>\n",
              "    <tr>\n",
              "      <th>STL</th>\n",
              "      <td>6.456413</td>\n",
              "      <td>15.654749</td>\n",
              "      <td>3.891699</td>\n",
              "      <td>118.955470</td>\n",
              "      <td>95.946889</td>\n",
              "      <td>6.811675</td>\n",
              "      <td>675.353702</td>\n",
              "      <td>4.969772</td>\n",
              "      <td>15.208737</td>\n",
              "      <td>2.257947</td>\n",
              "      <td>0.116687</td>\n",
              "    </tr>\n",
              "    <tr>\n",
              "      <th>STT</th>\n",
              "      <td>6.036885</td>\n",
              "      <td>15.942623</td>\n",
              "      <td>4.323770</td>\n",
              "      <td>200.968579</td>\n",
              "      <td>170.967213</td>\n",
              "      <td>8.352459</td>\n",
              "      <td>1387.489071</td>\n",
              "      <td>4.806011</td>\n",
              "      <td>22.975410</td>\n",
              "      <td>2.084699</td>\n",
              "      <td>0.132514</td>\n",
              "    </tr>\n",
              "    <tr>\n",
              "      <th>STX</th>\n",
              "      <td>5.854545</td>\n",
              "      <td>15.763636</td>\n",
              "      <td>4.318182</td>\n",
              "      <td>174.509091</td>\n",
              "      <td>153.409091</td>\n",
              "      <td>10.281818</td>\n",
              "      <td>1270.945455</td>\n",
              "      <td>3.545455</td>\n",
              "      <td>18.163636</td>\n",
              "      <td>2.000000</td>\n",
              "      <td>0.127273</td>\n",
              "    </tr>\n",
              "    <tr>\n",
              "      <th>SUN</th>\n",
              "      <td>6.235876</td>\n",
              "      <td>15.851695</td>\n",
              "      <td>4.066384</td>\n",
              "      <td>70.686441</td>\n",
              "      <td>51.484463</td>\n",
              "      <td>-0.275424</td>\n",
              "      <td>223.000000</td>\n",
              "      <td>3.015537</td>\n",
              "      <td>14.868644</td>\n",
              "      <td>2.142655</td>\n",
              "      <td>0.039548</td>\n",
              "    </tr>\n",
              "    <tr>\n",
              "      <th>SUX</th>\n",
              "      <td>3.185185</td>\n",
              "      <td>16.407407</td>\n",
              "      <td>3.333333</td>\n",
              "      <td>67.407407</td>\n",
              "      <td>41.740741</td>\n",
              "      <td>3.481481</td>\n",
              "      <td>234.000000</td>\n",
              "      <td>3.296296</td>\n",
              "      <td>16.370370</td>\n",
              "      <td>2.518519</td>\n",
              "      <td>0.148148</td>\n",
              "    </tr>\n",
              "    <tr>\n",
              "      <th>SWF</th>\n",
              "      <td>5.495327</td>\n",
              "      <td>15.880374</td>\n",
              "      <td>3.983178</td>\n",
              "      <td>147.048598</td>\n",
              "      <td>119.081308</td>\n",
              "      <td>8.217757</td>\n",
              "      <td>842.043925</td>\n",
              "      <td>5.391589</td>\n",
              "      <td>18.443925</td>\n",
              "      <td>2.814019</td>\n",
              "      <td>0.135514</td>\n",
              "    </tr>\n",
              "    <tr>\n",
              "      <th>SYR</th>\n",
              "      <td>6.282016</td>\n",
              "      <td>15.766655</td>\n",
              "      <td>3.943735</td>\n",
              "      <td>99.522955</td>\n",
              "      <td>71.092509</td>\n",
              "      <td>11.319986</td>\n",
              "      <td>498.867449</td>\n",
              "      <td>4.702451</td>\n",
              "      <td>22.329997</td>\n",
              "      <td>2.611667</td>\n",
              "      <td>0.170521</td>\n",
              "    </tr>\n",
              "    <tr>\n",
              "      <th>TEX</th>\n",
              "      <td>3.295455</td>\n",
              "      <td>18.090909</td>\n",
              "      <td>3.909091</td>\n",
              "      <td>115.318182</td>\n",
              "      <td>88.931818</td>\n",
              "      <td>7.613636</td>\n",
              "      <td>387.000000</td>\n",
              "      <td>5.727273</td>\n",
              "      <td>21.977273</td>\n",
              "      <td>1.545455</td>\n",
              "      <td>0.068182</td>\n",
              "    </tr>\n",
              "    <tr>\n",
              "      <th>TLH</th>\n",
              "      <td>6.823724</td>\n",
              "      <td>15.582505</td>\n",
              "      <td>3.911862</td>\n",
              "      <td>78.800530</td>\n",
              "      <td>53.102717</td>\n",
              "      <td>6.690524</td>\n",
              "      <td>346.272366</td>\n",
              "      <td>3.699801</td>\n",
              "      <td>19.070245</td>\n",
              "      <td>2.341286</td>\n",
              "      <td>0.124586</td>\n",
              "    </tr>\n",
              "    <tr>\n",
              "      <th>TOL</th>\n",
              "      <td>6.235821</td>\n",
              "      <td>15.522388</td>\n",
              "      <td>4.038806</td>\n",
              "      <td>60.286567</td>\n",
              "      <td>38.886567</td>\n",
              "      <td>11.414925</td>\n",
              "      <td>244.507463</td>\n",
              "      <td>3.020896</td>\n",
              "      <td>17.892537</td>\n",
              "      <td>2.552239</td>\n",
              "      <td>0.167164</td>\n",
              "    </tr>\n",
              "    <tr>\n",
              "      <th>TPA</th>\n",
              "      <td>6.300517</td>\n",
              "      <td>15.866219</td>\n",
              "      <td>3.961467</td>\n",
              "      <td>138.654184</td>\n",
              "      <td>114.754494</td>\n",
              "      <td>6.746849</td>\n",
              "      <td>829.043079</td>\n",
              "      <td>4.696591</td>\n",
              "      <td>16.323244</td>\n",
              "      <td>2.391012</td>\n",
              "      <td>0.119421</td>\n",
              "    </tr>\n",
              "    <tr>\n",
              "      <th>TRI</th>\n",
              "      <td>6.782101</td>\n",
              "      <td>15.215953</td>\n",
              "      <td>3.879377</td>\n",
              "      <td>69.885214</td>\n",
              "      <td>42.071984</td>\n",
              "      <td>5.896887</td>\n",
              "      <td>229.198444</td>\n",
              "      <td>4.005837</td>\n",
              "      <td>19.363813</td>\n",
              "      <td>2.412451</td>\n",
              "      <td>0.132296</td>\n",
              "    </tr>\n",
              "    <tr>\n",
              "      <th>TUL</th>\n",
              "      <td>6.434270</td>\n",
              "      <td>15.655047</td>\n",
              "      <td>3.904093</td>\n",
              "      <td>99.029657</td>\n",
              "      <td>76.708984</td>\n",
              "      <td>9.772459</td>\n",
              "      <td>525.915539</td>\n",
              "      <td>4.522719</td>\n",
              "      <td>15.678113</td>\n",
              "      <td>2.459070</td>\n",
              "      <td>0.140652</td>\n",
              "    </tr>\n",
              "    <tr>\n",
              "      <th>TUP</th>\n",
              "      <td>1.000000</td>\n",
              "      <td>3.000000</td>\n",
              "      <td>4.000000</td>\n",
              "      <td>71.000000</td>\n",
              "      <td>41.000000</td>\n",
              "      <td>-15.000000</td>\n",
              "      <td>253.000000</td>\n",
              "      <td>1.000000</td>\n",
              "      <td>17.000000</td>\n",
              "      <td>2.000000</td>\n",
              "      <td>0.000000</td>\n",
              "    </tr>\n",
              "    <tr>\n",
              "      <th>TUS</th>\n",
              "      <td>6.075648</td>\n",
              "      <td>15.618229</td>\n",
              "      <td>3.980206</td>\n",
              "      <td>118.363204</td>\n",
              "      <td>95.571122</td>\n",
              "      <td>6.103882</td>\n",
              "      <td>669.807273</td>\n",
              "      <td>4.717508</td>\n",
              "      <td>15.487648</td>\n",
              "      <td>2.436090</td>\n",
              "      <td>0.114623</td>\n",
              "    </tr>\n",
              "    <tr>\n",
              "      <th>TVC</th>\n",
              "      <td>6.591262</td>\n",
              "      <td>15.498058</td>\n",
              "      <td>4.019417</td>\n",
              "      <td>68.222330</td>\n",
              "      <td>43.720388</td>\n",
              "      <td>10.566019</td>\n",
              "      <td>253.588350</td>\n",
              "      <td>4.067961</td>\n",
              "      <td>19.417476</td>\n",
              "      <td>2.458252</td>\n",
              "      <td>0.167961</td>\n",
              "    </tr>\n",
              "    <tr>\n",
              "      <th>TWF</th>\n",
              "      <td>5.876890</td>\n",
              "      <td>14.984881</td>\n",
              "      <td>4.161987</td>\n",
              "      <td>62.291577</td>\n",
              "      <td>41.524838</td>\n",
              "      <td>1.971922</td>\n",
              "      <td>175.000000</td>\n",
              "      <td>3.563715</td>\n",
              "      <td>15.336933</td>\n",
              "      <td>2.431965</td>\n",
              "      <td>0.069114</td>\n",
              "    </tr>\n",
              "    <tr>\n",
              "      <th>TXK</th>\n",
              "      <td>6.415873</td>\n",
              "      <td>15.269841</td>\n",
              "      <td>4.015873</td>\n",
              "      <td>61.333333</td>\n",
              "      <td>37.911111</td>\n",
              "      <td>5.936508</td>\n",
              "      <td>181.000000</td>\n",
              "      <td>3.761905</td>\n",
              "      <td>18.361905</td>\n",
              "      <td>2.031746</td>\n",
              "      <td>0.098413</td>\n",
              "    </tr>\n",
              "    <tr>\n",
              "      <th>TYR</th>\n",
              "      <td>5.617801</td>\n",
              "      <td>16.628272</td>\n",
              "      <td>3.934555</td>\n",
              "      <td>48.641361</td>\n",
              "      <td>25.814136</td>\n",
              "      <td>7.403141</td>\n",
              "      <td>103.000000</td>\n",
              "      <td>4.688482</td>\n",
              "      <td>18.170157</td>\n",
              "      <td>2.023560</td>\n",
              "      <td>0.107330</td>\n",
              "    </tr>\n",
              "    <tr>\n",
              "      <th>TYS</th>\n",
              "      <td>6.607861</td>\n",
              "      <td>15.653073</td>\n",
              "      <td>3.848109</td>\n",
              "      <td>98.117612</td>\n",
              "      <td>70.848995</td>\n",
              "      <td>7.689716</td>\n",
              "      <td>497.263002</td>\n",
              "      <td>4.571217</td>\n",
              "      <td>20.316489</td>\n",
              "      <td>2.524527</td>\n",
              "      <td>0.139775</td>\n",
              "    </tr>\n",
              "    <tr>\n",
              "      <th>VLD</th>\n",
              "      <td>6.643725</td>\n",
              "      <td>16.255061</td>\n",
              "      <td>4.008097</td>\n",
              "      <td>63.392713</td>\n",
              "      <td>35.797571</td>\n",
              "      <td>9.360324</td>\n",
              "      <td>208.000000</td>\n",
              "      <td>3.829960</td>\n",
              "      <td>22.295547</td>\n",
              "      <td>2.453441</td>\n",
              "      <td>0.174089</td>\n",
              "    </tr>\n",
              "    <tr>\n",
              "      <th>VPS</th>\n",
              "      <td>6.443142</td>\n",
              "      <td>15.735639</td>\n",
              "      <td>3.957210</td>\n",
              "      <td>92.540445</td>\n",
              "      <td>64.887456</td>\n",
              "      <td>10.842321</td>\n",
              "      <td>422.228605</td>\n",
              "      <td>7.478898</td>\n",
              "      <td>20.092028</td>\n",
              "      <td>2.233294</td>\n",
              "      <td>0.138335</td>\n",
              "    </tr>\n",
              "    <tr>\n",
              "      <th>WRG</th>\n",
              "      <td>6.298701</td>\n",
              "      <td>16.175325</td>\n",
              "      <td>3.831169</td>\n",
              "      <td>36.435065</td>\n",
              "      <td>19.474026</td>\n",
              "      <td>8.272727</td>\n",
              "      <td>57.162338</td>\n",
              "      <td>3.818182</td>\n",
              "      <td>11.512987</td>\n",
              "      <td>1.629870</td>\n",
              "      <td>0.175325</td>\n",
              "    </tr>\n",
              "    <tr>\n",
              "      <th>WYS</th>\n",
              "      <td>7.653333</td>\n",
              "      <td>16.560000</td>\n",
              "      <td>4.040000</td>\n",
              "      <td>89.213333</td>\n",
              "      <td>59.666667</td>\n",
              "      <td>-3.080000</td>\n",
              "      <td>273.000000</td>\n",
              "      <td>3.720000</td>\n",
              "      <td>18.733333</td>\n",
              "      <td>2.013333</td>\n",
              "      <td>0.053333</td>\n",
              "    </tr>\n",
              "    <tr>\n",
              "      <th>XNA</th>\n",
              "      <td>6.465306</td>\n",
              "      <td>15.674344</td>\n",
              "      <td>3.782216</td>\n",
              "      <td>109.096210</td>\n",
              "      <td>83.562391</td>\n",
              "      <td>11.786880</td>\n",
              "      <td>559.647230</td>\n",
              "      <td>5.000000</td>\n",
              "      <td>19.505831</td>\n",
              "      <td>2.399708</td>\n",
              "      <td>0.167347</td>\n",
              "    </tr>\n",
              "    <tr>\n",
              "      <th>YAK</th>\n",
              "      <td>6.758427</td>\n",
              "      <td>16.449438</td>\n",
              "      <td>4.123596</td>\n",
              "      <td>53.337079</td>\n",
              "      <td>37.404494</td>\n",
              "      <td>15.747191</td>\n",
              "      <td>206.314607</td>\n",
              "      <td>4.117978</td>\n",
              "      <td>11.516854</td>\n",
              "      <td>2.044944</td>\n",
              "      <td>0.213483</td>\n",
              "    </tr>\n",
              "    <tr>\n",
              "      <th>YKM</th>\n",
              "      <td>4.517241</td>\n",
              "      <td>15.183908</td>\n",
              "      <td>3.781609</td>\n",
              "      <td>102.137931</td>\n",
              "      <td>85.114943</td>\n",
              "      <td>6.080460</td>\n",
              "      <td>586.000000</td>\n",
              "      <td>4.241379</td>\n",
              "      <td>18.586207</td>\n",
              "      <td>3.057471</td>\n",
              "      <td>0.091954</td>\n",
              "    </tr>\n",
              "    <tr>\n",
              "      <th>YUM</th>\n",
              "      <td>5.876862</td>\n",
              "      <td>15.733863</td>\n",
              "      <td>3.958292</td>\n",
              "      <td>69.856008</td>\n",
              "      <td>45.924528</td>\n",
              "      <td>0.685204</td>\n",
              "      <td>217.886792</td>\n",
              "      <td>5.170804</td>\n",
              "      <td>18.224429</td>\n",
              "      <td>2.509434</td>\n",
              "      <td>0.071500</td>\n",
              "    </tr>\n",
              "  </tbody>\n",
              "</table>\n",
              "<p>302 rows × 11 columns</p>\n",
              "</div>"
            ],
            "text/plain": [
              "         Month  DayofMonth  DayOfWeek  ...    TaxiOut      PotD     Delay\n",
              "Dest                                   ...                               \n",
              "ABE   6.564784   15.637874   3.922757  ...  20.000000  2.694352  0.145349\n",
              "ABI   6.230284   15.307571   4.052050  ...  15.003155  2.687697  0.129338\n",
              "ABQ   6.432276   15.668795   3.947353  ...  13.469993  2.268638  0.109125\n",
              "ABY   6.245487   16.119134   3.956679  ...  23.129964  2.592058  0.101083\n",
              "ACK   7.240385   17.596154   4.163462  ...  35.721154  2.269231  0.240385\n",
              "ACT   6.046875   16.007812   4.039062  ...  14.640625  2.250000  0.097656\n",
              "ACV   6.743444   15.493729   3.857469  ...  15.858609  2.437856  0.160775\n",
              "ACY   2.478261   16.913043   3.652174  ...  20.956522  3.043478  0.130435\n",
              "ADK   6.034483   13.000000   5.344828  ...  13.827586  2.689655  0.034483\n",
              "ADQ   6.518072   16.451807   3.698795  ...  12.813253  1.632530  0.072289\n",
              "AEX   6.236577   15.171141   4.062081  ...  20.166107  2.290268  0.130872\n",
              "AGS   6.697865   15.308703   3.898194  ...  22.075534  2.259442  0.159278\n",
              "AKN   7.148148   18.037037   3.703704  ...  13.185185  1.962963  0.111111\n",
              "ALB   6.233977   15.778902   3.931616  ...  17.647347  2.695799  0.133088\n",
              "ALO   6.493333   15.986667   3.733333  ...  21.186667  4.000000  0.120000\n",
              "AMA   6.410367   16.003780   3.890389  ...  12.086393  2.223002  0.120950\n",
              "ANC   6.537783   15.748977   3.989236  ...  13.980624  2.654682  0.134553\n",
              "ASE   5.555842   16.339347   4.121993  ...  18.411512  2.207904  0.161512\n",
              "ATL   6.523744   15.719099   3.928808  ...  15.695247  2.057529  0.134125\n",
              "ATW   6.637807   16.038961   3.738817  ...  17.652237  2.434343  0.152958\n",
              "AUS   6.277403   15.815227   3.879906  ...  15.355326  2.421142  0.126838\n",
              "AVL   6.882246   15.713768   3.927536  ...  21.563406  2.512681  0.167572\n",
              "AVP   6.461121   15.960217   3.869801  ...  21.292948  2.945750  0.182640\n",
              "AZO   6.080447   15.307263   3.915084  ...  19.031285  2.439106  0.157542\n",
              "BDL   6.250000   15.854029   3.893212  ...  16.936120  2.591611  0.130519\n",
              "BET   6.554167   15.737500   3.808333  ...  11.791667  2.116667  0.120833\n",
              "BFL   6.120918   15.899382   3.962930  ...  18.315975  2.403354  0.109444\n",
              "BGM   6.582857   15.354286   4.074286  ...  19.942857  2.960000  0.114286\n",
              "BGR   6.587021   16.501475   4.128319  ...  23.051622  2.560472  0.165192\n",
              "BHM   6.422439   15.725353   3.906997  ...  16.234863  2.193160  0.128075\n",
              "...        ...         ...        ...  ...        ...       ...       ...\n",
              "SPS   5.106430   16.252772   3.946785  ...  15.791574  2.212860  0.110865\n",
              "SRQ   5.756292   15.445672   4.077962  ...  19.988950  2.130755  0.138735\n",
              "STL   6.456413   15.654749   3.891699  ...  15.208737  2.257947  0.116687\n",
              "STT   6.036885   15.942623   4.323770  ...  22.975410  2.084699  0.132514\n",
              "STX   5.854545   15.763636   4.318182  ...  18.163636  2.000000  0.127273\n",
              "SUN   6.235876   15.851695   4.066384  ...  14.868644  2.142655  0.039548\n",
              "SUX   3.185185   16.407407   3.333333  ...  16.370370  2.518519  0.148148\n",
              "SWF   5.495327   15.880374   3.983178  ...  18.443925  2.814019  0.135514\n",
              "SYR   6.282016   15.766655   3.943735  ...  22.329997  2.611667  0.170521\n",
              "TEX   3.295455   18.090909   3.909091  ...  21.977273  1.545455  0.068182\n",
              "TLH   6.823724   15.582505   3.911862  ...  19.070245  2.341286  0.124586\n",
              "TOL   6.235821   15.522388   4.038806  ...  17.892537  2.552239  0.167164\n",
              "TPA   6.300517   15.866219   3.961467  ...  16.323244  2.391012  0.119421\n",
              "TRI   6.782101   15.215953   3.879377  ...  19.363813  2.412451  0.132296\n",
              "TUL   6.434270   15.655047   3.904093  ...  15.678113  2.459070  0.140652\n",
              "TUP   1.000000    3.000000   4.000000  ...  17.000000  2.000000  0.000000\n",
              "TUS   6.075648   15.618229   3.980206  ...  15.487648  2.436090  0.114623\n",
              "TVC   6.591262   15.498058   4.019417  ...  19.417476  2.458252  0.167961\n",
              "TWF   5.876890   14.984881   4.161987  ...  15.336933  2.431965  0.069114\n",
              "TXK   6.415873   15.269841   4.015873  ...  18.361905  2.031746  0.098413\n",
              "TYR   5.617801   16.628272   3.934555  ...  18.170157  2.023560  0.107330\n",
              "TYS   6.607861   15.653073   3.848109  ...  20.316489  2.524527  0.139775\n",
              "VLD   6.643725   16.255061   4.008097  ...  22.295547  2.453441  0.174089\n",
              "VPS   6.443142   15.735639   3.957210  ...  20.092028  2.233294  0.138335\n",
              "WRG   6.298701   16.175325   3.831169  ...  11.512987  1.629870  0.175325\n",
              "WYS   7.653333   16.560000   4.040000  ...  18.733333  2.013333  0.053333\n",
              "XNA   6.465306   15.674344   3.782216  ...  19.505831  2.399708  0.167347\n",
              "YAK   6.758427   16.449438   4.123596  ...  11.516854  2.044944  0.213483\n",
              "YKM   4.517241   15.183908   3.781609  ...  18.586207  3.057471  0.091954\n",
              "YUM   5.876862   15.733863   3.958292  ...  18.224429  2.509434  0.071500\n",
              "\n",
              "[302 rows x 11 columns]"
            ]
          },
          "metadata": {
            "tags": []
          },
          "execution_count": 16
        }
      ]
    },
    {
      "cell_type": "code",
      "metadata": {
        "colab_type": "code",
        "id": "PVwAtKjmCb5t",
        "outputId": "f3d190a8-f4ef-48ed-8ddc-7d5e1b043b14",
        "colab": {
          "base_uri": "https://localhost:8080/",
          "height": 300
        }
      },
      "source": [
        "# Bias check\n",
        "sns.countplot(x=\"Delay\", data=df)"
      ],
      "execution_count": 17,
      "outputs": [
        {
          "output_type": "execute_result",
          "data": {
            "text/plain": [
              "<matplotlib.axes._subplots.AxesSubplot at 0x7fc840c25278>"
            ]
          },
          "metadata": {
            "tags": []
          },
          "execution_count": 17
        },
        {
          "output_type": "display_data",
          "data": {
            "image/png": "[encoded data removed]",
            "text/plain": [
              "<Figure size 432x288 with 1 Axes>"
            ]
          },
          "metadata": {
            "tags": []
          }
        }
      ]
    },
    {
      "cell_type": "code",
      "metadata": {
        "colab_type": "code",
        "id": "ZUOcxCoaCb5w",
        "colab": {}
      },
      "source": [
        "# Check Correlation\n",
        "def cramers_corrected_stat(x, y):\n",
        "\n",
        "    \"\"\" calculate Cramers V statistic for categorial-categorial association.\n",
        "        uses correction from Bergsma and Wicher, \n",
        "        Journal of the Korean Statistical Society 42 (2013): 323-328\n",
        "    \"\"\"\n",
        "    result=-1\n",
        "    if len(x.value_counts())==1 :\n",
        "        print(\"First variable is constant\")\n",
        "    elif len(y.value_counts())==1:\n",
        "        print(\"Second variable is constant\")\n",
        "    else:   \n",
        "        conf_matrix=pd.crosstab(x, y)\n",
        "\n",
        "        if conf_matrix.shape[0]==2:\n",
        "            correct=False\n",
        "        else:\n",
        "            correct=True\n",
        "\n",
        "        chi2 = ss.chi2_contingency(conf_matrix, correction=correct)[0]\n",
        "\n",
        "        n = sum(conf_matrix.sum())\n",
        "        phi2 = chi2/n\n",
        "        r,k = conf_matrix.shape\n",
        "        phi2corr = max(0, phi2 - ((k-1)*(r-1))/(n-1))    \n",
        "        rcorr = r - ((r-1)**2)/(n-1)\n",
        "        kcorr = k - ((k-1)**2)/(n-1)\n",
        "        result=np.sqrt(phi2corr / min( (kcorr-1), (rcorr-1)))\n",
        "    return round(result,6)"
      ],
      "execution_count": 0,
      "outputs": []
    },
    {
      "cell_type": "markdown",
      "metadata": {
        "colab_type": "text",
        "id": "YcEcTd_4Cb52"
      },
      "source": [
        "#### Month"
      ]
    },
    {
      "cell_type": "code",
      "metadata": {
        "colab_type": "code",
        "id": "zmsrmVkRCb54",
        "outputId": "c5a80983-8d29-4014-9015-d1dab9ad8d03",
        "colab": {
          "base_uri": "https://localhost:8080/",
          "height": 300
        }
      },
      "source": [
        "sns.boxplot(x='Month', y='ArrDelay', data=df) #x is feature, y is target"
      ],
      "execution_count": 19,
      "outputs": [
        {
          "output_type": "execute_result",
          "data": {
            "text/plain": [
              "<matplotlib.axes._subplots.AxesSubplot at 0x7fc840798f28>"
            ]
          },
          "metadata": {
            "tags": []
          },
          "execution_count": 19
        },
        {
          "output_type": "display_data",
          "data": {
            "image/png": "[encoded data removed]",
            "text/plain": [
              "<Figure size 432x288 with 1 Axes>"
            ]
          },
          "metadata": {
            "tags": []
          }
        }
      ]
    },
    {
      "cell_type": "code",
      "metadata": {
        "colab_type": "code",
        "id": "vSwX_SjUCb57",
        "outputId": "f8e85530-fba8-4979-be82-849ce5ab4217",
        "colab": {
          "base_uri": "https://localhost:8080/",
          "height": 34
        }
      },
      "source": [
        "cramers_corrected_stat(df['Delay'], df['Month'])"
      ],
      "execution_count": 20,
      "outputs": [
        {
          "output_type": "execute_result",
          "data": {
            "text/plain": [
              "0.118474"
            ]
          },
          "metadata": {
            "tags": []
          },
          "execution_count": 20
        }
      ]
    },
    {
      "cell_type": "markdown",
      "metadata": {
        "colab_type": "text",
        "id": "Hd2LzvnWCb5-"
      },
      "source": [
        "#### DayofMonth"
      ]
    },
    {
      "cell_type": "code",
      "metadata": {
        "colab_type": "code",
        "id": "aAGevow4Cb5-",
        "outputId": "21d583cf-a237-4d34-906d-e45b0fc5dd21",
        "colab": {
          "base_uri": "https://localhost:8080/",
          "height": 300
        }
      },
      "source": [
        "sns.boxplot(x='DayofMonth', y='ArrDelay', data=df) #x is feature, y is target"
      ],
      "execution_count": 21,
      "outputs": [
        {
          "output_type": "execute_result",
          "data": {
            "text/plain": [
              "<matplotlib.axes._subplots.AxesSubplot at 0x7fc840958208>"
            ]
          },
          "metadata": {
            "tags": []
          },
          "execution_count": 21
        },
        {
          "output_type": "display_data",
          "data": {
            "image/png": "[encoded data removed]",
            "text/plain": [
              "<Figure size 432x288 with 1 Axes>"
            ]
          },
          "metadata": {
            "tags": []
          }
        }
      ]
    },
    {
      "cell_type": "code",
      "metadata": {
        "colab_type": "code",
        "id": "8Z3P_reNCb6B",
        "outputId": "e36b6931-2e24-4f58-ef7a-bc6fe3844d96",
        "colab": {
          "base_uri": "https://localhost:8080/",
          "height": 34
        }
      },
      "source": [
        "cramers_corrected_stat(df['Delay'], df['DayofMonth'])"
      ],
      "execution_count": 22,
      "outputs": [
        {
          "output_type": "execute_result",
          "data": {
            "text/plain": [
              "0.034684"
            ]
          },
          "metadata": {
            "tags": []
          },
          "execution_count": 22
        }
      ]
    },
    {
      "cell_type": "markdown",
      "metadata": {
        "colab_type": "text",
        "id": "r6lIyyL6Cb6F"
      },
      "source": [
        "#### Weekend"
      ]
    },
    {
      "cell_type": "code",
      "metadata": {
        "colab_type": "code",
        "id": "tqmaURcDCb6G",
        "outputId": "646343c1-fb51-4df2-c347-1b93efcd5a41",
        "colab": {
          "base_uri": "https://localhost:8080/",
          "height": 300
        }
      },
      "source": [
        "sns.boxplot(x='DayOfWeek', y='ArrDelay', data=df) #x is feature, y is target"
      ],
      "execution_count": 23,
      "outputs": [
        {
          "output_type": "execute_result",
          "data": {
            "text/plain": [
              "<matplotlib.axes._subplots.AxesSubplot at 0x7fc8410bfa58>"
            ]
          },
          "metadata": {
            "tags": []
          },
          "execution_count": 23
        },
        {
          "output_type": "display_data",
          "data": {
            "image/png": "[encoded data removed]",
            "text/plain": [
              "<Figure size 432x288 with 1 Axes>"
            ]
          },
          "metadata": {
            "tags": []
          }
        }
      ]
    },
    {
      "cell_type": "code",
      "metadata": {
        "colab_type": "code",
        "id": "0oCLQyGxCb6I",
        "outputId": "3087f087-b053-4ad1-bd92-abe246a2de53",
        "colab": {
          "base_uri": "https://localhost:8080/",
          "height": 34
        }
      },
      "source": [
        "cramers_corrected_stat(df['Delay'], df['DayOfWeek'])"
      ],
      "execution_count": 24,
      "outputs": [
        {
          "output_type": "execute_result",
          "data": {
            "text/plain": [
              "0.03572"
            ]
          },
          "metadata": {
            "tags": []
          },
          "execution_count": 24
        }
      ]
    },
    {
      "cell_type": "markdown",
      "metadata": {
        "colab_type": "text",
        "id": "PwNTysHuCb6K"
      },
      "source": [
        "#### Parts of the Day"
      ]
    },
    {
      "cell_type": "code",
      "metadata": {
        "colab_type": "code",
        "id": "r-HgBwrpCb6L",
        "outputId": "1bbf22bf-5310-4faf-aa12-1a258e420467",
        "colab": {
          "base_uri": "https://localhost:8080/",
          "height": 300
        }
      },
      "source": [
        "sns.heatmap(pd.crosstab(df['Delay'], df['PotD'], normalize='index'))"
      ],
      "execution_count": 25,
      "outputs": [
        {
          "output_type": "execute_result",
          "data": {
            "text/plain": [
              "<matplotlib.axes._subplots.AxesSubplot at 0x7fc83da546d8>"
            ]
          },
          "metadata": {
            "tags": []
          },
          "execution_count": 25
        },
        {
          "output_type": "display_data",
          "data": {
            "image/png": "[encoded data removed]",
            "text/plain": [
              "<Figure size 432x288 with 2 Axes>"
            ]
          },
          "metadata": {
            "tags": []
          }
        }
      ]
    },
    {
      "cell_type": "code",
      "metadata": {
        "colab_type": "code",
        "id": "YxF200Q4Cb6O",
        "outputId": "803c977c-edd3-4a5d-f16c-700b8b567656",
        "colab": {
          "base_uri": "https://localhost:8080/",
          "height": 34
        }
      },
      "source": [
        "cramers_corrected_stat(df['Delay'], df['PotD'])"
      ],
      "execution_count": 26,
      "outputs": [
        {
          "output_type": "execute_result",
          "data": {
            "text/plain": [
              "0.136458"
            ]
          },
          "metadata": {
            "tags": []
          },
          "execution_count": 26
        }
      ]
    },
    {
      "cell_type": "markdown",
      "metadata": {
        "colab_type": "text",
        "id": "8CVxw27BCb6Z"
      },
      "source": [
        "## Model evaluation\n",
        "We will use F1 score as the evaluation metric. Our target value is binary so it’s a binary classification problem, and out data is inbalance, so in this case F1 score is a good way for evaluation for this type of problems."
      ]
    },
    {
      "cell_type": "code",
      "metadata": {
        "id": "opbue_zm6Mff",
        "colab_type": "code",
        "colab": {}
      },
      "source": [
        "# Create a copy of original dataset\n",
        "df_backup = df.copy()"
      ],
      "execution_count": 0,
      "outputs": []
    },
    {
      "cell_type": "markdown",
      "metadata": {
        "colab_type": "text",
        "id": "WRzHch9s_cG_"
      },
      "source": [
        "### Logistic Regression"
      ]
    },
    {
      "cell_type": "code",
      "metadata": {
        "id": "x880AuEO6Mfk",
        "colab_type": "code",
        "colab": {}
      },
      "source": [
        "df = df_backup.copy()"
      ],
      "execution_count": 0,
      "outputs": []
    },
    {
      "cell_type": "markdown",
      "metadata": {
        "id": "U4sqv5Tz6Mfm",
        "colab_type": "text"
      },
      "source": [
        "#### One-hot encoding"
      ]
    },
    {
      "cell_type": "code",
      "metadata": {
        "id": "do2ldJzl6Mfn",
        "colab_type": "code",
        "colab": {}
      },
      "source": [
        "# Dest column\n",
        "df = pd.concat([df, pd.get_dummies(df['Dest'], prefix='Dest',dummy_na=True)],axis=1).drop(['Dest'],axis=1)\n",
        "\n",
        "# UniqueCarrier column\n",
        "df = pd.concat([df, pd.get_dummies(df['UniqueCarrier'], prefix='UniqueCarrier',dummy_na=True)],axis=1).drop(['UniqueCarrier'],axis=1)"
      ],
      "execution_count": 0,
      "outputs": []
    },
    {
      "cell_type": "markdown",
      "metadata": {
        "id": "Tx4QCmTf6Mfq",
        "colab_type": "text"
      },
      "source": [
        "#### Holdout"
      ]
    },
    {
      "cell_type": "code",
      "metadata": {
        "id": "mFmax2xk6Mfq",
        "colab_type": "code",
        "colab": {}
      },
      "source": [
        "X_data = df.drop(['Delay', 'ArrDelay'], axis=1)\n",
        "y_data = df['Delay']\n",
        "\n",
        "# Holdout\n",
        "from sklearn.model_selection import train_test_split\n",
        "\n",
        "X_train, X_test, y_train, y_test = train_test_split(X_data, y_data, test_size=0.2, random_state=0)"
      ],
      "execution_count": 0,
      "outputs": []
    },
    {
      "cell_type": "markdown",
      "metadata": {
        "id": "cooyd6bv6Mfv",
        "colab_type": "text"
      },
      "source": [
        "#### Default setting"
      ]
    },
    {
      "cell_type": "code",
      "metadata": {
        "id": "FFnOWiN76Mfx",
        "colab_type": "code",
        "colab": {}
      },
      "source": [
        "from sklearn.linear_model import LogisticRegression\n",
        "\n",
        "model = LogisticRegression()\n",
        "model.fit(X_train, y_train)\n",
        "y_pred = model.predict(X_test)\n",
        "\n",
        "# Report\n",
        "from sklearn.metrics import classification_report\n",
        "\n",
        "print(classification_report(y_test, y_pred))"
      ],
      "execution_count": 0,
      "outputs": []
    },
    {
      "cell_type": "markdown",
      "metadata": {
        "id": "uoMYELQq6Mf1",
        "colab_type": "text"
      },
      "source": [
        "#### Hyperparameter tuning"
      ]
    },
    {
      "cell_type": "code",
      "metadata": {
        "colab_type": "code",
        "id": "c-8p2C_PFusN",
        "colab": {}
      },
      "source": [
        "from sklearn.model_selection import GridSearchCV\n",
        "from sklearn.linear_model import LogisticRegression\n",
        "\n",
        "grid = {'C' : [1, 5, 10]}\n",
        "\n",
        "model_cv = GridSearchCV(estimator = LogisticRegression(), \n",
        "                        param_grid = grid, cv = 3, scoring = 'f1', n_jobs = -1)\n",
        "\n",
        "model_cv.fit(X_data, y_data)\n",
        "\n",
        "print(\"tuned hpyerparameters :(best parameters) \",model_cv.best_params_)\n",
        "print(\"accuracy :\",model_cv.best_score_)"
      ],
      "execution_count": 0,
      "outputs": []
    },
    {
      "cell_type": "markdown",
      "metadata": {
        "colab_type": "text",
        "id": "5sNzMrqGPpmi"
      },
      "source": [
        "Tune hyper parameters using 3-values-method, with f1 metric."
      ]
    },
    {
      "cell_type": "markdown",
      "metadata": {
        "id": "P6Dg0_SE6Mf5",
        "colab_type": "text"
      },
      "source": [
        "### Naive Bayes"
      ]
    },
    {
      "cell_type": "code",
      "metadata": {
        "id": "H4dGJ9EZ6Mf5",
        "colab_type": "code",
        "colab": {}
      },
      "source": [
        "df = df_backup.copy()"
      ],
      "execution_count": 0,
      "outputs": []
    },
    {
      "cell_type": "markdown",
      "metadata": {
        "id": "2yupICHH6Mf8",
        "colab_type": "text"
      },
      "source": [
        "#### Label encoder"
      ]
    },
    {
      "cell_type": "code",
      "metadata": {
        "id": "yhoOT0Pv6Mf9",
        "colab_type": "code",
        "colab": {}
      },
      "source": [
        "from sklearn.preprocessing import LabelEncoder\n",
        "\n",
        "# Dest column\n",
        "df['Dest'] = LabelEncoder().fit_transform(df['Dest'])\n",
        "\n",
        "# UniqueCarrier column\n",
        "df['UniqueCarrier'] = LabelEncoder().fit_transform(df['UniqueCarrier'])"
      ],
      "execution_count": 0,
      "outputs": []
    },
    {
      "cell_type": "markdown",
      "metadata": {
        "id": "CsLzcIWD6MgD",
        "colab_type": "text"
      },
      "source": [
        "#### Holdout"
      ]
    },
    {
      "cell_type": "code",
      "metadata": {
        "id": "r5Q8zX2Q6MgD",
        "colab_type": "code",
        "colab": {}
      },
      "source": [
        "X_data = df.drop(['Delay', 'ArrDelay'], axis=1)\n",
        "y_data = df['Delay']\n",
        "\n",
        "# Holdout\n",
        "from sklearn.model_selection import train_test_split\n",
        "\n",
        "X_train, X_test, y_train, y_test = train_test_split(X_data, y_data, test_size=0.2, random_state=0)"
      ],
      "execution_count": 0,
      "outputs": []
    },
    {
      "cell_type": "markdown",
      "metadata": {
        "id": "KhtteRcA6MgF",
        "colab_type": "text"
      },
      "source": [
        "#### Default setting"
      ]
    },
    {
      "cell_type": "code",
      "metadata": {
        "id": "6_jZ2V7_6MgG",
        "colab_type": "code",
        "colab": {
          "base_uri": "https://localhost:8080/",
          "height": 168
        },
        "outputId": "af36250f-d5fa-4a8d-94bd-2ff021cd958e"
      },
      "source": [
        "from sklearn.naive_bayes import GaussianNB\n",
        "model = GaussianNB()\n",
        "model.fit(X_train, y_train)\n",
        "y_pred = model.predict(X_test)\n",
        "\n",
        "# Report\n",
        "from sklearn.metrics import classification_report\n",
        "\n",
        "print(classification_report(y_test, y_pred))"
      ],
      "execution_count": 31,
      "outputs": [
        {
          "output_type": "stream",
          "text": [
            "              precision    recall  f1-score   support\n",
            "\n",
            "           0       0.89      0.95      0.92    297699\n",
            "           1       0.43      0.23      0.30     45014\n",
            "\n",
            "    accuracy                           0.86    342713\n",
            "   macro avg       0.66      0.59      0.61    342713\n",
            "weighted avg       0.83      0.86      0.84    342713\n",
            "\n"
          ],
          "name": "stdout"
        }
      ]
    },
    {
      "cell_type": "markdown",
      "metadata": {
        "colab_type": "text",
        "id": "bPfcZg50Cb6w"
      },
      "source": [
        "### Random Forest\n",
        "https://medium.com/all-things-ai/in-depth-parameter-tuning-for-random-forest-d67bb7e920d"
      ]
    },
    {
      "cell_type": "code",
      "metadata": {
        "colab_type": "code",
        "id": "slP-ausGuZLF",
        "colab": {}
      },
      "source": [
        "# Default parameters\n",
        "from sklearn.ensemble import RandomForestClassifier\n",
        "\n",
        "model = RandomForestClassifier(n_jobs = -1)\n",
        "model.fit(X_train, y_train)\n",
        "y_pred = model.predict(X_test)\n",
        "\n",
        "# Report\n",
        "from sklearn.metrics import classification_report\n",
        "\n",
        "\n",
        "print(classification_report(y_test, y_pred))"
      ],
      "execution_count": 0,
      "outputs": []
    },
    {
      "cell_type": "markdown",
      "metadata": {
        "id": "3nX1e7zP6MgL",
        "colab_type": "text"
      },
      "source": [
        "#### Hyperparameter tuning"
      ]
    },
    {
      "cell_type": "code",
      "metadata": {
        "colab_type": "code",
        "id": "3Afhjuwlv5RN",
        "colab": {}
      },
      "source": [
        "# n_estimators\n",
        "n_estimators = [1, 5, 10, 15, 20, 25, 50]\n",
        "test_results = []\n",
        "for estimator in n_estimators:\n",
        "    model = RandomForestClassifier(n_estimators = estimator, n_jobs = -1)\n",
        "    model.fit(X_train, y_train)\n",
        "  \n",
        "    y_pred = model.predict(X_test)\n",
        "    f1 = f1_score(y_test, y_pred)\n",
        "    test_results.append(f1)\n",
        "    \n",
        "    print(estimator, ' done!')\n",
        "    \n",
        "# Plot metrics line chart\n",
        "sns.lineplot(x = n_estimators, y = test_results)"
      ],
      "execution_count": 0,
      "outputs": []
    },
    {
      "cell_type": "code",
      "metadata": {
        "id": "fvd2JvGA6MgQ",
        "colab_type": "code",
        "colab": {}
      },
      "source": [
        "# max_depths\n",
        "max_depths = np.linspace(5, 35, 7)\n",
        "test_results = []\n",
        "\n",
        "for max_depth in max_depths:\n",
        "    model = RandomForestClassifier(max_depth = max_depth, n_jobs = -1)\n",
        "    model.fit(X_train, y_train)\n",
        "  \n",
        "    y_pred = model.predict(X_test)\n",
        "    f1 = f1_score(y_test, y_pred)\n",
        "    test_results.append(f1)\n",
        "    \n",
        "    print(max_depth, ' done!')\n",
        "\n",
        "# Plot metrics line chart\n",
        "sns.lineplot(x = max_depths, y = test_results)"
      ],
      "execution_count": 0,
      "outputs": []
    },
    {
      "cell_type": "markdown",
      "metadata": {
        "id": "0q3RByoE6MgU",
        "colab_type": "text"
      },
      "source": [
        "#### Final model\n",
        "Best parameters:\n",
        "- n_estimators = 15\n",
        "- max_depths = 25"
      ]
    },
    {
      "cell_type": "code",
      "metadata": {
        "id": "O0QEItv86MgX",
        "colab_type": "code",
        "colab": {}
      },
      "source": [
        "model = RandomForestClassifier(n_estimators = 15, max_depth = 25, n_jobs = -1)\n",
        "model.fit(X_train, y_train)\n",
        "y_pred = model.predict(X_test)\n",
        "\n",
        "# Report\n",
        "from sklearn.metrics import classification_report\n",
        "\n",
        "print(classification_report(y_test, y_pred))"
      ],
      "execution_count": 0,
      "outputs": []
    },
    {
      "cell_type": "markdown",
      "metadata": {
        "id": "zkmYledR6Mga",
        "colab_type": "text"
      },
      "source": [
        "### Gradient Boosting\n",
        "https://medium.com/all-things-ai/in-depth-parameter-tuning-for-gradient-boosting-3363992e9bae"
      ]
    },
    {
      "cell_type": "markdown",
      "metadata": {
        "id": "J_TxidKW8J3h",
        "colab_type": "text"
      },
      "source": [
        "#### Default setting"
      ]
    },
    {
      "cell_type": "code",
      "metadata": {
        "id": "ZQKRdM8g6Mge",
        "colab_type": "code",
        "colab": {}
      },
      "source": [
        "from sklearn.ensemble import GradientBoostingClassifier\n",
        "\n",
        "model = GradientBoostingClassifier(n_estimators = 10)\n",
        "model.fit(X_train, y_train)\n",
        "y_pred = model.predict(X_test)\n",
        "\n",
        "# Report\n",
        "from sklearn.metrics import classification_report\n",
        "\n",
        "print(classification_report(y_test, y_pred))"
      ],
      "execution_count": 0,
      "outputs": []
    },
    {
      "cell_type": "markdown",
      "metadata": {
        "id": "xwb3vLBA6Mgk",
        "colab_type": "text"
      },
      "source": [
        "#### Hyperparameter tuning"
      ]
    },
    {
      "cell_type": "code",
      "metadata": {
        "id": "qiFePpXO6Mgo",
        "colab_type": "code",
        "colab": {}
      },
      "source": [
        "learning_rates = [1, 0.5, 0.25, 0.1, 0.05, 0.01]\n",
        "test_results = []\n",
        "for learning_rate in learning_rates:\n",
        "    model = GradientBoostingClassifier(n_estimators = 10, learning_rate = learning_rate)\n",
        "    model.fit(X_train, y_train)\n",
        "  \n",
        "    y_pred = model.predict(X_test)\n",
        "    f1 = f1_score(y_test, y_pred)\n",
        "    test_results.append(f1)\n",
        "    \n",
        "    print(learning_rate, ' done!')\n",
        "    \n",
        "# Plot metrics line chart\n",
        "sns.lineplot(x = learning_rates, y = test_results)"
      ],
      "execution_count": 0,
      "outputs": []
    },
    {
      "cell_type": "code",
      "metadata": {
        "id": "GN1ZfnAo6Mgt",
        "colab_type": "code",
        "colab": {}
      },
      "source": [
        "# n_estimators\n",
        "n_estimators = [1, 5, 10, 15, 20, 25, 50]\n",
        "test_results = []\n",
        "for estimator in n_estimators:\n",
        "    model = GradientBoostingClassifier(n_estimators = estimator)\n",
        "    model.fit(X_train, y_train)\n",
        "  \n",
        "    y_pred = model.predict(X_test)\n",
        "    f1 = f1_score(y_test, y_pred)\n",
        "    test_results.append(f1)\n",
        "    \n",
        "    print(estimator, ' done!')\n",
        "    \n",
        "# Plot metrics line chart\n",
        "sns.lineplot(x = n_estimators, y = test_results)"
      ],
      "execution_count": 0,
      "outputs": []
    },
    {
      "cell_type": "code",
      "metadata": {
        "id": "s9-_yVC_6Mgw",
        "colab_type": "code",
        "colab": {}
      },
      "source": [
        "# max_depths\n",
        "max_depths = np.linspace(5, 35, 7)\n",
        "test_results = []\n",
        "\n",
        "for max_depth in max_depths:\n",
        "    model = GradientBoostingClassifier(n_estimators = 10, max_depth = max_depth)\n",
        "    model.fit(X_train, y_train)\n",
        "  \n",
        "    y_pred = model.predict(X_test)\n",
        "    f1 = f1_score(y_test, y_pred)\n",
        "    test_results.append(f1)\n",
        "    \n",
        "    print(max_depth, ' done!')\n",
        "\n",
        "# Plot metrics line chart\n",
        "sns.lineplot(x = max_depths, y = test_results)"
      ],
      "execution_count": 0,
      "outputs": []
    },
    {
      "cell_type": "markdown",
      "metadata": {
        "id": "F6ew2pJD6Mg0",
        "colab_type": "text"
      },
      "source": [
        "#### Final model\n",
        "Best parameters:\n",
        "- learning_rate = \n",
        "- n_estimators = \n",
        "- max_depths = "
      ]
    },
    {
      "cell_type": "code",
      "metadata": {
        "id": "uvrYIU6A6Mg1",
        "colab_type": "code",
        "colab": {}
      },
      "source": [
        "model = GradientBoostingClassifier(learning_rate = , n_estimators = , max_depth = )\n",
        "model.fit(X_train, y_train)\n",
        "y_pred = model.predict(X_test)\n",
        "\n",
        "# Report\n",
        "from sklearn.metrics import classification_report\n",
        "\n",
        "print(classification_report(y_test, y_pred))"
      ],
      "execution_count": 0,
      "outputs": []
    },
    {
      "cell_type": "markdown",
      "metadata": {
        "colab_type": "text",
        "id": "MwrQdtDgCb66"
      },
      "source": [
        "# TODO"
      ]
    },
    {
      "cell_type": "markdown",
      "metadata": {
        "colab_type": "text",
        "id": "7Qxf4aXsCb67"
      },
      "source": [
        "1. Edit threshhold / class weight\n",
        "2. PCA: Dimension reducing\n",
        "3. RFE: Features selection\n",
        "4. GridsearchCV for tuning\n",
        "- Tuning with 3 values\n",
        "- Goal: Precison ~ Recall (F1 score)\n",
        "5. Compare performances among models"
      ]
    },
    {
      "cell_type": "code",
      "metadata": {
        "colab_type": "code",
        "id": "_CsbrWPJCb69",
        "colab": {}
      },
      "source": [
        ""
      ],
      "execution_count": 0,
      "outputs": []
    }
  ]
}