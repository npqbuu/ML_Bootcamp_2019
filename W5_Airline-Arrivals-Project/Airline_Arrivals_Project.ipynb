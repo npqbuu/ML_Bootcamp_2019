{
 "cells": [
  {
   "cell_type": "markdown",
   "metadata": {
    "colab_type": "text",
    "id": "oBv97VwGCb3u"
   },
   "source": [
    "## Import libaries"
   ]
  },
  {
   "cell_type": "code",
   "execution_count": null,
   "metadata": {
    "colab": {},
    "colab_type": "code",
    "id": "EDKkmpj8Cb35"
   },
   "outputs": [],
   "source": [
    "import pandas as pd\n",
    "import numpy as np \n",
    "import seaborn as sns \n",
    "%matplotlib inline\n",
    "import matplotlib.pyplot as plt\n",
    "import scipy.stats as ss\n",
    "from sklearn.metrics import f1_score"
   ]
  },
  {
   "cell_type": "markdown",
   "metadata": {
    "colab_type": "text",
    "id": "ofNzk5TgCb4N"
   },
   "source": [
    "## Import data"
   ]
  },
  {
   "cell_type": "code",
   "execution_count": null,
   "metadata": {
    "colab": {},
    "colab_type": "code",
    "id": "6UHfQT3ZCb4R"
   },
   "outputs": [],
   "source": [
    "# Read from url - Take time to run\n",
    "#url = \"http://stat-computing.org/dataexpo/2009/2008.csv.bz2\"\n",
    "#df = pd.read_csv(url, compression='bz2')\n",
    "\n",
    "df = pd.read_csv('./temp/Airline.csv')"
   ]
  },
  {
   "cell_type": "code",
   "execution_count": null,
   "metadata": {
    "colab": {},
    "colab_type": "code",
    "id": "m0kZacuhCb4e"
   },
   "outputs": [],
   "source": [
    "# Reduce rows\n",
    "df = df.sample(frac=0.25)"
   ]
  },
  {
   "cell_type": "code",
   "execution_count": null,
   "metadata": {
    "colab": {
     "base_uri": "https://localhost:8080/",
     "height": 215
    },
    "colab_type": "code",
    "id": "AuoVngUzCb4p",
    "outputId": "7362263c-38ef-4bdf-e9ab-760884cbba33",
    "scrolled": true
   },
   "outputs": [],
   "source": [
    "df.head()"
   ]
  },
  {
   "cell_type": "markdown",
   "metadata": {
    "colab_type": "text",
    "id": "wiaJPuNNCb4w"
   },
   "source": [
    "Variable descriptions: http://stat-computing.org/dataexpo/2009/the-data.html\n",
    "\n",
    "Reference: https://www.kaggle.com/fabiendaniel/predicting-flight-delays-tutorial"
   ]
  },
  {
   "cell_type": "markdown",
   "metadata": {
    "colab_type": "text",
    "id": "M3qKieX-Cb4y"
   },
   "source": [
    "## Data pre-processing"
   ]
  },
  {
   "cell_type": "code",
   "execution_count": null,
   "metadata": {
    "colab": {
     "base_uri": "https://localhost:8080/",
     "height": 521
    },
    "colab_type": "code",
    "id": "MJaJV73iCb4z",
    "outputId": "7ecff9e3-c7c6-4736-c855-76005b2b06b8"
   },
   "outputs": [],
   "source": [
    "df.count()"
   ]
  },
  {
   "cell_type": "code",
   "execution_count": null,
   "metadata": {
    "colab": {
     "base_uri": "https://localhost:8080/",
     "height": 252
    },
    "colab_type": "code",
    "id": "ybsWiOhICb43",
    "outputId": "7410ced1-995c-4cb0-91a9-46e4561f7a3e"
   },
   "outputs": [],
   "source": [
    "#Create Date column\n",
    "#df['Date'] = pd.to_datetime(df[['Year', 'Month', 'DayofMonth']])\n",
    "\n",
    "# Drop columns\n",
    "# Year: The dataset only contains data in 2008\n",
    "# Cancelled + CancellationCode + Diverted: Cancelled flight does not have delay label.\n",
    "df.drop(['Year', 'Cancelled', 'CancellationCode', 'Diverted'], axis=1, inplace=True)\n",
    "# Delay details: Only 20% rows have these features.\n",
    "df.drop(['CarrierDelay', 'WeatherDelay', 'NASDelay', 'SecurityDelay', 'LateAircraftDelay'], axis=1, inplace=True)\n",
    "# Time: Only keep CRSArrTime, CRSElapsedTime\n",
    "df.drop(['DepTime', 'ArrTime', 'CRSDepTime', 'ActualElapsedTime'], axis=1, inplace=True)\n",
    "# Airport: Only keep the Dest Airport\n",
    "df.drop(['Origin'], axis=1, inplace=True)\n",
    "# Carrier: Drop FlightNum and TailNum\n",
    "df.drop(['FlightNum', 'TailNum'], axis=1, inplace=True)\n",
    "\n",
    "df.dropna(inplace=True)\n",
    "df.drop_duplicates(inplace=True)\n",
    "\n",
    "df.count()"
   ]
  },
  {
   "cell_type": "code",
   "execution_count": null,
   "metadata": {
    "colab": {},
    "colab_type": "code",
    "id": "ioRac8TMCb49"
   },
   "outputs": [],
   "source": [
    "# Convert CRSArrTime to Parts of the Day\n",
    "conditions = [\n",
    "    (df['CRSArrTime'] >= 500) & (df['CRSArrTime'] < 1201),\n",
    "    (df['CRSArrTime'] >= 1201) & (df['CRSArrTime'] < 1701),\n",
    "    (df['CRSArrTime'] >= 1701) & (df['CRSArrTime'] < 2101)]\n",
    "choices = [1, 2, 3]\n",
    "df['PotD'] = np.select(conditions, choices, default=4)\n",
    "\n",
    "# Morning, Afternoon, Evening, Night"
   ]
  },
  {
   "cell_type": "code",
   "execution_count": null,
   "metadata": {
    "colab": {},
    "colab_type": "code",
    "id": "0j0x4lmqCb5R"
   },
   "outputs": [],
   "source": [
    "# Convert ArrDelay to Delay\n",
    "# A flight only counts as late if it is more than 30 minutes late.\n",
    "conditions = [\n",
    "    (df['ArrDelay'] > 30)]\n",
    "choices = [1]\n",
    "df['Delay'] = np.select(conditions, choices, default=0)\n",
    "df.drop(['CRSArrTime'], axis=1, inplace=True)"
   ]
  },
  {
   "cell_type": "code",
   "execution_count": null,
   "metadata": {
    "colab": {
     "base_uri": "https://localhost:8080/",
     "height": 269
    },
    "colab_type": "code",
    "id": "nE8Ha8MjCb5U",
    "outputId": "3c4ac3f0-6480-455f-f701-3abd445704d6"
   },
   "outputs": [],
   "source": [
    "df.dtypes"
   ]
  },
  {
   "cell_type": "code",
   "execution_count": null,
   "metadata": {
    "colab": {
     "base_uri": "https://localhost:8080/",
     "height": 195
    },
    "colab_type": "code",
    "id": "aW8e-5kiCb5X",
    "outputId": "112b731a-2046-4e72-8abb-8a0385da4f42"
   },
   "outputs": [],
   "source": [
    "df.head()"
   ]
  },
  {
   "cell_type": "markdown",
   "metadata": {
    "colab_type": "text",
    "id": "eZHZZ74dCb5e"
   },
   "source": [
    "## Data analysis"
   ]
  },
  {
   "cell_type": "code",
   "execution_count": null,
   "metadata": {
    "colab": {
     "base_uri": "https://localhost:8080/",
     "height": 284
    },
    "colab_type": "code",
    "id": "QhySIYE0Cb5f",
    "outputId": "b3da294a-0a4e-48ca-cf57-5045d865f130"
   },
   "outputs": [],
   "source": [
    "#Check basic stats\n",
    "df.describe()"
   ]
  },
  {
   "cell_type": "code",
   "execution_count": null,
   "metadata": {
    "colab": {
     "base_uri": "https://localhost:8080/",
     "height": 402
    },
    "colab_type": "code",
    "id": "FPJr_B0cCb5h",
    "outputId": "7a01f079-79d7-4ba8-a984-c94814f78b79"
   },
   "outputs": [],
   "source": [
    "#Check correlation\n",
    "df.corr()"
   ]
  },
  {
   "cell_type": "code",
   "execution_count": null,
   "metadata": {
    "colab": {
     "base_uri": "https://localhost:8080/",
     "height": 669
    },
    "colab_type": "code",
    "id": "hNIrsbELCb5k",
    "outputId": "6e02fe87-b4d1-4e7c-cf6a-b52ae228dc0b"
   },
   "outputs": [],
   "source": [
    "# Groupby carrier\n",
    "df.groupby(['UniqueCarrier']).mean()"
   ]
  },
  {
   "cell_type": "code",
   "execution_count": null,
   "metadata": {
    "colab": {
     "base_uri": "https://localhost:8080/",
     "height": 1000
    },
    "colab_type": "code",
    "id": "qFABJ3z5Cb5p",
    "outputId": "4bf8c969-bb3c-45a7-aeb5-d4396f0f2a47"
   },
   "outputs": [],
   "source": [
    "# Groupby destination airport\n",
    "df.groupby(['Dest']).mean()"
   ]
  },
  {
   "cell_type": "code",
   "execution_count": null,
   "metadata": {
    "colab": {
     "base_uri": "https://localhost:8080/",
     "height": 300
    },
    "colab_type": "code",
    "id": "PVwAtKjmCb5t",
    "outputId": "40f142df-1b30-4493-b5f8-6fa51b54f881"
   },
   "outputs": [],
   "source": [
    "# Bias check\n",
    "sns.countplot(x=\"Delay\", data=df)"
   ]
  },
  {
   "cell_type": "code",
   "execution_count": null,
   "metadata": {
    "colab": {},
    "colab_type": "code",
    "id": "ZUOcxCoaCb5w"
   },
   "outputs": [],
   "source": [
    "# Check Correlation\n",
    "def cramers_corrected_stat(x, y):\n",
    "\n",
    "    \"\"\" calculate Cramers V statistic for categorial-categorial association.\n",
    "        uses correction from Bergsma and Wicher, \n",
    "        Journal of the Korean Statistical Society 42 (2013): 323-328\n",
    "    \"\"\"\n",
    "    result=-1\n",
    "    if len(x.value_counts())==1 :\n",
    "        print(\"First variable is constant\")\n",
    "    elif len(y.value_counts())==1:\n",
    "        print(\"Second variable is constant\")\n",
    "    else:   \n",
    "        conf_matrix=pd.crosstab(x, y)\n",
    "\n",
    "        if conf_matrix.shape[0]==2:\n",
    "            correct=False\n",
    "        else:\n",
    "            correct=True\n",
    "\n",
    "        chi2 = ss.chi2_contingency(conf_matrix, correction=correct)[0]\n",
    "\n",
    "        n = sum(conf_matrix.sum())\n",
    "        phi2 = chi2/n\n",
    "        r,k = conf_matrix.shape\n",
    "        phi2corr = max(0, phi2 - ((k-1)*(r-1))/(n-1))    \n",
    "        rcorr = r - ((r-1)**2)/(n-1)\n",
    "        kcorr = k - ((k-1)**2)/(n-1)\n",
    "        result=np.sqrt(phi2corr / min( (kcorr-1), (rcorr-1)))\n",
    "    return round(result,6)"
   ]
  },
  {
   "cell_type": "markdown",
   "metadata": {
    "colab_type": "text",
    "id": "YcEcTd_4Cb52"
   },
   "source": [
    "#### Month"
   ]
  },
  {
   "cell_type": "code",
   "execution_count": null,
   "metadata": {
    "colab": {
     "base_uri": "https://localhost:8080/",
     "height": 300
    },
    "colab_type": "code",
    "id": "zmsrmVkRCb54",
    "outputId": "9854a38e-49f5-42af-ec8d-39e0a4712a5c"
   },
   "outputs": [],
   "source": [
    "sns.boxplot(x='Month', y='ArrDelay', data=df) #x is feature, y is target"
   ]
  },
  {
   "cell_type": "code",
   "execution_count": null,
   "metadata": {
    "colab": {
     "base_uri": "https://localhost:8080/",
     "height": 34
    },
    "colab_type": "code",
    "id": "vSwX_SjUCb57",
    "outputId": "7756346e-342f-4fe8-af44-74beed9fcdab"
   },
   "outputs": [],
   "source": [
    "cramers_corrected_stat(df['Delay'], df['Month'])"
   ]
  },
  {
   "cell_type": "markdown",
   "metadata": {
    "colab_type": "text",
    "id": "Hd2LzvnWCb5-"
   },
   "source": [
    "#### DayofMonth"
   ]
  },
  {
   "cell_type": "code",
   "execution_count": null,
   "metadata": {
    "colab": {
     "base_uri": "https://localhost:8080/",
     "height": 300
    },
    "colab_type": "code",
    "id": "aAGevow4Cb5-",
    "outputId": "4bc67c00-dd4e-42c8-9bfb-e1c147a33ebf"
   },
   "outputs": [],
   "source": [
    "sns.boxplot(x='DayofMonth', y='ArrDelay', data=df) #x is feature, y is target"
   ]
  },
  {
   "cell_type": "code",
   "execution_count": null,
   "metadata": {
    "colab": {
     "base_uri": "https://localhost:8080/",
     "height": 34
    },
    "colab_type": "code",
    "id": "8Z3P_reNCb6B",
    "outputId": "44a15277-33a5-440f-b48c-03858e691a90"
   },
   "outputs": [],
   "source": [
    "cramers_corrected_stat(df['Delay'], df['DayofMonth'])"
   ]
  },
  {
   "cell_type": "markdown",
   "metadata": {
    "colab_type": "text",
    "id": "r6lIyyL6Cb6F"
   },
   "source": [
    "#### Weekend"
   ]
  },
  {
   "cell_type": "code",
   "execution_count": null,
   "metadata": {
    "colab": {
     "base_uri": "https://localhost:8080/",
     "height": 300
    },
    "colab_type": "code",
    "id": "tqmaURcDCb6G",
    "outputId": "6c839e17-69b0-435f-f150-bb4bb16474ac"
   },
   "outputs": [],
   "source": [
    "sns.boxplot(x='DayOfWeek', y='ArrDelay', data=df) #x is feature, y is target"
   ]
  },
  {
   "cell_type": "code",
   "execution_count": null,
   "metadata": {
    "colab": {
     "base_uri": "https://localhost:8080/",
     "height": 34
    },
    "colab_type": "code",
    "id": "0oCLQyGxCb6I",
    "outputId": "4e20940c-b684-4800-cca7-7664cd86cb1f"
   },
   "outputs": [],
   "source": [
    "cramers_corrected_stat(df['Delay'], df['DayOfWeek'])"
   ]
  },
  {
   "cell_type": "markdown",
   "metadata": {
    "colab_type": "text",
    "id": "PwNTysHuCb6K"
   },
   "source": [
    "#### Parts of the Day"
   ]
  },
  {
   "cell_type": "code",
   "execution_count": null,
   "metadata": {
    "colab": {
     "base_uri": "https://localhost:8080/",
     "height": 300
    },
    "colab_type": "code",
    "id": "r-HgBwrpCb6L",
    "outputId": "e21c17b3-403d-4d45-af22-082b36a08b31"
   },
   "outputs": [],
   "source": [
    "sns.heatmap(pd.crosstab(df['Delay'], df['PotD'], normalize='index'))"
   ]
  },
  {
   "cell_type": "code",
   "execution_count": null,
   "metadata": {
    "colab": {
     "base_uri": "https://localhost:8080/",
     "height": 34
    },
    "colab_type": "code",
    "id": "YxF200Q4Cb6O",
    "outputId": "a26850aa-ee75-4a63-b77e-d457ba99d708"
   },
   "outputs": [],
   "source": [
    "cramers_corrected_stat(df['Delay'], df['PotD'])"
   ]
  },
  {
   "cell_type": "markdown",
   "metadata": {
    "colab_type": "text",
    "id": "8CVxw27BCb6Z"
   },
   "source": [
    "## Model evaluation\n",
    "We will use F1 score as the evaluation metric. Our target value is binary so it’s a binary classification problem, and out data is inbalance, so in this case F1 score is a good way for evaluation for this type of problems."
   ]
  },
  {
   "cell_type": "code",
   "execution_count": null,
   "metadata": {},
   "outputs": [],
   "source": [
    "# Create a copy of original dataset\n",
    "df_backup = df"
   ]
  },
  {
   "cell_type": "markdown",
   "metadata": {
    "colab_type": "text",
    "id": "WRzHch9s_cG_"
   },
   "source": [
    "### Logistic Regression"
   ]
  },
  {
   "cell_type": "code",
   "execution_count": null,
   "metadata": {},
   "outputs": [],
   "source": [
    "df = df_backup"
   ]
  },
  {
   "cell_type": "markdown",
   "metadata": {},
   "source": [
    "#### One-hot encoding"
   ]
  },
  {
   "cell_type": "code",
   "execution_count": null,
   "metadata": {},
   "outputs": [],
   "source": [
    "# Dest column\n",
    "df = pd.concat([df, pd.get_dummies(df['Dest'], prefix='Dest',dummy_na=True)],axis=1).drop(['Dest'],axis=1)\n",
    "\n",
    "# UniqueCarrier column\n",
    "df = pd.concat([df, pd.get_dummies(df['UniqueCarrier'], prefix='UniqueCarrier',dummy_na=True)],axis=1).drop(['UniqueCarrier'],axis=1)"
   ]
  },
  {
   "cell_type": "markdown",
   "metadata": {},
   "source": [
    "#### Holdout"
   ]
  },
  {
   "cell_type": "code",
   "execution_count": null,
   "metadata": {},
   "outputs": [],
   "source": [
    "X_data = df.drop(['Delay', 'ArrDelay'], axis=1)\n",
    "y_data = df['Delay']\n",
    "\n",
    "# Holdout\n",
    "from sklearn.model_selection import train_test_split\n",
    "\n",
    "X_train, X_test, y_train, y_test = train_test_split(X_data, y_data, test_size=0.2, random_state=0)"
   ]
  },
  {
   "cell_type": "markdown",
   "metadata": {},
   "source": [
    "#### Default setting"
   ]
  },
  {
   "cell_type": "code",
   "execution_count": null,
   "metadata": {},
   "outputs": [],
   "source": [
    "from sklearn.linear_model import LogisticRegression\n",
    "\n",
    "model = LogisticRegression()\n",
    "model.fit(X_train, y_train)\n",
    "y_pred = model.predict(X_test)\n",
    "\n",
    "# Report\n",
    "from sklearn.metrics import classification_report\n",
    "\n",
    "print(classification_report(y_test, y_pred))"
   ]
  },
  {
   "cell_type": "markdown",
   "metadata": {},
   "source": [
    "#### Hyperparameter tuning"
   ]
  },
  {
   "cell_type": "code",
   "execution_count": null,
   "metadata": {
    "colab": {},
    "colab_type": "code",
    "id": "c-8p2C_PFusN"
   },
   "outputs": [],
   "source": [
    "from sklearn.model_selection import GridSearchCV\n",
    "from sklearn.linear_model import LogisticRegression\n",
    "\n",
    "grid = {'C' : [1, 5, 10]}\n",
    "\n",
    "model_cv = GridSearchCV(estimator = LogisticRegression(), \n",
    "                        param_grid = grid, cv = 3, scoring = 'f1', n_jobs = -1)\n",
    "\n",
    "model_cv.fit(X_data, y_data)\n",
    "\n",
    "print(\"tuned hpyerparameters :(best parameters) \",model_cv.best_params_)\n",
    "print(\"accuracy :\",model_cv.best_score_)"
   ]
  },
  {
   "cell_type": "markdown",
   "metadata": {
    "colab_type": "text",
    "id": "5sNzMrqGPpmi"
   },
   "source": [
    "Tune hyper parameters using 3-values-method, with f1 metric."
   ]
  },
  {
   "cell_type": "markdown",
   "metadata": {},
   "source": [
    "### Naive Bayes"
   ]
  },
  {
   "cell_type": "code",
   "execution_count": null,
   "metadata": {},
   "outputs": [],
   "source": [
    "df = df_backup"
   ]
  },
  {
   "cell_type": "markdown",
   "metadata": {},
   "source": [
    "#### Label encoder"
   ]
  },
  {
   "cell_type": "code",
   "execution_count": null,
   "metadata": {},
   "outputs": [],
   "source": []
  },
  {
   "cell_type": "markdown",
   "metadata": {},
   "source": [
    "#### Holdout"
   ]
  },
  {
   "cell_type": "code",
   "execution_count": null,
   "metadata": {},
   "outputs": [],
   "source": [
    "X_data = df.drop(['Delay', 'ArrDelay'], axis=1)\n",
    "y_data = df['Delay']\n",
    "\n",
    "# Holdout\n",
    "from sklearn.model_selection import train_test_split\n",
    "\n",
    "X_train, X_test, y_train, y_test = train_test_split(X_data, y_data, test_size=0.2, random_state=0)"
   ]
  },
  {
   "cell_type": "markdown",
   "metadata": {},
   "source": [
    "#### Default setting"
   ]
  },
  {
   "cell_type": "code",
   "execution_count": null,
   "metadata": {},
   "outputs": [],
   "source": [
    "from sklearn.naive_bayes import GaussianNB\n",
    "model = GaussianNB()\n",
    "model.fit(X_train, y_train)\n",
    "y_pred = model.predict(X_test)\n",
    "\n",
    "# Report\n",
    "from sklearn.metrics import classification_report\n",
    "\n",
    "print(classification_report(y_test, y_pred))"
   ]
  },
  {
   "cell_type": "markdown",
   "metadata": {
    "colab_type": "text",
    "id": "bPfcZg50Cb6w"
   },
   "source": [
    "### Random Forest\n",
    "https://medium.com/all-things-ai/in-depth-parameter-tuning-for-random-forest-d67bb7e920d"
   ]
  },
  {
   "cell_type": "code",
   "execution_count": null,
   "metadata": {
    "colab": {
     "base_uri": "https://localhost:8080/",
     "height": 50
    },
    "colab_type": "code",
    "id": "slP-ausGuZLF",
    "outputId": "ab26edf0-d818-48b2-fc00-2294d044caa5"
   },
   "outputs": [],
   "source": [
    "# Default parameters\n",
    "from sklearn.ensemble import RandomForestClassifier\n",
    "\n",
    "model = RandomForestClassifier(n_jobs = -1)\n",
    "model.fit(X_train, y_train)\n",
    "y_pred = model.predict(X_test)\n",
    "\n",
    "# Report\n",
    "from sklearn.metrics import classification_report\n",
    "\n",
    "\n",
    "print(classification_report(y_test, y_pred))"
   ]
  },
  {
   "cell_type": "markdown",
   "metadata": {},
   "source": [
    "#### Hyperparameter tuning"
   ]
  },
  {
   "cell_type": "code",
   "execution_count": null,
   "metadata": {
    "colab": {},
    "colab_type": "code",
    "id": "3Afhjuwlv5RN"
   },
   "outputs": [],
   "source": [
    "# n_estimators\n",
    "n_estimators = [1, 5, 10, 15, 20, 25, 50]\n",
    "test_results = []\n",
    "for estimator in n_estimators:\n",
    "    model = RandomForestClassifier(n_estimators = estimator, n_jobs = -1)\n",
    "    model.fit(X_train, y_train)\n",
    "  \n",
    "    y_pred = model.predict(X_test)\n",
    "    f1 = f1_score(y_test, y_pred)\n",
    "    test_results.append(f1)\n",
    "    \n",
    "    print(estimator, ' done!')\n",
    "    \n",
    "# Plot metrics line chart\n",
    "sns.lineplot(x = n_estimators, y = test_results)"
   ]
  },
  {
   "cell_type": "code",
   "execution_count": null,
   "metadata": {},
   "outputs": [],
   "source": [
    "# max_depths\n",
    "max_depths = np.linspace(5, 35, 7)\n",
    "test_results = []\n",
    "\n",
    "for max_depth in max_depths:\n",
    "    model = RandomForestClassifier(max_depth = max_depth, n_jobs = -1)\n",
    "    model.fit(X_train, y_train)\n",
    "  \n",
    "    y_pred = model.predict(X_test)\n",
    "    f1 = f1_score(y_test, y_pred)\n",
    "    test_results.append(f1)\n",
    "    \n",
    "    print(max_depth, ' done!')\n",
    "\n",
    "# Plot metrics line chart\n",
    "sns.lineplot(x = max_depths, y = test_results)"
   ]
  },
  {
   "cell_type": "markdown",
   "metadata": {},
   "source": [
    "#### Final model\n",
    "Best parameters:\n",
    "- n_estimators = 15\n",
    "- max_depths = 25"
   ]
  },
  {
   "cell_type": "code",
   "execution_count": null,
   "metadata": {},
   "outputs": [],
   "source": [
    "model = RandomForestClassifier(n_estimators = 15, max_depth = 25, n_jobs = -1)\n",
    "model.fit(X_train, y_train)\n",
    "y_pred = model.predict(X_test)\n",
    "\n",
    "# Report\n",
    "from sklearn.metrics import classification_report\n",
    "\n",
    "print(classification_report(y_test, y_pred))"
   ]
  },
  {
   "cell_type": "markdown",
   "metadata": {},
   "source": [
    "### Gradient Boosting\n",
    "https://medium.com/all-things-ai/in-depth-parameter-tuning-for-gradient-boosting-3363992e9bae"
   ]
  },
  {
   "cell_type": "code",
   "execution_count": null,
   "metadata": {},
   "outputs": [],
   "source": [
    "#### Default setting"
   ]
  },
  {
   "cell_type": "code",
   "execution_count": null,
   "metadata": {},
   "outputs": [],
   "source": [
    "from sklearn.ensemble import GradientBoostingClassifier\n",
    "\n",
    "model = GradientBoostingClassifier(n_estimators = 10)\n",
    "model.fit(X_train, y_train)\n",
    "y_pred = model.predict(X_test)\n",
    "\n",
    "# Report\n",
    "from sklearn.metrics import classification_report\n",
    "\n",
    "print(classification_report(y_test, y_pred))"
   ]
  },
  {
   "cell_type": "markdown",
   "metadata": {},
   "source": [
    "#### Hyperparameter tuning"
   ]
  },
  {
   "cell_type": "code",
   "execution_count": null,
   "metadata": {},
   "outputs": [],
   "source": [
    "learning_rates = [1, 0.5, 0.25, 0.1, 0.05, 0.01]\n",
    "test_results = []\n",
    "for learning_rate in learning_rates:\n",
    "    model = GradientBoostingClassifier(n_estimators = 10, learning_rate = learning_rate)\n",
    "    model.fit(X_train, y_train)\n",
    "  \n",
    "    y_pred = model.predict(X_test)\n",
    "    f1 = f1_score(y_test, y_pred)\n",
    "    test_results.append(f1)\n",
    "    \n",
    "    print(learning_rate, ' done!')\n",
    "    \n",
    "# Plot metrics line chart\n",
    "sns.lineplot(x = learning_rates, y = test_results)"
   ]
  },
  {
   "cell_type": "code",
   "execution_count": null,
   "metadata": {},
   "outputs": [],
   "source": [
    "# n_estimators\n",
    "n_estimators = [1, 5, 10, 15, 20, 25, 50]\n",
    "test_results = []\n",
    "for estimator in n_estimators:\n",
    "    model = GradientBoostingClassifier(n_estimators = estimator)\n",
    "    model.fit(X_train, y_train)\n",
    "  \n",
    "    y_pred = model.predict(X_test)\n",
    "    f1 = f1_score(y_test, y_pred)\n",
    "    test_results.append(f1)\n",
    "    \n",
    "    print(estimator, ' done!')\n",
    "    \n",
    "# Plot metrics line chart\n",
    "sns.lineplot(x = n_estimators, y = test_results)"
   ]
  },
  {
   "cell_type": "code",
   "execution_count": null,
   "metadata": {},
   "outputs": [],
   "source": [
    "# max_depths\n",
    "max_depths = np.linspace(5, 35, 7)\n",
    "test_results = []\n",
    "\n",
    "for max_depth in max_depths:\n",
    "    model = GradientBoostingClassifier(n_estimators = 10, max_depth = max_depth)\n",
    "    model.fit(X_train, y_train)\n",
    "  \n",
    "    y_pred = model.predict(X_test)\n",
    "    f1 = f1_score(y_test, y_pred)\n",
    "    test_results.append(f1)\n",
    "    \n",
    "    print(max_depth, ' done!')\n",
    "\n",
    "# Plot metrics line chart\n",
    "sns.lineplot(x = max_depths, y = test_results)"
   ]
  },
  {
   "cell_type": "markdown",
   "metadata": {},
   "source": [
    "#### Final model\n",
    "Best parameters:\n",
    "- learning_rate = \n",
    "- n_estimators = \n",
    "- max_depths = "
   ]
  },
  {
   "cell_type": "code",
   "execution_count": null,
   "metadata": {},
   "outputs": [],
   "source": [
    "model = GradientBoostingClassifier(learning_rate = , n_estimators = , max_depth = )\n",
    "model.fit(X_train, y_train)\n",
    "y_pred = model.predict(X_test)\n",
    "\n",
    "# Report\n",
    "from sklearn.metrics import classification_report\n",
    "\n",
    "print(classification_report(y_test, y_pred))"
   ]
  },
  {
   "cell_type": "markdown",
   "metadata": {
    "colab_type": "text",
    "id": "MwrQdtDgCb66"
   },
   "source": [
    "# TODO"
   ]
  },
  {
   "cell_type": "markdown",
   "metadata": {
    "colab_type": "text",
    "id": "7Qxf4aXsCb67"
   },
   "source": [
    "1. Edit threshhold / class weight\n",
    "2. PCA: Dimension reducing\n",
    "3. RFE: Features selection\n",
    "4. GridsearchCV for tuning\n",
    "- Tuning with 3 values\n",
    "- Goal: Precison ~ Recall (F1 score)\n",
    "5. Compare performances among models"
   ]
  },
  {
   "cell_type": "code",
   "execution_count": null,
   "metadata": {
    "colab": {},
    "colab_type": "code",
    "id": "_CsbrWPJCb69"
   },
   "outputs": [],
   "source": []
  }
 ],
 "metadata": {
  "accelerator": "GPU",
  "colab": {
   "collapsed_sections": [
    "bPfcZg50Cb6w"
   ],
   "name": "Airline-Arrivals-Project.ipynb",
   "provenance": [],
   "version": "0.3.2"
  },
  "kernelspec": {
   "display_name": "Python 3",
   "language": "python",
   "name": "python3"
  },
  "language_info": {
   "codemirror_mode": {
    "name": "ipython",
    "version": 3
   },
   "file_extension": ".py",
   "mimetype": "text/x-python",
   "name": "python",
   "nbconvert_exporter": "python",
   "pygments_lexer": "ipython3",
   "version": "3.7.1"
  }
 },
 "nbformat": 4,
 "nbformat_minor": 1
}
