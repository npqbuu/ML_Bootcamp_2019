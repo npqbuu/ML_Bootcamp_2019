{
  "nbformat": 4,
  "nbformat_minor": 0,
  "metadata": {
    "colab": {
      "name": "Airline-Arrivals-Project.ipynb",
      "version": "0.3.2",
      "provenance": [],
      "collapsed_sections": [
        "bPfcZg50Cb6w"
      ]
    },
    "language_info": {
      "codemirror_mode": {
        "name": "ipython",
        "version": 3
      },
      "file_extension": ".py",
      "mimetype": "text/x-python",
      "name": "python",
      "nbconvert_exporter": "python",
      "pygments_lexer": "ipython3",
      "version": "3.7.1"
    },
    "kernelspec": {
      "display_name": "Python 3",
      "language": "python",
      "name": "python3"
    },
    "accelerator": "GPU"
  },
  "cells": [
    {
      "cell_type": "markdown",
      "metadata": {
        "colab_type": "text",
        "id": "oBv97VwGCb3u"
      },
      "source": [
        "## Import libaries"
      ]
    },
    {
      "cell_type": "code",
      "metadata": {
        "colab_type": "code",
        "id": "EDKkmpj8Cb35",
        "colab": {}
      },
      "source": [
        "import pandas as pd\n",
        "import numpy as np \n",
        "import seaborn as sns \n",
        "%matplotlib inline\n",
        "import matplotlib.pyplot as plt\n",
        "import scipy.stats as ss\n",
        "from sklearn.metrics import f1_score"
      ],
      "execution_count": 0,
      "outputs": []
    },
    {
      "cell_type": "markdown",
      "metadata": {
        "colab_type": "text",
        "id": "ofNzk5TgCb4N"
      },
      "source": [
        "## Import data"
      ]
    },
    {
      "cell_type": "code",
      "metadata": {
        "colab_type": "code",
        "id": "6UHfQT3ZCb4R",
        "colab": {}
      },
      "source": [
        "# Read from url - Take time to run\n",
        "url = \"http://stat-computing.org/dataexpo/2009/2008.csv.bz2\"\n",
        "df = pd.read_csv(url, compression='bz2')\n",
        "\n",
        "# Read from drive\n",
        "#df = pd.read_csv('./temp/Airline.csv')"
      ],
      "execution_count": 0,
      "outputs": []
    },
    {
      "cell_type": "code",
      "metadata": {
        "colab_type": "code",
        "id": "m0kZacuhCb4e",
        "colab": {}
      },
      "source": [
        "# Reduce rows\n",
        "df = df.sample(frac=0.25)"
      ],
      "execution_count": 0,
      "outputs": []
    },
    {
      "cell_type": "code",
      "metadata": {
        "colab_type": "code",
        "id": "AuoVngUzCb4p",
        "outputId": "b8326716-6c1f-4ef6-ad8a-39b313f6a16d",
        "scrolled": true,
        "colab": {
          "base_uri": "https://localhost:8080/",
          "height": 253
        }
      },
      "source": [
        "df.head()"
      ],
      "execution_count": 4,
      "outputs": [
        {
          "output_type": "execute_result",
          "data": {
            "text/plain": [
              "         Year  Month  DayofMonth  DayOfWeek  DepTime  CRSDepTime  ArrTime  \\\n",
              "5508695  2008     10           9          4   1755.0        1745   1907.0   \n",
              "643476   2008      2          14          4   1400.0        1350   1453.0   \n",
              "923782   2008      2           8          5    857.0         851   1017.0   \n",
              "2359746  2008      4           8          2   1804.0        1745   2238.0   \n",
              "1037408  2008      2          26          2   1637.0        1640   1816.0   \n",
              "\n",
              "         CRSArrTime UniqueCarrier  FlightNum        ...         TaxiIn  \\\n",
              "5508695        1854            YV       2678        ...            5.0   \n",
              "643476         1450            WN       3583        ...            2.0   \n",
              "923782         1002            EV       4639        ...            2.0   \n",
              "2359746        2228            CO       1632        ...            6.0   \n",
              "1037408        1835            9E       2999        ...            7.0   \n",
              "\n",
              "         TaxiOut  Cancelled  CancellationCode  Diverted  CarrierDelay  \\\n",
              "5508695     19.0          0               NaN         0           NaN   \n",
              "643476       7.0          0               NaN         0           NaN   \n",
              "923782      35.0          0               NaN         0           6.0   \n",
              "2359746     21.0          0               NaN         0           NaN   \n",
              "1037408     22.0          0               NaN         0           NaN   \n",
              "\n",
              "        WeatherDelay NASDelay  SecurityDelay  LateAircraftDelay  \n",
              "5508695          NaN      NaN            NaN                NaN  \n",
              "643476           NaN      NaN            NaN                NaN  \n",
              "923782           0.0      9.0            0.0                0.0  \n",
              "2359746          NaN      NaN            NaN                NaN  \n",
              "1037408          NaN      NaN            NaN                NaN  \n",
              "\n",
              "[5 rows x 29 columns]"
            ],
            "text/html": [
              "<div>\n",
              "<style scoped>\n",
              "    .dataframe tbody tr th:only-of-type {\n",
              "        vertical-align: middle;\n",
              "    }\n",
              "\n",
              "    .dataframe tbody tr th {\n",
              "        vertical-align: top;\n",
              "    }\n",
              "\n",
              "    .dataframe thead th {\n",
              "        text-align: right;\n",
              "    }\n",
              "</style>\n",
              "<table border=\"1\" class=\"dataframe\">\n",
              "  <thead>\n",
              "    <tr style=\"text-align: right;\">\n",
              "      <th></th>\n",
              "      <th>Year</th>\n",
              "      <th>Month</th>\n",
              "      <th>DayofMonth</th>\n",
              "      <th>DayOfWeek</th>\n",
              "      <th>DepTime</th>\n",
              "      <th>CRSDepTime</th>\n",
              "      <th>ArrTime</th>\n",
              "      <th>CRSArrTime</th>\n",
              "      <th>UniqueCarrier</th>\n",
              "      <th>FlightNum</th>\n",
              "      <th>...</th>\n",
              "      <th>TaxiIn</th>\n",
              "      <th>TaxiOut</th>\n",
              "      <th>Cancelled</th>\n",
              "      <th>CancellationCode</th>\n",
              "      <th>Diverted</th>\n",
              "      <th>CarrierDelay</th>\n",
              "      <th>WeatherDelay</th>\n",
              "      <th>NASDelay</th>\n",
              "      <th>SecurityDelay</th>\n",
              "      <th>LateAircraftDelay</th>\n",
              "    </tr>\n",
              "  </thead>\n",
              "  <tbody>\n",
              "    <tr>\n",
              "      <th>5508695</th>\n",
              "      <td>2008</td>\n",
              "      <td>10</td>\n",
              "      <td>9</td>\n",
              "      <td>4</td>\n",
              "      <td>1755.0</td>\n",
              "      <td>1745</td>\n",
              "      <td>1907.0</td>\n",
              "      <td>1854</td>\n",
              "      <td>YV</td>\n",
              "      <td>2678</td>\n",
              "      <td>...</td>\n",
              "      <td>5.0</td>\n",
              "      <td>19.0</td>\n",
              "      <td>0</td>\n",
              "      <td>NaN</td>\n",
              "      <td>0</td>\n",
              "      <td>NaN</td>\n",
              "      <td>NaN</td>\n",
              "      <td>NaN</td>\n",
              "      <td>NaN</td>\n",
              "      <td>NaN</td>\n",
              "    </tr>\n",
              "    <tr>\n",
              "      <th>643476</th>\n",
              "      <td>2008</td>\n",
              "      <td>2</td>\n",
              "      <td>14</td>\n",
              "      <td>4</td>\n",
              "      <td>1400.0</td>\n",
              "      <td>1350</td>\n",
              "      <td>1453.0</td>\n",
              "      <td>1450</td>\n",
              "      <td>WN</td>\n",
              "      <td>3583</td>\n",
              "      <td>...</td>\n",
              "      <td>2.0</td>\n",
              "      <td>7.0</td>\n",
              "      <td>0</td>\n",
              "      <td>NaN</td>\n",
              "      <td>0</td>\n",
              "      <td>NaN</td>\n",
              "      <td>NaN</td>\n",
              "      <td>NaN</td>\n",
              "      <td>NaN</td>\n",
              "      <td>NaN</td>\n",
              "    </tr>\n",
              "    <tr>\n",
              "      <th>923782</th>\n",
              "      <td>2008</td>\n",
              "      <td>2</td>\n",
              "      <td>8</td>\n",
              "      <td>5</td>\n",
              "      <td>857.0</td>\n",
              "      <td>851</td>\n",
              "      <td>1017.0</td>\n",
              "      <td>1002</td>\n",
              "      <td>EV</td>\n",
              "      <td>4639</td>\n",
              "      <td>...</td>\n",
              "      <td>2.0</td>\n",
              "      <td>35.0</td>\n",
              "      <td>0</td>\n",
              "      <td>NaN</td>\n",
              "      <td>0</td>\n",
              "      <td>6.0</td>\n",
              "      <td>0.0</td>\n",
              "      <td>9.0</td>\n",
              "      <td>0.0</td>\n",
              "      <td>0.0</td>\n",
              "    </tr>\n",
              "    <tr>\n",
              "      <th>2359746</th>\n",
              "      <td>2008</td>\n",
              "      <td>4</td>\n",
              "      <td>8</td>\n",
              "      <td>2</td>\n",
              "      <td>1804.0</td>\n",
              "      <td>1745</td>\n",
              "      <td>2238.0</td>\n",
              "      <td>2228</td>\n",
              "      <td>CO</td>\n",
              "      <td>1632</td>\n",
              "      <td>...</td>\n",
              "      <td>6.0</td>\n",
              "      <td>21.0</td>\n",
              "      <td>0</td>\n",
              "      <td>NaN</td>\n",
              "      <td>0</td>\n",
              "      <td>NaN</td>\n",
              "      <td>NaN</td>\n",
              "      <td>NaN</td>\n",
              "      <td>NaN</td>\n",
              "      <td>NaN</td>\n",
              "    </tr>\n",
              "    <tr>\n",
              "      <th>1037408</th>\n",
              "      <td>2008</td>\n",
              "      <td>2</td>\n",
              "      <td>26</td>\n",
              "      <td>2</td>\n",
              "      <td>1637.0</td>\n",
              "      <td>1640</td>\n",
              "      <td>1816.0</td>\n",
              "      <td>1835</td>\n",
              "      <td>9E</td>\n",
              "      <td>2999</td>\n",
              "      <td>...</td>\n",
              "      <td>7.0</td>\n",
              "      <td>22.0</td>\n",
              "      <td>0</td>\n",
              "      <td>NaN</td>\n",
              "      <td>0</td>\n",
              "      <td>NaN</td>\n",
              "      <td>NaN</td>\n",
              "      <td>NaN</td>\n",
              "      <td>NaN</td>\n",
              "      <td>NaN</td>\n",
              "    </tr>\n",
              "  </tbody>\n",
              "</table>\n",
              "<p>5 rows × 29 columns</p>\n",
              "</div>"
            ]
          },
          "metadata": {
            "tags": []
          },
          "execution_count": 4
        }
      ]
    },
    {
      "cell_type": "markdown",
      "metadata": {
        "colab_type": "text",
        "id": "wiaJPuNNCb4w"
      },
      "source": [
        "Variable descriptions: http://stat-computing.org/dataexpo/2009/the-data.html\n",
        "\n",
        "Reference: https://www.kaggle.com/fabiendaniel/predicting-flight-delays-tutorial"
      ]
    },
    {
      "cell_type": "markdown",
      "metadata": {
        "colab_type": "text",
        "id": "M3qKieX-Cb4y"
      },
      "source": [
        "## Data pre-processing"
      ]
    },
    {
      "cell_type": "code",
      "metadata": {
        "colab_type": "code",
        "id": "MJaJV73iCb4z",
        "outputId": "ee655dd7-2850-4b4d-f38a-22af941721ad",
        "colab": {
          "base_uri": "https://localhost:8080/",
          "height": 527
        }
      },
      "source": [
        "df.count()"
      ],
      "execution_count": 5,
      "outputs": [
        {
          "output_type": "execute_result",
          "data": {
            "text/plain": [
              "Year                 1752432\n",
              "Month                1752432\n",
              "DayofMonth           1752432\n",
              "DayOfWeek            1752432\n",
              "DepTime              1718469\n",
              "CRSDepTime           1752432\n",
              "ArrTime              1714661\n",
              "CRSArrTime           1752432\n",
              "UniqueCarrier        1752432\n",
              "FlightNum            1752432\n",
              "TailNum              1731710\n",
              "ActualElapsedTime    1713926\n",
              "CRSElapsedTime       1752235\n",
              "AirTime              1713926\n",
              "ArrDelay             1713926\n",
              "DepDelay             1718469\n",
              "Origin               1752432\n",
              "Dest                 1752432\n",
              "Distance             1752432\n",
              "TaxiIn               1714661\n",
              "TaxiOut              1718279\n",
              "Cancelled            1752432\n",
              "CancellationCode       34240\n",
              "Diverted             1752432\n",
              "CarrierDelay          380919\n",
              "WeatherDelay          380919\n",
              "NASDelay              380919\n",
              "SecurityDelay         380919\n",
              "LateAircraftDelay     380919\n",
              "dtype: int64"
            ]
          },
          "metadata": {
            "tags": []
          },
          "execution_count": 5
        }
      ]
    },
    {
      "cell_type": "code",
      "metadata": {
        "colab_type": "code",
        "id": "ybsWiOhICb43",
        "outputId": "a6863383-07b6-411c-f09f-a68348357dbb",
        "colab": {
          "base_uri": "https://localhost:8080/",
          "height": 238
        }
      },
      "source": [
        "#Create Date column\n",
        "#df['Date'] = pd.to_datetime(df[['Year', 'Month', 'DayofMonth']])\n",
        "\n",
        "# Drop columns\n",
        "# Year: The dataset only contains data in 2008\n",
        "# Cancelled + CancellationCode + Diverted: Cancelled flight does not have delay label.\n",
        "df.drop(['Year', 'Cancelled', 'CancellationCode', 'Diverted'], axis=1, inplace=True)\n",
        "# Delay details: Only 20% rows have these features.\n",
        "df.drop(['CarrierDelay', 'WeatherDelay', 'NASDelay', 'SecurityDelay', 'LateAircraftDelay'], axis=1, inplace=True)\n",
        "# Time: Only keep CRSArrTime, CRSElapsedTime\n",
        "df.drop(['DepTime', 'ArrTime', 'CRSDepTime', 'ActualElapsedTime', 'DepDelay'], axis=1, inplace=True)\n",
        "# Airport: Only keep the Dest Airport\n",
        "df.drop(['Origin'], axis=1, inplace=True)\n",
        "# Carrier: Drop FlightNum and TailNum\n",
        "df.drop(['FlightNum', 'TailNum'], axis=1, inplace=True)\n",
        "\n",
        "df.dropna(inplace=True)\n",
        "df.drop_duplicates(inplace=True)\n",
        "\n",
        "df.count()"
      ],
      "execution_count": 6,
      "outputs": [
        {
          "output_type": "execute_result",
          "data": {
            "text/plain": [
              "Month             1713926\n",
              "DayofMonth        1713926\n",
              "DayOfWeek         1713926\n",
              "CRSArrTime        1713926\n",
              "UniqueCarrier     1713926\n",
              "CRSElapsedTime    1713926\n",
              "AirTime           1713926\n",
              "ArrDelay          1713926\n",
              "Dest              1713926\n",
              "Distance          1713926\n",
              "TaxiIn            1713926\n",
              "TaxiOut           1713926\n",
              "dtype: int64"
            ]
          },
          "metadata": {
            "tags": []
          },
          "execution_count": 6
        }
      ]
    },
    {
      "cell_type": "code",
      "metadata": {
        "colab_type": "code",
        "id": "ioRac8TMCb49",
        "colab": {}
      },
      "source": [
        "# Convert CRSArrTime to Parts of the Day\n",
        "conditions = [\n",
        "    (df['CRSArrTime'] >= 500) & (df['CRSArrTime'] < 1201),\n",
        "    (df['CRSArrTime'] >= 1201) & (df['CRSArrTime'] < 1701),\n",
        "    (df['CRSArrTime'] >= 1701) & (df['CRSArrTime'] < 2101)]\n",
        "choices = [1, 2, 3]\n",
        "df['PotD'] = np.select(conditions, choices, default=4)\n",
        "\n",
        "# Morning, Afternoon, Evening, Night"
      ],
      "execution_count": 0,
      "outputs": []
    },
    {
      "cell_type": "code",
      "metadata": {
        "colab_type": "code",
        "id": "0j0x4lmqCb5R",
        "colab": {}
      },
      "source": [
        "# Convert ArrDelay to Delay\n",
        "# A flight only counts as late if it is more than 30 minutes late.\n",
        "conditions = [\n",
        "    (df['ArrDelay'] > 30)]\n",
        "choices = [1]\n",
        "df['Delay'] = np.select(conditions, choices, default=0)\n",
        "df.drop(['CRSArrTime'], axis=1, inplace=True)"
      ],
      "execution_count": 0,
      "outputs": []
    },
    {
      "cell_type": "code",
      "metadata": {
        "colab_type": "code",
        "id": "nE8Ha8MjCb5U",
        "outputId": "06e55429-9cdb-4d5a-ca3b-dee7fbe5e3f5",
        "colab": {
          "base_uri": "https://localhost:8080/",
          "height": 255
        }
      },
      "source": [
        "df.dtypes"
      ],
      "execution_count": 9,
      "outputs": [
        {
          "output_type": "execute_result",
          "data": {
            "text/plain": [
              "Month               int64\n",
              "DayofMonth          int64\n",
              "DayOfWeek           int64\n",
              "UniqueCarrier      object\n",
              "CRSElapsedTime    float64\n",
              "AirTime           float64\n",
              "ArrDelay          float64\n",
              "Dest               object\n",
              "Distance            int64\n",
              "TaxiIn            float64\n",
              "TaxiOut           float64\n",
              "PotD                int64\n",
              "Delay               int64\n",
              "dtype: object"
            ]
          },
          "metadata": {
            "tags": []
          },
          "execution_count": 9
        }
      ]
    },
    {
      "cell_type": "code",
      "metadata": {
        "colab_type": "code",
        "id": "aW8e-5kiCb5X",
        "outputId": "063929a5-c0a5-43e6-b6ac-bdef90baaa98",
        "colab": {
          "base_uri": "https://localhost:8080/",
          "height": 204
        }
      },
      "source": [
        "df.head()"
      ],
      "execution_count": 10,
      "outputs": [
        {
          "output_type": "execute_result",
          "data": {
            "text/plain": [
              "         Month  DayofMonth  DayOfWeek UniqueCarrier  CRSElapsedTime  AirTime  \\\n",
              "5508695     10           9          4            YV            69.0     48.0   \n",
              "643476       2          14          4            WN            60.0     44.0   \n",
              "923782       2           8          5            EV           131.0    103.0   \n",
              "2359746      4           8          2            CO           223.0    187.0   \n",
              "1037408      2          26          2            9E           175.0    130.0   \n",
              "\n",
              "         ArrDelay Dest  Distance  TaxiIn  TaxiOut  PotD  Delay  \n",
              "5508695      13.0  ORF       290     5.0     19.0     3      0  \n",
              "643476        3.0  MSY       303     2.0      7.0     2      0  \n",
              "923782       15.0  TUL       674     2.0     35.0     1      0  \n",
              "2359746      10.0  LGA      1416     6.0     21.0     4      0  \n",
              "1037408     -19.0  DSM       897     7.0     22.0     3      0  "
            ],
            "text/html": [
              "<div>\n",
              "<style scoped>\n",
              "    .dataframe tbody tr th:only-of-type {\n",
              "        vertical-align: middle;\n",
              "    }\n",
              "\n",
              "    .dataframe tbody tr th {\n",
              "        vertical-align: top;\n",
              "    }\n",
              "\n",
              "    .dataframe thead th {\n",
              "        text-align: right;\n",
              "    }\n",
              "</style>\n",
              "<table border=\"1\" class=\"dataframe\">\n",
              "  <thead>\n",
              "    <tr style=\"text-align: right;\">\n",
              "      <th></th>\n",
              "      <th>Month</th>\n",
              "      <th>DayofMonth</th>\n",
              "      <th>DayOfWeek</th>\n",
              "      <th>UniqueCarrier</th>\n",
              "      <th>CRSElapsedTime</th>\n",
              "      <th>AirTime</th>\n",
              "      <th>ArrDelay</th>\n",
              "      <th>Dest</th>\n",
              "      <th>Distance</th>\n",
              "      <th>TaxiIn</th>\n",
              "      <th>TaxiOut</th>\n",
              "      <th>PotD</th>\n",
              "      <th>Delay</th>\n",
              "    </tr>\n",
              "  </thead>\n",
              "  <tbody>\n",
              "    <tr>\n",
              "      <th>5508695</th>\n",
              "      <td>10</td>\n",
              "      <td>9</td>\n",
              "      <td>4</td>\n",
              "      <td>YV</td>\n",
              "      <td>69.0</td>\n",
              "      <td>48.0</td>\n",
              "      <td>13.0</td>\n",
              "      <td>ORF</td>\n",
              "      <td>290</td>\n",
              "      <td>5.0</td>\n",
              "      <td>19.0</td>\n",
              "      <td>3</td>\n",
              "      <td>0</td>\n",
              "    </tr>\n",
              "    <tr>\n",
              "      <th>643476</th>\n",
              "      <td>2</td>\n",
              "      <td>14</td>\n",
              "      <td>4</td>\n",
              "      <td>WN</td>\n",
              "      <td>60.0</td>\n",
              "      <td>44.0</td>\n",
              "      <td>3.0</td>\n",
              "      <td>MSY</td>\n",
              "      <td>303</td>\n",
              "      <td>2.0</td>\n",
              "      <td>7.0</td>\n",
              "      <td>2</td>\n",
              "      <td>0</td>\n",
              "    </tr>\n",
              "    <tr>\n",
              "      <th>923782</th>\n",
              "      <td>2</td>\n",
              "      <td>8</td>\n",
              "      <td>5</td>\n",
              "      <td>EV</td>\n",
              "      <td>131.0</td>\n",
              "      <td>103.0</td>\n",
              "      <td>15.0</td>\n",
              "      <td>TUL</td>\n",
              "      <td>674</td>\n",
              "      <td>2.0</td>\n",
              "      <td>35.0</td>\n",
              "      <td>1</td>\n",
              "      <td>0</td>\n",
              "    </tr>\n",
              "    <tr>\n",
              "      <th>2359746</th>\n",
              "      <td>4</td>\n",
              "      <td>8</td>\n",
              "      <td>2</td>\n",
              "      <td>CO</td>\n",
              "      <td>223.0</td>\n",
              "      <td>187.0</td>\n",
              "      <td>10.0</td>\n",
              "      <td>LGA</td>\n",
              "      <td>1416</td>\n",
              "      <td>6.0</td>\n",
              "      <td>21.0</td>\n",
              "      <td>4</td>\n",
              "      <td>0</td>\n",
              "    </tr>\n",
              "    <tr>\n",
              "      <th>1037408</th>\n",
              "      <td>2</td>\n",
              "      <td>26</td>\n",
              "      <td>2</td>\n",
              "      <td>9E</td>\n",
              "      <td>175.0</td>\n",
              "      <td>130.0</td>\n",
              "      <td>-19.0</td>\n",
              "      <td>DSM</td>\n",
              "      <td>897</td>\n",
              "      <td>7.0</td>\n",
              "      <td>22.0</td>\n",
              "      <td>3</td>\n",
              "      <td>0</td>\n",
              "    </tr>\n",
              "  </tbody>\n",
              "</table>\n",
              "</div>"
            ]
          },
          "metadata": {
            "tags": []
          },
          "execution_count": 10
        }
      ]
    },
    {
      "cell_type": "markdown",
      "metadata": {
        "colab_type": "text",
        "id": "eZHZZ74dCb5e"
      },
      "source": [
        "## Data analysis"
      ]
    },
    {
      "cell_type": "code",
      "metadata": {
        "colab_type": "code",
        "id": "QhySIYE0Cb5f",
        "outputId": "6c075fb2-6c65-400d-c2ee-b99ffbd0dbc8",
        "colab": {
          "base_uri": "https://localhost:8080/",
          "height": 297
        }
      },
      "source": [
        "#Check basic stats\n",
        "df.describe()"
      ],
      "execution_count": 11,
      "outputs": [
        {
          "output_type": "execute_result",
          "data": {
            "text/plain": [
              "              Month    DayofMonth     DayOfWeek  CRSElapsedTime       AirTime  \\\n",
              "count  1.713926e+06  1.713926e+06  1.713926e+06    1.713926e+06  1.713926e+06   \n",
              "mean   6.389406e+00  1.572876e+01  3.926202e+00    1.291473e+02  1.040770e+02   \n",
              "std    3.396570e+00  8.793587e+00  1.988241e+00    6.963255e+01  6.753656e+01   \n",
              "min    1.000000e+00  1.000000e+00  1.000000e+00    1.000000e+00  0.000000e+00   \n",
              "25%    3.000000e+00  8.000000e+00  2.000000e+00    8.000000e+01  5.500000e+01   \n",
              "50%    6.000000e+00  1.600000e+01  4.000000e+00    1.110000e+02  8.600000e+01   \n",
              "75%    9.000000e+00  2.300000e+01  6.000000e+00    1.590000e+02  1.320000e+02   \n",
              "max    1.200000e+01  3.100000e+01  7.000000e+00    6.600000e+02  9.810000e+02   \n",
              "\n",
              "           ArrDelay      Distance        TaxiIn       TaxiOut          PotD  \\\n",
              "count  1.713926e+06  1.713926e+06  1.713926e+06  1.713926e+06  1.713926e+06   \n",
              "mean   8.141693e+00  7.293590e+02  6.861068e+00  1.645214e+01  2.244526e+00   \n",
              "std    3.835040e+01  5.641675e+02  4.925750e+00  1.134787e+01  1.019131e+00   \n",
              "min   -1.090000e+02  1.100000e+01  0.000000e+00  0.000000e+00  1.000000e+00   \n",
              "25%   -1.000000e+01  3.260000e+02  4.000000e+00  1.000000e+01  1.000000e+00   \n",
              "50%   -2.000000e+00  5.810000e+02  6.000000e+00  1.400000e+01  2.000000e+00   \n",
              "75%    1.200000e+01  9.540000e+02  8.000000e+00  1.900000e+01  3.000000e+00   \n",
              "max    2.453000e+03  4.962000e+03  2.400000e+02  4.290000e+02  4.000000e+00   \n",
              "\n",
              "              Delay  \n",
              "count  1.713926e+06  \n",
              "mean   1.313015e-01  \n",
              "std    3.377299e-01  \n",
              "min    0.000000e+00  \n",
              "25%    0.000000e+00  \n",
              "50%    0.000000e+00  \n",
              "75%    0.000000e+00  \n",
              "max    1.000000e+00  "
            ],
            "text/html": [
              "<div>\n",
              "<style scoped>\n",
              "    .dataframe tbody tr th:only-of-type {\n",
              "        vertical-align: middle;\n",
              "    }\n",
              "\n",
              "    .dataframe tbody tr th {\n",
              "        vertical-align: top;\n",
              "    }\n",
              "\n",
              "    .dataframe thead th {\n",
              "        text-align: right;\n",
              "    }\n",
              "</style>\n",
              "<table border=\"1\" class=\"dataframe\">\n",
              "  <thead>\n",
              "    <tr style=\"text-align: right;\">\n",
              "      <th></th>\n",
              "      <th>Month</th>\n",
              "      <th>DayofMonth</th>\n",
              "      <th>DayOfWeek</th>\n",
              "      <th>CRSElapsedTime</th>\n",
              "      <th>AirTime</th>\n",
              "      <th>ArrDelay</th>\n",
              "      <th>Distance</th>\n",
              "      <th>TaxiIn</th>\n",
              "      <th>TaxiOut</th>\n",
              "      <th>PotD</th>\n",
              "      <th>Delay</th>\n",
              "    </tr>\n",
              "  </thead>\n",
              "  <tbody>\n",
              "    <tr>\n",
              "      <th>count</th>\n",
              "      <td>1.713926e+06</td>\n",
              "      <td>1.713926e+06</td>\n",
              "      <td>1.713926e+06</td>\n",
              "      <td>1.713926e+06</td>\n",
              "      <td>1.713926e+06</td>\n",
              "      <td>1.713926e+06</td>\n",
              "      <td>1.713926e+06</td>\n",
              "      <td>1.713926e+06</td>\n",
              "      <td>1.713926e+06</td>\n",
              "      <td>1.713926e+06</td>\n",
              "      <td>1.713926e+06</td>\n",
              "    </tr>\n",
              "    <tr>\n",
              "      <th>mean</th>\n",
              "      <td>6.389406e+00</td>\n",
              "      <td>1.572876e+01</td>\n",
              "      <td>3.926202e+00</td>\n",
              "      <td>1.291473e+02</td>\n",
              "      <td>1.040770e+02</td>\n",
              "      <td>8.141693e+00</td>\n",
              "      <td>7.293590e+02</td>\n",
              "      <td>6.861068e+00</td>\n",
              "      <td>1.645214e+01</td>\n",
              "      <td>2.244526e+00</td>\n",
              "      <td>1.313015e-01</td>\n",
              "    </tr>\n",
              "    <tr>\n",
              "      <th>std</th>\n",
              "      <td>3.396570e+00</td>\n",
              "      <td>8.793587e+00</td>\n",
              "      <td>1.988241e+00</td>\n",
              "      <td>6.963255e+01</td>\n",
              "      <td>6.753656e+01</td>\n",
              "      <td>3.835040e+01</td>\n",
              "      <td>5.641675e+02</td>\n",
              "      <td>4.925750e+00</td>\n",
              "      <td>1.134787e+01</td>\n",
              "      <td>1.019131e+00</td>\n",
              "      <td>3.377299e-01</td>\n",
              "    </tr>\n",
              "    <tr>\n",
              "      <th>min</th>\n",
              "      <td>1.000000e+00</td>\n",
              "      <td>1.000000e+00</td>\n",
              "      <td>1.000000e+00</td>\n",
              "      <td>1.000000e+00</td>\n",
              "      <td>0.000000e+00</td>\n",
              "      <td>-1.090000e+02</td>\n",
              "      <td>1.100000e+01</td>\n",
              "      <td>0.000000e+00</td>\n",
              "      <td>0.000000e+00</td>\n",
              "      <td>1.000000e+00</td>\n",
              "      <td>0.000000e+00</td>\n",
              "    </tr>\n",
              "    <tr>\n",
              "      <th>25%</th>\n",
              "      <td>3.000000e+00</td>\n",
              "      <td>8.000000e+00</td>\n",
              "      <td>2.000000e+00</td>\n",
              "      <td>8.000000e+01</td>\n",
              "      <td>5.500000e+01</td>\n",
              "      <td>-1.000000e+01</td>\n",
              "      <td>3.260000e+02</td>\n",
              "      <td>4.000000e+00</td>\n",
              "      <td>1.000000e+01</td>\n",
              "      <td>1.000000e+00</td>\n",
              "      <td>0.000000e+00</td>\n",
              "    </tr>\n",
              "    <tr>\n",
              "      <th>50%</th>\n",
              "      <td>6.000000e+00</td>\n",
              "      <td>1.600000e+01</td>\n",
              "      <td>4.000000e+00</td>\n",
              "      <td>1.110000e+02</td>\n",
              "      <td>8.600000e+01</td>\n",
              "      <td>-2.000000e+00</td>\n",
              "      <td>5.810000e+02</td>\n",
              "      <td>6.000000e+00</td>\n",
              "      <td>1.400000e+01</td>\n",
              "      <td>2.000000e+00</td>\n",
              "      <td>0.000000e+00</td>\n",
              "    </tr>\n",
              "    <tr>\n",
              "      <th>75%</th>\n",
              "      <td>9.000000e+00</td>\n",
              "      <td>2.300000e+01</td>\n",
              "      <td>6.000000e+00</td>\n",
              "      <td>1.590000e+02</td>\n",
              "      <td>1.320000e+02</td>\n",
              "      <td>1.200000e+01</td>\n",
              "      <td>9.540000e+02</td>\n",
              "      <td>8.000000e+00</td>\n",
              "      <td>1.900000e+01</td>\n",
              "      <td>3.000000e+00</td>\n",
              "      <td>0.000000e+00</td>\n",
              "    </tr>\n",
              "    <tr>\n",
              "      <th>max</th>\n",
              "      <td>1.200000e+01</td>\n",
              "      <td>3.100000e+01</td>\n",
              "      <td>7.000000e+00</td>\n",
              "      <td>6.600000e+02</td>\n",
              "      <td>9.810000e+02</td>\n",
              "      <td>2.453000e+03</td>\n",
              "      <td>4.962000e+03</td>\n",
              "      <td>2.400000e+02</td>\n",
              "      <td>4.290000e+02</td>\n",
              "      <td>4.000000e+00</td>\n",
              "      <td>1.000000e+00</td>\n",
              "    </tr>\n",
              "  </tbody>\n",
              "</table>\n",
              "</div>"
            ]
          },
          "metadata": {
            "tags": []
          },
          "execution_count": 11
        }
      ]
    },
    {
      "cell_type": "code",
      "metadata": {
        "colab_type": "code",
        "id": "FPJr_B0cCb5h",
        "outputId": "e3ed8b59-ffc0-47a4-d6df-8106b8ad675c",
        "colab": {
          "base_uri": "https://localhost:8080/",
          "height": 390
        }
      },
      "source": [
        "#Check correlation\n",
        "df.corr()"
      ],
      "execution_count": 12,
      "outputs": [
        {
          "output_type": "execute_result",
          "data": {
            "text/plain": [
              "                   Month  DayofMonth  DayOfWeek  CRSElapsedTime   AirTime  \\\n",
              "Month           1.000000   -0.000712  -0.005879       -0.006836 -0.012909   \n",
              "DayofMonth     -0.000712    1.000000   0.005286        0.000583 -0.000026   \n",
              "DayOfWeek      -0.005879    0.005286   1.000000        0.015021  0.013864   \n",
              "CRSElapsedTime -0.006836    0.000583   0.015021        1.000000  0.988253   \n",
              "AirTime        -0.012909   -0.000026   0.013864        0.988253  1.000000   \n",
              "ArrDelay       -0.042138    0.001594   0.010790        0.012195  0.034101   \n",
              "Distance       -0.006187    0.000387   0.016739        0.983219  0.982988   \n",
              "TaxiIn          0.006654   -0.001912   0.009228        0.104068  0.084840   \n",
              "TaxiOut        -0.016631   -0.000389  -0.007051        0.142784  0.107842   \n",
              "PotD           -0.005561   -0.000925   0.003628        0.090870  0.077841   \n",
              "Delay          -0.034473    0.000260   0.010407        0.030955  0.040653   \n",
              "\n",
              "                ArrDelay  Distance    TaxiIn   TaxiOut      PotD     Delay  \n",
              "Month          -0.042138 -0.006187  0.006654 -0.016631 -0.005561 -0.034473  \n",
              "DayofMonth      0.001594  0.000387 -0.001912 -0.000389 -0.000925  0.000260  \n",
              "DayOfWeek       0.010790  0.016739  0.009228 -0.007051  0.003628  0.010407  \n",
              "CRSElapsedTime  0.012195  0.983219  0.104068  0.142784  0.090870  0.030955  \n",
              "AirTime         0.034101  0.982988  0.084840  0.107842  0.077841  0.040653  \n",
              "ArrDelay        1.000000  0.006159  0.122179  0.324040  0.115719  0.741165  \n",
              "Distance        0.006159  1.000000  0.076926  0.090991  0.090672  0.018629  \n",
              "TaxiIn          0.122179  0.076926  1.000000  0.040711 -0.019308  0.088357  \n",
              "TaxiOut         0.324040  0.090991  0.040711  1.000000  0.057664  0.290544  \n",
              "PotD            0.115719  0.090672 -0.019308  0.057664  1.000000  0.134037  \n",
              "Delay           0.741165  0.018629  0.088357  0.290544  0.134037  1.000000  "
            ],
            "text/html": [
              "<div>\n",
              "<style scoped>\n",
              "    .dataframe tbody tr th:only-of-type {\n",
              "        vertical-align: middle;\n",
              "    }\n",
              "\n",
              "    .dataframe tbody tr th {\n",
              "        vertical-align: top;\n",
              "    }\n",
              "\n",
              "    .dataframe thead th {\n",
              "        text-align: right;\n",
              "    }\n",
              "</style>\n",
              "<table border=\"1\" class=\"dataframe\">\n",
              "  <thead>\n",
              "    <tr style=\"text-align: right;\">\n",
              "      <th></th>\n",
              "      <th>Month</th>\n",
              "      <th>DayofMonth</th>\n",
              "      <th>DayOfWeek</th>\n",
              "      <th>CRSElapsedTime</th>\n",
              "      <th>AirTime</th>\n",
              "      <th>ArrDelay</th>\n",
              "      <th>Distance</th>\n",
              "      <th>TaxiIn</th>\n",
              "      <th>TaxiOut</th>\n",
              "      <th>PotD</th>\n",
              "      <th>Delay</th>\n",
              "    </tr>\n",
              "  </thead>\n",
              "  <tbody>\n",
              "    <tr>\n",
              "      <th>Month</th>\n",
              "      <td>1.000000</td>\n",
              "      <td>-0.000712</td>\n",
              "      <td>-0.005879</td>\n",
              "      <td>-0.006836</td>\n",
              "      <td>-0.012909</td>\n",
              "      <td>-0.042138</td>\n",
              "      <td>-0.006187</td>\n",
              "      <td>0.006654</td>\n",
              "      <td>-0.016631</td>\n",
              "      <td>-0.005561</td>\n",
              "      <td>-0.034473</td>\n",
              "    </tr>\n",
              "    <tr>\n",
              "      <th>DayofMonth</th>\n",
              "      <td>-0.000712</td>\n",
              "      <td>1.000000</td>\n",
              "      <td>0.005286</td>\n",
              "      <td>0.000583</td>\n",
              "      <td>-0.000026</td>\n",
              "      <td>0.001594</td>\n",
              "      <td>0.000387</td>\n",
              "      <td>-0.001912</td>\n",
              "      <td>-0.000389</td>\n",
              "      <td>-0.000925</td>\n",
              "      <td>0.000260</td>\n",
              "    </tr>\n",
              "    <tr>\n",
              "      <th>DayOfWeek</th>\n",
              "      <td>-0.005879</td>\n",
              "      <td>0.005286</td>\n",
              "      <td>1.000000</td>\n",
              "      <td>0.015021</td>\n",
              "      <td>0.013864</td>\n",
              "      <td>0.010790</td>\n",
              "      <td>0.016739</td>\n",
              "      <td>0.009228</td>\n",
              "      <td>-0.007051</td>\n",
              "      <td>0.003628</td>\n",
              "      <td>0.010407</td>\n",
              "    </tr>\n",
              "    <tr>\n",
              "      <th>CRSElapsedTime</th>\n",
              "      <td>-0.006836</td>\n",
              "      <td>0.000583</td>\n",
              "      <td>0.015021</td>\n",
              "      <td>1.000000</td>\n",
              "      <td>0.988253</td>\n",
              "      <td>0.012195</td>\n",
              "      <td>0.983219</td>\n",
              "      <td>0.104068</td>\n",
              "      <td>0.142784</td>\n",
              "      <td>0.090870</td>\n",
              "      <td>0.030955</td>\n",
              "    </tr>\n",
              "    <tr>\n",
              "      <th>AirTime</th>\n",
              "      <td>-0.012909</td>\n",
              "      <td>-0.000026</td>\n",
              "      <td>0.013864</td>\n",
              "      <td>0.988253</td>\n",
              "      <td>1.000000</td>\n",
              "      <td>0.034101</td>\n",
              "      <td>0.982988</td>\n",
              "      <td>0.084840</td>\n",
              "      <td>0.107842</td>\n",
              "      <td>0.077841</td>\n",
              "      <td>0.040653</td>\n",
              "    </tr>\n",
              "    <tr>\n",
              "      <th>ArrDelay</th>\n",
              "      <td>-0.042138</td>\n",
              "      <td>0.001594</td>\n",
              "      <td>0.010790</td>\n",
              "      <td>0.012195</td>\n",
              "      <td>0.034101</td>\n",
              "      <td>1.000000</td>\n",
              "      <td>0.006159</td>\n",
              "      <td>0.122179</td>\n",
              "      <td>0.324040</td>\n",
              "      <td>0.115719</td>\n",
              "      <td>0.741165</td>\n",
              "    </tr>\n",
              "    <tr>\n",
              "      <th>Distance</th>\n",
              "      <td>-0.006187</td>\n",
              "      <td>0.000387</td>\n",
              "      <td>0.016739</td>\n",
              "      <td>0.983219</td>\n",
              "      <td>0.982988</td>\n",
              "      <td>0.006159</td>\n",
              "      <td>1.000000</td>\n",
              "      <td>0.076926</td>\n",
              "      <td>0.090991</td>\n",
              "      <td>0.090672</td>\n",
              "      <td>0.018629</td>\n",
              "    </tr>\n",
              "    <tr>\n",
              "      <th>TaxiIn</th>\n",
              "      <td>0.006654</td>\n",
              "      <td>-0.001912</td>\n",
              "      <td>0.009228</td>\n",
              "      <td>0.104068</td>\n",
              "      <td>0.084840</td>\n",
              "      <td>0.122179</td>\n",
              "      <td>0.076926</td>\n",
              "      <td>1.000000</td>\n",
              "      <td>0.040711</td>\n",
              "      <td>-0.019308</td>\n",
              "      <td>0.088357</td>\n",
              "    </tr>\n",
              "    <tr>\n",
              "      <th>TaxiOut</th>\n",
              "      <td>-0.016631</td>\n",
              "      <td>-0.000389</td>\n",
              "      <td>-0.007051</td>\n",
              "      <td>0.142784</td>\n",
              "      <td>0.107842</td>\n",
              "      <td>0.324040</td>\n",
              "      <td>0.090991</td>\n",
              "      <td>0.040711</td>\n",
              "      <td>1.000000</td>\n",
              "      <td>0.057664</td>\n",
              "      <td>0.290544</td>\n",
              "    </tr>\n",
              "    <tr>\n",
              "      <th>PotD</th>\n",
              "      <td>-0.005561</td>\n",
              "      <td>-0.000925</td>\n",
              "      <td>0.003628</td>\n",
              "      <td>0.090870</td>\n",
              "      <td>0.077841</td>\n",
              "      <td>0.115719</td>\n",
              "      <td>0.090672</td>\n",
              "      <td>-0.019308</td>\n",
              "      <td>0.057664</td>\n",
              "      <td>1.000000</td>\n",
              "      <td>0.134037</td>\n",
              "    </tr>\n",
              "    <tr>\n",
              "      <th>Delay</th>\n",
              "      <td>-0.034473</td>\n",
              "      <td>0.000260</td>\n",
              "      <td>0.010407</td>\n",
              "      <td>0.030955</td>\n",
              "      <td>0.040653</td>\n",
              "      <td>0.741165</td>\n",
              "      <td>0.018629</td>\n",
              "      <td>0.088357</td>\n",
              "      <td>0.290544</td>\n",
              "      <td>0.134037</td>\n",
              "      <td>1.000000</td>\n",
              "    </tr>\n",
              "  </tbody>\n",
              "</table>\n",
              "</div>"
            ]
          },
          "metadata": {
            "tags": []
          },
          "execution_count": 12
        }
      ]
    },
    {
      "cell_type": "code",
      "metadata": {
        "colab_type": "code",
        "id": "hNIrsbELCb5k",
        "outputId": "4113e7c0-9ec5-4e63-89da-e4bf720d7923",
        "colab": {
          "base_uri": "https://localhost:8080/",
          "height": 700
        }
      },
      "source": [
        "# Groupby carrier\n",
        "df.groupby(['UniqueCarrier']).mean()"
      ],
      "execution_count": 13,
      "outputs": [
        {
          "output_type": "execute_result",
          "data": {
            "text/plain": [
              "                  Month  DayofMonth  DayOfWeek  CRSElapsedTime     AirTime  \\\n",
              "UniqueCarrier                                                                \n",
              "9E             6.515782   15.783113   3.920400      100.441735   71.195207   \n",
              "AA             6.447223   15.759245   3.953103      167.703996  141.975870   \n",
              "AQ             1.492828   15.590676   3.990266       74.607582   61.280738   \n",
              "AS             6.388023   15.608942   3.931960      154.946593  131.704132   \n",
              "B6             6.428138   15.870224   4.001652      179.736434  150.168399   \n",
              "CO             6.332111   15.776374   3.904690      186.543730  155.930687   \n",
              "DL             6.505341   15.699467   3.916134      156.257526  126.871843   \n",
              "EV             6.510763   15.636729   3.923329       95.822702   70.015442   \n",
              "F9             6.451369   15.651889   3.935327      143.338842  121.614772   \n",
              "FL             6.438559   15.740351   4.011847      127.128282  104.192253   \n",
              "HA             6.792238   15.690065   4.049576       90.800118   76.394248   \n",
              "MQ             6.357640   15.713636   3.933354       90.721407   66.978621   \n",
              "NW             6.220058   15.699982   3.923048      139.551770  112.983773   \n",
              "OH             6.156754   15.751533   3.868276      108.780102   80.006300   \n",
              "OO             6.373864   15.736247   3.930605       92.067408   69.577822   \n",
              "UA             6.337988   15.755279   3.955084      172.714784  145.416772   \n",
              "US             6.430611   15.698369   3.905577      147.449514  119.766278   \n",
              "WN             6.468510   15.734527   3.893385      112.389469   91.852519   \n",
              "XE             6.027417   15.706567   3.873885      114.647146   89.457626   \n",
              "YV             6.480439   15.739901   3.973848       89.194302   64.792940   \n",
              "\n",
              "                ArrDelay     Distance    TaxiIn    TaxiOut      PotD     Delay  \n",
              "UniqueCarrier                                                                   \n",
              "9E              3.838438   451.863183  8.492586  18.092411  2.192595  0.104549  \n",
              "AA             12.470819  1058.092548  8.248107  16.833502  2.325719  0.171009  \n",
              "AQ             -2.663422   420.937500  3.883709   7.991291  2.141906  0.022029  \n",
              "AS              5.226338   960.146024  5.790272  15.534318  2.349004  0.109253  \n",
              "B6             10.888062  1099.129692  6.243763  21.805190  2.350515  0.168754  \n",
              "CO             11.024856  1155.727843  7.970295  20.469745  2.306358  0.152072  \n",
              "DL              7.911193   924.596870  8.692289  20.584840  2.246943  0.117708  \n",
              "EV             10.097032   444.982404  7.358861  16.732218  2.098633  0.147477  \n",
              "F9              6.028897   879.163822  7.400579  14.547834  2.339303  0.091138  \n",
              "FL              9.369358   728.990482  7.745627  15.060362  2.305356  0.129979  \n",
              "HA              1.447042   574.240331  5.553615   9.651454  2.113993  0.041106  \n",
              "MQ              9.812606   410.558472  6.904843  16.097633  2.094944  0.152407  \n",
              "NW              7.170040   806.732482  8.282719  19.180378  2.274387  0.117751  \n",
              "OH             11.854265   487.531930  7.195015  21.831406  2.217264  0.165139  \n",
              "OO              6.771726   431.633900  6.137336  15.564771  2.174011  0.116665  \n",
              "UA             11.258146  1086.727052  6.774584  17.758123  2.292434  0.168534  \n",
              "US              2.663821   857.735706  6.414965  18.415937  2.317520  0.098489  \n",
              "WN              5.169356   636.630734  4.799726  10.598287  2.264585  0.104073  \n",
              "XE             10.715435   589.794517  7.095629  17.421771  2.167978  0.152201  \n",
              "YV             11.523302   395.785704  6.897908  17.344926  2.202715  0.152257  "
            ],
            "text/html": [
              "<div>\n",
              "<style scoped>\n",
              "    .dataframe tbody tr th:only-of-type {\n",
              "        vertical-align: middle;\n",
              "    }\n",
              "\n",
              "    .dataframe tbody tr th {\n",
              "        vertical-align: top;\n",
              "    }\n",
              "\n",
              "    .dataframe thead th {\n",
              "        text-align: right;\n",
              "    }\n",
              "</style>\n",
              "<table border=\"1\" class=\"dataframe\">\n",
              "  <thead>\n",
              "    <tr style=\"text-align: right;\">\n",
              "      <th></th>\n",
              "      <th>Month</th>\n",
              "      <th>DayofMonth</th>\n",
              "      <th>DayOfWeek</th>\n",
              "      <th>CRSElapsedTime</th>\n",
              "      <th>AirTime</th>\n",
              "      <th>ArrDelay</th>\n",
              "      <th>Distance</th>\n",
              "      <th>TaxiIn</th>\n",
              "      <th>TaxiOut</th>\n",
              "      <th>PotD</th>\n",
              "      <th>Delay</th>\n",
              "    </tr>\n",
              "    <tr>\n",
              "      <th>UniqueCarrier</th>\n",
              "      <th></th>\n",
              "      <th></th>\n",
              "      <th></th>\n",
              "      <th></th>\n",
              "      <th></th>\n",
              "      <th></th>\n",
              "      <th></th>\n",
              "      <th></th>\n",
              "      <th></th>\n",
              "      <th></th>\n",
              "      <th></th>\n",
              "    </tr>\n",
              "  </thead>\n",
              "  <tbody>\n",
              "    <tr>\n",
              "      <th>9E</th>\n",
              "      <td>6.515782</td>\n",
              "      <td>15.783113</td>\n",
              "      <td>3.920400</td>\n",
              "      <td>100.441735</td>\n",
              "      <td>71.195207</td>\n",
              "      <td>3.838438</td>\n",
              "      <td>451.863183</td>\n",
              "      <td>8.492586</td>\n",
              "      <td>18.092411</td>\n",
              "      <td>2.192595</td>\n",
              "      <td>0.104549</td>\n",
              "    </tr>\n",
              "    <tr>\n",
              "      <th>AA</th>\n",
              "      <td>6.447223</td>\n",
              "      <td>15.759245</td>\n",
              "      <td>3.953103</td>\n",
              "      <td>167.703996</td>\n",
              "      <td>141.975870</td>\n",
              "      <td>12.470819</td>\n",
              "      <td>1058.092548</td>\n",
              "      <td>8.248107</td>\n",
              "      <td>16.833502</td>\n",
              "      <td>2.325719</td>\n",
              "      <td>0.171009</td>\n",
              "    </tr>\n",
              "    <tr>\n",
              "      <th>AQ</th>\n",
              "      <td>1.492828</td>\n",
              "      <td>15.590676</td>\n",
              "      <td>3.990266</td>\n",
              "      <td>74.607582</td>\n",
              "      <td>61.280738</td>\n",
              "      <td>-2.663422</td>\n",
              "      <td>420.937500</td>\n",
              "      <td>3.883709</td>\n",
              "      <td>7.991291</td>\n",
              "      <td>2.141906</td>\n",
              "      <td>0.022029</td>\n",
              "    </tr>\n",
              "    <tr>\n",
              "      <th>AS</th>\n",
              "      <td>6.388023</td>\n",
              "      <td>15.608942</td>\n",
              "      <td>3.931960</td>\n",
              "      <td>154.946593</td>\n",
              "      <td>131.704132</td>\n",
              "      <td>5.226338</td>\n",
              "      <td>960.146024</td>\n",
              "      <td>5.790272</td>\n",
              "      <td>15.534318</td>\n",
              "      <td>2.349004</td>\n",
              "      <td>0.109253</td>\n",
              "    </tr>\n",
              "    <tr>\n",
              "      <th>B6</th>\n",
              "      <td>6.428138</td>\n",
              "      <td>15.870224</td>\n",
              "      <td>4.001652</td>\n",
              "      <td>179.736434</td>\n",
              "      <td>150.168399</td>\n",
              "      <td>10.888062</td>\n",
              "      <td>1099.129692</td>\n",
              "      <td>6.243763</td>\n",
              "      <td>21.805190</td>\n",
              "      <td>2.350515</td>\n",
              "      <td>0.168754</td>\n",
              "    </tr>\n",
              "    <tr>\n",
              "      <th>CO</th>\n",
              "      <td>6.332111</td>\n",
              "      <td>15.776374</td>\n",
              "      <td>3.904690</td>\n",
              "      <td>186.543730</td>\n",
              "      <td>155.930687</td>\n",
              "      <td>11.024856</td>\n",
              "      <td>1155.727843</td>\n",
              "      <td>7.970295</td>\n",
              "      <td>20.469745</td>\n",
              "      <td>2.306358</td>\n",
              "      <td>0.152072</td>\n",
              "    </tr>\n",
              "    <tr>\n",
              "      <th>DL</th>\n",
              "      <td>6.505341</td>\n",
              "      <td>15.699467</td>\n",
              "      <td>3.916134</td>\n",
              "      <td>156.257526</td>\n",
              "      <td>126.871843</td>\n",
              "      <td>7.911193</td>\n",
              "      <td>924.596870</td>\n",
              "      <td>8.692289</td>\n",
              "      <td>20.584840</td>\n",
              "      <td>2.246943</td>\n",
              "      <td>0.117708</td>\n",
              "    </tr>\n",
              "    <tr>\n",
              "      <th>EV</th>\n",
              "      <td>6.510763</td>\n",
              "      <td>15.636729</td>\n",
              "      <td>3.923329</td>\n",
              "      <td>95.822702</td>\n",
              "      <td>70.015442</td>\n",
              "      <td>10.097032</td>\n",
              "      <td>444.982404</td>\n",
              "      <td>7.358861</td>\n",
              "      <td>16.732218</td>\n",
              "      <td>2.098633</td>\n",
              "      <td>0.147477</td>\n",
              "    </tr>\n",
              "    <tr>\n",
              "      <th>F9</th>\n",
              "      <td>6.451369</td>\n",
              "      <td>15.651889</td>\n",
              "      <td>3.935327</td>\n",
              "      <td>143.338842</td>\n",
              "      <td>121.614772</td>\n",
              "      <td>6.028897</td>\n",
              "      <td>879.163822</td>\n",
              "      <td>7.400579</td>\n",
              "      <td>14.547834</td>\n",
              "      <td>2.339303</td>\n",
              "      <td>0.091138</td>\n",
              "    </tr>\n",
              "    <tr>\n",
              "      <th>FL</th>\n",
              "      <td>6.438559</td>\n",
              "      <td>15.740351</td>\n",
              "      <td>4.011847</td>\n",
              "      <td>127.128282</td>\n",
              "      <td>104.192253</td>\n",
              "      <td>9.369358</td>\n",
              "      <td>728.990482</td>\n",
              "      <td>7.745627</td>\n",
              "      <td>15.060362</td>\n",
              "      <td>2.305356</td>\n",
              "      <td>0.129979</td>\n",
              "    </tr>\n",
              "    <tr>\n",
              "      <th>HA</th>\n",
              "      <td>6.792238</td>\n",
              "      <td>15.690065</td>\n",
              "      <td>4.049576</td>\n",
              "      <td>90.800118</td>\n",
              "      <td>76.394248</td>\n",
              "      <td>1.447042</td>\n",
              "      <td>574.240331</td>\n",
              "      <td>5.553615</td>\n",
              "      <td>9.651454</td>\n",
              "      <td>2.113993</td>\n",
              "      <td>0.041106</td>\n",
              "    </tr>\n",
              "    <tr>\n",
              "      <th>MQ</th>\n",
              "      <td>6.357640</td>\n",
              "      <td>15.713636</td>\n",
              "      <td>3.933354</td>\n",
              "      <td>90.721407</td>\n",
              "      <td>66.978621</td>\n",
              "      <td>9.812606</td>\n",
              "      <td>410.558472</td>\n",
              "      <td>6.904843</td>\n",
              "      <td>16.097633</td>\n",
              "      <td>2.094944</td>\n",
              "      <td>0.152407</td>\n",
              "    </tr>\n",
              "    <tr>\n",
              "      <th>NW</th>\n",
              "      <td>6.220058</td>\n",
              "      <td>15.699982</td>\n",
              "      <td>3.923048</td>\n",
              "      <td>139.551770</td>\n",
              "      <td>112.983773</td>\n",
              "      <td>7.170040</td>\n",
              "      <td>806.732482</td>\n",
              "      <td>8.282719</td>\n",
              "      <td>19.180378</td>\n",
              "      <td>2.274387</td>\n",
              "      <td>0.117751</td>\n",
              "    </tr>\n",
              "    <tr>\n",
              "      <th>OH</th>\n",
              "      <td>6.156754</td>\n",
              "      <td>15.751533</td>\n",
              "      <td>3.868276</td>\n",
              "      <td>108.780102</td>\n",
              "      <td>80.006300</td>\n",
              "      <td>11.854265</td>\n",
              "      <td>487.531930</td>\n",
              "      <td>7.195015</td>\n",
              "      <td>21.831406</td>\n",
              "      <td>2.217264</td>\n",
              "      <td>0.165139</td>\n",
              "    </tr>\n",
              "    <tr>\n",
              "      <th>OO</th>\n",
              "      <td>6.373864</td>\n",
              "      <td>15.736247</td>\n",
              "      <td>3.930605</td>\n",
              "      <td>92.067408</td>\n",
              "      <td>69.577822</td>\n",
              "      <td>6.771726</td>\n",
              "      <td>431.633900</td>\n",
              "      <td>6.137336</td>\n",
              "      <td>15.564771</td>\n",
              "      <td>2.174011</td>\n",
              "      <td>0.116665</td>\n",
              "    </tr>\n",
              "    <tr>\n",
              "      <th>UA</th>\n",
              "      <td>6.337988</td>\n",
              "      <td>15.755279</td>\n",
              "      <td>3.955084</td>\n",
              "      <td>172.714784</td>\n",
              "      <td>145.416772</td>\n",
              "      <td>11.258146</td>\n",
              "      <td>1086.727052</td>\n",
              "      <td>6.774584</td>\n",
              "      <td>17.758123</td>\n",
              "      <td>2.292434</td>\n",
              "      <td>0.168534</td>\n",
              "    </tr>\n",
              "    <tr>\n",
              "      <th>US</th>\n",
              "      <td>6.430611</td>\n",
              "      <td>15.698369</td>\n",
              "      <td>3.905577</td>\n",
              "      <td>147.449514</td>\n",
              "      <td>119.766278</td>\n",
              "      <td>2.663821</td>\n",
              "      <td>857.735706</td>\n",
              "      <td>6.414965</td>\n",
              "      <td>18.415937</td>\n",
              "      <td>2.317520</td>\n",
              "      <td>0.098489</td>\n",
              "    </tr>\n",
              "    <tr>\n",
              "      <th>WN</th>\n",
              "      <td>6.468510</td>\n",
              "      <td>15.734527</td>\n",
              "      <td>3.893385</td>\n",
              "      <td>112.389469</td>\n",
              "      <td>91.852519</td>\n",
              "      <td>5.169356</td>\n",
              "      <td>636.630734</td>\n",
              "      <td>4.799726</td>\n",
              "      <td>10.598287</td>\n",
              "      <td>2.264585</td>\n",
              "      <td>0.104073</td>\n",
              "    </tr>\n",
              "    <tr>\n",
              "      <th>XE</th>\n",
              "      <td>6.027417</td>\n",
              "      <td>15.706567</td>\n",
              "      <td>3.873885</td>\n",
              "      <td>114.647146</td>\n",
              "      <td>89.457626</td>\n",
              "      <td>10.715435</td>\n",
              "      <td>589.794517</td>\n",
              "      <td>7.095629</td>\n",
              "      <td>17.421771</td>\n",
              "      <td>2.167978</td>\n",
              "      <td>0.152201</td>\n",
              "    </tr>\n",
              "    <tr>\n",
              "      <th>YV</th>\n",
              "      <td>6.480439</td>\n",
              "      <td>15.739901</td>\n",
              "      <td>3.973848</td>\n",
              "      <td>89.194302</td>\n",
              "      <td>64.792940</td>\n",
              "      <td>11.523302</td>\n",
              "      <td>395.785704</td>\n",
              "      <td>6.897908</td>\n",
              "      <td>17.344926</td>\n",
              "      <td>2.202715</td>\n",
              "      <td>0.152257</td>\n",
              "    </tr>\n",
              "  </tbody>\n",
              "</table>\n",
              "</div>"
            ]
          },
          "metadata": {
            "tags": []
          },
          "execution_count": 13
        }
      ]
    },
    {
      "cell_type": "code",
      "metadata": {
        "colab_type": "code",
        "id": "qFABJ3z5Cb5p",
        "outputId": "a63f2685-37e6-40ef-b924-d6199103db2e",
        "colab": {
          "base_uri": "https://localhost:8080/",
          "height": 1000
        }
      },
      "source": [
        "# Groupby destination airport\n",
        "df.groupby(['Dest']).mean()"
      ],
      "execution_count": 14,
      "outputs": [
        {
          "output_type": "execute_result",
          "data": {
            "text/plain": [
              "         Month  DayofMonth  DayOfWeek  CRSElapsedTime     AirTime   ArrDelay  \\\n",
              "Dest                                                                           \n",
              "ABE   6.716667   15.717544   3.835965      100.437719   73.854386   8.450000   \n",
              "ABI   6.568598   15.660061   3.940549       53.172256   33.263720  10.085366   \n",
              "ABQ   6.396243   15.724073   3.944241      114.016807   92.058824   6.193475   \n",
              "ABY   6.143939   15.215909   3.848485       54.409091   27.973485  12.511364   \n",
              "ACK   7.294643   16.491071   4.214286       86.794643   44.883929  21.214286   \n",
              "ACT   5.967146   15.689938   3.749487       45.096509   23.724846   5.817248   \n",
              "ACV   6.643357   15.326340   3.904429       77.312354   57.625874  13.386946   \n",
              "ACY   2.466667   14.866667   3.033333      114.500000   88.433333  17.333333   \n",
              "ADK   6.176471   13.411765   5.941176      186.823529  171.294118  10.058824   \n",
              "ADQ   6.358491   16.345912   4.031447       62.320755   44.345912   2.817610   \n",
              "AEX   6.319073   15.187166   3.882353       88.299465   63.244207   8.638146   \n",
              "AGS   6.734242   15.512777   3.763203       58.356048   31.034072  11.696763   \n",
              "AKN   6.966667   16.900000   4.166667       67.066667   46.500000  22.466667   \n",
              "ALB   6.307184   15.680493   3.919447      109.632101   84.234746   8.249775   \n",
              "ALO   6.913580   16.629630   3.827160       58.641975   31.641975   5.407407   \n",
              "AMA   6.334432   16.003844   3.884130       76.168589   56.348710   8.375618   \n",
              "ANC   6.514292   15.801377   3.970582      189.025454  168.383059   7.636553   \n",
              "ASE   5.373524   15.879427   4.048061       66.639123   44.854975  10.586847   \n",
              "ATL   6.515352   15.663599   3.916067      119.972503   93.655683   9.817801   \n",
              "ATW   6.512230   15.592806   3.864748       71.400719   48.002878   8.504317   \n",
              "AUS   6.284921   15.702817   3.912179      122.361889   98.723778   8.057664   \n",
              "AVL   6.988571   15.728571   3.852381       92.365714   64.166667   8.558095   \n",
              "AVP   6.557439   15.794727   3.996234      104.971751   76.404896  15.256121   \n",
              "AZO   6.107922   15.918485   3.941447       51.663605   27.345580   9.049369   \n",
              "BDL   6.365594   15.640280   3.906573      127.081259  101.820979   7.101119   \n",
              "BET   6.359833   15.581590   3.790795       76.481172   60.698745   4.623431   \n",
              "BFL   5.916357   15.633829   4.047398       84.947026   61.505576   6.745353   \n",
              "BGM   6.437186   15.341709   4.090452       83.311558   55.060302   4.944724   \n",
              "BGR   6.674830   15.719728   3.974150      105.961905   74.017687   7.921088   \n",
              "BHM   6.404498   15.729066   3.872318       98.265571   74.671107   6.675779   \n",
              "...        ...         ...        ...             ...         ...        ...   \n",
              "SPS   5.077803   15.759725   4.070938       56.279176   31.217391   3.192220   \n",
              "SRQ   5.798769   15.776000   4.097231      121.300923   97.718769  10.784000   \n",
              "STL   6.449451   15.702194   3.883490      119.082550   95.990530   6.811520   \n",
              "STT   5.731283   15.524064   4.311497      198.314171  169.344920  12.113636   \n",
              "STX   5.770000   15.320000   4.310000      168.020000  147.180000  11.730000   \n",
              "SUN   6.511774   15.315542   3.990581       70.519623   51.329670  -0.054945   \n",
              "SUX   3.380952   16.142857   3.571429       68.333333   40.761905   6.476190   \n",
              "SWF   5.348904   16.034318   4.002860      146.892278  119.306959   7.747378   \n",
              "SYR   6.244476   15.753069   3.847071       99.043494   70.645388  11.119958   \n",
              "TEX   4.666667   18.194444   3.861111      115.527778   90.472222   3.305556   \n",
              "TLH   6.889353   15.649965   3.931106       78.555324   52.751566   5.403619   \n",
              "TOL   6.086207   15.327586   3.908046       59.951149   38.686782   6.873563   \n",
              "TPA   6.321853   15.736807   3.956986      138.616751  114.534080   6.626201   \n",
              "TRI   6.585657   14.832669   3.900398       69.848606   42.707171   6.276892   \n",
              "TUL   6.366151   15.581615   3.893986       98.871306   76.628694   9.645533   \n",
              "TUP   1.000000    2.666667   3.666667       69.000000   42.666667  -9.333333   \n",
              "TUS   6.154716   15.693778   3.986394      117.218927   94.335881   5.284819   \n",
              "TVC   6.691855   15.655545   4.044161       69.743867   45.170756  10.395486   \n",
              "TWF   5.674584   15.950119   4.085511       62.612827   41.653207   3.163895   \n",
              "TXK   6.638514   15.601351   4.030405       61.256757   37.837838   6.195946   \n",
              "TYR   5.916031   15.684478   3.961832       48.603053   25.984733   5.839695   \n",
              "TYS   6.717043   15.614608   3.900831       97.951900   70.653800   9.516627   \n",
              "VLD   6.885463   15.986784   3.872247       63.255507   35.863436   6.810573   \n",
              "VPS   6.475574   15.731018   4.017069       91.886404   64.630371  11.663920   \n",
              "WRG   6.241935   14.881720   4.069892       35.080645   19.639785  12.198925   \n",
              "WYS   7.513889   16.611111   4.611111       88.638889   59.833333  -6.583333   \n",
              "XNA   6.416790   15.814366   3.783920      109.462903   83.866982  10.866982   \n",
              "YAK   6.522843   15.847716   3.746193       53.472081   37.370558  13.030457   \n",
              "YKM   4.987342   16.797468   3.898734      102.658228   84.924051   4.075949   \n",
              "YUM   5.907809   15.416486   3.894794       71.994577   47.712581   0.764642   \n",
              "\n",
              "         Distance     TaxiIn    TaxiOut      PotD     Delay  \n",
              "Dest                                                         \n",
              "ABE    537.621053   4.587719  19.927193  2.769298  0.136842  \n",
              "ABI    158.000000   3.574695  15.167683  2.647866  0.143293  \n",
              "ABQ    651.749679   5.327533  13.572219  2.273060  0.110035  \n",
              "ABY    146.000000   3.534091  24.219697  2.443182  0.170455  \n",
              "ACK    207.535714   5.991071  37.348214  2.107143  0.321429  \n",
              "ACT     89.000000   4.983573  15.026694  2.164271  0.102669  \n",
              "ACV    268.745921   4.571096  16.427739  2.452214  0.172494  \n",
              "ACY    678.000000   3.133333  20.733333  2.933333  0.133333  \n",
              "ADK   1192.000000   4.235294  12.588235  2.705882  0.176471  \n",
              "ADQ    252.000000   3.320755  12.371069  1.691824  0.088050  \n",
              "AEX    367.477718   3.515152  20.538324  2.303030  0.124777  \n",
              "AGS    142.984668   3.286201  22.102215  2.253833  0.168654  \n",
              "AKN    289.000000   3.866667  12.333333  1.900000  0.266667  \n",
              "ALB    617.088668   4.146378  17.654343  2.649234  0.138864  \n",
              "ALO    166.000000   4.567901  21.209877  4.000000  0.098765  \n",
              "AMA    364.229544   4.611203  12.187809  2.264690  0.126853  \n",
              "ANC   1262.357813   5.016900  14.162737  2.678907  0.138535  \n",
              "ASE    235.096121   3.580101  18.238617  2.214165  0.150927  \n",
              "ATL    641.088210  10.800104  15.700298  2.057094  0.132816  \n",
              "ATW    281.617266   4.606475  18.024460  2.470504  0.136691  \n",
              "AUS    707.504060   5.298674  15.628832  2.413670  0.126429  \n",
              "AVL    415.067619   3.708571  21.499048  2.519048  0.162857  \n",
              "AVP    558.092279   3.728814  21.529190  2.896422  0.192090  \n",
              "AZO    140.061998   4.454650  19.010333  2.399541  0.149254  \n",
              "BDL    769.029091   5.500839  16.759301  2.575804  0.120839  \n",
              "BET    399.000000   3.364017  11.895397  2.083682  0.100418  \n",
              "BFL    356.381041   4.610595  18.287175  2.418216  0.112454  \n",
              "BGM    378.000000   5.090452  20.804020  3.075377  0.110553  \n",
              "BGR    538.174150   5.281633  22.455782  2.576871  0.148299  \n",
              "BHM    515.853114   3.790657  16.257612  2.191522  0.125260  \n",
              "...           ...        ...        ...       ...       ...  \n",
              "SPS    113.000000   6.585812  15.462243  2.240275  0.086957  \n",
              "SRQ    685.352615   4.456615  19.911385  2.154462  0.141538  \n",
              "STL    676.667516   4.957746  15.063284  2.256074  0.119383  \n",
              "STT   1372.045455   4.910428  23.082888  2.088235  0.171123  \n",
              "STX   1221.550000   3.490000  16.700000  2.000000  0.110000  \n",
              "SUN    223.000000   3.106750  14.973312  2.233909  0.042386  \n",
              "SUX    234.000000   3.333333  18.952381  2.761905  0.190476  \n",
              "SWF    841.627264   5.493804  19.216397  2.777884  0.135367  \n",
              "SYR    493.757278   4.639776  22.395300  2.607155  0.161698  \n",
              "TEX    387.000000   6.000000  19.833333  1.611111  0.055556  \n",
              "TLH    343.289492   3.660404  19.405010  2.298539  0.121086  \n",
              "TOL    242.784483   2.971264  16.962644  2.500000  0.097701  \n",
              "TPA    829.053754   4.707993  16.311525  2.409894  0.120624  \n",
              "TRI    230.916335   3.954183  19.043825  2.466135  0.141434  \n",
              "TUL    525.706873   4.484536  15.843471  2.466323  0.138144  \n",
              "TUP    253.000000   2.000000  17.000000  3.333333  0.000000  \n",
              "TUS    660.470112   4.679407  15.356979  2.453906  0.108699  \n",
              "TVC    265.209028   4.245339  19.311089  2.535819  0.155054  \n",
              "TWF    175.000000   3.539192  15.850356  2.463183  0.073634  \n",
              "TXK    181.000000   3.932432  18.108108  2.077703  0.108108  \n",
              "TYR    103.000000   4.768448  18.770992  1.982188  0.091603  \n",
              "TYS    495.167162   4.520487  20.801663  2.550178  0.155582  \n",
              "VLD    208.000000   3.643172  22.881057  2.511013  0.136564  \n",
              "VPS    420.213655   7.408476  20.176574  2.304885  0.155386  \n",
              "WRG     54.032258   3.849462  11.521505  1.725806  0.155914  \n",
              "WYS    273.000000   3.597222  19.333333  2.194444  0.013889  \n",
              "XNA    559.265149   5.038723  19.284363  2.390777  0.161395  \n",
              "YAK    206.035533   4.167513  11.868020  2.005076  0.182741  \n",
              "YKM    586.000000   4.240506  18.000000  2.949367  0.063291  \n",
              "YUM    233.331887   5.125813  18.258134  2.468547  0.068330  \n",
              "\n",
              "[302 rows x 11 columns]"
            ],
            "text/html": [
              "<div>\n",
              "<style scoped>\n",
              "    .dataframe tbody tr th:only-of-type {\n",
              "        vertical-align: middle;\n",
              "    }\n",
              "\n",
              "    .dataframe tbody tr th {\n",
              "        vertical-align: top;\n",
              "    }\n",
              "\n",
              "    .dataframe thead th {\n",
              "        text-align: right;\n",
              "    }\n",
              "</style>\n",
              "<table border=\"1\" class=\"dataframe\">\n",
              "  <thead>\n",
              "    <tr style=\"text-align: right;\">\n",
              "      <th></th>\n",
              "      <th>Month</th>\n",
              "      <th>DayofMonth</th>\n",
              "      <th>DayOfWeek</th>\n",
              "      <th>CRSElapsedTime</th>\n",
              "      <th>AirTime</th>\n",
              "      <th>ArrDelay</th>\n",
              "      <th>Distance</th>\n",
              "      <th>TaxiIn</th>\n",
              "      <th>TaxiOut</th>\n",
              "      <th>PotD</th>\n",
              "      <th>Delay</th>\n",
              "    </tr>\n",
              "    <tr>\n",
              "      <th>Dest</th>\n",
              "      <th></th>\n",
              "      <th></th>\n",
              "      <th></th>\n",
              "      <th></th>\n",
              "      <th></th>\n",
              "      <th></th>\n",
              "      <th></th>\n",
              "      <th></th>\n",
              "      <th></th>\n",
              "      <th></th>\n",
              "      <th></th>\n",
              "    </tr>\n",
              "  </thead>\n",
              "  <tbody>\n",
              "    <tr>\n",
              "      <th>ABE</th>\n",
              "      <td>6.716667</td>\n",
              "      <td>15.717544</td>\n",
              "      <td>3.835965</td>\n",
              "      <td>100.437719</td>\n",
              "      <td>73.854386</td>\n",
              "      <td>8.450000</td>\n",
              "      <td>537.621053</td>\n",
              "      <td>4.587719</td>\n",
              "      <td>19.927193</td>\n",
              "      <td>2.769298</td>\n",
              "      <td>0.136842</td>\n",
              "    </tr>\n",
              "    <tr>\n",
              "      <th>ABI</th>\n",
              "      <td>6.568598</td>\n",
              "      <td>15.660061</td>\n",
              "      <td>3.940549</td>\n",
              "      <td>53.172256</td>\n",
              "      <td>33.263720</td>\n",
              "      <td>10.085366</td>\n",
              "      <td>158.000000</td>\n",
              "      <td>3.574695</td>\n",
              "      <td>15.167683</td>\n",
              "      <td>2.647866</td>\n",
              "      <td>0.143293</td>\n",
              "    </tr>\n",
              "    <tr>\n",
              "      <th>ABQ</th>\n",
              "      <td>6.396243</td>\n",
              "      <td>15.724073</td>\n",
              "      <td>3.944241</td>\n",
              "      <td>114.016807</td>\n",
              "      <td>92.058824</td>\n",
              "      <td>6.193475</td>\n",
              "      <td>651.749679</td>\n",
              "      <td>5.327533</td>\n",
              "      <td>13.572219</td>\n",
              "      <td>2.273060</td>\n",
              "      <td>0.110035</td>\n",
              "    </tr>\n",
              "    <tr>\n",
              "      <th>ABY</th>\n",
              "      <td>6.143939</td>\n",
              "      <td>15.215909</td>\n",
              "      <td>3.848485</td>\n",
              "      <td>54.409091</td>\n",
              "      <td>27.973485</td>\n",
              "      <td>12.511364</td>\n",
              "      <td>146.000000</td>\n",
              "      <td>3.534091</td>\n",
              "      <td>24.219697</td>\n",
              "      <td>2.443182</td>\n",
              "      <td>0.170455</td>\n",
              "    </tr>\n",
              "    <tr>\n",
              "      <th>ACK</th>\n",
              "      <td>7.294643</td>\n",
              "      <td>16.491071</td>\n",
              "      <td>4.214286</td>\n",
              "      <td>86.794643</td>\n",
              "      <td>44.883929</td>\n",
              "      <td>21.214286</td>\n",
              "      <td>207.535714</td>\n",
              "      <td>5.991071</td>\n",
              "      <td>37.348214</td>\n",
              "      <td>2.107143</td>\n",
              "      <td>0.321429</td>\n",
              "    </tr>\n",
              "    <tr>\n",
              "      <th>ACT</th>\n",
              "      <td>5.967146</td>\n",
              "      <td>15.689938</td>\n",
              "      <td>3.749487</td>\n",
              "      <td>45.096509</td>\n",
              "      <td>23.724846</td>\n",
              "      <td>5.817248</td>\n",
              "      <td>89.000000</td>\n",
              "      <td>4.983573</td>\n",
              "      <td>15.026694</td>\n",
              "      <td>2.164271</td>\n",
              "      <td>0.102669</td>\n",
              "    </tr>\n",
              "    <tr>\n",
              "      <th>ACV</th>\n",
              "      <td>6.643357</td>\n",
              "      <td>15.326340</td>\n",
              "      <td>3.904429</td>\n",
              "      <td>77.312354</td>\n",
              "      <td>57.625874</td>\n",
              "      <td>13.386946</td>\n",
              "      <td>268.745921</td>\n",
              "      <td>4.571096</td>\n",
              "      <td>16.427739</td>\n",
              "      <td>2.452214</td>\n",
              "      <td>0.172494</td>\n",
              "    </tr>\n",
              "    <tr>\n",
              "      <th>ACY</th>\n",
              "      <td>2.466667</td>\n",
              "      <td>14.866667</td>\n",
              "      <td>3.033333</td>\n",
              "      <td>114.500000</td>\n",
              "      <td>88.433333</td>\n",
              "      <td>17.333333</td>\n",
              "      <td>678.000000</td>\n",
              "      <td>3.133333</td>\n",
              "      <td>20.733333</td>\n",
              "      <td>2.933333</td>\n",
              "      <td>0.133333</td>\n",
              "    </tr>\n",
              "    <tr>\n",
              "      <th>ADK</th>\n",
              "      <td>6.176471</td>\n",
              "      <td>13.411765</td>\n",
              "      <td>5.941176</td>\n",
              "      <td>186.823529</td>\n",
              "      <td>171.294118</td>\n",
              "      <td>10.058824</td>\n",
              "      <td>1192.000000</td>\n",
              "      <td>4.235294</td>\n",
              "      <td>12.588235</td>\n",
              "      <td>2.705882</td>\n",
              "      <td>0.176471</td>\n",
              "    </tr>\n",
              "    <tr>\n",
              "      <th>ADQ</th>\n",
              "      <td>6.358491</td>\n",
              "      <td>16.345912</td>\n",
              "      <td>4.031447</td>\n",
              "      <td>62.320755</td>\n",
              "      <td>44.345912</td>\n",
              "      <td>2.817610</td>\n",
              "      <td>252.000000</td>\n",
              "      <td>3.320755</td>\n",
              "      <td>12.371069</td>\n",
              "      <td>1.691824</td>\n",
              "      <td>0.088050</td>\n",
              "    </tr>\n",
              "    <tr>\n",
              "      <th>AEX</th>\n",
              "      <td>6.319073</td>\n",
              "      <td>15.187166</td>\n",
              "      <td>3.882353</td>\n",
              "      <td>88.299465</td>\n",
              "      <td>63.244207</td>\n",
              "      <td>8.638146</td>\n",
              "      <td>367.477718</td>\n",
              "      <td>3.515152</td>\n",
              "      <td>20.538324</td>\n",
              "      <td>2.303030</td>\n",
              "      <td>0.124777</td>\n",
              "    </tr>\n",
              "    <tr>\n",
              "      <th>AGS</th>\n",
              "      <td>6.734242</td>\n",
              "      <td>15.512777</td>\n",
              "      <td>3.763203</td>\n",
              "      <td>58.356048</td>\n",
              "      <td>31.034072</td>\n",
              "      <td>11.696763</td>\n",
              "      <td>142.984668</td>\n",
              "      <td>3.286201</td>\n",
              "      <td>22.102215</td>\n",
              "      <td>2.253833</td>\n",
              "      <td>0.168654</td>\n",
              "    </tr>\n",
              "    <tr>\n",
              "      <th>AKN</th>\n",
              "      <td>6.966667</td>\n",
              "      <td>16.900000</td>\n",
              "      <td>4.166667</td>\n",
              "      <td>67.066667</td>\n",
              "      <td>46.500000</td>\n",
              "      <td>22.466667</td>\n",
              "      <td>289.000000</td>\n",
              "      <td>3.866667</td>\n",
              "      <td>12.333333</td>\n",
              "      <td>1.900000</td>\n",
              "      <td>0.266667</td>\n",
              "    </tr>\n",
              "    <tr>\n",
              "      <th>ALB</th>\n",
              "      <td>6.307184</td>\n",
              "      <td>15.680493</td>\n",
              "      <td>3.919447</td>\n",
              "      <td>109.632101</td>\n",
              "      <td>84.234746</td>\n",
              "      <td>8.249775</td>\n",
              "      <td>617.088668</td>\n",
              "      <td>4.146378</td>\n",
              "      <td>17.654343</td>\n",
              "      <td>2.649234</td>\n",
              "      <td>0.138864</td>\n",
              "    </tr>\n",
              "    <tr>\n",
              "      <th>ALO</th>\n",
              "      <td>6.913580</td>\n",
              "      <td>16.629630</td>\n",
              "      <td>3.827160</td>\n",
              "      <td>58.641975</td>\n",
              "      <td>31.641975</td>\n",
              "      <td>5.407407</td>\n",
              "      <td>166.000000</td>\n",
              "      <td>4.567901</td>\n",
              "      <td>21.209877</td>\n",
              "      <td>4.000000</td>\n",
              "      <td>0.098765</td>\n",
              "    </tr>\n",
              "    <tr>\n",
              "      <th>AMA</th>\n",
              "      <td>6.334432</td>\n",
              "      <td>16.003844</td>\n",
              "      <td>3.884130</td>\n",
              "      <td>76.168589</td>\n",
              "      <td>56.348710</td>\n",
              "      <td>8.375618</td>\n",
              "      <td>364.229544</td>\n",
              "      <td>4.611203</td>\n",
              "      <td>12.187809</td>\n",
              "      <td>2.264690</td>\n",
              "      <td>0.126853</td>\n",
              "    </tr>\n",
              "    <tr>\n",
              "      <th>ANC</th>\n",
              "      <td>6.514292</td>\n",
              "      <td>15.801377</td>\n",
              "      <td>3.970582</td>\n",
              "      <td>189.025454</td>\n",
              "      <td>168.383059</td>\n",
              "      <td>7.636553</td>\n",
              "      <td>1262.357813</td>\n",
              "      <td>5.016900</td>\n",
              "      <td>14.162737</td>\n",
              "      <td>2.678907</td>\n",
              "      <td>0.138535</td>\n",
              "    </tr>\n",
              "    <tr>\n",
              "      <th>ASE</th>\n",
              "      <td>5.373524</td>\n",
              "      <td>15.879427</td>\n",
              "      <td>4.048061</td>\n",
              "      <td>66.639123</td>\n",
              "      <td>44.854975</td>\n",
              "      <td>10.586847</td>\n",
              "      <td>235.096121</td>\n",
              "      <td>3.580101</td>\n",
              "      <td>18.238617</td>\n",
              "      <td>2.214165</td>\n",
              "      <td>0.150927</td>\n",
              "    </tr>\n",
              "    <tr>\n",
              "      <th>ATL</th>\n",
              "      <td>6.515352</td>\n",
              "      <td>15.663599</td>\n",
              "      <td>3.916067</td>\n",
              "      <td>119.972503</td>\n",
              "      <td>93.655683</td>\n",
              "      <td>9.817801</td>\n",
              "      <td>641.088210</td>\n",
              "      <td>10.800104</td>\n",
              "      <td>15.700298</td>\n",
              "      <td>2.057094</td>\n",
              "      <td>0.132816</td>\n",
              "    </tr>\n",
              "    <tr>\n",
              "      <th>ATW</th>\n",
              "      <td>6.512230</td>\n",
              "      <td>15.592806</td>\n",
              "      <td>3.864748</td>\n",
              "      <td>71.400719</td>\n",
              "      <td>48.002878</td>\n",
              "      <td>8.504317</td>\n",
              "      <td>281.617266</td>\n",
              "      <td>4.606475</td>\n",
              "      <td>18.024460</td>\n",
              "      <td>2.470504</td>\n",
              "      <td>0.136691</td>\n",
              "    </tr>\n",
              "    <tr>\n",
              "      <th>AUS</th>\n",
              "      <td>6.284921</td>\n",
              "      <td>15.702817</td>\n",
              "      <td>3.912179</td>\n",
              "      <td>122.361889</td>\n",
              "      <td>98.723778</td>\n",
              "      <td>8.057664</td>\n",
              "      <td>707.504060</td>\n",
              "      <td>5.298674</td>\n",
              "      <td>15.628832</td>\n",
              "      <td>2.413670</td>\n",
              "      <td>0.126429</td>\n",
              "    </tr>\n",
              "    <tr>\n",
              "      <th>AVL</th>\n",
              "      <td>6.988571</td>\n",
              "      <td>15.728571</td>\n",
              "      <td>3.852381</td>\n",
              "      <td>92.365714</td>\n",
              "      <td>64.166667</td>\n",
              "      <td>8.558095</td>\n",
              "      <td>415.067619</td>\n",
              "      <td>3.708571</td>\n",
              "      <td>21.499048</td>\n",
              "      <td>2.519048</td>\n",
              "      <td>0.162857</td>\n",
              "    </tr>\n",
              "    <tr>\n",
              "      <th>AVP</th>\n",
              "      <td>6.557439</td>\n",
              "      <td>15.794727</td>\n",
              "      <td>3.996234</td>\n",
              "      <td>104.971751</td>\n",
              "      <td>76.404896</td>\n",
              "      <td>15.256121</td>\n",
              "      <td>558.092279</td>\n",
              "      <td>3.728814</td>\n",
              "      <td>21.529190</td>\n",
              "      <td>2.896422</td>\n",
              "      <td>0.192090</td>\n",
              "    </tr>\n",
              "    <tr>\n",
              "      <th>AZO</th>\n",
              "      <td>6.107922</td>\n",
              "      <td>15.918485</td>\n",
              "      <td>3.941447</td>\n",
              "      <td>51.663605</td>\n",
              "      <td>27.345580</td>\n",
              "      <td>9.049369</td>\n",
              "      <td>140.061998</td>\n",
              "      <td>4.454650</td>\n",
              "      <td>19.010333</td>\n",
              "      <td>2.399541</td>\n",
              "      <td>0.149254</td>\n",
              "    </tr>\n",
              "    <tr>\n",
              "      <th>BDL</th>\n",
              "      <td>6.365594</td>\n",
              "      <td>15.640280</td>\n",
              "      <td>3.906573</td>\n",
              "      <td>127.081259</td>\n",
              "      <td>101.820979</td>\n",
              "      <td>7.101119</td>\n",
              "      <td>769.029091</td>\n",
              "      <td>5.500839</td>\n",
              "      <td>16.759301</td>\n",
              "      <td>2.575804</td>\n",
              "      <td>0.120839</td>\n",
              "    </tr>\n",
              "    <tr>\n",
              "      <th>BET</th>\n",
              "      <td>6.359833</td>\n",
              "      <td>15.581590</td>\n",
              "      <td>3.790795</td>\n",
              "      <td>76.481172</td>\n",
              "      <td>60.698745</td>\n",
              "      <td>4.623431</td>\n",
              "      <td>399.000000</td>\n",
              "      <td>3.364017</td>\n",
              "      <td>11.895397</td>\n",
              "      <td>2.083682</td>\n",
              "      <td>0.100418</td>\n",
              "    </tr>\n",
              "    <tr>\n",
              "      <th>BFL</th>\n",
              "      <td>5.916357</td>\n",
              "      <td>15.633829</td>\n",
              "      <td>4.047398</td>\n",
              "      <td>84.947026</td>\n",
              "      <td>61.505576</td>\n",
              "      <td>6.745353</td>\n",
              "      <td>356.381041</td>\n",
              "      <td>4.610595</td>\n",
              "      <td>18.287175</td>\n",
              "      <td>2.418216</td>\n",
              "      <td>0.112454</td>\n",
              "    </tr>\n",
              "    <tr>\n",
              "      <th>BGM</th>\n",
              "      <td>6.437186</td>\n",
              "      <td>15.341709</td>\n",
              "      <td>4.090452</td>\n",
              "      <td>83.311558</td>\n",
              "      <td>55.060302</td>\n",
              "      <td>4.944724</td>\n",
              "      <td>378.000000</td>\n",
              "      <td>5.090452</td>\n",
              "      <td>20.804020</td>\n",
              "      <td>3.075377</td>\n",
              "      <td>0.110553</td>\n",
              "    </tr>\n",
              "    <tr>\n",
              "      <th>BGR</th>\n",
              "      <td>6.674830</td>\n",
              "      <td>15.719728</td>\n",
              "      <td>3.974150</td>\n",
              "      <td>105.961905</td>\n",
              "      <td>74.017687</td>\n",
              "      <td>7.921088</td>\n",
              "      <td>538.174150</td>\n",
              "      <td>5.281633</td>\n",
              "      <td>22.455782</td>\n",
              "      <td>2.576871</td>\n",
              "      <td>0.148299</td>\n",
              "    </tr>\n",
              "    <tr>\n",
              "      <th>BHM</th>\n",
              "      <td>6.404498</td>\n",
              "      <td>15.729066</td>\n",
              "      <td>3.872318</td>\n",
              "      <td>98.265571</td>\n",
              "      <td>74.671107</td>\n",
              "      <td>6.675779</td>\n",
              "      <td>515.853114</td>\n",
              "      <td>3.790657</td>\n",
              "      <td>16.257612</td>\n",
              "      <td>2.191522</td>\n",
              "      <td>0.125260</td>\n",
              "    </tr>\n",
              "    <tr>\n",
              "      <th>...</th>\n",
              "      <td>...</td>\n",
              "      <td>...</td>\n",
              "      <td>...</td>\n",
              "      <td>...</td>\n",
              "      <td>...</td>\n",
              "      <td>...</td>\n",
              "      <td>...</td>\n",
              "      <td>...</td>\n",
              "      <td>...</td>\n",
              "      <td>...</td>\n",
              "      <td>...</td>\n",
              "    </tr>\n",
              "    <tr>\n",
              "      <th>SPS</th>\n",
              "      <td>5.077803</td>\n",
              "      <td>15.759725</td>\n",
              "      <td>4.070938</td>\n",
              "      <td>56.279176</td>\n",
              "      <td>31.217391</td>\n",
              "      <td>3.192220</td>\n",
              "      <td>113.000000</td>\n",
              "      <td>6.585812</td>\n",
              "      <td>15.462243</td>\n",
              "      <td>2.240275</td>\n",
              "      <td>0.086957</td>\n",
              "    </tr>\n",
              "    <tr>\n",
              "      <th>SRQ</th>\n",
              "      <td>5.798769</td>\n",
              "      <td>15.776000</td>\n",
              "      <td>4.097231</td>\n",
              "      <td>121.300923</td>\n",
              "      <td>97.718769</td>\n",
              "      <td>10.784000</td>\n",
              "      <td>685.352615</td>\n",
              "      <td>4.456615</td>\n",
              "      <td>19.911385</td>\n",
              "      <td>2.154462</td>\n",
              "      <td>0.141538</td>\n",
              "    </tr>\n",
              "    <tr>\n",
              "      <th>STL</th>\n",
              "      <td>6.449451</td>\n",
              "      <td>15.702194</td>\n",
              "      <td>3.883490</td>\n",
              "      <td>119.082550</td>\n",
              "      <td>95.990530</td>\n",
              "      <td>6.811520</td>\n",
              "      <td>676.667516</td>\n",
              "      <td>4.957746</td>\n",
              "      <td>15.063284</td>\n",
              "      <td>2.256074</td>\n",
              "      <td>0.119383</td>\n",
              "    </tr>\n",
              "    <tr>\n",
              "      <th>STT</th>\n",
              "      <td>5.731283</td>\n",
              "      <td>15.524064</td>\n",
              "      <td>4.311497</td>\n",
              "      <td>198.314171</td>\n",
              "      <td>169.344920</td>\n",
              "      <td>12.113636</td>\n",
              "      <td>1372.045455</td>\n",
              "      <td>4.910428</td>\n",
              "      <td>23.082888</td>\n",
              "      <td>2.088235</td>\n",
              "      <td>0.171123</td>\n",
              "    </tr>\n",
              "    <tr>\n",
              "      <th>STX</th>\n",
              "      <td>5.770000</td>\n",
              "      <td>15.320000</td>\n",
              "      <td>4.310000</td>\n",
              "      <td>168.020000</td>\n",
              "      <td>147.180000</td>\n",
              "      <td>11.730000</td>\n",
              "      <td>1221.550000</td>\n",
              "      <td>3.490000</td>\n",
              "      <td>16.700000</td>\n",
              "      <td>2.000000</td>\n",
              "      <td>0.110000</td>\n",
              "    </tr>\n",
              "    <tr>\n",
              "      <th>SUN</th>\n",
              "      <td>6.511774</td>\n",
              "      <td>15.315542</td>\n",
              "      <td>3.990581</td>\n",
              "      <td>70.519623</td>\n",
              "      <td>51.329670</td>\n",
              "      <td>-0.054945</td>\n",
              "      <td>223.000000</td>\n",
              "      <td>3.106750</td>\n",
              "      <td>14.973312</td>\n",
              "      <td>2.233909</td>\n",
              "      <td>0.042386</td>\n",
              "    </tr>\n",
              "    <tr>\n",
              "      <th>SUX</th>\n",
              "      <td>3.380952</td>\n",
              "      <td>16.142857</td>\n",
              "      <td>3.571429</td>\n",
              "      <td>68.333333</td>\n",
              "      <td>40.761905</td>\n",
              "      <td>6.476190</td>\n",
              "      <td>234.000000</td>\n",
              "      <td>3.333333</td>\n",
              "      <td>18.952381</td>\n",
              "      <td>2.761905</td>\n",
              "      <td>0.190476</td>\n",
              "    </tr>\n",
              "    <tr>\n",
              "      <th>SWF</th>\n",
              "      <td>5.348904</td>\n",
              "      <td>16.034318</td>\n",
              "      <td>4.002860</td>\n",
              "      <td>146.892278</td>\n",
              "      <td>119.306959</td>\n",
              "      <td>7.747378</td>\n",
              "      <td>841.627264</td>\n",
              "      <td>5.493804</td>\n",
              "      <td>19.216397</td>\n",
              "      <td>2.777884</td>\n",
              "      <td>0.135367</td>\n",
              "    </tr>\n",
              "    <tr>\n",
              "      <th>SYR</th>\n",
              "      <td>6.244476</td>\n",
              "      <td>15.753069</td>\n",
              "      <td>3.847071</td>\n",
              "      <td>99.043494</td>\n",
              "      <td>70.645388</td>\n",
              "      <td>11.119958</td>\n",
              "      <td>493.757278</td>\n",
              "      <td>4.639776</td>\n",
              "      <td>22.395300</td>\n",
              "      <td>2.607155</td>\n",
              "      <td>0.161698</td>\n",
              "    </tr>\n",
              "    <tr>\n",
              "      <th>TEX</th>\n",
              "      <td>4.666667</td>\n",
              "      <td>18.194444</td>\n",
              "      <td>3.861111</td>\n",
              "      <td>115.527778</td>\n",
              "      <td>90.472222</td>\n",
              "      <td>3.305556</td>\n",
              "      <td>387.000000</td>\n",
              "      <td>6.000000</td>\n",
              "      <td>19.833333</td>\n",
              "      <td>1.611111</td>\n",
              "      <td>0.055556</td>\n",
              "    </tr>\n",
              "    <tr>\n",
              "      <th>TLH</th>\n",
              "      <td>6.889353</td>\n",
              "      <td>15.649965</td>\n",
              "      <td>3.931106</td>\n",
              "      <td>78.555324</td>\n",
              "      <td>52.751566</td>\n",
              "      <td>5.403619</td>\n",
              "      <td>343.289492</td>\n",
              "      <td>3.660404</td>\n",
              "      <td>19.405010</td>\n",
              "      <td>2.298539</td>\n",
              "      <td>0.121086</td>\n",
              "    </tr>\n",
              "    <tr>\n",
              "      <th>TOL</th>\n",
              "      <td>6.086207</td>\n",
              "      <td>15.327586</td>\n",
              "      <td>3.908046</td>\n",
              "      <td>59.951149</td>\n",
              "      <td>38.686782</td>\n",
              "      <td>6.873563</td>\n",
              "      <td>242.784483</td>\n",
              "      <td>2.971264</td>\n",
              "      <td>16.962644</td>\n",
              "      <td>2.500000</td>\n",
              "      <td>0.097701</td>\n",
              "    </tr>\n",
              "    <tr>\n",
              "      <th>TPA</th>\n",
              "      <td>6.321853</td>\n",
              "      <td>15.736807</td>\n",
              "      <td>3.956986</td>\n",
              "      <td>138.616751</td>\n",
              "      <td>114.534080</td>\n",
              "      <td>6.626201</td>\n",
              "      <td>829.053754</td>\n",
              "      <td>4.707993</td>\n",
              "      <td>16.311525</td>\n",
              "      <td>2.409894</td>\n",
              "      <td>0.120624</td>\n",
              "    </tr>\n",
              "    <tr>\n",
              "      <th>TRI</th>\n",
              "      <td>6.585657</td>\n",
              "      <td>14.832669</td>\n",
              "      <td>3.900398</td>\n",
              "      <td>69.848606</td>\n",
              "      <td>42.707171</td>\n",
              "      <td>6.276892</td>\n",
              "      <td>230.916335</td>\n",
              "      <td>3.954183</td>\n",
              "      <td>19.043825</td>\n",
              "      <td>2.466135</td>\n",
              "      <td>0.141434</td>\n",
              "    </tr>\n",
              "    <tr>\n",
              "      <th>TUL</th>\n",
              "      <td>6.366151</td>\n",
              "      <td>15.581615</td>\n",
              "      <td>3.893986</td>\n",
              "      <td>98.871306</td>\n",
              "      <td>76.628694</td>\n",
              "      <td>9.645533</td>\n",
              "      <td>525.706873</td>\n",
              "      <td>4.484536</td>\n",
              "      <td>15.843471</td>\n",
              "      <td>2.466323</td>\n",
              "      <td>0.138144</td>\n",
              "    </tr>\n",
              "    <tr>\n",
              "      <th>TUP</th>\n",
              "      <td>1.000000</td>\n",
              "      <td>2.666667</td>\n",
              "      <td>3.666667</td>\n",
              "      <td>69.000000</td>\n",
              "      <td>42.666667</td>\n",
              "      <td>-9.333333</td>\n",
              "      <td>253.000000</td>\n",
              "      <td>2.000000</td>\n",
              "      <td>17.000000</td>\n",
              "      <td>3.333333</td>\n",
              "      <td>0.000000</td>\n",
              "    </tr>\n",
              "    <tr>\n",
              "      <th>TUS</th>\n",
              "      <td>6.154716</td>\n",
              "      <td>15.693778</td>\n",
              "      <td>3.986394</td>\n",
              "      <td>117.218927</td>\n",
              "      <td>94.335881</td>\n",
              "      <td>5.284819</td>\n",
              "      <td>660.470112</td>\n",
              "      <td>4.679407</td>\n",
              "      <td>15.356979</td>\n",
              "      <td>2.453906</td>\n",
              "      <td>0.108699</td>\n",
              "    </tr>\n",
              "    <tr>\n",
              "      <th>TVC</th>\n",
              "      <td>6.691855</td>\n",
              "      <td>15.655545</td>\n",
              "      <td>4.044161</td>\n",
              "      <td>69.743867</td>\n",
              "      <td>45.170756</td>\n",
              "      <td>10.395486</td>\n",
              "      <td>265.209028</td>\n",
              "      <td>4.245339</td>\n",
              "      <td>19.311089</td>\n",
              "      <td>2.535819</td>\n",
              "      <td>0.155054</td>\n",
              "    </tr>\n",
              "    <tr>\n",
              "      <th>TWF</th>\n",
              "      <td>5.674584</td>\n",
              "      <td>15.950119</td>\n",
              "      <td>4.085511</td>\n",
              "      <td>62.612827</td>\n",
              "      <td>41.653207</td>\n",
              "      <td>3.163895</td>\n",
              "      <td>175.000000</td>\n",
              "      <td>3.539192</td>\n",
              "      <td>15.850356</td>\n",
              "      <td>2.463183</td>\n",
              "      <td>0.073634</td>\n",
              "    </tr>\n",
              "    <tr>\n",
              "      <th>TXK</th>\n",
              "      <td>6.638514</td>\n",
              "      <td>15.601351</td>\n",
              "      <td>4.030405</td>\n",
              "      <td>61.256757</td>\n",
              "      <td>37.837838</td>\n",
              "      <td>6.195946</td>\n",
              "      <td>181.000000</td>\n",
              "      <td>3.932432</td>\n",
              "      <td>18.108108</td>\n",
              "      <td>2.077703</td>\n",
              "      <td>0.108108</td>\n",
              "    </tr>\n",
              "    <tr>\n",
              "      <th>TYR</th>\n",
              "      <td>5.916031</td>\n",
              "      <td>15.684478</td>\n",
              "      <td>3.961832</td>\n",
              "      <td>48.603053</td>\n",
              "      <td>25.984733</td>\n",
              "      <td>5.839695</td>\n",
              "      <td>103.000000</td>\n",
              "      <td>4.768448</td>\n",
              "      <td>18.770992</td>\n",
              "      <td>1.982188</td>\n",
              "      <td>0.091603</td>\n",
              "    </tr>\n",
              "    <tr>\n",
              "      <th>TYS</th>\n",
              "      <td>6.717043</td>\n",
              "      <td>15.614608</td>\n",
              "      <td>3.900831</td>\n",
              "      <td>97.951900</td>\n",
              "      <td>70.653800</td>\n",
              "      <td>9.516627</td>\n",
              "      <td>495.167162</td>\n",
              "      <td>4.520487</td>\n",
              "      <td>20.801663</td>\n",
              "      <td>2.550178</td>\n",
              "      <td>0.155582</td>\n",
              "    </tr>\n",
              "    <tr>\n",
              "      <th>VLD</th>\n",
              "      <td>6.885463</td>\n",
              "      <td>15.986784</td>\n",
              "      <td>3.872247</td>\n",
              "      <td>63.255507</td>\n",
              "      <td>35.863436</td>\n",
              "      <td>6.810573</td>\n",
              "      <td>208.000000</td>\n",
              "      <td>3.643172</td>\n",
              "      <td>22.881057</td>\n",
              "      <td>2.511013</td>\n",
              "      <td>0.136564</td>\n",
              "    </tr>\n",
              "    <tr>\n",
              "      <th>VPS</th>\n",
              "      <td>6.475574</td>\n",
              "      <td>15.731018</td>\n",
              "      <td>4.017069</td>\n",
              "      <td>91.886404</td>\n",
              "      <td>64.630371</td>\n",
              "      <td>11.663920</td>\n",
              "      <td>420.213655</td>\n",
              "      <td>7.408476</td>\n",
              "      <td>20.176574</td>\n",
              "      <td>2.304885</td>\n",
              "      <td>0.155386</td>\n",
              "    </tr>\n",
              "    <tr>\n",
              "      <th>WRG</th>\n",
              "      <td>6.241935</td>\n",
              "      <td>14.881720</td>\n",
              "      <td>4.069892</td>\n",
              "      <td>35.080645</td>\n",
              "      <td>19.639785</td>\n",
              "      <td>12.198925</td>\n",
              "      <td>54.032258</td>\n",
              "      <td>3.849462</td>\n",
              "      <td>11.521505</td>\n",
              "      <td>1.725806</td>\n",
              "      <td>0.155914</td>\n",
              "    </tr>\n",
              "    <tr>\n",
              "      <th>WYS</th>\n",
              "      <td>7.513889</td>\n",
              "      <td>16.611111</td>\n",
              "      <td>4.611111</td>\n",
              "      <td>88.638889</td>\n",
              "      <td>59.833333</td>\n",
              "      <td>-6.583333</td>\n",
              "      <td>273.000000</td>\n",
              "      <td>3.597222</td>\n",
              "      <td>19.333333</td>\n",
              "      <td>2.194444</td>\n",
              "      <td>0.013889</td>\n",
              "    </tr>\n",
              "    <tr>\n",
              "      <th>XNA</th>\n",
              "      <td>6.416790</td>\n",
              "      <td>15.814366</td>\n",
              "      <td>3.783920</td>\n",
              "      <td>109.462903</td>\n",
              "      <td>83.866982</td>\n",
              "      <td>10.866982</td>\n",
              "      <td>559.265149</td>\n",
              "      <td>5.038723</td>\n",
              "      <td>19.284363</td>\n",
              "      <td>2.390777</td>\n",
              "      <td>0.161395</td>\n",
              "    </tr>\n",
              "    <tr>\n",
              "      <th>YAK</th>\n",
              "      <td>6.522843</td>\n",
              "      <td>15.847716</td>\n",
              "      <td>3.746193</td>\n",
              "      <td>53.472081</td>\n",
              "      <td>37.370558</td>\n",
              "      <td>13.030457</td>\n",
              "      <td>206.035533</td>\n",
              "      <td>4.167513</td>\n",
              "      <td>11.868020</td>\n",
              "      <td>2.005076</td>\n",
              "      <td>0.182741</td>\n",
              "    </tr>\n",
              "    <tr>\n",
              "      <th>YKM</th>\n",
              "      <td>4.987342</td>\n",
              "      <td>16.797468</td>\n",
              "      <td>3.898734</td>\n",
              "      <td>102.658228</td>\n",
              "      <td>84.924051</td>\n",
              "      <td>4.075949</td>\n",
              "      <td>586.000000</td>\n",
              "      <td>4.240506</td>\n",
              "      <td>18.000000</td>\n",
              "      <td>2.949367</td>\n",
              "      <td>0.063291</td>\n",
              "    </tr>\n",
              "    <tr>\n",
              "      <th>YUM</th>\n",
              "      <td>5.907809</td>\n",
              "      <td>15.416486</td>\n",
              "      <td>3.894794</td>\n",
              "      <td>71.994577</td>\n",
              "      <td>47.712581</td>\n",
              "      <td>0.764642</td>\n",
              "      <td>233.331887</td>\n",
              "      <td>5.125813</td>\n",
              "      <td>18.258134</td>\n",
              "      <td>2.468547</td>\n",
              "      <td>0.068330</td>\n",
              "    </tr>\n",
              "  </tbody>\n",
              "</table>\n",
              "<p>302 rows × 11 columns</p>\n",
              "</div>"
            ]
          },
          "metadata": {
            "tags": []
          },
          "execution_count": 14
        }
      ]
    },
    {
      "cell_type": "code",
      "metadata": {
        "colab_type": "code",
        "id": "PVwAtKjmCb5t",
        "outputId": "23868997-e2d9-4458-ff89-75142094a4d2",
        "colab": {
          "base_uri": "https://localhost:8080/",
          "height": 300
        }
      },
      "source": [
        "# Bias check\n",
        "sns.countplot(x=\"Delay\", data=df)"
      ],
      "execution_count": 15,
      "outputs": [
        {
          "output_type": "execute_result",
          "data": {
            "text/plain": [
              "<matplotlib.axes._subplots.AxesSubplot at 0x7fc88757bc50>"
            ]
          },
          "metadata": {
            "tags": []
          },
          "execution_count": 15
        },
        {
          "output_type": "display_data",
          "data": {
            "text/plain": [
              "<Figure size 432x288 with 1 Axes>"
            ],
            "image/png": "[encoded data removed]"
          },
          "metadata": {
            "tags": [],
            "needs_background": "light"
          }
        }
      ]
    },
    {
      "cell_type": "code",
      "metadata": {
        "colab_type": "code",
        "id": "ZUOcxCoaCb5w",
        "colab": {}
      },
      "source": [
        "# Check Correlation\n",
        "def cramers_corrected_stat(x, y):\n",
        "\n",
        "    \"\"\" calculate Cramers V statistic for categorial-categorial association.\n",
        "        uses correction from Bergsma and Wicher, \n",
        "        Journal of the Korean Statistical Society 42 (2013): 323-328\n",
        "    \"\"\"\n",
        "    result=-1\n",
        "    if len(x.value_counts())==1 :\n",
        "        print(\"First variable is constant\")\n",
        "    elif len(y.value_counts())==1:\n",
        "        print(\"Second variable is constant\")\n",
        "    else:   \n",
        "        conf_matrix=pd.crosstab(x, y)\n",
        "\n",
        "        if conf_matrix.shape[0]==2:\n",
        "            correct=False\n",
        "        else:\n",
        "            correct=True\n",
        "\n",
        "        chi2 = ss.chi2_contingency(conf_matrix, correction=correct)[0]\n",
        "\n",
        "        n = sum(conf_matrix.sum())\n",
        "        phi2 = chi2/n\n",
        "        r,k = conf_matrix.shape\n",
        "        phi2corr = max(0, phi2 - ((k-1)*(r-1))/(n-1))    \n",
        "        rcorr = r - ((r-1)**2)/(n-1)\n",
        "        kcorr = k - ((k-1)**2)/(n-1)\n",
        "        result=np.sqrt(phi2corr / min( (kcorr-1), (rcorr-1)))\n",
        "    return round(result,6)"
      ],
      "execution_count": 0,
      "outputs": []
    },
    {
      "cell_type": "markdown",
      "metadata": {
        "colab_type": "text",
        "id": "YcEcTd_4Cb52"
      },
      "source": [
        "#### Month"
      ]
    },
    {
      "cell_type": "code",
      "metadata": {
        "colab_type": "code",
        "id": "zmsrmVkRCb54",
        "outputId": "b3972102-0ae1-4f57-cc01-e33b4c7dc6bd",
        "colab": {
          "base_uri": "https://localhost:8080/",
          "height": 300
        }
      },
      "source": [
        "sns.boxplot(x='Month', y='ArrDelay', data=df) #x is feature, y is target"
      ],
      "execution_count": 17,
      "outputs": [
        {
          "output_type": "execute_result",
          "data": {
            "text/plain": [
              "<matplotlib.axes._subplots.AxesSubplot at 0x7fc8874ae080>"
            ]
          },
          "metadata": {
            "tags": []
          },
          "execution_count": 17
        },
        {
          "output_type": "display_data",
          "data": {
            "text/plain": [
              "<Figure size 432x288 with 1 Axes>"
            ],
            "image/png": "[encoded data removed]"
          },
          "metadata": {
            "tags": [],
            "needs_background": "light"
          }
        }
      ]
    },
    {
      "cell_type": "code",
      "metadata": {
        "colab_type": "code",
        "id": "vSwX_SjUCb57",
        "outputId": "54744d16-41f4-4633-9eb9-a52ca3f9e923",
        "colab": {
          "base_uri": "https://localhost:8080/",
          "height": 34
        }
      },
      "source": [
        "cramers_corrected_stat(df['Delay'], df['Month'])"
      ],
      "execution_count": 18,
      "outputs": [
        {
          "output_type": "execute_result",
          "data": {
            "text/plain": [
              "0.119007"
            ]
          },
          "metadata": {
            "tags": []
          },
          "execution_count": 18
        }
      ]
    },
    {
      "cell_type": "markdown",
      "metadata": {
        "colab_type": "text",
        "id": "Hd2LzvnWCb5-"
      },
      "source": [
        "#### DayofMonth"
      ]
    },
    {
      "cell_type": "code",
      "metadata": {
        "colab_type": "code",
        "id": "aAGevow4Cb5-",
        "outputId": "b3ec6f2a-c482-486d-eef1-7285fe2ca900",
        "colab": {
          "base_uri": "https://localhost:8080/",
          "height": 300
        }
      },
      "source": [
        "sns.boxplot(x='DayofMonth', y='ArrDelay', data=df) #x is feature, y is target"
      ],
      "execution_count": 19,
      "outputs": [
        {
          "output_type": "execute_result",
          "data": {
            "text/plain": [
              "<matplotlib.axes._subplots.AxesSubplot at 0x7fc887dcfc50>"
            ]
          },
          "metadata": {
            "tags": []
          },
          "execution_count": 19
        },
        {
          "output_type": "display_data",
          "data": {
            "text/plain": [
              "<Figure size 432x288 with 1 Axes>"
            ],
            "image/png": "[encoded data removed]"
          },
          "metadata": {
            "tags": [],
            "needs_background": "light"
          }
        }
      ]
    },
    {
      "cell_type": "code",
      "metadata": {
        "colab_type": "code",
        "id": "8Z3P_reNCb6B",
        "outputId": "95f74391-fcf9-4ebe-f228-b9eed7bad8e9",
        "colab": {
          "base_uri": "https://localhost:8080/",
          "height": 34
        }
      },
      "source": [
        "cramers_corrected_stat(df['Delay'], df['DayofMonth'])"
      ],
      "execution_count": 20,
      "outputs": [
        {
          "output_type": "execute_result",
          "data": {
            "text/plain": [
              "0.037424"
            ]
          },
          "metadata": {
            "tags": []
          },
          "execution_count": 20
        }
      ]
    },
    {
      "cell_type": "markdown",
      "metadata": {
        "colab_type": "text",
        "id": "r6lIyyL6Cb6F"
      },
      "source": [
        "#### Weekend"
      ]
    },
    {
      "cell_type": "code",
      "metadata": {
        "colab_type": "code",
        "id": "tqmaURcDCb6G",
        "outputId": "9eb16a5f-5ca0-4da2-e344-c410cb5bb80d",
        "colab": {
          "base_uri": "https://localhost:8080/",
          "height": 300
        }
      },
      "source": [
        "sns.boxplot(x='DayOfWeek', y='ArrDelay', data=df) #x is feature, y is target"
      ],
      "execution_count": 21,
      "outputs": [
        {
          "output_type": "execute_result",
          "data": {
            "text/plain": [
              "<matplotlib.axes._subplots.AxesSubplot at 0x7fc8883bccc0>"
            ]
          },
          "metadata": {
            "tags": []
          },
          "execution_count": 21
        },
        {
          "output_type": "display_data",
          "data": {
            "text/plain": [
              "<Figure size 432x288 with 1 Axes>"
            ],
            "image/png": "[encoded data removed]"
          },
          "metadata": {
            "tags": [],
            "needs_background": "light"
          }
        }
      ]
    },
    {
      "cell_type": "code",
      "metadata": {
        "colab_type": "code",
        "id": "0oCLQyGxCb6I",
        "outputId": "12d7707c-e05b-484f-8d36-826742d35f67",
        "colab": {
          "base_uri": "https://localhost:8080/",
          "height": 34
        }
      },
      "source": [
        "cramers_corrected_stat(df['Delay'], df['DayOfWeek'])"
      ],
      "execution_count": 22,
      "outputs": [
        {
          "output_type": "execute_result",
          "data": {
            "text/plain": [
              "0.03555"
            ]
          },
          "metadata": {
            "tags": []
          },
          "execution_count": 22
        }
      ]
    },
    {
      "cell_type": "markdown",
      "metadata": {
        "colab_type": "text",
        "id": "PwNTysHuCb6K"
      },
      "source": [
        "#### Parts of the Day"
      ]
    },
    {
      "cell_type": "code",
      "metadata": {
        "colab_type": "code",
        "id": "r-HgBwrpCb6L",
        "outputId": "2f32f1b9-b256-4f25-bfd8-022fbf4a4e71",
        "colab": {
          "base_uri": "https://localhost:8080/",
          "height": 300
        }
      },
      "source": [
        "sns.heatmap(pd.crosstab(df['Delay'], df['PotD'], normalize='index'))"
      ],
      "execution_count": 23,
      "outputs": [
        {
          "output_type": "execute_result",
          "data": {
            "text/plain": [
              "<matplotlib.axes._subplots.AxesSubplot at 0x7fc88ad2f470>"
            ]
          },
          "metadata": {
            "tags": []
          },
          "execution_count": 23
        },
        {
          "output_type": "display_data",
          "data": {
            "text/plain": [
              "<Figure size 432x288 with 2 Axes>"
            ],
            "image/png": "[encoded data removed]"
          },
          "metadata": {
            "tags": [],
            "needs_background": "light"
          }
        }
      ]
    },
    {
      "cell_type": "code",
      "metadata": {
        "colab_type": "code",
        "id": "YxF200Q4Cb6O",
        "outputId": "64b186ad-06b3-4045-8c24-6ca67e15f5ec",
        "colab": {
          "base_uri": "https://localhost:8080/",
          "height": 34
        }
      },
      "source": [
        "cramers_corrected_stat(df['Delay'], df['PotD'])"
      ],
      "execution_count": 24,
      "outputs": [
        {
          "output_type": "execute_result",
          "data": {
            "text/plain": [
              "0.136072"
            ]
          },
          "metadata": {
            "tags": []
          },
          "execution_count": 24
        }
      ]
    },
    {
      "cell_type": "markdown",
      "metadata": {
        "colab_type": "text",
        "id": "8CVxw27BCb6Z"
      },
      "source": [
        "## Model evaluation\n",
        "We will use F1 score as the evaluation metric. Our target value is binary so it’s a binary classification problem, and out data is inbalance, so in this case F1 score is a good way for evaluation for this type of problems."
      ]
    },
    {
      "cell_type": "code",
      "metadata": {
        "id": "opbue_zm6Mff",
        "colab_type": "code",
        "colab": {}
      },
      "source": [
        "# Create a copy of original dataset\n",
        "df_backup = df.copy()"
      ],
      "execution_count": 0,
      "outputs": []
    },
    {
      "cell_type": "markdown",
      "metadata": {
        "colab_type": "text",
        "id": "WRzHch9s_cG_"
      },
      "source": [
        "### Logistic Regression"
      ]
    },
    {
      "cell_type": "code",
      "metadata": {
        "id": "x880AuEO6Mfk",
        "colab_type": "code",
        "colab": {}
      },
      "source": [
        "df = df_backup.copy()"
      ],
      "execution_count": 0,
      "outputs": []
    },
    {
      "cell_type": "markdown",
      "metadata": {
        "id": "U4sqv5Tz6Mfm",
        "colab_type": "text"
      },
      "source": [
        "One-hot encoding"
      ]
    },
    {
      "cell_type": "code",
      "metadata": {
        "id": "do2ldJzl6Mfn",
        "colab_type": "code",
        "colab": {}
      },
      "source": [
        "# Dest column\n",
        "df = pd.concat([df, pd.get_dummies(df['Dest'], prefix='Dest',dummy_na=True)],axis=1).drop(['Dest'],axis=1)\n",
        "\n",
        "# UniqueCarrier column\n",
        "df = pd.concat([df, pd.get_dummies(df['UniqueCarrier'], prefix='UniqueCarrier',dummy_na=True)],axis=1).drop(['UniqueCarrier'],axis=1)"
      ],
      "execution_count": 0,
      "outputs": []
    },
    {
      "cell_type": "markdown",
      "metadata": {
        "id": "Tx4QCmTf6Mfq",
        "colab_type": "text"
      },
      "source": [
        "Holdout"
      ]
    },
    {
      "cell_type": "code",
      "metadata": {
        "id": "mFmax2xk6Mfq",
        "colab_type": "code",
        "colab": {}
      },
      "source": [
        "X_data = df.drop(['Delay', 'ArrDelay'], axis=1)\n",
        "y_data = df['Delay']\n",
        "\n",
        "# Holdout\n",
        "from sklearn.model_selection import train_test_split\n",
        "\n",
        "X_train, X_test, y_train, y_test = train_test_split(X_data, y_data, test_size=0.2, random_state=0)"
      ],
      "execution_count": 0,
      "outputs": []
    },
    {
      "cell_type": "markdown",
      "metadata": {
        "id": "cooyd6bv6Mfv",
        "colab_type": "text"
      },
      "source": [
        "Default parameters"
      ]
    },
    {
      "cell_type": "code",
      "metadata": {
        "id": "FFnOWiN76Mfx",
        "colab_type": "code",
        "colab": {}
      },
      "source": [
        "from sklearn.linear_model import LogisticRegression\n",
        "\n",
        "model = LogisticRegression()\n",
        "model.fit(X_train, y_train)\n",
        "y_pred = model.predict(X_test)\n",
        "\n",
        "# Report\n",
        "from sklearn.metrics import classification_report\n",
        "\n",
        "print(classification_report(y_test, y_pred))"
      ],
      "execution_count": 0,
      "outputs": []
    },
    {
      "cell_type": "markdown",
      "metadata": {
        "id": "uoMYELQq6Mf1",
        "colab_type": "text"
      },
      "source": [
        "Hyperparameter tuning"
      ]
    },
    {
      "cell_type": "code",
      "metadata": {
        "colab_type": "code",
        "id": "c-8p2C_PFusN",
        "colab": {}
      },
      "source": [
        "from sklearn.model_selection import GridSearchCV\n",
        "from sklearn.linear_model import LogisticRegression\n",
        "\n",
        "grid = {'C' : [1, 5, 10]}\n",
        "\n",
        "model_cv = GridSearchCV(estimator = LogisticRegression(), \n",
        "                        param_grid = grid, cv = 3, scoring = 'f1', n_jobs = -1)\n",
        "\n",
        "model_cv.fit(X_data, y_data)\n",
        "\n",
        "print(\"tuned hpyerparameters :(best parameters) \",model_cv.best_params_)\n",
        "print(\"accuracy :\",model_cv.best_score_)"
      ],
      "execution_count": 0,
      "outputs": []
    },
    {
      "cell_type": "markdown",
      "metadata": {
        "colab_type": "text",
        "id": "5sNzMrqGPpmi"
      },
      "source": [
        "Tune hyper parameters using 3-values-method, with f1 metric."
      ]
    },
    {
      "cell_type": "markdown",
      "metadata": {
        "id": "P6Dg0_SE6Mf5",
        "colab_type": "text"
      },
      "source": [
        "### Naive Bayes"
      ]
    },
    {
      "cell_type": "code",
      "metadata": {
        "id": "H4dGJ9EZ6Mf5",
        "colab_type": "code",
        "colab": {}
      },
      "source": [
        "df = df_backup.copy()"
      ],
      "execution_count": 0,
      "outputs": []
    },
    {
      "cell_type": "markdown",
      "metadata": {
        "id": "2yupICHH6Mf8",
        "colab_type": "text"
      },
      "source": [
        "Label encoder"
      ]
    },
    {
      "cell_type": "code",
      "metadata": {
        "id": "yhoOT0Pv6Mf9",
        "colab_type": "code",
        "colab": {}
      },
      "source": [
        "from sklearn.preprocessing import LabelEncoder\n",
        "\n",
        "# Dest column\n",
        "df['Dest'] = LabelEncoder().fit_transform(df['Dest'])\n",
        "\n",
        "# UniqueCarrier column\n",
        "df['UniqueCarrier'] = LabelEncoder().fit_transform(df['UniqueCarrier'])"
      ],
      "execution_count": 0,
      "outputs": []
    },
    {
      "cell_type": "markdown",
      "metadata": {
        "id": "CsLzcIWD6MgD",
        "colab_type": "text"
      },
      "source": [
        "Holdout"
      ]
    },
    {
      "cell_type": "code",
      "metadata": {
        "id": "r5Q8zX2Q6MgD",
        "colab_type": "code",
        "colab": {}
      },
      "source": [
        "X_data = df.drop(['Delay', 'ArrDelay'], axis=1)\n",
        "y_data = df['Delay']\n",
        "\n",
        "# Holdout\n",
        "from sklearn.model_selection import train_test_split\n",
        "\n",
        "X_train, X_test, y_train, y_test = train_test_split(X_data, y_data, test_size=0.2, random_state=0)"
      ],
      "execution_count": 0,
      "outputs": []
    },
    {
      "cell_type": "code",
      "metadata": {
        "id": "5wYPJaBHnFbi",
        "colab_type": "code",
        "colab": {
          "base_uri": "https://localhost:8080/",
          "height": 204
        },
        "outputId": "7a86531a-9e4a-4181-a42f-356e82c0306d"
      },
      "source": [
        "X_train.head()"
      ],
      "execution_count": 40,
      "outputs": [
        {
          "output_type": "execute_result",
          "data": {
            "text/plain": [
              "         Month  DayofMonth  DayOfWeek  UniqueCarrier  CRSElapsedTime  AirTime  \\\n",
              "3691028      7          28          1             17            85.0     66.0   \n",
              "3223839      6          24          2             15           303.0    288.0   \n",
              "6406840     11          18          2              3            61.0     46.0   \n",
              "6940582     12          10          3              1           155.0    107.0   \n",
              "1989833      4           9          3             14            45.0     21.0   \n",
              "\n",
              "         Dest  Distance  TaxiIn  TaxiOut  PotD  \n",
              "3691028    29       460     3.0     14.0     3  \n",
              "3223839    48      2329     4.0     12.0     1  \n",
              "6406840   299       199     6.0     16.0     1  \n",
              "6940582    81       802    31.0     12.0     2  \n",
              "1989833   193        78     4.0     19.0     1  "
            ],
            "text/html": [
              "<div>\n",
              "<style scoped>\n",
              "    .dataframe tbody tr th:only-of-type {\n",
              "        vertical-align: middle;\n",
              "    }\n",
              "\n",
              "    .dataframe tbody tr th {\n",
              "        vertical-align: top;\n",
              "    }\n",
              "\n",
              "    .dataframe thead th {\n",
              "        text-align: right;\n",
              "    }\n",
              "</style>\n",
              "<table border=\"1\" class=\"dataframe\">\n",
              "  <thead>\n",
              "    <tr style=\"text-align: right;\">\n",
              "      <th></th>\n",
              "      <th>Month</th>\n",
              "      <th>DayofMonth</th>\n",
              "      <th>DayOfWeek</th>\n",
              "      <th>UniqueCarrier</th>\n",
              "      <th>CRSElapsedTime</th>\n",
              "      <th>AirTime</th>\n",
              "      <th>Dest</th>\n",
              "      <th>Distance</th>\n",
              "      <th>TaxiIn</th>\n",
              "      <th>TaxiOut</th>\n",
              "      <th>PotD</th>\n",
              "    </tr>\n",
              "  </thead>\n",
              "  <tbody>\n",
              "    <tr>\n",
              "      <th>3691028</th>\n",
              "      <td>7</td>\n",
              "      <td>28</td>\n",
              "      <td>1</td>\n",
              "      <td>17</td>\n",
              "      <td>85.0</td>\n",
              "      <td>66.0</td>\n",
              "      <td>29</td>\n",
              "      <td>460</td>\n",
              "      <td>3.0</td>\n",
              "      <td>14.0</td>\n",
              "      <td>3</td>\n",
              "    </tr>\n",
              "    <tr>\n",
              "      <th>3223839</th>\n",
              "      <td>6</td>\n",
              "      <td>24</td>\n",
              "      <td>2</td>\n",
              "      <td>15</td>\n",
              "      <td>303.0</td>\n",
              "      <td>288.0</td>\n",
              "      <td>48</td>\n",
              "      <td>2329</td>\n",
              "      <td>4.0</td>\n",
              "      <td>12.0</td>\n",
              "      <td>1</td>\n",
              "    </tr>\n",
              "    <tr>\n",
              "      <th>6406840</th>\n",
              "      <td>11</td>\n",
              "      <td>18</td>\n",
              "      <td>2</td>\n",
              "      <td>3</td>\n",
              "      <td>61.0</td>\n",
              "      <td>46.0</td>\n",
              "      <td>299</td>\n",
              "      <td>199</td>\n",
              "      <td>6.0</td>\n",
              "      <td>16.0</td>\n",
              "      <td>1</td>\n",
              "    </tr>\n",
              "    <tr>\n",
              "      <th>6940582</th>\n",
              "      <td>12</td>\n",
              "      <td>10</td>\n",
              "      <td>3</td>\n",
              "      <td>1</td>\n",
              "      <td>155.0</td>\n",
              "      <td>107.0</td>\n",
              "      <td>81</td>\n",
              "      <td>802</td>\n",
              "      <td>31.0</td>\n",
              "      <td>12.0</td>\n",
              "      <td>2</td>\n",
              "    </tr>\n",
              "    <tr>\n",
              "      <th>1989833</th>\n",
              "      <td>4</td>\n",
              "      <td>9</td>\n",
              "      <td>3</td>\n",
              "      <td>14</td>\n",
              "      <td>45.0</td>\n",
              "      <td>21.0</td>\n",
              "      <td>193</td>\n",
              "      <td>78</td>\n",
              "      <td>4.0</td>\n",
              "      <td>19.0</td>\n",
              "      <td>1</td>\n",
              "    </tr>\n",
              "  </tbody>\n",
              "</table>\n",
              "</div>"
            ]
          },
          "metadata": {
            "tags": []
          },
          "execution_count": 40
        }
      ]
    },
    {
      "cell_type": "markdown",
      "metadata": {
        "id": "KhtteRcA6MgF",
        "colab_type": "text"
      },
      "source": [
        "Default parameters"
      ]
    },
    {
      "cell_type": "code",
      "metadata": {
        "id": "6_jZ2V7_6MgG",
        "colab_type": "code",
        "outputId": "3238e132-256b-4a7a-e9c4-36ce23346e20",
        "colab": {
          "base_uri": "https://localhost:8080/",
          "height": 170
        }
      },
      "source": [
        "from sklearn.naive_bayes import GaussianNB\n",
        "model = GaussianNB()\n",
        "model.fit(X_train, y_train)\n",
        "y_pred = model.predict(X_test)\n",
        "\n",
        "# Report\n",
        "from sklearn.metrics import classification_report\n",
        "\n",
        "print(classification_report(y_test, y_pred))"
      ],
      "execution_count": 29,
      "outputs": [
        {
          "output_type": "stream",
          "text": [
            "              precision    recall  f1-score   support\n",
            "\n",
            "           0       0.89      0.95      0.92    298013\n",
            "           1       0.43      0.23      0.30     44773\n",
            "\n",
            "   micro avg       0.86      0.86      0.86    342786\n",
            "   macro avg       0.66      0.59      0.61    342786\n",
            "weighted avg       0.83      0.86      0.84    342786\n",
            "\n"
          ],
          "name": "stdout"
        }
      ]
    },
    {
      "cell_type": "markdown",
      "metadata": {
        "colab_type": "text",
        "id": "bPfcZg50Cb6w"
      },
      "source": [
        "### Random Forest\n",
        "https://medium.com/all-things-ai/in-depth-parameter-tuning-for-random-forest-d67bb7e920d"
      ]
    },
    {
      "cell_type": "markdown",
      "metadata": {
        "id": "XvrNpitxXslk",
        "colab_type": "text"
      },
      "source": [
        "Default parameters"
      ]
    },
    {
      "cell_type": "code",
      "metadata": {
        "colab_type": "code",
        "id": "slP-ausGuZLF",
        "colab": {
          "base_uri": "https://localhost:8080/",
          "height": 204
        },
        "outputId": "37b879ce-9244-4a73-812e-ac63ec56fabd"
      },
      "source": [
        "from sklearn.ensemble import RandomForestClassifier\n",
        "\n",
        "model = RandomForestClassifier(n_jobs = -1)\n",
        "model.fit(X_train, y_train)\n",
        "y_pred = model.predict(X_test)\n",
        "\n",
        "# Report\n",
        "from sklearn.metrics import classification_report\n",
        "\n",
        "\n",
        "print(classification_report(y_test, y_pred))"
      ],
      "execution_count": 30,
      "outputs": [
        {
          "output_type": "stream",
          "text": [
            "/home/npqbuu/anaconda3/lib/python3.7/site-packages/sklearn/ensemble/forest.py:246: FutureWarning: The default value of n_estimators will change from 10 in version 0.20 to 100 in 0.22.\n",
            "  \"10 in version 0.20 to 100 in 0.22.\", FutureWarning)\n"
          ],
          "name": "stderr"
        },
        {
          "output_type": "stream",
          "text": [
            "              precision    recall  f1-score   support\n",
            "\n",
            "           0       0.89      0.99      0.94    298013\n",
            "           1       0.69      0.19      0.30     44773\n",
            "\n",
            "   micro avg       0.88      0.88      0.88    342786\n",
            "   macro avg       0.79      0.59      0.62    342786\n",
            "weighted avg       0.86      0.88      0.85    342786\n",
            "\n"
          ],
          "name": "stdout"
        }
      ]
    },
    {
      "cell_type": "markdown",
      "metadata": {
        "id": "3nX1e7zP6MgL",
        "colab_type": "text"
      },
      "source": [
        "Hyperparameter tuning"
      ]
    },
    {
      "cell_type": "code",
      "metadata": {
        "colab_type": "code",
        "id": "3Afhjuwlv5RN",
        "colab": {
          "base_uri": "https://localhost:8080/",
          "height": 456
        },
        "outputId": "ae318940-3cd2-4b84-bba8-efd094737211"
      },
      "source": [
        "# n_estimators\n",
        "n_estimators = [1, 3, 5, 7, 9, 11, 13, 15, 20, 25]\n",
        "test_results = []\n",
        "train_results = []\n",
        "for estimator in n_estimators:\n",
        "    model = RandomForestClassifier(n_estimators = estimator, n_jobs = -1)\n",
        "    model.fit(X_train, y_train)\n",
        "  \n",
        "    y_pred = model.predict(X_test)\n",
        "    f1 = f1_score(y_test, y_pred)\n",
        "    test_results.append(f1)\n",
        "    \n",
        "    train_pred = model.predict(X_train)\n",
        "    f1 = f1_score(y_train, train_pred)\n",
        "    train_results.append(f1)\n",
        "\n",
        "    \n",
        "    print(estimator, ' done!')\n",
        "    \n",
        "# Plot metrics line chart\n",
        "sns.lineplot(x = n_estimators, y = test_results, label='Test F1')\n",
        "sns.lineplot(x = n_estimators, y = train_results, label='Train F1')"
      ],
      "execution_count": 48,
      "outputs": [
        {
          "output_type": "stream",
          "text": [
            "1  done!\n",
            "3  done!\n",
            "5  done!\n",
            "7  done!\n",
            "9  done!\n",
            "11  done!\n",
            "13  done!\n",
            "15  done!\n",
            "20  done!\n",
            "25  done!\n"
          ],
          "name": "stdout"
        },
        {
          "output_type": "execute_result",
          "data": {
            "text/plain": [
              "<matplotlib.axes._subplots.AxesSubplot at 0x7fc887479da0>"
            ]
          },
          "metadata": {
            "tags": []
          },
          "execution_count": 48
        },
        {
          "output_type": "display_data",
          "data": {
            "text/plain": [
              "<Figure size 432x288 with 1 Axes>"
            ],
            "image/png": "[encoded data removed]"
          },
          "metadata": {
            "tags": [],
            "needs_background": "light"
          }
        }
      ]
    },
    {
      "cell_type": "code",
      "metadata": {
        "id": "fvd2JvGA6MgQ",
        "colab_type": "code",
        "colab": {
          "base_uri": "https://localhost:8080/",
          "height": 694
        },
        "outputId": "d895e13e-fe2c-404b-e7ac-c7508d53f952"
      },
      "source": [
        "# max_depths\n",
        "max_depths = np.linspace(5, 26, 8)\n",
        "test_results = []\n",
        "train_results = []\n",
        "\n",
        "for max_depth in max_depths:\n",
        "    model = RandomForestClassifier(max_depth = max_depth, n_jobs = -1)\n",
        "    model.fit(X_train, y_train)\n",
        "  \n",
        "    y_pred = model.predict(X_test)\n",
        "    f1 = f1_score(y_test, y_pred)\n",
        "    test_results.append(f1)\n",
        "    \n",
        "    train_pred = model.predict(X_train)\n",
        "    f1 = f1_score(y_train, train_pred)\n",
        "    train_results.append(f1)\n",
        "    \n",
        "    print(max_depth, ' done!')\n",
        "\n",
        "# Plot metrics line chart\n",
        "sns.lineplot(x = n_estimators, y = test_results, label='Test F1')\n",
        "sns.lineplot(x = n_estimators, y = train_results, label='Train F1')"
      ],
      "execution_count": 47,
      "outputs": [
        {
          "output_type": "stream",
          "text": [
            "/home/npqbuu/anaconda3/lib/python3.7/site-packages/sklearn/ensemble/forest.py:246: FutureWarning: The default value of n_estimators will change from 10 in version 0.20 to 100 in 0.22.\n",
            "  \"10 in version 0.20 to 100 in 0.22.\", FutureWarning)\n"
          ],
          "name": "stderr"
        },
        {
          "output_type": "stream",
          "text": [
            "5.0  done!\n"
          ],
          "name": "stdout"
        },
        {
          "output_type": "stream",
          "text": [
            "/home/npqbuu/anaconda3/lib/python3.7/site-packages/sklearn/ensemble/forest.py:246: FutureWarning: The default value of n_estimators will change from 10 in version 0.20 to 100 in 0.22.\n",
            "  \"10 in version 0.20 to 100 in 0.22.\", FutureWarning)\n"
          ],
          "name": "stderr"
        },
        {
          "output_type": "stream",
          "text": [
            "8.0  done!\n"
          ],
          "name": "stdout"
        },
        {
          "output_type": "stream",
          "text": [
            "/home/npqbuu/anaconda3/lib/python3.7/site-packages/sklearn/ensemble/forest.py:246: FutureWarning: The default value of n_estimators will change from 10 in version 0.20 to 100 in 0.22.\n",
            "  \"10 in version 0.20 to 100 in 0.22.\", FutureWarning)\n"
          ],
          "name": "stderr"
        },
        {
          "output_type": "stream",
          "text": [
            "11.0  done!\n"
          ],
          "name": "stdout"
        },
        {
          "output_type": "stream",
          "text": [
            "/home/npqbuu/anaconda3/lib/python3.7/site-packages/sklearn/ensemble/forest.py:246: FutureWarning: The default value of n_estimators will change from 10 in version 0.20 to 100 in 0.22.\n",
            "  \"10 in version 0.20 to 100 in 0.22.\", FutureWarning)\n"
          ],
          "name": "stderr"
        },
        {
          "output_type": "stream",
          "text": [
            "14.0  done!\n"
          ],
          "name": "stdout"
        },
        {
          "output_type": "stream",
          "text": [
            "/home/npqbuu/anaconda3/lib/python3.7/site-packages/sklearn/ensemble/forest.py:246: FutureWarning: The default value of n_estimators will change from 10 in version 0.20 to 100 in 0.22.\n",
            "  \"10 in version 0.20 to 100 in 0.22.\", FutureWarning)\n"
          ],
          "name": "stderr"
        },
        {
          "output_type": "stream",
          "text": [
            "17.0  done!\n"
          ],
          "name": "stdout"
        },
        {
          "output_type": "stream",
          "text": [
            "/home/npqbuu/anaconda3/lib/python3.7/site-packages/sklearn/ensemble/forest.py:246: FutureWarning: The default value of n_estimators will change from 10 in version 0.20 to 100 in 0.22.\n",
            "  \"10 in version 0.20 to 100 in 0.22.\", FutureWarning)\n"
          ],
          "name": "stderr"
        },
        {
          "output_type": "stream",
          "text": [
            "20.0  done!\n"
          ],
          "name": "stdout"
        },
        {
          "output_type": "stream",
          "text": [
            "/home/npqbuu/anaconda3/lib/python3.7/site-packages/sklearn/ensemble/forest.py:246: FutureWarning: The default value of n_estimators will change from 10 in version 0.20 to 100 in 0.22.\n",
            "  \"10 in version 0.20 to 100 in 0.22.\", FutureWarning)\n"
          ],
          "name": "stderr"
        },
        {
          "output_type": "stream",
          "text": [
            "23.0  done!\n"
          ],
          "name": "stdout"
        },
        {
          "output_type": "stream",
          "text": [
            "/home/npqbuu/anaconda3/lib/python3.7/site-packages/sklearn/ensemble/forest.py:246: FutureWarning: The default value of n_estimators will change from 10 in version 0.20 to 100 in 0.22.\n",
            "  \"10 in version 0.20 to 100 in 0.22.\", FutureWarning)\n"
          ],
          "name": "stderr"
        },
        {
          "output_type": "stream",
          "text": [
            "26.0  done!\n"
          ],
          "name": "stdout"
        },
        {
          "output_type": "execute_result",
          "data": {
            "text/plain": [
              "<matplotlib.axes._subplots.AxesSubplot at 0x7fc888a971d0>"
            ]
          },
          "metadata": {
            "tags": []
          },
          "execution_count": 47
        },
        {
          "output_type": "display_data",
          "data": {
            "text/plain": [
              "<Figure size 432x288 with 1 Axes>"
            ],
            "image/png": "[encoded data removed]"
          },
          "metadata": {
            "tags": [],
            "needs_background": "light"
          }
        }
      ]
    },
    {
      "cell_type": "markdown",
      "metadata": {
        "id": "0q3RByoE6MgU",
        "colab_type": "text"
      },
      "source": [
        "**Final model**\n",
        "\n",
        "Best parameters:\n",
        "- n_estimators = 5\n",
        "- max_depths = 10"
      ]
    },
    {
      "cell_type": "code",
      "metadata": {
        "id": "O0QEItv86MgX",
        "colab_type": "code",
        "colab": {
          "base_uri": "https://localhost:8080/",
          "height": 170
        },
        "outputId": "9a859435-afab-40f9-f8d7-b0823329a79e"
      },
      "source": [
        "model = RandomForestClassifier(n_estimators = 5, max_depth = 25, n_jobs = -1)\n",
        "model.fit(X_train, y_train)\n",
        "y_pred = model.predict(X_test)\n",
        "\n",
        "# Report\n",
        "from sklearn.metrics import classification_report\n",
        "\n",
        "print(classification_report(y_test, y_pred))"
      ],
      "execution_count": 49,
      "outputs": [
        {
          "output_type": "stream",
          "text": [
            "              precision    recall  f1-score   support\n",
            "\n",
            "           0       0.89      0.98      0.93    298013\n",
            "           1       0.62      0.21      0.31     44773\n",
            "\n",
            "   micro avg       0.88      0.88      0.88    342786\n",
            "   macro avg       0.75      0.59      0.62    342786\n",
            "weighted avg       0.86      0.88      0.85    342786\n",
            "\n"
          ],
          "name": "stdout"
        }
      ]
    },
    {
      "cell_type": "markdown",
      "metadata": {
        "colab_type": "text",
        "id": "MwrQdtDgCb66"
      },
      "source": [
        "# TODO"
      ]
    },
    {
      "cell_type": "markdown",
      "metadata": {
        "colab_type": "text",
        "id": "7Qxf4aXsCb67"
      },
      "source": [
        "1. Edit threshhold / class weight\n",
        "2. PCA: Dimension reducing\n",
        "3. RFE: Features selection\n",
        "4. GridsearchCV for tuning\n",
        "- Tuning with 3 values\n",
        "- Goal: Precison ~ Recall (F1 score)\n",
        "5. Compare performances among models"
      ]
    },
    {
      "cell_type": "code",
      "metadata": {
        "colab_type": "code",
        "id": "_CsbrWPJCb69",
        "colab": {}
      },
      "source": [
        ""
      ],
      "execution_count": 0,
      "outputs": []
    }
  ]
}