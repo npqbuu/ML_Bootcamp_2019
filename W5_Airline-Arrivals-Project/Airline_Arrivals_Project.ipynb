{
 "cells": [
  {
   "cell_type": "markdown",
   "metadata": {
    "colab_type": "text",
    "id": "oBv97VwGCb3u"
   },
   "source": [
    "## Import libaries"
   ]
  },
  {
   "cell_type": "code",
   "execution_count": 1,
   "metadata": {
    "colab": {},
    "colab_type": "code",
    "id": "EDKkmpj8Cb35"
   },
   "outputs": [],
   "source": [
    "import pandas as pd\n",
    "import numpy as np \n",
    "import seaborn as sns \n",
    "%matplotlib inline\n",
    "import matplotlib.pyplot as plt\n",
    "import scipy.stats as ss\n",
    "from sklearn.metrics import f1_score"
   ]
  },
  {
   "cell_type": "markdown",
   "metadata": {
    "colab_type": "text",
    "id": "ofNzk5TgCb4N"
   },
   "source": [
    "## Import data"
   ]
  },
  {
   "cell_type": "code",
   "execution_count": 2,
   "metadata": {
    "colab": {},
    "colab_type": "code",
    "id": "6UHfQT3ZCb4R"
   },
   "outputs": [],
   "source": [
    "# Read from url - Take time to run\n",
    "#url = \"http://stat-computing.org/dataexpo/2009/2008.csv.bz2\"\n",
    "#df = pd.read_csv(url, compression='bz2')\n",
    "\n",
    "# Read from drive\n",
    "df = pd.read_csv('./temp/Airline.csv')"
   ]
  },
  {
   "cell_type": "code",
   "execution_count": 3,
   "metadata": {
    "colab": {},
    "colab_type": "code",
    "id": "m0kZacuhCb4e"
   },
   "outputs": [],
   "source": [
    "# Reduce rows\n",
    "df = df.sample(frac=0.25)"
   ]
  },
  {
   "cell_type": "code",
   "execution_count": 4,
   "metadata": {
    "colab": {
     "base_uri": "https://localhost:8080/",
     "height": 253
    },
    "colab_type": "code",
    "id": "AuoVngUzCb4p",
    "outputId": "b8326716-6c1f-4ef6-ad8a-39b313f6a16d",
    "scrolled": true
   },
   "outputs": [
    {
     "data": {
      "text/html": [
       "<div>\n",
       "<style scoped>\n",
       "    .dataframe tbody tr th:only-of-type {\n",
       "        vertical-align: middle;\n",
       "    }\n",
       "\n",
       "    .dataframe tbody tr th {\n",
       "        vertical-align: top;\n",
       "    }\n",
       "\n",
       "    .dataframe thead th {\n",
       "        text-align: right;\n",
       "    }\n",
       "</style>\n",
       "<table border=\"1\" class=\"dataframe\">\n",
       "  <thead>\n",
       "    <tr style=\"text-align: right;\">\n",
       "      <th></th>\n",
       "      <th>Year</th>\n",
       "      <th>Month</th>\n",
       "      <th>DayofMonth</th>\n",
       "      <th>DayOfWeek</th>\n",
       "      <th>DepTime</th>\n",
       "      <th>CRSDepTime</th>\n",
       "      <th>ArrTime</th>\n",
       "      <th>CRSArrTime</th>\n",
       "      <th>UniqueCarrier</th>\n",
       "      <th>FlightNum</th>\n",
       "      <th>...</th>\n",
       "      <th>TaxiIn</th>\n",
       "      <th>TaxiOut</th>\n",
       "      <th>Cancelled</th>\n",
       "      <th>CancellationCode</th>\n",
       "      <th>Diverted</th>\n",
       "      <th>CarrierDelay</th>\n",
       "      <th>WeatherDelay</th>\n",
       "      <th>NASDelay</th>\n",
       "      <th>SecurityDelay</th>\n",
       "      <th>LateAircraftDelay</th>\n",
       "    </tr>\n",
       "  </thead>\n",
       "  <tbody>\n",
       "    <tr>\n",
       "      <th>6744985</th>\n",
       "      <td>2008</td>\n",
       "      <td>12</td>\n",
       "      <td>20</td>\n",
       "      <td>6</td>\n",
       "      <td>850.0</td>\n",
       "      <td>850</td>\n",
       "      <td>1611.0</td>\n",
       "      <td>1604</td>\n",
       "      <td>DL</td>\n",
       "      <td>116</td>\n",
       "      <td>...</td>\n",
       "      <td>6.0</td>\n",
       "      <td>19.0</td>\n",
       "      <td>0</td>\n",
       "      <td>NaN</td>\n",
       "      <td>0</td>\n",
       "      <td>NaN</td>\n",
       "      <td>NaN</td>\n",
       "      <td>NaN</td>\n",
       "      <td>NaN</td>\n",
       "      <td>NaN</td>\n",
       "    </tr>\n",
       "    <tr>\n",
       "      <th>2109876</th>\n",
       "      <td>2008</td>\n",
       "      <td>4</td>\n",
       "      <td>24</td>\n",
       "      <td>4</td>\n",
       "      <td>1838.0</td>\n",
       "      <td>1659</td>\n",
       "      <td>2101.0</td>\n",
       "      <td>1929</td>\n",
       "      <td>EV</td>\n",
       "      <td>4271</td>\n",
       "      <td>...</td>\n",
       "      <td>13.0</td>\n",
       "      <td>23.0</td>\n",
       "      <td>0</td>\n",
       "      <td>NaN</td>\n",
       "      <td>0</td>\n",
       "      <td>0.0</td>\n",
       "      <td>0.0</td>\n",
       "      <td>2.0</td>\n",
       "      <td>0.0</td>\n",
       "      <td>90.0</td>\n",
       "    </tr>\n",
       "    <tr>\n",
       "      <th>6737439</th>\n",
       "      <td>2008</td>\n",
       "      <td>12</td>\n",
       "      <td>14</td>\n",
       "      <td>7</td>\n",
       "      <td>625.0</td>\n",
       "      <td>630</td>\n",
       "      <td>1442.0</td>\n",
       "      <td>1504</td>\n",
       "      <td>DL</td>\n",
       "      <td>72</td>\n",
       "      <td>...</td>\n",
       "      <td>13.0</td>\n",
       "      <td>18.0</td>\n",
       "      <td>0</td>\n",
       "      <td>NaN</td>\n",
       "      <td>0</td>\n",
       "      <td>NaN</td>\n",
       "      <td>NaN</td>\n",
       "      <td>NaN</td>\n",
       "      <td>NaN</td>\n",
       "      <td>NaN</td>\n",
       "    </tr>\n",
       "    <tr>\n",
       "      <th>5082679</th>\n",
       "      <td>2008</td>\n",
       "      <td>9</td>\n",
       "      <td>9</td>\n",
       "      <td>2</td>\n",
       "      <td>1759.0</td>\n",
       "      <td>1805</td>\n",
       "      <td>1908.0</td>\n",
       "      <td>1859</td>\n",
       "      <td>US</td>\n",
       "      <td>668</td>\n",
       "      <td>...</td>\n",
       "      <td>8.0</td>\n",
       "      <td>28.0</td>\n",
       "      <td>0</td>\n",
       "      <td>NaN</td>\n",
       "      <td>0</td>\n",
       "      <td>NaN</td>\n",
       "      <td>NaN</td>\n",
       "      <td>NaN</td>\n",
       "      <td>NaN</td>\n",
       "      <td>NaN</td>\n",
       "    </tr>\n",
       "    <tr>\n",
       "      <th>6701093</th>\n",
       "      <td>2008</td>\n",
       "      <td>12</td>\n",
       "      <td>7</td>\n",
       "      <td>7</td>\n",
       "      <td>833.0</td>\n",
       "      <td>840</td>\n",
       "      <td>1034.0</td>\n",
       "      <td>1046</td>\n",
       "      <td>US</td>\n",
       "      <td>1575</td>\n",
       "      <td>...</td>\n",
       "      <td>4.0</td>\n",
       "      <td>15.0</td>\n",
       "      <td>0</td>\n",
       "      <td>NaN</td>\n",
       "      <td>0</td>\n",
       "      <td>NaN</td>\n",
       "      <td>NaN</td>\n",
       "      <td>NaN</td>\n",
       "      <td>NaN</td>\n",
       "      <td>NaN</td>\n",
       "    </tr>\n",
       "  </tbody>\n",
       "</table>\n",
       "<p>5 rows × 29 columns</p>\n",
       "</div>"
      ],
      "text/plain": [
       "         Year  Month  DayofMonth  DayOfWeek  DepTime  CRSDepTime  ArrTime  \\\n",
       "6744985  2008     12          20          6    850.0         850   1611.0   \n",
       "2109876  2008      4          24          4   1838.0        1659   2101.0   \n",
       "6737439  2008     12          14          7    625.0         630   1442.0   \n",
       "5082679  2008      9           9          2   1759.0        1805   1908.0   \n",
       "6701093  2008     12           7          7    833.0         840   1034.0   \n",
       "\n",
       "         CRSArrTime UniqueCarrier  FlightNum        ...         TaxiIn  \\\n",
       "6744985        1604            DL        116        ...            6.0   \n",
       "2109876        1929            EV       4271        ...           13.0   \n",
       "6737439        1504            DL         72        ...           13.0   \n",
       "5082679        1859            US        668        ...            8.0   \n",
       "6701093        1046            US       1575        ...            4.0   \n",
       "\n",
       "         TaxiOut  Cancelled  CancellationCode  Diverted  CarrierDelay  \\\n",
       "6744985     19.0          0               NaN         0           NaN   \n",
       "2109876     23.0          0               NaN         0           0.0   \n",
       "6737439     18.0          0               NaN         0           NaN   \n",
       "5082679     28.0          0               NaN         0           NaN   \n",
       "6701093     15.0          0               NaN         0           NaN   \n",
       "\n",
       "        WeatherDelay NASDelay  SecurityDelay  LateAircraftDelay  \n",
       "6744985          NaN      NaN            NaN                NaN  \n",
       "2109876          0.0      2.0            0.0               90.0  \n",
       "6737439          NaN      NaN            NaN                NaN  \n",
       "5082679          NaN      NaN            NaN                NaN  \n",
       "6701093          NaN      NaN            NaN                NaN  \n",
       "\n",
       "[5 rows x 29 columns]"
      ]
     },
     "execution_count": 4,
     "metadata": {},
     "output_type": "execute_result"
    }
   ],
   "source": [
    "df.head()"
   ]
  },
  {
   "cell_type": "markdown",
   "metadata": {
    "colab_type": "text",
    "id": "wiaJPuNNCb4w"
   },
   "source": [
    "Variable descriptions: http://stat-computing.org/dataexpo/2009/the-data.html\n",
    "\n",
    "Reference: https://www.kaggle.com/fabiendaniel/predicting-flight-delays-tutorial"
   ]
  },
  {
   "cell_type": "markdown",
   "metadata": {
    "colab_type": "text",
    "id": "M3qKieX-Cb4y"
   },
   "source": [
    "## Data pre-processing"
   ]
  },
  {
   "cell_type": "code",
   "execution_count": 5,
   "metadata": {
    "colab": {
     "base_uri": "https://localhost:8080/",
     "height": 527
    },
    "colab_type": "code",
    "id": "MJaJV73iCb4z",
    "outputId": "ee655dd7-2850-4b4d-f38a-22af941721ad"
   },
   "outputs": [
    {
     "data": {
      "text/plain": [
       "Year                 1752432\n",
       "Month                1752432\n",
       "DayofMonth           1752432\n",
       "DayOfWeek            1752432\n",
       "DepTime              1718291\n",
       "CRSDepTime           1752432\n",
       "ArrTime              1714414\n",
       "CRSArrTime           1752432\n",
       "UniqueCarrier        1752432\n",
       "FlightNum            1752432\n",
       "TailNum              1731437\n",
       "ActualElapsedTime    1713645\n",
       "CRSElapsedTime       1752223\n",
       "AirTime              1713645\n",
       "ArrDelay             1713645\n",
       "DepDelay             1718291\n",
       "Origin               1752432\n",
       "Dest                 1752432\n",
       "Distance             1752432\n",
       "TaxiIn               1714414\n",
       "TaxiOut              1718087\n",
       "Cancelled            1752432\n",
       "CancellationCode       34439\n",
       "Diverted             1752432\n",
       "CarrierDelay          380838\n",
       "WeatherDelay          380838\n",
       "NASDelay              380838\n",
       "SecurityDelay         380838\n",
       "LateAircraftDelay     380838\n",
       "dtype: int64"
      ]
     },
     "execution_count": 5,
     "metadata": {},
     "output_type": "execute_result"
    }
   ],
   "source": [
    "df.count()"
   ]
  },
  {
   "cell_type": "code",
   "execution_count": 6,
   "metadata": {
    "colab": {
     "base_uri": "https://localhost:8080/",
     "height": 238
    },
    "colab_type": "code",
    "id": "ybsWiOhICb43",
    "outputId": "a6863383-07b6-411c-f09f-a68348357dbb"
   },
   "outputs": [
    {
     "data": {
      "text/plain": [
       "Month             1713645\n",
       "DayofMonth        1713645\n",
       "DayOfWeek         1713645\n",
       "CRSArrTime        1713645\n",
       "UniqueCarrier     1713645\n",
       "CRSElapsedTime    1713645\n",
       "AirTime           1713645\n",
       "ArrDelay          1713645\n",
       "Dest              1713645\n",
       "Distance          1713645\n",
       "TaxiIn            1713645\n",
       "TaxiOut           1713645\n",
       "dtype: int64"
      ]
     },
     "execution_count": 6,
     "metadata": {},
     "output_type": "execute_result"
    }
   ],
   "source": [
    "#Create Date column\n",
    "#df['Date'] = pd.to_datetime(df[['Year', 'Month', 'DayofMonth']])\n",
    "\n",
    "# Drop columns\n",
    "# Year: The dataset only contains data in 2008\n",
    "# Cancelled + CancellationCode + Diverted: Cancelled flight does not have delay label.\n",
    "df.drop(['Year', 'Cancelled', 'CancellationCode', 'Diverted'], axis=1, inplace=True)\n",
    "# Delay details: Only 20% rows have these features.\n",
    "df.drop(['CarrierDelay', 'WeatherDelay', 'NASDelay', 'SecurityDelay', 'LateAircraftDelay'], axis=1, inplace=True)\n",
    "# Time: Only keep CRSArrTime, CRSElapsedTime\n",
    "df.drop(['DepTime', 'ArrTime', 'CRSDepTime', 'ActualElapsedTime', 'DepDelay'], axis=1, inplace=True)\n",
    "# Airport: Only keep the Dest Airport\n",
    "df.drop(['Origin'], axis=1, inplace=True)\n",
    "# Carrier: Drop FlightNum and TailNum\n",
    "df.drop(['FlightNum', 'TailNum'], axis=1, inplace=True)\n",
    "\n",
    "df.dropna(inplace=True)\n",
    "df.drop_duplicates(inplace=True)\n",
    "\n",
    "df.count()"
   ]
  },
  {
   "cell_type": "code",
   "execution_count": 7,
   "metadata": {
    "colab": {},
    "colab_type": "code",
    "id": "ioRac8TMCb49"
   },
   "outputs": [],
   "source": [
    "# Convert CRSArrTime to Parts of the Day\n",
    "conditions = [\n",
    "    (df['CRSArrTime'] >= 500) & (df['CRSArrTime'] < 1201),\n",
    "    (df['CRSArrTime'] >= 1201) & (df['CRSArrTime'] < 1701),\n",
    "    (df['CRSArrTime'] >= 1701) & (df['CRSArrTime'] < 2101)]\n",
    "choices = [1, 2, 3]\n",
    "df['PotD'] = np.select(conditions, choices, default=4)\n",
    "\n",
    "# Morning, Afternoon, Evening, Night"
   ]
  },
  {
   "cell_type": "code",
   "execution_count": 8,
   "metadata": {
    "colab": {},
    "colab_type": "code",
    "id": "0j0x4lmqCb5R"
   },
   "outputs": [],
   "source": [
    "# Convert ArrDelay to Delay\n",
    "# A flight only counts as late if it is more than 30 minutes late.\n",
    "conditions = [\n",
    "    (df['ArrDelay'] > 30)]\n",
    "choices = [1]\n",
    "df['Delay'] = np.select(conditions, choices, default=0)\n",
    "df.drop(['CRSArrTime'], axis=1, inplace=True)"
   ]
  },
  {
   "cell_type": "code",
   "execution_count": 9,
   "metadata": {
    "colab": {
     "base_uri": "https://localhost:8080/",
     "height": 255
    },
    "colab_type": "code",
    "id": "nE8Ha8MjCb5U",
    "outputId": "06e55429-9cdb-4d5a-ca3b-dee7fbe5e3f5"
   },
   "outputs": [
    {
     "data": {
      "text/plain": [
       "Month               int64\n",
       "DayofMonth          int64\n",
       "DayOfWeek           int64\n",
       "UniqueCarrier      object\n",
       "CRSElapsedTime    float64\n",
       "AirTime           float64\n",
       "ArrDelay          float64\n",
       "Dest               object\n",
       "Distance            int64\n",
       "TaxiIn            float64\n",
       "TaxiOut           float64\n",
       "PotD                int64\n",
       "Delay               int64\n",
       "dtype: object"
      ]
     },
     "execution_count": 9,
     "metadata": {},
     "output_type": "execute_result"
    }
   ],
   "source": [
    "df.dtypes"
   ]
  },
  {
   "cell_type": "code",
   "execution_count": 10,
   "metadata": {
    "colab": {
     "base_uri": "https://localhost:8080/",
     "height": 204
    },
    "colab_type": "code",
    "id": "aW8e-5kiCb5X",
    "outputId": "063929a5-c0a5-43e6-b6ac-bdef90baaa98"
   },
   "outputs": [
    {
     "data": {
      "text/html": [
       "<div>\n",
       "<style scoped>\n",
       "    .dataframe tbody tr th:only-of-type {\n",
       "        vertical-align: middle;\n",
       "    }\n",
       "\n",
       "    .dataframe tbody tr th {\n",
       "        vertical-align: top;\n",
       "    }\n",
       "\n",
       "    .dataframe thead th {\n",
       "        text-align: right;\n",
       "    }\n",
       "</style>\n",
       "<table border=\"1\" class=\"dataframe\">\n",
       "  <thead>\n",
       "    <tr style=\"text-align: right;\">\n",
       "      <th></th>\n",
       "      <th>Month</th>\n",
       "      <th>DayofMonth</th>\n",
       "      <th>DayOfWeek</th>\n",
       "      <th>UniqueCarrier</th>\n",
       "      <th>CRSElapsedTime</th>\n",
       "      <th>AirTime</th>\n",
       "      <th>ArrDelay</th>\n",
       "      <th>Dest</th>\n",
       "      <th>Distance</th>\n",
       "      <th>TaxiIn</th>\n",
       "      <th>TaxiOut</th>\n",
       "      <th>PotD</th>\n",
       "      <th>Delay</th>\n",
       "    </tr>\n",
       "  </thead>\n",
       "  <tbody>\n",
       "    <tr>\n",
       "      <th>6744985</th>\n",
       "      <td>12</td>\n",
       "      <td>20</td>\n",
       "      <td>6</td>\n",
       "      <td>DL</td>\n",
       "      <td>254.0</td>\n",
       "      <td>236.0</td>\n",
       "      <td>7.0</td>\n",
       "      <td>ATL</td>\n",
       "      <td>1946</td>\n",
       "      <td>6.0</td>\n",
       "      <td>19.0</td>\n",
       "      <td>2</td>\n",
       "      <td>0</td>\n",
       "    </tr>\n",
       "    <tr>\n",
       "      <th>2109876</th>\n",
       "      <td>4</td>\n",
       "      <td>24</td>\n",
       "      <td>4</td>\n",
       "      <td>EV</td>\n",
       "      <td>150.0</td>\n",
       "      <td>107.0</td>\n",
       "      <td>92.0</td>\n",
       "      <td>ATL</td>\n",
       "      <td>780</td>\n",
       "      <td>13.0</td>\n",
       "      <td>23.0</td>\n",
       "      <td>3</td>\n",
       "      <td>1</td>\n",
       "    </tr>\n",
       "    <tr>\n",
       "      <th>6737439</th>\n",
       "      <td>12</td>\n",
       "      <td>14</td>\n",
       "      <td>7</td>\n",
       "      <td>DL</td>\n",
       "      <td>334.0</td>\n",
       "      <td>286.0</td>\n",
       "      <td>-22.0</td>\n",
       "      <td>JFK</td>\n",
       "      <td>2586</td>\n",
       "      <td>13.0</td>\n",
       "      <td>18.0</td>\n",
       "      <td>2</td>\n",
       "      <td>0</td>\n",
       "    </tr>\n",
       "    <tr>\n",
       "      <th>5082679</th>\n",
       "      <td>9</td>\n",
       "      <td>9</td>\n",
       "      <td>2</td>\n",
       "      <td>US</td>\n",
       "      <td>174.0</td>\n",
       "      <td>153.0</td>\n",
       "      <td>9.0</td>\n",
       "      <td>PHX</td>\n",
       "      <td>1044</td>\n",
       "      <td>8.0</td>\n",
       "      <td>28.0</td>\n",
       "      <td>3</td>\n",
       "      <td>0</td>\n",
       "    </tr>\n",
       "    <tr>\n",
       "      <th>6701093</th>\n",
       "      <td>12</td>\n",
       "      <td>7</td>\n",
       "      <td>7</td>\n",
       "      <td>US</td>\n",
       "      <td>126.0</td>\n",
       "      <td>102.0</td>\n",
       "      <td>-12.0</td>\n",
       "      <td>JAX</td>\n",
       "      <td>634</td>\n",
       "      <td>4.0</td>\n",
       "      <td>15.0</td>\n",
       "      <td>1</td>\n",
       "      <td>0</td>\n",
       "    </tr>\n",
       "  </tbody>\n",
       "</table>\n",
       "</div>"
      ],
      "text/plain": [
       "         Month  DayofMonth  DayOfWeek UniqueCarrier  CRSElapsedTime  AirTime  \\\n",
       "6744985     12          20          6            DL           254.0    236.0   \n",
       "2109876      4          24          4            EV           150.0    107.0   \n",
       "6737439     12          14          7            DL           334.0    286.0   \n",
       "5082679      9           9          2            US           174.0    153.0   \n",
       "6701093     12           7          7            US           126.0    102.0   \n",
       "\n",
       "         ArrDelay Dest  Distance  TaxiIn  TaxiOut  PotD  Delay  \n",
       "6744985       7.0  ATL      1946     6.0     19.0     2      0  \n",
       "2109876      92.0  ATL       780    13.0     23.0     3      1  \n",
       "6737439     -22.0  JFK      2586    13.0     18.0     2      0  \n",
       "5082679       9.0  PHX      1044     8.0     28.0     3      0  \n",
       "6701093     -12.0  JAX       634     4.0     15.0     1      0  "
      ]
     },
     "execution_count": 10,
     "metadata": {},
     "output_type": "execute_result"
    }
   ],
   "source": [
    "df.head()"
   ]
  },
  {
   "cell_type": "markdown",
   "metadata": {
    "colab_type": "text",
    "id": "eZHZZ74dCb5e"
   },
   "source": [
    "## Data analysis"
   ]
  },
  {
   "cell_type": "code",
   "execution_count": 11,
   "metadata": {
    "colab": {
     "base_uri": "https://localhost:8080/",
     "height": 297
    },
    "colab_type": "code",
    "id": "QhySIYE0Cb5f",
    "outputId": "6c075fb2-6c65-400d-c2ee-b99ffbd0dbc8"
   },
   "outputs": [
    {
     "data": {
      "text/html": [
       "<div>\n",
       "<style scoped>\n",
       "    .dataframe tbody tr th:only-of-type {\n",
       "        vertical-align: middle;\n",
       "    }\n",
       "\n",
       "    .dataframe tbody tr th {\n",
       "        vertical-align: top;\n",
       "    }\n",
       "\n",
       "    .dataframe thead th {\n",
       "        text-align: right;\n",
       "    }\n",
       "</style>\n",
       "<table border=\"1\" class=\"dataframe\">\n",
       "  <thead>\n",
       "    <tr style=\"text-align: right;\">\n",
       "      <th></th>\n",
       "      <th>Month</th>\n",
       "      <th>DayofMonth</th>\n",
       "      <th>DayOfWeek</th>\n",
       "      <th>CRSElapsedTime</th>\n",
       "      <th>AirTime</th>\n",
       "      <th>ArrDelay</th>\n",
       "      <th>Distance</th>\n",
       "      <th>TaxiIn</th>\n",
       "      <th>TaxiOut</th>\n",
       "      <th>PotD</th>\n",
       "      <th>Delay</th>\n",
       "    </tr>\n",
       "  </thead>\n",
       "  <tbody>\n",
       "    <tr>\n",
       "      <th>count</th>\n",
       "      <td>1.713645e+06</td>\n",
       "      <td>1.713645e+06</td>\n",
       "      <td>1.713645e+06</td>\n",
       "      <td>1.713645e+06</td>\n",
       "      <td>1.713645e+06</td>\n",
       "      <td>1.713645e+06</td>\n",
       "      <td>1.713645e+06</td>\n",
       "      <td>1.713645e+06</td>\n",
       "      <td>1.713645e+06</td>\n",
       "      <td>1.713645e+06</td>\n",
       "      <td>1.713645e+06</td>\n",
       "    </tr>\n",
       "    <tr>\n",
       "      <th>mean</th>\n",
       "      <td>6.389404e+00</td>\n",
       "      <td>1.573814e+01</td>\n",
       "      <td>3.924368e+00</td>\n",
       "      <td>1.290490e+02</td>\n",
       "      <td>1.039885e+02</td>\n",
       "      <td>8.151213e+00</td>\n",
       "      <td>7.285179e+02</td>\n",
       "      <td>6.860342e+00</td>\n",
       "      <td>1.643610e+01</td>\n",
       "      <td>2.243301e+00</td>\n",
       "      <td>1.312979e-01</td>\n",
       "    </tr>\n",
       "    <tr>\n",
       "      <th>std</th>\n",
       "      <td>3.398343e+00</td>\n",
       "      <td>8.799558e+00</td>\n",
       "      <td>1.988695e+00</td>\n",
       "      <td>6.953425e+01</td>\n",
       "      <td>6.743185e+01</td>\n",
       "      <td>3.850170e+01</td>\n",
       "      <td>5.631492e+02</td>\n",
       "      <td>4.917721e+00</td>\n",
       "      <td>1.129944e+01</td>\n",
       "      <td>1.019046e+00</td>\n",
       "      <td>3.377260e-01</td>\n",
       "    </tr>\n",
       "    <tr>\n",
       "      <th>min</th>\n",
       "      <td>1.000000e+00</td>\n",
       "      <td>1.000000e+00</td>\n",
       "      <td>1.000000e+00</td>\n",
       "      <td>-1.410000e+02</td>\n",
       "      <td>0.000000e+00</td>\n",
       "      <td>-9.100000e+01</td>\n",
       "      <td>3.100000e+01</td>\n",
       "      <td>0.000000e+00</td>\n",
       "      <td>0.000000e+00</td>\n",
       "      <td>1.000000e+00</td>\n",
       "      <td>0.000000e+00</td>\n",
       "    </tr>\n",
       "    <tr>\n",
       "      <th>25%</th>\n",
       "      <td>3.000000e+00</td>\n",
       "      <td>8.000000e+00</td>\n",
       "      <td>2.000000e+00</td>\n",
       "      <td>8.000000e+01</td>\n",
       "      <td>5.500000e+01</td>\n",
       "      <td>-1.000000e+01</td>\n",
       "      <td>3.260000e+02</td>\n",
       "      <td>4.000000e+00</td>\n",
       "      <td>1.000000e+01</td>\n",
       "      <td>1.000000e+00</td>\n",
       "      <td>0.000000e+00</td>\n",
       "    </tr>\n",
       "    <tr>\n",
       "      <th>50%</th>\n",
       "      <td>6.000000e+00</td>\n",
       "      <td>1.600000e+01</td>\n",
       "      <td>4.000000e+00</td>\n",
       "      <td>1.110000e+02</td>\n",
       "      <td>8.600000e+01</td>\n",
       "      <td>-2.000000e+00</td>\n",
       "      <td>5.810000e+02</td>\n",
       "      <td>6.000000e+00</td>\n",
       "      <td>1.400000e+01</td>\n",
       "      <td>2.000000e+00</td>\n",
       "      <td>0.000000e+00</td>\n",
       "    </tr>\n",
       "    <tr>\n",
       "      <th>75%</th>\n",
       "      <td>9.000000e+00</td>\n",
       "      <td>2.300000e+01</td>\n",
       "      <td>6.000000e+00</td>\n",
       "      <td>1.590000e+02</td>\n",
       "      <td>1.320000e+02</td>\n",
       "      <td>1.200000e+01</td>\n",
       "      <td>9.540000e+02</td>\n",
       "      <td>8.000000e+00</td>\n",
       "      <td>1.900000e+01</td>\n",
       "      <td>3.000000e+00</td>\n",
       "      <td>0.000000e+00</td>\n",
       "    </tr>\n",
       "    <tr>\n",
       "      <th>max</th>\n",
       "      <td>1.200000e+01</td>\n",
       "      <td>3.100000e+01</td>\n",
       "      <td>7.000000e+00</td>\n",
       "      <td>6.600000e+02</td>\n",
       "      <td>8.230000e+02</td>\n",
       "      <td>2.461000e+03</td>\n",
       "      <td>4.962000e+03</td>\n",
       "      <td>2.070000e+02</td>\n",
       "      <td>4.220000e+02</td>\n",
       "      <td>4.000000e+00</td>\n",
       "      <td>1.000000e+00</td>\n",
       "    </tr>\n",
       "  </tbody>\n",
       "</table>\n",
       "</div>"
      ],
      "text/plain": [
       "              Month    DayofMonth     DayOfWeek  CRSElapsedTime       AirTime  \\\n",
       "count  1.713645e+06  1.713645e+06  1.713645e+06    1.713645e+06  1.713645e+06   \n",
       "mean   6.389404e+00  1.573814e+01  3.924368e+00    1.290490e+02  1.039885e+02   \n",
       "std    3.398343e+00  8.799558e+00  1.988695e+00    6.953425e+01  6.743185e+01   \n",
       "min    1.000000e+00  1.000000e+00  1.000000e+00   -1.410000e+02  0.000000e+00   \n",
       "25%    3.000000e+00  8.000000e+00  2.000000e+00    8.000000e+01  5.500000e+01   \n",
       "50%    6.000000e+00  1.600000e+01  4.000000e+00    1.110000e+02  8.600000e+01   \n",
       "75%    9.000000e+00  2.300000e+01  6.000000e+00    1.590000e+02  1.320000e+02   \n",
       "max    1.200000e+01  3.100000e+01  7.000000e+00    6.600000e+02  8.230000e+02   \n",
       "\n",
       "           ArrDelay      Distance        TaxiIn       TaxiOut          PotD  \\\n",
       "count  1.713645e+06  1.713645e+06  1.713645e+06  1.713645e+06  1.713645e+06   \n",
       "mean   8.151213e+00  7.285179e+02  6.860342e+00  1.643610e+01  2.243301e+00   \n",
       "std    3.850170e+01  5.631492e+02  4.917721e+00  1.129944e+01  1.019046e+00   \n",
       "min   -9.100000e+01  3.100000e+01  0.000000e+00  0.000000e+00  1.000000e+00   \n",
       "25%   -1.000000e+01  3.260000e+02  4.000000e+00  1.000000e+01  1.000000e+00   \n",
       "50%   -2.000000e+00  5.810000e+02  6.000000e+00  1.400000e+01  2.000000e+00   \n",
       "75%    1.200000e+01  9.540000e+02  8.000000e+00  1.900000e+01  3.000000e+00   \n",
       "max    2.461000e+03  4.962000e+03  2.070000e+02  4.220000e+02  4.000000e+00   \n",
       "\n",
       "              Delay  \n",
       "count  1.713645e+06  \n",
       "mean   1.312979e-01  \n",
       "std    3.377260e-01  \n",
       "min    0.000000e+00  \n",
       "25%    0.000000e+00  \n",
       "50%    0.000000e+00  \n",
       "75%    0.000000e+00  \n",
       "max    1.000000e+00  "
      ]
     },
     "execution_count": 11,
     "metadata": {},
     "output_type": "execute_result"
    }
   ],
   "source": [
    "#Check basic stats\n",
    "df.describe()"
   ]
  },
  {
   "cell_type": "code",
   "execution_count": 12,
   "metadata": {
    "colab": {
     "base_uri": "https://localhost:8080/",
     "height": 390
    },
    "colab_type": "code",
    "id": "FPJr_B0cCb5h",
    "outputId": "e3ed8b59-ffc0-47a4-d6df-8106b8ad675c"
   },
   "outputs": [
    {
     "data": {
      "text/html": [
       "<div>\n",
       "<style scoped>\n",
       "    .dataframe tbody tr th:only-of-type {\n",
       "        vertical-align: middle;\n",
       "    }\n",
       "\n",
       "    .dataframe tbody tr th {\n",
       "        vertical-align: top;\n",
       "    }\n",
       "\n",
       "    .dataframe thead th {\n",
       "        text-align: right;\n",
       "    }\n",
       "</style>\n",
       "<table border=\"1\" class=\"dataframe\">\n",
       "  <thead>\n",
       "    <tr style=\"text-align: right;\">\n",
       "      <th></th>\n",
       "      <th>Month</th>\n",
       "      <th>DayofMonth</th>\n",
       "      <th>DayOfWeek</th>\n",
       "      <th>CRSElapsedTime</th>\n",
       "      <th>AirTime</th>\n",
       "      <th>ArrDelay</th>\n",
       "      <th>Distance</th>\n",
       "      <th>TaxiIn</th>\n",
       "      <th>TaxiOut</th>\n",
       "      <th>PotD</th>\n",
       "      <th>Delay</th>\n",
       "    </tr>\n",
       "  </thead>\n",
       "  <tbody>\n",
       "    <tr>\n",
       "      <th>Month</th>\n",
       "      <td>1.000000</td>\n",
       "      <td>0.000254</td>\n",
       "      <td>-0.004606</td>\n",
       "      <td>-0.007190</td>\n",
       "      <td>-0.013287</td>\n",
       "      <td>-0.042270</td>\n",
       "      <td>-0.006517</td>\n",
       "      <td>0.007094</td>\n",
       "      <td>-0.017300</td>\n",
       "      <td>-0.006951</td>\n",
       "      <td>-0.036036</td>\n",
       "    </tr>\n",
       "    <tr>\n",
       "      <th>DayofMonth</th>\n",
       "      <td>0.000254</td>\n",
       "      <td>1.000000</td>\n",
       "      <td>0.005324</td>\n",
       "      <td>0.000734</td>\n",
       "      <td>0.000226</td>\n",
       "      <td>0.002507</td>\n",
       "      <td>0.000575</td>\n",
       "      <td>-0.002764</td>\n",
       "      <td>0.000354</td>\n",
       "      <td>-0.001057</td>\n",
       "      <td>0.000431</td>\n",
       "    </tr>\n",
       "    <tr>\n",
       "      <th>DayOfWeek</th>\n",
       "      <td>-0.004606</td>\n",
       "      <td>0.005324</td>\n",
       "      <td>1.000000</td>\n",
       "      <td>0.015259</td>\n",
       "      <td>0.014178</td>\n",
       "      <td>0.010682</td>\n",
       "      <td>0.016987</td>\n",
       "      <td>0.010395</td>\n",
       "      <td>-0.006450</td>\n",
       "      <td>0.002943</td>\n",
       "      <td>0.010763</td>\n",
       "    </tr>\n",
       "    <tr>\n",
       "      <th>CRSElapsedTime</th>\n",
       "      <td>-0.007190</td>\n",
       "      <td>0.000734</td>\n",
       "      <td>0.015259</td>\n",
       "      <td>1.000000</td>\n",
       "      <td>0.988207</td>\n",
       "      <td>0.012352</td>\n",
       "      <td>0.983211</td>\n",
       "      <td>0.104445</td>\n",
       "      <td>0.143191</td>\n",
       "      <td>0.090953</td>\n",
       "      <td>0.030587</td>\n",
       "    </tr>\n",
       "    <tr>\n",
       "      <th>AirTime</th>\n",
       "      <td>-0.013287</td>\n",
       "      <td>0.000226</td>\n",
       "      <td>0.014178</td>\n",
       "      <td>0.988207</td>\n",
       "      <td>1.000000</td>\n",
       "      <td>0.034368</td>\n",
       "      <td>0.982949</td>\n",
       "      <td>0.085251</td>\n",
       "      <td>0.108254</td>\n",
       "      <td>0.077875</td>\n",
       "      <td>0.040540</td>\n",
       "    </tr>\n",
       "    <tr>\n",
       "      <th>ArrDelay</th>\n",
       "      <td>-0.042270</td>\n",
       "      <td>0.002507</td>\n",
       "      <td>0.010682</td>\n",
       "      <td>0.012352</td>\n",
       "      <td>0.034368</td>\n",
       "      <td>1.000000</td>\n",
       "      <td>0.006273</td>\n",
       "      <td>0.123734</td>\n",
       "      <td>0.321629</td>\n",
       "      <td>0.115298</td>\n",
       "      <td>0.739362</td>\n",
       "    </tr>\n",
       "    <tr>\n",
       "      <th>Distance</th>\n",
       "      <td>-0.006517</td>\n",
       "      <td>0.000575</td>\n",
       "      <td>0.016987</td>\n",
       "      <td>0.983211</td>\n",
       "      <td>0.982949</td>\n",
       "      <td>0.006273</td>\n",
       "      <td>1.000000</td>\n",
       "      <td>0.077286</td>\n",
       "      <td>0.091296</td>\n",
       "      <td>0.090831</td>\n",
       "      <td>0.018502</td>\n",
       "    </tr>\n",
       "    <tr>\n",
       "      <th>TaxiIn</th>\n",
       "      <td>0.007094</td>\n",
       "      <td>-0.002764</td>\n",
       "      <td>0.010395</td>\n",
       "      <td>0.104445</td>\n",
       "      <td>0.085251</td>\n",
       "      <td>0.123734</td>\n",
       "      <td>0.077286</td>\n",
       "      <td>1.000000</td>\n",
       "      <td>0.040645</td>\n",
       "      <td>-0.019767</td>\n",
       "      <td>0.089186</td>\n",
       "    </tr>\n",
       "    <tr>\n",
       "      <th>TaxiOut</th>\n",
       "      <td>-0.017300</td>\n",
       "      <td>0.000354</td>\n",
       "      <td>-0.006450</td>\n",
       "      <td>0.143191</td>\n",
       "      <td>0.108254</td>\n",
       "      <td>0.321629</td>\n",
       "      <td>0.091296</td>\n",
       "      <td>0.040645</td>\n",
       "      <td>1.000000</td>\n",
       "      <td>0.057671</td>\n",
       "      <td>0.290987</td>\n",
       "    </tr>\n",
       "    <tr>\n",
       "      <th>PotD</th>\n",
       "      <td>-0.006951</td>\n",
       "      <td>-0.001057</td>\n",
       "      <td>0.002943</td>\n",
       "      <td>0.090953</td>\n",
       "      <td>0.077875</td>\n",
       "      <td>0.115298</td>\n",
       "      <td>0.090831</td>\n",
       "      <td>-0.019767</td>\n",
       "      <td>0.057671</td>\n",
       "      <td>1.000000</td>\n",
       "      <td>0.134123</td>\n",
       "    </tr>\n",
       "    <tr>\n",
       "      <th>Delay</th>\n",
       "      <td>-0.036036</td>\n",
       "      <td>0.000431</td>\n",
       "      <td>0.010763</td>\n",
       "      <td>0.030587</td>\n",
       "      <td>0.040540</td>\n",
       "      <td>0.739362</td>\n",
       "      <td>0.018502</td>\n",
       "      <td>0.089186</td>\n",
       "      <td>0.290987</td>\n",
       "      <td>0.134123</td>\n",
       "      <td>1.000000</td>\n",
       "    </tr>\n",
       "  </tbody>\n",
       "</table>\n",
       "</div>"
      ],
      "text/plain": [
       "                   Month  DayofMonth  DayOfWeek  CRSElapsedTime   AirTime  \\\n",
       "Month           1.000000    0.000254  -0.004606       -0.007190 -0.013287   \n",
       "DayofMonth      0.000254    1.000000   0.005324        0.000734  0.000226   \n",
       "DayOfWeek      -0.004606    0.005324   1.000000        0.015259  0.014178   \n",
       "CRSElapsedTime -0.007190    0.000734   0.015259        1.000000  0.988207   \n",
       "AirTime        -0.013287    0.000226   0.014178        0.988207  1.000000   \n",
       "ArrDelay       -0.042270    0.002507   0.010682        0.012352  0.034368   \n",
       "Distance       -0.006517    0.000575   0.016987        0.983211  0.982949   \n",
       "TaxiIn          0.007094   -0.002764   0.010395        0.104445  0.085251   \n",
       "TaxiOut        -0.017300    0.000354  -0.006450        0.143191  0.108254   \n",
       "PotD           -0.006951   -0.001057   0.002943        0.090953  0.077875   \n",
       "Delay          -0.036036    0.000431   0.010763        0.030587  0.040540   \n",
       "\n",
       "                ArrDelay  Distance    TaxiIn   TaxiOut      PotD     Delay  \n",
       "Month          -0.042270 -0.006517  0.007094 -0.017300 -0.006951 -0.036036  \n",
       "DayofMonth      0.002507  0.000575 -0.002764  0.000354 -0.001057  0.000431  \n",
       "DayOfWeek       0.010682  0.016987  0.010395 -0.006450  0.002943  0.010763  \n",
       "CRSElapsedTime  0.012352  0.983211  0.104445  0.143191  0.090953  0.030587  \n",
       "AirTime         0.034368  0.982949  0.085251  0.108254  0.077875  0.040540  \n",
       "ArrDelay        1.000000  0.006273  0.123734  0.321629  0.115298  0.739362  \n",
       "Distance        0.006273  1.000000  0.077286  0.091296  0.090831  0.018502  \n",
       "TaxiIn          0.123734  0.077286  1.000000  0.040645 -0.019767  0.089186  \n",
       "TaxiOut         0.321629  0.091296  0.040645  1.000000  0.057671  0.290987  \n",
       "PotD            0.115298  0.090831 -0.019767  0.057671  1.000000  0.134123  \n",
       "Delay           0.739362  0.018502  0.089186  0.290987  0.134123  1.000000  "
      ]
     },
     "execution_count": 12,
     "metadata": {},
     "output_type": "execute_result"
    }
   ],
   "source": [
    "#Check correlation\n",
    "df.corr()"
   ]
  },
  {
   "cell_type": "code",
   "execution_count": 13,
   "metadata": {
    "colab": {
     "base_uri": "https://localhost:8080/",
     "height": 700
    },
    "colab_type": "code",
    "id": "hNIrsbELCb5k",
    "outputId": "4113e7c0-9ec5-4e63-89da-e4bf720d7923"
   },
   "outputs": [
    {
     "data": {
      "text/html": [
       "<div>\n",
       "<style scoped>\n",
       "    .dataframe tbody tr th:only-of-type {\n",
       "        vertical-align: middle;\n",
       "    }\n",
       "\n",
       "    .dataframe tbody tr th {\n",
       "        vertical-align: top;\n",
       "    }\n",
       "\n",
       "    .dataframe thead th {\n",
       "        text-align: right;\n",
       "    }\n",
       "</style>\n",
       "<table border=\"1\" class=\"dataframe\">\n",
       "  <thead>\n",
       "    <tr style=\"text-align: right;\">\n",
       "      <th></th>\n",
       "      <th>Month</th>\n",
       "      <th>DayofMonth</th>\n",
       "      <th>DayOfWeek</th>\n",
       "      <th>CRSElapsedTime</th>\n",
       "      <th>AirTime</th>\n",
       "      <th>ArrDelay</th>\n",
       "      <th>Distance</th>\n",
       "      <th>TaxiIn</th>\n",
       "      <th>TaxiOut</th>\n",
       "      <th>PotD</th>\n",
       "      <th>Delay</th>\n",
       "    </tr>\n",
       "    <tr>\n",
       "      <th>UniqueCarrier</th>\n",
       "      <th></th>\n",
       "      <th></th>\n",
       "      <th></th>\n",
       "      <th></th>\n",
       "      <th></th>\n",
       "      <th></th>\n",
       "      <th></th>\n",
       "      <th></th>\n",
       "      <th></th>\n",
       "      <th></th>\n",
       "      <th></th>\n",
       "    </tr>\n",
       "  </thead>\n",
       "  <tbody>\n",
       "    <tr>\n",
       "      <th>9E</th>\n",
       "      <td>6.508830</td>\n",
       "      <td>15.710656</td>\n",
       "      <td>3.917730</td>\n",
       "      <td>100.307617</td>\n",
       "      <td>71.088948</td>\n",
       "      <td>4.083779</td>\n",
       "      <td>450.503237</td>\n",
       "      <td>8.524967</td>\n",
       "      <td>18.162089</td>\n",
       "      <td>2.187606</td>\n",
       "      <td>0.106137</td>\n",
       "    </tr>\n",
       "    <tr>\n",
       "      <th>AA</th>\n",
       "      <td>6.448441</td>\n",
       "      <td>15.749048</td>\n",
       "      <td>3.955723</td>\n",
       "      <td>167.580458</td>\n",
       "      <td>141.825210</td>\n",
       "      <td>12.488876</td>\n",
       "      <td>1056.415599</td>\n",
       "      <td>8.239913</td>\n",
       "      <td>16.854218</td>\n",
       "      <td>2.323074</td>\n",
       "      <td>0.170648</td>\n",
       "    </tr>\n",
       "    <tr>\n",
       "      <th>AQ</th>\n",
       "      <td>1.472370</td>\n",
       "      <td>15.199256</td>\n",
       "      <td>3.921360</td>\n",
       "      <td>74.504251</td>\n",
       "      <td>61.353879</td>\n",
       "      <td>-3.032944</td>\n",
       "      <td>419.188629</td>\n",
       "      <td>3.826249</td>\n",
       "      <td>8.139214</td>\n",
       "      <td>2.171626</td>\n",
       "      <td>0.019660</td>\n",
       "    </tr>\n",
       "    <tr>\n",
       "      <th>AS</th>\n",
       "      <td>6.394660</td>\n",
       "      <td>15.695501</td>\n",
       "      <td>3.943370</td>\n",
       "      <td>155.158461</td>\n",
       "      <td>131.920864</td>\n",
       "      <td>4.660357</td>\n",
       "      <td>961.840383</td>\n",
       "      <td>5.790368</td>\n",
       "      <td>15.563903</td>\n",
       "      <td>2.338864</td>\n",
       "      <td>0.106940</td>\n",
       "    </tr>\n",
       "    <tr>\n",
       "      <th>B6</th>\n",
       "      <td>6.426109</td>\n",
       "      <td>15.839403</td>\n",
       "      <td>3.994177</td>\n",
       "      <td>179.447334</td>\n",
       "      <td>149.851821</td>\n",
       "      <td>11.218512</td>\n",
       "      <td>1097.463988</td>\n",
       "      <td>6.260837</td>\n",
       "      <td>21.671272</td>\n",
       "      <td>2.349118</td>\n",
       "      <td>0.168757</td>\n",
       "    </tr>\n",
       "    <tr>\n",
       "      <th>CO</th>\n",
       "      <td>6.304511</td>\n",
       "      <td>15.794810</td>\n",
       "      <td>3.912320</td>\n",
       "      <td>186.782570</td>\n",
       "      <td>156.169737</td>\n",
       "      <td>10.728451</td>\n",
       "      <td>1158.209874</td>\n",
       "      <td>7.955153</td>\n",
       "      <td>20.449836</td>\n",
       "      <td>2.306580</td>\n",
       "      <td>0.151561</td>\n",
       "    </tr>\n",
       "    <tr>\n",
       "      <th>DL</th>\n",
       "      <td>6.499811</td>\n",
       "      <td>15.736328</td>\n",
       "      <td>3.913950</td>\n",
       "      <td>156.456777</td>\n",
       "      <td>127.085114</td>\n",
       "      <td>7.754098</td>\n",
       "      <td>925.971368</td>\n",
       "      <td>8.654475</td>\n",
       "      <td>20.579818</td>\n",
       "      <td>2.252774</td>\n",
       "      <td>0.117313</td>\n",
       "    </tr>\n",
       "    <tr>\n",
       "      <th>EV</th>\n",
       "      <td>6.478889</td>\n",
       "      <td>15.738267</td>\n",
       "      <td>3.923364</td>\n",
       "      <td>95.694039</td>\n",
       "      <td>69.923059</td>\n",
       "      <td>10.200000</td>\n",
       "      <td>443.831186</td>\n",
       "      <td>7.329107</td>\n",
       "      <td>16.680881</td>\n",
       "      <td>2.104173</td>\n",
       "      <td>0.148822</td>\n",
       "    </tr>\n",
       "    <tr>\n",
       "      <th>F9</th>\n",
       "      <td>6.470117</td>\n",
       "      <td>15.721733</td>\n",
       "      <td>3.948250</td>\n",
       "      <td>143.297532</td>\n",
       "      <td>121.608705</td>\n",
       "      <td>6.026987</td>\n",
       "      <td>879.143079</td>\n",
       "      <td>7.373374</td>\n",
       "      <td>14.527155</td>\n",
       "      <td>2.334676</td>\n",
       "      <td>0.090699</td>\n",
       "    </tr>\n",
       "    <tr>\n",
       "      <th>FL</th>\n",
       "      <td>6.444997</td>\n",
       "      <td>15.770300</td>\n",
       "      <td>4.000806</td>\n",
       "      <td>126.873903</td>\n",
       "      <td>103.952594</td>\n",
       "      <td>9.001318</td>\n",
       "      <td>726.757774</td>\n",
       "      <td>7.753248</td>\n",
       "      <td>15.008666</td>\n",
       "      <td>2.311273</td>\n",
       "      <td>0.128066</td>\n",
       "    </tr>\n",
       "    <tr>\n",
       "      <th>HA</th>\n",
       "      <td>6.806546</td>\n",
       "      <td>15.807129</td>\n",
       "      <td>4.022294</td>\n",
       "      <td>88.510693</td>\n",
       "      <td>74.302074</td>\n",
       "      <td>1.275891</td>\n",
       "      <td>555.955282</td>\n",
       "      <td>5.531173</td>\n",
       "      <td>9.603889</td>\n",
       "      <td>2.112638</td>\n",
       "      <td>0.038108</td>\n",
       "    </tr>\n",
       "    <tr>\n",
       "      <th>MQ</th>\n",
       "      <td>6.339946</td>\n",
       "      <td>15.757523</td>\n",
       "      <td>3.925231</td>\n",
       "      <td>90.793066</td>\n",
       "      <td>67.046753</td>\n",
       "      <td>9.891499</td>\n",
       "      <td>411.195775</td>\n",
       "      <td>6.910634</td>\n",
       "      <td>16.078325</td>\n",
       "      <td>2.094353</td>\n",
       "      <td>0.152079</td>\n",
       "    </tr>\n",
       "    <tr>\n",
       "      <th>NW</th>\n",
       "      <td>6.232920</td>\n",
       "      <td>15.676654</td>\n",
       "      <td>3.929375</td>\n",
       "      <td>139.289436</td>\n",
       "      <td>112.750306</td>\n",
       "      <td>7.313020</td>\n",
       "      <td>805.067284</td>\n",
       "      <td>8.288761</td>\n",
       "      <td>19.170107</td>\n",
       "      <td>2.268040</td>\n",
       "      <td>0.118852</td>\n",
       "    </tr>\n",
       "    <tr>\n",
       "      <th>OH</th>\n",
       "      <td>6.151319</td>\n",
       "      <td>15.706315</td>\n",
       "      <td>3.861408</td>\n",
       "      <td>109.167023</td>\n",
       "      <td>80.386212</td>\n",
       "      <td>11.990229</td>\n",
       "      <td>490.159265</td>\n",
       "      <td>7.259509</td>\n",
       "      <td>21.784983</td>\n",
       "      <td>2.211851</td>\n",
       "      <td>0.166772</td>\n",
       "    </tr>\n",
       "    <tr>\n",
       "      <th>OO</th>\n",
       "      <td>6.389578</td>\n",
       "      <td>15.756780</td>\n",
       "      <td>3.921283</td>\n",
       "      <td>92.028543</td>\n",
       "      <td>69.525770</td>\n",
       "      <td>6.700099</td>\n",
       "      <td>430.907417</td>\n",
       "      <td>6.132968</td>\n",
       "      <td>15.552650</td>\n",
       "      <td>2.166203</td>\n",
       "      <td>0.116079</td>\n",
       "    </tr>\n",
       "    <tr>\n",
       "      <th>UA</th>\n",
       "      <td>6.351672</td>\n",
       "      <td>15.723094</td>\n",
       "      <td>3.955356</td>\n",
       "      <td>172.244549</td>\n",
       "      <td>144.935725</td>\n",
       "      <td>11.170404</td>\n",
       "      <td>1082.875782</td>\n",
       "      <td>6.771925</td>\n",
       "      <td>17.741639</td>\n",
       "      <td>2.296875</td>\n",
       "      <td>0.167174</td>\n",
       "    </tr>\n",
       "    <tr>\n",
       "      <th>US</th>\n",
       "      <td>6.423278</td>\n",
       "      <td>15.712198</td>\n",
       "      <td>3.903811</td>\n",
       "      <td>147.843835</td>\n",
       "      <td>120.175691</td>\n",
       "      <td>2.887132</td>\n",
       "      <td>860.776417</td>\n",
       "      <td>6.435281</td>\n",
       "      <td>18.400283</td>\n",
       "      <td>2.313366</td>\n",
       "      <td>0.099604</td>\n",
       "    </tr>\n",
       "    <tr>\n",
       "      <th>WN</th>\n",
       "      <td>6.481847</td>\n",
       "      <td>15.724949</td>\n",
       "      <td>3.892681</td>\n",
       "      <td>112.228300</td>\n",
       "      <td>91.670575</td>\n",
       "      <td>5.138629</td>\n",
       "      <td>635.182547</td>\n",
       "      <td>4.807173</td>\n",
       "      <td>10.594596</td>\n",
       "      <td>2.262099</td>\n",
       "      <td>0.103812</td>\n",
       "    </tr>\n",
       "    <tr>\n",
       "      <th>XE</th>\n",
       "      <td>6.007323</td>\n",
       "      <td>15.736774</td>\n",
       "      <td>3.879471</td>\n",
       "      <td>114.481279</td>\n",
       "      <td>89.392631</td>\n",
       "      <td>10.914060</td>\n",
       "      <td>588.975134</td>\n",
       "      <td>7.106224</td>\n",
       "      <td>17.408191</td>\n",
       "      <td>2.170007</td>\n",
       "      <td>0.153312</td>\n",
       "    </tr>\n",
       "    <tr>\n",
       "      <th>YV</th>\n",
       "      <td>6.473851</td>\n",
       "      <td>15.765608</td>\n",
       "      <td>3.959482</td>\n",
       "      <td>89.111861</td>\n",
       "      <td>64.703063</td>\n",
       "      <td>11.811241</td>\n",
       "      <td>394.946611</td>\n",
       "      <td>6.897263</td>\n",
       "      <td>17.360476</td>\n",
       "      <td>2.206891</td>\n",
       "      <td>0.154285</td>\n",
       "    </tr>\n",
       "  </tbody>\n",
       "</table>\n",
       "</div>"
      ],
      "text/plain": [
       "                  Month  DayofMonth  DayOfWeek  CRSElapsedTime     AirTime  \\\n",
       "UniqueCarrier                                                                \n",
       "9E             6.508830   15.710656   3.917730      100.307617   71.088948   \n",
       "AA             6.448441   15.749048   3.955723      167.580458  141.825210   \n",
       "AQ             1.472370   15.199256   3.921360       74.504251   61.353879   \n",
       "AS             6.394660   15.695501   3.943370      155.158461  131.920864   \n",
       "B6             6.426109   15.839403   3.994177      179.447334  149.851821   \n",
       "CO             6.304511   15.794810   3.912320      186.782570  156.169737   \n",
       "DL             6.499811   15.736328   3.913950      156.456777  127.085114   \n",
       "EV             6.478889   15.738267   3.923364       95.694039   69.923059   \n",
       "F9             6.470117   15.721733   3.948250      143.297532  121.608705   \n",
       "FL             6.444997   15.770300   4.000806      126.873903  103.952594   \n",
       "HA             6.806546   15.807129   4.022294       88.510693   74.302074   \n",
       "MQ             6.339946   15.757523   3.925231       90.793066   67.046753   \n",
       "NW             6.232920   15.676654   3.929375      139.289436  112.750306   \n",
       "OH             6.151319   15.706315   3.861408      109.167023   80.386212   \n",
       "OO             6.389578   15.756780   3.921283       92.028543   69.525770   \n",
       "UA             6.351672   15.723094   3.955356      172.244549  144.935725   \n",
       "US             6.423278   15.712198   3.903811      147.843835  120.175691   \n",
       "WN             6.481847   15.724949   3.892681      112.228300   91.670575   \n",
       "XE             6.007323   15.736774   3.879471      114.481279   89.392631   \n",
       "YV             6.473851   15.765608   3.959482       89.111861   64.703063   \n",
       "\n",
       "                ArrDelay     Distance    TaxiIn    TaxiOut      PotD     Delay  \n",
       "UniqueCarrier                                                                   \n",
       "9E              4.083779   450.503237  8.524967  18.162089  2.187606  0.106137  \n",
       "AA             12.488876  1056.415599  8.239913  16.854218  2.323074  0.170648  \n",
       "AQ             -3.032944   419.188629  3.826249   8.139214  2.171626  0.019660  \n",
       "AS              4.660357   961.840383  5.790368  15.563903  2.338864  0.106940  \n",
       "B6             11.218512  1097.463988  6.260837  21.671272  2.349118  0.168757  \n",
       "CO             10.728451  1158.209874  7.955153  20.449836  2.306580  0.151561  \n",
       "DL              7.754098   925.971368  8.654475  20.579818  2.252774  0.117313  \n",
       "EV             10.200000   443.831186  7.329107  16.680881  2.104173  0.148822  \n",
       "F9              6.026987   879.143079  7.373374  14.527155  2.334676  0.090699  \n",
       "FL              9.001318   726.757774  7.753248  15.008666  2.311273  0.128066  \n",
       "HA              1.275891   555.955282  5.531173   9.603889  2.112638  0.038108  \n",
       "MQ              9.891499   411.195775  6.910634  16.078325  2.094353  0.152079  \n",
       "NW              7.313020   805.067284  8.288761  19.170107  2.268040  0.118852  \n",
       "OH             11.990229   490.159265  7.259509  21.784983  2.211851  0.166772  \n",
       "OO              6.700099   430.907417  6.132968  15.552650  2.166203  0.116079  \n",
       "UA             11.170404  1082.875782  6.771925  17.741639  2.296875  0.167174  \n",
       "US              2.887132   860.776417  6.435281  18.400283  2.313366  0.099604  \n",
       "WN              5.138629   635.182547  4.807173  10.594596  2.262099  0.103812  \n",
       "XE             10.914060   588.975134  7.106224  17.408191  2.170007  0.153312  \n",
       "YV             11.811241   394.946611  6.897263  17.360476  2.206891  0.154285  "
      ]
     },
     "execution_count": 13,
     "metadata": {},
     "output_type": "execute_result"
    }
   ],
   "source": [
    "# Groupby carrier\n",
    "df.groupby(['UniqueCarrier']).mean()"
   ]
  },
  {
   "cell_type": "code",
   "execution_count": 14,
   "metadata": {
    "colab": {
     "base_uri": "https://localhost:8080/",
     "height": 1000
    },
    "colab_type": "code",
    "id": "qFABJ3z5Cb5p",
    "outputId": "a63f2685-37e6-40ef-b924-d6199103db2e"
   },
   "outputs": [
    {
     "data": {
      "text/html": [
       "<div>\n",
       "<style scoped>\n",
       "    .dataframe tbody tr th:only-of-type {\n",
       "        vertical-align: middle;\n",
       "    }\n",
       "\n",
       "    .dataframe tbody tr th {\n",
       "        vertical-align: top;\n",
       "    }\n",
       "\n",
       "    .dataframe thead th {\n",
       "        text-align: right;\n",
       "    }\n",
       "</style>\n",
       "<table border=\"1\" class=\"dataframe\">\n",
       "  <thead>\n",
       "    <tr style=\"text-align: right;\">\n",
       "      <th></th>\n",
       "      <th>Month</th>\n",
       "      <th>DayofMonth</th>\n",
       "      <th>DayOfWeek</th>\n",
       "      <th>CRSElapsedTime</th>\n",
       "      <th>AirTime</th>\n",
       "      <th>ArrDelay</th>\n",
       "      <th>Distance</th>\n",
       "      <th>TaxiIn</th>\n",
       "      <th>TaxiOut</th>\n",
       "      <th>PotD</th>\n",
       "      <th>Delay</th>\n",
       "    </tr>\n",
       "    <tr>\n",
       "      <th>Dest</th>\n",
       "      <th></th>\n",
       "      <th></th>\n",
       "      <th></th>\n",
       "      <th></th>\n",
       "      <th></th>\n",
       "      <th></th>\n",
       "      <th></th>\n",
       "      <th></th>\n",
       "      <th></th>\n",
       "      <th></th>\n",
       "      <th></th>\n",
       "    </tr>\n",
       "  </thead>\n",
       "  <tbody>\n",
       "    <tr>\n",
       "      <th>ABE</th>\n",
       "      <td>6.552677</td>\n",
       "      <td>15.825561</td>\n",
       "      <td>3.807427</td>\n",
       "      <td>100.449050</td>\n",
       "      <td>73.376511</td>\n",
       "      <td>9.601036</td>\n",
       "      <td>532.219344</td>\n",
       "      <td>4.576857</td>\n",
       "      <td>20.109672</td>\n",
       "      <td>2.772021</td>\n",
       "      <td>0.158895</td>\n",
       "    </tr>\n",
       "    <tr>\n",
       "      <th>ABI</th>\n",
       "      <td>6.544000</td>\n",
       "      <td>15.619200</td>\n",
       "      <td>4.038400</td>\n",
       "      <td>53.196800</td>\n",
       "      <td>33.345600</td>\n",
       "      <td>9.788800</td>\n",
       "      <td>158.000000</td>\n",
       "      <td>3.641600</td>\n",
       "      <td>15.947200</td>\n",
       "      <td>2.710400</td>\n",
       "      <td>0.140800</td>\n",
       "    </tr>\n",
       "    <tr>\n",
       "      <th>ABQ</th>\n",
       "      <td>6.392839</td>\n",
       "      <td>15.731231</td>\n",
       "      <td>3.922047</td>\n",
       "      <td>114.194089</td>\n",
       "      <td>92.288307</td>\n",
       "      <td>5.851830</td>\n",
       "      <td>652.511455</td>\n",
       "      <td>5.282257</td>\n",
       "      <td>13.478727</td>\n",
       "      <td>2.271546</td>\n",
       "      <td>0.108103</td>\n",
       "    </tr>\n",
       "    <tr>\n",
       "      <th>ABY</th>\n",
       "      <td>6.254545</td>\n",
       "      <td>16.083636</td>\n",
       "      <td>3.869091</td>\n",
       "      <td>54.192727</td>\n",
       "      <td>27.545455</td>\n",
       "      <td>8.207273</td>\n",
       "      <td>146.000000</td>\n",
       "      <td>3.480000</td>\n",
       "      <td>23.112727</td>\n",
       "      <td>2.560000</td>\n",
       "      <td>0.141818</td>\n",
       "    </tr>\n",
       "    <tr>\n",
       "      <th>ACK</th>\n",
       "      <td>7.138614</td>\n",
       "      <td>16.504950</td>\n",
       "      <td>4.128713</td>\n",
       "      <td>86.524752</td>\n",
       "      <td>45.237624</td>\n",
       "      <td>18.267327</td>\n",
       "      <td>207.148515</td>\n",
       "      <td>5.762376</td>\n",
       "      <td>36.277228</td>\n",
       "      <td>2.237624</td>\n",
       "      <td>0.287129</td>\n",
       "    </tr>\n",
       "    <tr>\n",
       "      <th>ACT</th>\n",
       "      <td>5.931416</td>\n",
       "      <td>15.254425</td>\n",
       "      <td>3.853982</td>\n",
       "      <td>45.081858</td>\n",
       "      <td>23.672566</td>\n",
       "      <td>5.486726</td>\n",
       "      <td>89.000000</td>\n",
       "      <td>4.898230</td>\n",
       "      <td>15.550885</td>\n",
       "      <td>2.201327</td>\n",
       "      <td>0.112832</td>\n",
       "    </tr>\n",
       "    <tr>\n",
       "      <th>ACV</th>\n",
       "      <td>6.625138</td>\n",
       "      <td>15.972437</td>\n",
       "      <td>3.807056</td>\n",
       "      <td>75.787211</td>\n",
       "      <td>55.963616</td>\n",
       "      <td>13.448732</td>\n",
       "      <td>258.707828</td>\n",
       "      <td>4.434399</td>\n",
       "      <td>16.379272</td>\n",
       "      <td>2.401323</td>\n",
       "      <td>0.174201</td>\n",
       "    </tr>\n",
       "    <tr>\n",
       "      <th>ACY</th>\n",
       "      <td>2.541667</td>\n",
       "      <td>15.000000</td>\n",
       "      <td>3.583333</td>\n",
       "      <td>114.083333</td>\n",
       "      <td>88.083333</td>\n",
       "      <td>6.291667</td>\n",
       "      <td>678.000000</td>\n",
       "      <td>3.583333</td>\n",
       "      <td>21.083333</td>\n",
       "      <td>3.000000</td>\n",
       "      <td>0.125000</td>\n",
       "    </tr>\n",
       "    <tr>\n",
       "      <th>ADK</th>\n",
       "      <td>7.600000</td>\n",
       "      <td>16.760000</td>\n",
       "      <td>5.560000</td>\n",
       "      <td>190.600000</td>\n",
       "      <td>175.280000</td>\n",
       "      <td>8.760000</td>\n",
       "      <td>1192.000000</td>\n",
       "      <td>4.440000</td>\n",
       "      <td>11.640000</td>\n",
       "      <td>2.640000</td>\n",
       "      <td>0.120000</td>\n",
       "    </tr>\n",
       "    <tr>\n",
       "      <th>ADQ</th>\n",
       "      <td>6.102410</td>\n",
       "      <td>15.680723</td>\n",
       "      <td>4.030120</td>\n",
       "      <td>62.054217</td>\n",
       "      <td>44.234940</td>\n",
       "      <td>2.813253</td>\n",
       "      <td>252.000000</td>\n",
       "      <td>3.590361</td>\n",
       "      <td>13.054217</td>\n",
       "      <td>1.638554</td>\n",
       "      <td>0.102410</td>\n",
       "    </tr>\n",
       "    <tr>\n",
       "      <th>AEX</th>\n",
       "      <td>6.412281</td>\n",
       "      <td>15.664912</td>\n",
       "      <td>3.949123</td>\n",
       "      <td>86.807018</td>\n",
       "      <td>61.929825</td>\n",
       "      <td>8.133333</td>\n",
       "      <td>357.850877</td>\n",
       "      <td>3.489474</td>\n",
       "      <td>20.640351</td>\n",
       "      <td>2.352632</td>\n",
       "      <td>0.119298</td>\n",
       "    </tr>\n",
       "    <tr>\n",
       "      <th>AGS</th>\n",
       "      <td>6.902397</td>\n",
       "      <td>15.724315</td>\n",
       "      <td>3.751712</td>\n",
       "      <td>58.419521</td>\n",
       "      <td>30.902397</td>\n",
       "      <td>9.844178</td>\n",
       "      <td>143.910959</td>\n",
       "      <td>3.297945</td>\n",
       "      <td>21.863014</td>\n",
       "      <td>2.270548</td>\n",
       "      <td>0.145548</td>\n",
       "    </tr>\n",
       "    <tr>\n",
       "      <th>AKN</th>\n",
       "      <td>7.281250</td>\n",
       "      <td>15.093750</td>\n",
       "      <td>4.093750</td>\n",
       "      <td>66.875000</td>\n",
       "      <td>46.375000</td>\n",
       "      <td>8.125000</td>\n",
       "      <td>289.000000</td>\n",
       "      <td>4.062500</td>\n",
       "      <td>12.875000</td>\n",
       "      <td>1.937500</td>\n",
       "      <td>0.156250</td>\n",
       "    </tr>\n",
       "    <tr>\n",
       "      <th>ALB</th>\n",
       "      <td>6.276316</td>\n",
       "      <td>15.710825</td>\n",
       "      <td>3.904605</td>\n",
       "      <td>110.335526</td>\n",
       "      <td>84.892045</td>\n",
       "      <td>7.992225</td>\n",
       "      <td>622.202751</td>\n",
       "      <td>4.117524</td>\n",
       "      <td>17.580144</td>\n",
       "      <td>2.683911</td>\n",
       "      <td>0.133074</td>\n",
       "    </tr>\n",
       "    <tr>\n",
       "      <th>ALO</th>\n",
       "      <td>6.782609</td>\n",
       "      <td>14.391304</td>\n",
       "      <td>3.579710</td>\n",
       "      <td>57.623188</td>\n",
       "      <td>31.376812</td>\n",
       "      <td>7.289855</td>\n",
       "      <td>166.000000</td>\n",
       "      <td>4.231884</td>\n",
       "      <td>19.449275</td>\n",
       "      <td>4.000000</td>\n",
       "      <td>0.144928</td>\n",
       "    </tr>\n",
       "    <tr>\n",
       "      <th>AMA</th>\n",
       "      <td>6.424044</td>\n",
       "      <td>15.639344</td>\n",
       "      <td>3.920765</td>\n",
       "      <td>76.323497</td>\n",
       "      <td>56.445902</td>\n",
       "      <td>7.199454</td>\n",
       "      <td>366.062842</td>\n",
       "      <td>4.643169</td>\n",
       "      <td>12.109290</td>\n",
       "      <td>2.230601</td>\n",
       "      <td>0.118579</td>\n",
       "    </tr>\n",
       "    <tr>\n",
       "      <th>ANC</th>\n",
       "      <td>6.529004</td>\n",
       "      <td>15.986759</td>\n",
       "      <td>3.957545</td>\n",
       "      <td>189.508407</td>\n",
       "      <td>168.930643</td>\n",
       "      <td>7.302438</td>\n",
       "      <td>1266.771332</td>\n",
       "      <td>4.951871</td>\n",
       "      <td>14.119588</td>\n",
       "      <td>2.680538</td>\n",
       "      <td>0.130937</td>\n",
       "    </tr>\n",
       "    <tr>\n",
       "      <th>ASE</th>\n",
       "      <td>5.715719</td>\n",
       "      <td>16.060201</td>\n",
       "      <td>4.076087</td>\n",
       "      <td>68.096154</td>\n",
       "      <td>46.081940</td>\n",
       "      <td>11.018395</td>\n",
       "      <td>245.910535</td>\n",
       "      <td>3.578595</td>\n",
       "      <td>18.264214</td>\n",
       "      <td>2.229097</td>\n",
       "      <td>0.161371</td>\n",
       "    </tr>\n",
       "    <tr>\n",
       "      <th>ATL</th>\n",
       "      <td>6.518850</td>\n",
       "      <td>15.723051</td>\n",
       "      <td>3.931812</td>\n",
       "      <td>119.930092</td>\n",
       "      <td>93.673370</td>\n",
       "      <td>9.732437</td>\n",
       "      <td>640.875821</td>\n",
       "      <td>10.777892</td>\n",
       "      <td>15.676318</td>\n",
       "      <td>2.060876</td>\n",
       "      <td>0.132907</td>\n",
       "    </tr>\n",
       "    <tr>\n",
       "      <th>ATW</th>\n",
       "      <td>6.481291</td>\n",
       "      <td>15.848863</td>\n",
       "      <td>3.759354</td>\n",
       "      <td>72.054292</td>\n",
       "      <td>48.475422</td>\n",
       "      <td>8.894351</td>\n",
       "      <td>284.615554</td>\n",
       "      <td>4.617021</td>\n",
       "      <td>18.204696</td>\n",
       "      <td>2.471753</td>\n",
       "      <td>0.136464</td>\n",
       "    </tr>\n",
       "    <tr>\n",
       "      <th>AUS</th>\n",
       "      <td>6.266959</td>\n",
       "      <td>15.728892</td>\n",
       "      <td>3.884171</td>\n",
       "      <td>120.309501</td>\n",
       "      <td>96.847080</td>\n",
       "      <td>8.041321</td>\n",
       "      <td>694.110298</td>\n",
       "      <td>5.325362</td>\n",
       "      <td>15.372702</td>\n",
       "      <td>2.418578</td>\n",
       "      <td>0.128925</td>\n",
       "    </tr>\n",
       "    <tr>\n",
       "      <th>AVL</th>\n",
       "      <td>6.972101</td>\n",
       "      <td>15.702703</td>\n",
       "      <td>3.944202</td>\n",
       "      <td>92.394071</td>\n",
       "      <td>64.175240</td>\n",
       "      <td>8.149956</td>\n",
       "      <td>416.592851</td>\n",
       "      <td>3.711421</td>\n",
       "      <td>21.574542</td>\n",
       "      <td>2.503923</td>\n",
       "      <td>0.163906</td>\n",
       "    </tr>\n",
       "    <tr>\n",
       "      <th>AVP</th>\n",
       "      <td>6.708117</td>\n",
       "      <td>15.376511</td>\n",
       "      <td>3.889465</td>\n",
       "      <td>105.618307</td>\n",
       "      <td>76.272884</td>\n",
       "      <td>13.863558</td>\n",
       "      <td>559.426598</td>\n",
       "      <td>3.716753</td>\n",
       "      <td>21.701209</td>\n",
       "      <td>3.001727</td>\n",
       "      <td>0.208981</td>\n",
       "    </tr>\n",
       "    <tr>\n",
       "      <th>AZO</th>\n",
       "      <td>6.007795</td>\n",
       "      <td>15.707127</td>\n",
       "      <td>3.935412</td>\n",
       "      <td>52.157016</td>\n",
       "      <td>27.688196</td>\n",
       "      <td>7.747216</td>\n",
       "      <td>142.528953</td>\n",
       "      <td>4.448775</td>\n",
       "      <td>18.473274</td>\n",
       "      <td>2.471047</td>\n",
       "      <td>0.146993</td>\n",
       "    </tr>\n",
       "    <tr>\n",
       "      <th>BDL</th>\n",
       "      <td>6.276509</td>\n",
       "      <td>15.680669</td>\n",
       "      <td>3.896275</td>\n",
       "      <td>126.961528</td>\n",
       "      <td>101.848287</td>\n",
       "      <td>8.376427</td>\n",
       "      <td>769.103453</td>\n",
       "      <td>5.455411</td>\n",
       "      <td>17.071914</td>\n",
       "      <td>2.613785</td>\n",
       "      <td>0.138526</td>\n",
       "    </tr>\n",
       "    <tr>\n",
       "      <th>BET</th>\n",
       "      <td>6.569853</td>\n",
       "      <td>14.915441</td>\n",
       "      <td>3.632353</td>\n",
       "      <td>77.022059</td>\n",
       "      <td>60.393382</td>\n",
       "      <td>3.658088</td>\n",
       "      <td>399.000000</td>\n",
       "      <td>3.261029</td>\n",
       "      <td>12.213235</td>\n",
       "      <td>2.022059</td>\n",
       "      <td>0.102941</td>\n",
       "    </tr>\n",
       "    <tr>\n",
       "      <th>BFL</th>\n",
       "      <td>6.158988</td>\n",
       "      <td>15.549232</td>\n",
       "      <td>3.896116</td>\n",
       "      <td>86.088528</td>\n",
       "      <td>62.318880</td>\n",
       "      <td>5.139115</td>\n",
       "      <td>365.271906</td>\n",
       "      <td>4.521229</td>\n",
       "      <td>18.234869</td>\n",
       "      <td>2.423668</td>\n",
       "      <td>0.099368</td>\n",
       "    </tr>\n",
       "    <tr>\n",
       "      <th>BGM</th>\n",
       "      <td>6.306250</td>\n",
       "      <td>16.081250</td>\n",
       "      <td>3.956250</td>\n",
       "      <td>83.081250</td>\n",
       "      <td>54.931250</td>\n",
       "      <td>3.562500</td>\n",
       "      <td>378.000000</td>\n",
       "      <td>5.043750</td>\n",
       "      <td>19.881250</td>\n",
       "      <td>2.962500</td>\n",
       "      <td>0.125000</td>\n",
       "    </tr>\n",
       "    <tr>\n",
       "      <th>BGR</th>\n",
       "      <td>6.600884</td>\n",
       "      <td>15.854197</td>\n",
       "      <td>3.946981</td>\n",
       "      <td>106.568483</td>\n",
       "      <td>74.784978</td>\n",
       "      <td>7.316642</td>\n",
       "      <td>541.113402</td>\n",
       "      <td>5.322533</td>\n",
       "      <td>22.650957</td>\n",
       "      <td>2.559647</td>\n",
       "      <td>0.142857</td>\n",
       "    </tr>\n",
       "    <tr>\n",
       "      <th>BHM</th>\n",
       "      <td>6.344640</td>\n",
       "      <td>15.743216</td>\n",
       "      <td>3.873643</td>\n",
       "      <td>97.932497</td>\n",
       "      <td>74.449796</td>\n",
       "      <td>7.330393</td>\n",
       "      <td>515.259159</td>\n",
       "      <td>3.767469</td>\n",
       "      <td>16.120929</td>\n",
       "      <td>2.212856</td>\n",
       "      <td>0.125000</td>\n",
       "    </tr>\n",
       "    <tr>\n",
       "      <th>...</th>\n",
       "      <td>...</td>\n",
       "      <td>...</td>\n",
       "      <td>...</td>\n",
       "      <td>...</td>\n",
       "      <td>...</td>\n",
       "      <td>...</td>\n",
       "      <td>...</td>\n",
       "      <td>...</td>\n",
       "      <td>...</td>\n",
       "      <td>...</td>\n",
       "      <td>...</td>\n",
       "    </tr>\n",
       "    <tr>\n",
       "      <th>SPS</th>\n",
       "      <td>4.993506</td>\n",
       "      <td>16.679654</td>\n",
       "      <td>3.937229</td>\n",
       "      <td>56.344156</td>\n",
       "      <td>30.967532</td>\n",
       "      <td>5.413420</td>\n",
       "      <td>113.000000</td>\n",
       "      <td>6.976190</td>\n",
       "      <td>15.437229</td>\n",
       "      <td>2.246753</td>\n",
       "      <td>0.129870</td>\n",
       "    </tr>\n",
       "    <tr>\n",
       "      <th>SRQ</th>\n",
       "      <td>5.610730</td>\n",
       "      <td>15.848409</td>\n",
       "      <td>4.119775</td>\n",
       "      <td>122.044916</td>\n",
       "      <td>98.107923</td>\n",
       "      <td>10.079850</td>\n",
       "      <td>687.436057</td>\n",
       "      <td>4.469120</td>\n",
       "      <td>19.678104</td>\n",
       "      <td>2.097941</td>\n",
       "      <td>0.151591</td>\n",
       "    </tr>\n",
       "    <tr>\n",
       "      <th>STL</th>\n",
       "      <td>6.500489</td>\n",
       "      <td>15.688075</td>\n",
       "      <td>3.864967</td>\n",
       "      <td>119.254483</td>\n",
       "      <td>96.110061</td>\n",
       "      <td>7.132425</td>\n",
       "      <td>676.458890</td>\n",
       "      <td>4.968638</td>\n",
       "      <td>15.283367</td>\n",
       "      <td>2.255069</td>\n",
       "      <td>0.123231</td>\n",
       "    </tr>\n",
       "    <tr>\n",
       "      <th>STT</th>\n",
       "      <td>5.924901</td>\n",
       "      <td>16.046113</td>\n",
       "      <td>4.366271</td>\n",
       "      <td>199.227931</td>\n",
       "      <td>169.889328</td>\n",
       "      <td>10.300395</td>\n",
       "      <td>1379.847167</td>\n",
       "      <td>4.732543</td>\n",
       "      <td>22.716733</td>\n",
       "      <td>2.084321</td>\n",
       "      <td>0.152833</td>\n",
       "    </tr>\n",
       "    <tr>\n",
       "      <th>STX</th>\n",
       "      <td>6.191489</td>\n",
       "      <td>16.287234</td>\n",
       "      <td>4.159574</td>\n",
       "      <td>165.787234</td>\n",
       "      <td>145.734043</td>\n",
       "      <td>10.840426</td>\n",
       "      <td>1211.702128</td>\n",
       "      <td>3.606383</td>\n",
       "      <td>16.138298</td>\n",
       "      <td>2.000000</td>\n",
       "      <td>0.095745</td>\n",
       "    </tr>\n",
       "    <tr>\n",
       "      <th>SUN</th>\n",
       "      <td>6.230428</td>\n",
       "      <td>15.598227</td>\n",
       "      <td>3.979321</td>\n",
       "      <td>70.447563</td>\n",
       "      <td>51.862629</td>\n",
       "      <td>0.621861</td>\n",
       "      <td>223.000000</td>\n",
       "      <td>3.097489</td>\n",
       "      <td>14.440177</td>\n",
       "      <td>2.248154</td>\n",
       "      <td>0.045790</td>\n",
       "    </tr>\n",
       "    <tr>\n",
       "      <th>SUX</th>\n",
       "      <td>2.869565</td>\n",
       "      <td>12.652174</td>\n",
       "      <td>3.956522</td>\n",
       "      <td>67.826087</td>\n",
       "      <td>40.391304</td>\n",
       "      <td>6.304348</td>\n",
       "      <td>234.000000</td>\n",
       "      <td>3.304348</td>\n",
       "      <td>18.956522</td>\n",
       "      <td>2.434783</td>\n",
       "      <td>0.130435</td>\n",
       "    </tr>\n",
       "    <tr>\n",
       "      <th>SWF</th>\n",
       "      <td>5.480307</td>\n",
       "      <td>15.649376</td>\n",
       "      <td>4.038425</td>\n",
       "      <td>147.352546</td>\n",
       "      <td>119.536023</td>\n",
       "      <td>8.475504</td>\n",
       "      <td>843.614793</td>\n",
       "      <td>5.474544</td>\n",
       "      <td>19.173871</td>\n",
       "      <td>2.815562</td>\n",
       "      <td>0.132565</td>\n",
       "    </tr>\n",
       "    <tr>\n",
       "      <th>SYR</th>\n",
       "      <td>6.245885</td>\n",
       "      <td>15.869667</td>\n",
       "      <td>3.932482</td>\n",
       "      <td>99.419886</td>\n",
       "      <td>71.190124</td>\n",
       "      <td>11.560967</td>\n",
       "      <td>497.684582</td>\n",
       "      <td>4.641250</td>\n",
       "      <td>22.151159</td>\n",
       "      <td>2.625126</td>\n",
       "      <td>0.168290</td>\n",
       "    </tr>\n",
       "    <tr>\n",
       "      <th>TEX</th>\n",
       "      <td>3.869565</td>\n",
       "      <td>16.043478</td>\n",
       "      <td>4.086957</td>\n",
       "      <td>115.239130</td>\n",
       "      <td>89.543478</td>\n",
       "      <td>12.065217</td>\n",
       "      <td>387.000000</td>\n",
       "      <td>5.521739</td>\n",
       "      <td>22.217391</td>\n",
       "      <td>1.521739</td>\n",
       "      <td>0.130435</td>\n",
       "    </tr>\n",
       "    <tr>\n",
       "      <th>TLH</th>\n",
       "      <td>6.738862</td>\n",
       "      <td>15.405072</td>\n",
       "      <td>3.862234</td>\n",
       "      <td>78.434544</td>\n",
       "      <td>52.610692</td>\n",
       "      <td>7.078821</td>\n",
       "      <td>342.849212</td>\n",
       "      <td>3.784099</td>\n",
       "      <td>19.304318</td>\n",
       "      <td>2.366690</td>\n",
       "      <td>0.125428</td>\n",
       "    </tr>\n",
       "    <tr>\n",
       "      <th>TOL</th>\n",
       "      <td>5.902017</td>\n",
       "      <td>16.495677</td>\n",
       "      <td>3.864553</td>\n",
       "      <td>60.060519</td>\n",
       "      <td>38.907781</td>\n",
       "      <td>12.717579</td>\n",
       "      <td>243.737752</td>\n",
       "      <td>3.028818</td>\n",
       "      <td>17.870317</td>\n",
       "      <td>2.530259</td>\n",
       "      <td>0.167147</td>\n",
       "    </tr>\n",
       "    <tr>\n",
       "      <th>TPA</th>\n",
       "      <td>6.312665</td>\n",
       "      <td>15.779025</td>\n",
       "      <td>3.971040</td>\n",
       "      <td>138.663029</td>\n",
       "      <td>114.696333</td>\n",
       "      <td>6.371878</td>\n",
       "      <td>829.679837</td>\n",
       "      <td>4.739773</td>\n",
       "      <td>16.307390</td>\n",
       "      <td>2.386823</td>\n",
       "      <td>0.119615</td>\n",
       "    </tr>\n",
       "    <tr>\n",
       "      <th>TRI</th>\n",
       "      <td>6.639925</td>\n",
       "      <td>15.501866</td>\n",
       "      <td>3.886194</td>\n",
       "      <td>69.759328</td>\n",
       "      <td>42.449627</td>\n",
       "      <td>8.875000</td>\n",
       "      <td>229.438433</td>\n",
       "      <td>3.893657</td>\n",
       "      <td>18.968284</td>\n",
       "      <td>2.417910</td>\n",
       "      <td>0.147388</td>\n",
       "    </tr>\n",
       "    <tr>\n",
       "      <th>TUL</th>\n",
       "      <td>6.354269</td>\n",
       "      <td>15.821379</td>\n",
       "      <td>3.898006</td>\n",
       "      <td>98.749475</td>\n",
       "      <td>76.643457</td>\n",
       "      <td>9.807908</td>\n",
       "      <td>524.914801</td>\n",
       "      <td>4.468160</td>\n",
       "      <td>15.755948</td>\n",
       "      <td>2.469559</td>\n",
       "      <td>0.142057</td>\n",
       "    </tr>\n",
       "    <tr>\n",
       "      <th>TUP</th>\n",
       "      <td>1.000000</td>\n",
       "      <td>3.500000</td>\n",
       "      <td>4.500000</td>\n",
       "      <td>69.500000</td>\n",
       "      <td>41.500000</td>\n",
       "      <td>-11.000000</td>\n",
       "      <td>253.000000</td>\n",
       "      <td>2.000000</td>\n",
       "      <td>17.500000</td>\n",
       "      <td>3.000000</td>\n",
       "      <td>0.000000</td>\n",
       "    </tr>\n",
       "    <tr>\n",
       "      <th>TUS</th>\n",
       "      <td>6.093589</td>\n",
       "      <td>15.702218</td>\n",
       "      <td>3.969918</td>\n",
       "      <td>116.493467</td>\n",
       "      <td>93.816925</td>\n",
       "      <td>5.647068</td>\n",
       "      <td>655.523245</td>\n",
       "      <td>4.613187</td>\n",
       "      <td>15.532361</td>\n",
       "      <td>2.446217</td>\n",
       "      <td>0.104679</td>\n",
       "    </tr>\n",
       "    <tr>\n",
       "      <th>TVC</th>\n",
       "      <td>6.618684</td>\n",
       "      <td>16.091516</td>\n",
       "      <td>3.977121</td>\n",
       "      <td>69.330791</td>\n",
       "      <td>44.668255</td>\n",
       "      <td>9.876072</td>\n",
       "      <td>263.104862</td>\n",
       "      <td>4.103908</td>\n",
       "      <td>18.970448</td>\n",
       "      <td>2.543375</td>\n",
       "      <td>0.150620</td>\n",
       "    </tr>\n",
       "    <tr>\n",
       "      <th>TWF</th>\n",
       "      <td>5.824645</td>\n",
       "      <td>15.815166</td>\n",
       "      <td>3.988152</td>\n",
       "      <td>62.220379</td>\n",
       "      <td>41.481043</td>\n",
       "      <td>2.144550</td>\n",
       "      <td>175.000000</td>\n",
       "      <td>3.646919</td>\n",
       "      <td>15.274882</td>\n",
       "      <td>2.457346</td>\n",
       "      <td>0.073460</td>\n",
       "    </tr>\n",
       "    <tr>\n",
       "      <th>TXK</th>\n",
       "      <td>6.382353</td>\n",
       "      <td>15.624183</td>\n",
       "      <td>4.166667</td>\n",
       "      <td>61.738562</td>\n",
       "      <td>37.934641</td>\n",
       "      <td>6.908497</td>\n",
       "      <td>181.000000</td>\n",
       "      <td>3.931373</td>\n",
       "      <td>18.467320</td>\n",
       "      <td>2.065359</td>\n",
       "      <td>0.101307</td>\n",
       "    </tr>\n",
       "    <tr>\n",
       "      <th>TYR</th>\n",
       "      <td>6.076294</td>\n",
       "      <td>15.275204</td>\n",
       "      <td>4.068120</td>\n",
       "      <td>48.555858</td>\n",
       "      <td>25.645777</td>\n",
       "      <td>4.839237</td>\n",
       "      <td>103.000000</td>\n",
       "      <td>4.572207</td>\n",
       "      <td>17.686649</td>\n",
       "      <td>2.070845</td>\n",
       "      <td>0.076294</td>\n",
       "    </tr>\n",
       "    <tr>\n",
       "      <th>TYS</th>\n",
       "      <td>6.619453</td>\n",
       "      <td>15.901557</td>\n",
       "      <td>3.899207</td>\n",
       "      <td>97.531590</td>\n",
       "      <td>70.321481</td>\n",
       "      <td>10.213047</td>\n",
       "      <td>492.423744</td>\n",
       "      <td>4.640024</td>\n",
       "      <td>20.470761</td>\n",
       "      <td>2.545695</td>\n",
       "      <td>0.156039</td>\n",
       "    </tr>\n",
       "    <tr>\n",
       "      <th>VLD</th>\n",
       "      <td>6.375000</td>\n",
       "      <td>15.741935</td>\n",
       "      <td>4.137097</td>\n",
       "      <td>63.129032</td>\n",
       "      <td>35.927419</td>\n",
       "      <td>9.818548</td>\n",
       "      <td>208.000000</td>\n",
       "      <td>3.959677</td>\n",
       "      <td>22.012097</td>\n",
       "      <td>2.512097</td>\n",
       "      <td>0.165323</td>\n",
       "    </tr>\n",
       "    <tr>\n",
       "      <th>VPS</th>\n",
       "      <td>6.401575</td>\n",
       "      <td>15.356753</td>\n",
       "      <td>3.952756</td>\n",
       "      <td>91.496063</td>\n",
       "      <td>64.253786</td>\n",
       "      <td>12.142944</td>\n",
       "      <td>416.101151</td>\n",
       "      <td>7.389461</td>\n",
       "      <td>20.501514</td>\n",
       "      <td>2.265899</td>\n",
       "      <td>0.155058</td>\n",
       "    </tr>\n",
       "    <tr>\n",
       "      <th>WRG</th>\n",
       "      <td>6.457831</td>\n",
       "      <td>15.638554</td>\n",
       "      <td>4.024096</td>\n",
       "      <td>35.728916</td>\n",
       "      <td>19.325301</td>\n",
       "      <td>7.006024</td>\n",
       "      <td>56.192771</td>\n",
       "      <td>3.771084</td>\n",
       "      <td>11.234940</td>\n",
       "      <td>1.680723</td>\n",
       "      <td>0.138554</td>\n",
       "    </tr>\n",
       "    <tr>\n",
       "      <th>WYS</th>\n",
       "      <td>7.652174</td>\n",
       "      <td>14.898551</td>\n",
       "      <td>4.072464</td>\n",
       "      <td>89.028986</td>\n",
       "      <td>59.391304</td>\n",
       "      <td>-2.637681</td>\n",
       "      <td>273.000000</td>\n",
       "      <td>3.768116</td>\n",
       "      <td>18.826087</td>\n",
       "      <td>2.086957</td>\n",
       "      <td>0.057971</td>\n",
       "    </tr>\n",
       "    <tr>\n",
       "      <th>XNA</th>\n",
       "      <td>6.461161</td>\n",
       "      <td>15.547213</td>\n",
       "      <td>3.761767</td>\n",
       "      <td>108.291655</td>\n",
       "      <td>82.596304</td>\n",
       "      <td>10.566850</td>\n",
       "      <td>553.618250</td>\n",
       "      <td>5.058620</td>\n",
       "      <td>19.528155</td>\n",
       "      <td>2.379440</td>\n",
       "      <td>0.155645</td>\n",
       "    </tr>\n",
       "    <tr>\n",
       "      <th>YAK</th>\n",
       "      <td>6.079545</td>\n",
       "      <td>15.045455</td>\n",
       "      <td>3.903409</td>\n",
       "      <td>53.437500</td>\n",
       "      <td>37.352273</td>\n",
       "      <td>12.931818</td>\n",
       "      <td>206.079545</td>\n",
       "      <td>4.136364</td>\n",
       "      <td>11.687500</td>\n",
       "      <td>2.011364</td>\n",
       "      <td>0.170455</td>\n",
       "    </tr>\n",
       "    <tr>\n",
       "      <th>YKM</th>\n",
       "      <td>4.988506</td>\n",
       "      <td>13.678161</td>\n",
       "      <td>3.701149</td>\n",
       "      <td>102.620690</td>\n",
       "      <td>84.482759</td>\n",
       "      <td>2.494253</td>\n",
       "      <td>586.000000</td>\n",
       "      <td>4.195402</td>\n",
       "      <td>17.586207</td>\n",
       "      <td>3.068966</td>\n",
       "      <td>0.011494</td>\n",
       "    </tr>\n",
       "    <tr>\n",
       "      <th>YUM</th>\n",
       "      <td>5.997847</td>\n",
       "      <td>16.275565</td>\n",
       "      <td>3.907427</td>\n",
       "      <td>70.585576</td>\n",
       "      <td>46.720129</td>\n",
       "      <td>0.546825</td>\n",
       "      <td>223.609257</td>\n",
       "      <td>5.242196</td>\n",
       "      <td>18.110872</td>\n",
       "      <td>2.547901</td>\n",
       "      <td>0.066738</td>\n",
       "    </tr>\n",
       "  </tbody>\n",
       "</table>\n",
       "<p>301 rows × 11 columns</p>\n",
       "</div>"
      ],
      "text/plain": [
       "         Month  DayofMonth  DayOfWeek  CRSElapsedTime     AirTime   ArrDelay  \\\n",
       "Dest                                                                           \n",
       "ABE   6.552677   15.825561   3.807427      100.449050   73.376511   9.601036   \n",
       "ABI   6.544000   15.619200   4.038400       53.196800   33.345600   9.788800   \n",
       "ABQ   6.392839   15.731231   3.922047      114.194089   92.288307   5.851830   \n",
       "ABY   6.254545   16.083636   3.869091       54.192727   27.545455   8.207273   \n",
       "ACK   7.138614   16.504950   4.128713       86.524752   45.237624  18.267327   \n",
       "ACT   5.931416   15.254425   3.853982       45.081858   23.672566   5.486726   \n",
       "ACV   6.625138   15.972437   3.807056       75.787211   55.963616  13.448732   \n",
       "ACY   2.541667   15.000000   3.583333      114.083333   88.083333   6.291667   \n",
       "ADK   7.600000   16.760000   5.560000      190.600000  175.280000   8.760000   \n",
       "ADQ   6.102410   15.680723   4.030120       62.054217   44.234940   2.813253   \n",
       "AEX   6.412281   15.664912   3.949123       86.807018   61.929825   8.133333   \n",
       "AGS   6.902397   15.724315   3.751712       58.419521   30.902397   9.844178   \n",
       "AKN   7.281250   15.093750   4.093750       66.875000   46.375000   8.125000   \n",
       "ALB   6.276316   15.710825   3.904605      110.335526   84.892045   7.992225   \n",
       "ALO   6.782609   14.391304   3.579710       57.623188   31.376812   7.289855   \n",
       "AMA   6.424044   15.639344   3.920765       76.323497   56.445902   7.199454   \n",
       "ANC   6.529004   15.986759   3.957545      189.508407  168.930643   7.302438   \n",
       "ASE   5.715719   16.060201   4.076087       68.096154   46.081940  11.018395   \n",
       "ATL   6.518850   15.723051   3.931812      119.930092   93.673370   9.732437   \n",
       "ATW   6.481291   15.848863   3.759354       72.054292   48.475422   8.894351   \n",
       "AUS   6.266959   15.728892   3.884171      120.309501   96.847080   8.041321   \n",
       "AVL   6.972101   15.702703   3.944202       92.394071   64.175240   8.149956   \n",
       "AVP   6.708117   15.376511   3.889465      105.618307   76.272884  13.863558   \n",
       "AZO   6.007795   15.707127   3.935412       52.157016   27.688196   7.747216   \n",
       "BDL   6.276509   15.680669   3.896275      126.961528  101.848287   8.376427   \n",
       "BET   6.569853   14.915441   3.632353       77.022059   60.393382   3.658088   \n",
       "BFL   6.158988   15.549232   3.896116       86.088528   62.318880   5.139115   \n",
       "BGM   6.306250   16.081250   3.956250       83.081250   54.931250   3.562500   \n",
       "BGR   6.600884   15.854197   3.946981      106.568483   74.784978   7.316642   \n",
       "BHM   6.344640   15.743216   3.873643       97.932497   74.449796   7.330393   \n",
       "...        ...         ...        ...             ...         ...        ...   \n",
       "SPS   4.993506   16.679654   3.937229       56.344156   30.967532   5.413420   \n",
       "SRQ   5.610730   15.848409   4.119775      122.044916   98.107923  10.079850   \n",
       "STL   6.500489   15.688075   3.864967      119.254483   96.110061   7.132425   \n",
       "STT   5.924901   16.046113   4.366271      199.227931  169.889328  10.300395   \n",
       "STX   6.191489   16.287234   4.159574      165.787234  145.734043  10.840426   \n",
       "SUN   6.230428   15.598227   3.979321       70.447563   51.862629   0.621861   \n",
       "SUX   2.869565   12.652174   3.956522       67.826087   40.391304   6.304348   \n",
       "SWF   5.480307   15.649376   4.038425      147.352546  119.536023   8.475504   \n",
       "SYR   6.245885   15.869667   3.932482       99.419886   71.190124  11.560967   \n",
       "TEX   3.869565   16.043478   4.086957      115.239130   89.543478  12.065217   \n",
       "TLH   6.738862   15.405072   3.862234       78.434544   52.610692   7.078821   \n",
       "TOL   5.902017   16.495677   3.864553       60.060519   38.907781  12.717579   \n",
       "TPA   6.312665   15.779025   3.971040      138.663029  114.696333   6.371878   \n",
       "TRI   6.639925   15.501866   3.886194       69.759328   42.449627   8.875000   \n",
       "TUL   6.354269   15.821379   3.898006       98.749475   76.643457   9.807908   \n",
       "TUP   1.000000    3.500000   4.500000       69.500000   41.500000 -11.000000   \n",
       "TUS   6.093589   15.702218   3.969918      116.493467   93.816925   5.647068   \n",
       "TVC   6.618684   16.091516   3.977121       69.330791   44.668255   9.876072   \n",
       "TWF   5.824645   15.815166   3.988152       62.220379   41.481043   2.144550   \n",
       "TXK   6.382353   15.624183   4.166667       61.738562   37.934641   6.908497   \n",
       "TYR   6.076294   15.275204   4.068120       48.555858   25.645777   4.839237   \n",
       "TYS   6.619453   15.901557   3.899207       97.531590   70.321481  10.213047   \n",
       "VLD   6.375000   15.741935   4.137097       63.129032   35.927419   9.818548   \n",
       "VPS   6.401575   15.356753   3.952756       91.496063   64.253786  12.142944   \n",
       "WRG   6.457831   15.638554   4.024096       35.728916   19.325301   7.006024   \n",
       "WYS   7.652174   14.898551   4.072464       89.028986   59.391304  -2.637681   \n",
       "XNA   6.461161   15.547213   3.761767      108.291655   82.596304  10.566850   \n",
       "YAK   6.079545   15.045455   3.903409       53.437500   37.352273  12.931818   \n",
       "YKM   4.988506   13.678161   3.701149      102.620690   84.482759   2.494253   \n",
       "YUM   5.997847   16.275565   3.907427       70.585576   46.720129   0.546825   \n",
       "\n",
       "         Distance     TaxiIn    TaxiOut      PotD     Delay  \n",
       "Dest                                                         \n",
       "ABE    532.219344   4.576857  20.109672  2.772021  0.158895  \n",
       "ABI    158.000000   3.641600  15.947200  2.710400  0.140800  \n",
       "ABQ    652.511455   5.282257  13.478727  2.271546  0.108103  \n",
       "ABY    146.000000   3.480000  23.112727  2.560000  0.141818  \n",
       "ACK    207.148515   5.762376  36.277228  2.237624  0.287129  \n",
       "ACT     89.000000   4.898230  15.550885  2.201327  0.112832  \n",
       "ACV    258.707828   4.434399  16.379272  2.401323  0.174201  \n",
       "ACY    678.000000   3.583333  21.083333  3.000000  0.125000  \n",
       "ADK   1192.000000   4.440000  11.640000  2.640000  0.120000  \n",
       "ADQ    252.000000   3.590361  13.054217  1.638554  0.102410  \n",
       "AEX    357.850877   3.489474  20.640351  2.352632  0.119298  \n",
       "AGS    143.910959   3.297945  21.863014  2.270548  0.145548  \n",
       "AKN    289.000000   4.062500  12.875000  1.937500  0.156250  \n",
       "ALB    622.202751   4.117524  17.580144  2.683911  0.133074  \n",
       "ALO    166.000000   4.231884  19.449275  4.000000  0.144928  \n",
       "AMA    366.062842   4.643169  12.109290  2.230601  0.118579  \n",
       "ANC   1266.771332   4.951871  14.119588  2.680538  0.130937  \n",
       "ASE    245.910535   3.578595  18.264214  2.229097  0.161371  \n",
       "ATL    640.875821  10.777892  15.676318  2.060876  0.132907  \n",
       "ATW    284.615554   4.617021  18.204696  2.471753  0.136464  \n",
       "AUS    694.110298   5.325362  15.372702  2.418578  0.128925  \n",
       "AVL    416.592851   3.711421  21.574542  2.503923  0.163906  \n",
       "AVP    559.426598   3.716753  21.701209  3.001727  0.208981  \n",
       "AZO    142.528953   4.448775  18.473274  2.471047  0.146993  \n",
       "BDL    769.103453   5.455411  17.071914  2.613785  0.138526  \n",
       "BET    399.000000   3.261029  12.213235  2.022059  0.102941  \n",
       "BFL    365.271906   4.521229  18.234869  2.423668  0.099368  \n",
       "BGM    378.000000   5.043750  19.881250  2.962500  0.125000  \n",
       "BGR    541.113402   5.322533  22.650957  2.559647  0.142857  \n",
       "BHM    515.259159   3.767469  16.120929  2.212856  0.125000  \n",
       "...           ...        ...        ...       ...       ...  \n",
       "SPS    113.000000   6.976190  15.437229  2.246753  0.129870  \n",
       "SRQ    687.436057   4.469120  19.678104  2.097941  0.151591  \n",
       "STL    676.458890   4.968638  15.283367  2.255069  0.123231  \n",
       "STT   1379.847167   4.732543  22.716733  2.084321  0.152833  \n",
       "STX   1211.702128   3.606383  16.138298  2.000000  0.095745  \n",
       "SUN    223.000000   3.097489  14.440177  2.248154  0.045790  \n",
       "SUX    234.000000   3.304348  18.956522  2.434783  0.130435  \n",
       "SWF    843.614793   5.474544  19.173871  2.815562  0.132565  \n",
       "SYR    497.684582   4.641250  22.151159  2.625126  0.168290  \n",
       "TEX    387.000000   5.521739  22.217391  1.521739  0.130435  \n",
       "TLH    342.849212   3.784099  19.304318  2.366690  0.125428  \n",
       "TOL    243.737752   3.028818  17.870317  2.530259  0.167147  \n",
       "TPA    829.679837   4.739773  16.307390  2.386823  0.119615  \n",
       "TRI    229.438433   3.893657  18.968284  2.417910  0.147388  \n",
       "TUL    524.914801   4.468160  15.755948  2.469559  0.142057  \n",
       "TUP    253.000000   2.000000  17.500000  3.000000  0.000000  \n",
       "TUS    655.523245   4.613187  15.532361  2.446217  0.104679  \n",
       "TVC    263.104862   4.103908  18.970448  2.543375  0.150620  \n",
       "TWF    175.000000   3.646919  15.274882  2.457346  0.073460  \n",
       "TXK    181.000000   3.931373  18.467320  2.065359  0.101307  \n",
       "TYR    103.000000   4.572207  17.686649  2.070845  0.076294  \n",
       "TYS    492.423744   4.640024  20.470761  2.545695  0.156039  \n",
       "VLD    208.000000   3.959677  22.012097  2.512097  0.165323  \n",
       "VPS    416.101151   7.389461  20.501514  2.265899  0.155058  \n",
       "WRG     56.192771   3.771084  11.234940  1.680723  0.138554  \n",
       "WYS    273.000000   3.768116  18.826087  2.086957  0.057971  \n",
       "XNA    553.618250   5.058620  19.528155  2.379440  0.155645  \n",
       "YAK    206.079545   4.136364  11.687500  2.011364  0.170455  \n",
       "YKM    586.000000   4.195402  17.586207  3.068966  0.011494  \n",
       "YUM    223.609257   5.242196  18.110872  2.547901  0.066738  \n",
       "\n",
       "[301 rows x 11 columns]"
      ]
     },
     "execution_count": 14,
     "metadata": {},
     "output_type": "execute_result"
    }
   ],
   "source": [
    "# Groupby destination airport\n",
    "df.groupby(['Dest']).mean()"
   ]
  },
  {
   "cell_type": "code",
   "execution_count": 15,
   "metadata": {
    "colab": {
     "base_uri": "https://localhost:8080/",
     "height": 300
    },
    "colab_type": "code",
    "id": "PVwAtKjmCb5t",
    "outputId": "23868997-e2d9-4458-ff89-75142094a4d2"
   },
   "outputs": [
    {
     "data": {
      "text/plain": [
       "<matplotlib.axes._subplots.AxesSubplot at 0x7f8a800cfda0>"
      ]
     },
     "execution_count": 15,
     "metadata": {},
     "output_type": "execute_result"
    },
    {
     "data": {
      "image/png": "[encoded data removed]",
      "text/plain": [
       "<Figure size 432x288 with 1 Axes>"
      ]
     },
     "metadata": {
      "needs_background": "light"
     },
     "output_type": "display_data"
    }
   ],
   "source": [
    "# Bias check\n",
    "sns.countplot(x=\"Delay\", data=df)"
   ]
  },
  {
   "cell_type": "code",
   "execution_count": 16,
   "metadata": {
    "colab": {},
    "colab_type": "code",
    "id": "ZUOcxCoaCb5w"
   },
   "outputs": [],
   "source": [
    "# Check Correlation\n",
    "def cramers_corrected_stat(x, y):\n",
    "\n",
    "    \"\"\" calculate Cramers V statistic for categorial-categorial association.\n",
    "        uses correction from Bergsma and Wicher, \n",
    "        Journal of the Korean Statistical Society 42 (2013): 323-328\n",
    "    \"\"\"\n",
    "    result=-1\n",
    "    if len(x.value_counts())==1 :\n",
    "        print(\"First variable is constant\")\n",
    "    elif len(y.value_counts())==1:\n",
    "        print(\"Second variable is constant\")\n",
    "    else:   \n",
    "        conf_matrix=pd.crosstab(x, y)\n",
    "\n",
    "        if conf_matrix.shape[0]==2:\n",
    "            correct=False\n",
    "        else:\n",
    "            correct=True\n",
    "\n",
    "        chi2 = ss.chi2_contingency(conf_matrix, correction=correct)[0]\n",
    "\n",
    "        n = sum(conf_matrix.sum())\n",
    "        phi2 = chi2/n\n",
    "        r,k = conf_matrix.shape\n",
    "        phi2corr = max(0, phi2 - ((k-1)*(r-1))/(n-1))    \n",
    "        rcorr = r - ((r-1)**2)/(n-1)\n",
    "        kcorr = k - ((k-1)**2)/(n-1)\n",
    "        result=np.sqrt(phi2corr / min( (kcorr-1), (rcorr-1)))\n",
    "    return round(result,6)"
   ]
  },
  {
   "cell_type": "markdown",
   "metadata": {
    "colab_type": "text",
    "id": "YcEcTd_4Cb52"
   },
   "source": [
    "#### Month"
   ]
  },
  {
   "cell_type": "code",
   "execution_count": 17,
   "metadata": {
    "colab": {
     "base_uri": "https://localhost:8080/",
     "height": 300
    },
    "colab_type": "code",
    "id": "zmsrmVkRCb54",
    "outputId": "b3972102-0ae1-4f57-cc01-e33b4c7dc6bd"
   },
   "outputs": [
    {
     "data": {
      "text/plain": [
       "<matplotlib.axes._subplots.AxesSubplot at 0x7f8a7f729ef0>"
      ]
     },
     "execution_count": 17,
     "metadata": {},
     "output_type": "execute_result"
    },
    {
     "data": {
      "image/png": "[encoded data removed]",
      "text/plain": [
       "<Figure size 432x288 with 1 Axes>"
      ]
     },
     "metadata": {
      "needs_background": "light"
     },
     "output_type": "display_data"
    }
   ],
   "source": [
    "sns.boxplot(x='Month', y='ArrDelay', data=df) #x is feature, y is target"
   ]
  },
  {
   "cell_type": "code",
   "execution_count": 18,
   "metadata": {
    "colab": {
     "base_uri": "https://localhost:8080/",
     "height": 34
    },
    "colab_type": "code",
    "id": "vSwX_SjUCb57",
    "outputId": "54744d16-41f4-4633-9eb9-a52ca3f9e923"
   },
   "outputs": [
    {
     "data": {
      "text/plain": [
       "0.119418"
      ]
     },
     "execution_count": 18,
     "metadata": {},
     "output_type": "execute_result"
    }
   ],
   "source": [
    "cramers_corrected_stat(df['Delay'], df['Month'])"
   ]
  },
  {
   "cell_type": "markdown",
   "metadata": {
    "colab_type": "text",
    "id": "Hd2LzvnWCb5-"
   },
   "source": [
    "#### DayofMonth"
   ]
  },
  {
   "cell_type": "code",
   "execution_count": 19,
   "metadata": {
    "colab": {
     "base_uri": "https://localhost:8080/",
     "height": 300
    },
    "colab_type": "code",
    "id": "aAGevow4Cb5-",
    "outputId": "b3ec6f2a-c482-486d-eef1-7285fe2ca900"
   },
   "outputs": [
    {
     "data": {
      "text/plain": [
       "<matplotlib.axes._subplots.AxesSubplot at 0x7f8a7ffc4860>"
      ]
     },
     "execution_count": 19,
     "metadata": {},
     "output_type": "execute_result"
    },
    {
     "data": {
      "image/png": "[encoded data removed]",
      "text/plain": [
       "<Figure size 432x288 with 1 Axes>"
      ]
     },
     "metadata": {
      "needs_background": "light"
     },
     "output_type": "display_data"
    }
   ],
   "source": [
    "sns.boxplot(x='DayofMonth', y='ArrDelay', data=df) #x is feature, y is target"
   ]
  },
  {
   "cell_type": "code",
   "execution_count": 20,
   "metadata": {
    "colab": {
     "base_uri": "https://localhost:8080/",
     "height": 34
    },
    "colab_type": "code",
    "id": "8Z3P_reNCb6B",
    "outputId": "95f74391-fcf9-4ebe-f228-b9eed7bad8e9"
   },
   "outputs": [
    {
     "data": {
      "text/plain": [
       "0.036635"
      ]
     },
     "execution_count": 20,
     "metadata": {},
     "output_type": "execute_result"
    }
   ],
   "source": [
    "cramers_corrected_stat(df['Delay'], df['DayofMonth'])"
   ]
  },
  {
   "cell_type": "markdown",
   "metadata": {
    "colab_type": "text",
    "id": "r6lIyyL6Cb6F"
   },
   "source": [
    "#### Weekend"
   ]
  },
  {
   "cell_type": "code",
   "execution_count": 21,
   "metadata": {
    "colab": {
     "base_uri": "https://localhost:8080/",
     "height": 300
    },
    "colab_type": "code",
    "id": "tqmaURcDCb6G",
    "outputId": "9eb16a5f-5ca0-4da2-e344-c410cb5bb80d"
   },
   "outputs": [
    {
     "data": {
      "text/plain": [
       "<matplotlib.axes._subplots.AxesSubplot at 0x7f8a7f1d9400>"
      ]
     },
     "execution_count": 21,
     "metadata": {},
     "output_type": "execute_result"
    },
    {
     "data": {
      "image/png": "[encoded data removed]",
      "text/plain": [
       "<Figure size 432x288 with 1 Axes>"
      ]
     },
     "metadata": {
      "needs_background": "light"
     },
     "output_type": "display_data"
    }
   ],
   "source": [
    "sns.boxplot(x='DayOfWeek', y='ArrDelay', data=df) #x is feature, y is target"
   ]
  },
  {
   "cell_type": "code",
   "execution_count": 22,
   "metadata": {
    "colab": {
     "base_uri": "https://localhost:8080/",
     "height": 34
    },
    "colab_type": "code",
    "id": "0oCLQyGxCb6I",
    "outputId": "12d7707c-e05b-484f-8d36-826742d35f67"
   },
   "outputs": [
    {
     "data": {
      "text/plain": [
       "0.036781"
      ]
     },
     "execution_count": 22,
     "metadata": {},
     "output_type": "execute_result"
    }
   ],
   "source": [
    "cramers_corrected_stat(df['Delay'], df['DayOfWeek'])"
   ]
  },
  {
   "cell_type": "markdown",
   "metadata": {
    "colab_type": "text",
    "id": "PwNTysHuCb6K"
   },
   "source": [
    "#### Parts of the Day"
   ]
  },
  {
   "cell_type": "code",
   "execution_count": 23,
   "metadata": {
    "colab": {
     "base_uri": "https://localhost:8080/",
     "height": 300
    },
    "colab_type": "code",
    "id": "r-HgBwrpCb6L",
    "outputId": "2f32f1b9-b256-4f25-bfd8-022fbf4a4e71"
   },
   "outputs": [
    {
     "data": {
      "text/plain": [
       "<matplotlib.axes._subplots.AxesSubplot at 0x7f8a7f110278>"
      ]
     },
     "execution_count": 23,
     "metadata": {},
     "output_type": "execute_result"
    },
    {
     "data": {
      "image/png": "[encoded data removed]",
      "text/plain": [
       "<Figure size 432x288 with 2 Axes>"
      ]
     },
     "metadata": {
      "needs_background": "light"
     },
     "output_type": "display_data"
    }
   ],
   "source": [
    "sns.heatmap(pd.crosstab(df['Delay'], df['PotD'], normalize='index'))"
   ]
  },
  {
   "cell_type": "code",
   "execution_count": 24,
   "metadata": {
    "colab": {
     "base_uri": "https://localhost:8080/",
     "height": 34
    },
    "colab_type": "code",
    "id": "YxF200Q4Cb6O",
    "outputId": "64b186ad-06b3-4045-8c24-6ca67e15f5ec"
   },
   "outputs": [
    {
     "data": {
      "text/plain": [
       "0.136395"
      ]
     },
     "execution_count": 24,
     "metadata": {},
     "output_type": "execute_result"
    }
   ],
   "source": [
    "cramers_corrected_stat(df['Delay'], df['PotD'])"
   ]
  },
  {
   "cell_type": "markdown",
   "metadata": {
    "colab_type": "text",
    "id": "8CVxw27BCb6Z"
   },
   "source": [
    "## Model evaluation\n",
    "We will use F1 score as the evaluation metric. Our target value is binary so it’s a binary classification problem, and out data is inbalance, so in this case F1 score is a good way for evaluation for this type of problems."
   ]
  },
  {
   "cell_type": "code",
   "execution_count": 25,
   "metadata": {
    "colab": {},
    "colab_type": "code",
    "id": "opbue_zm6Mff"
   },
   "outputs": [],
   "source": [
    "# Create a copy of original dataset\n",
    "df_backup = df.copy()"
   ]
  },
  {
   "cell_type": "markdown",
   "metadata": {
    "colab_type": "text",
    "id": "WRzHch9s_cG_"
   },
   "source": [
    "### Logistic Regression"
   ]
  },
  {
   "cell_type": "code",
   "execution_count": null,
   "metadata": {
    "colab": {},
    "colab_type": "code",
    "id": "x880AuEO6Mfk"
   },
   "outputs": [],
   "source": [
    "df = df_backup.copy()"
   ]
  },
  {
   "cell_type": "markdown",
   "metadata": {
    "colab_type": "text",
    "id": "U4sqv5Tz6Mfm"
   },
   "source": [
    "One-hot encoding"
   ]
  },
  {
   "cell_type": "code",
   "execution_count": null,
   "metadata": {
    "colab": {},
    "colab_type": "code",
    "id": "do2ldJzl6Mfn"
   },
   "outputs": [],
   "source": [
    "# Dest column\n",
    "df = pd.concat([df, pd.get_dummies(df['Dest'], prefix='Dest',dummy_na=True)],axis=1).drop(['Dest'],axis=1)\n",
    "\n",
    "# UniqueCarrier column\n",
    "df = pd.concat([df, pd.get_dummies(df['UniqueCarrier'], prefix='UniqueCarrier',dummy_na=True)],axis=1).drop(['UniqueCarrier'],axis=1)"
   ]
  },
  {
   "cell_type": "markdown",
   "metadata": {
    "colab_type": "text",
    "id": "Tx4QCmTf6Mfq"
   },
   "source": [
    "Holdout"
   ]
  },
  {
   "cell_type": "code",
   "execution_count": null,
   "metadata": {
    "colab": {},
    "colab_type": "code",
    "id": "mFmax2xk6Mfq"
   },
   "outputs": [],
   "source": [
    "X_data = df.drop(['Delay', 'ArrDelay'], axis=1)\n",
    "y_data = df['Delay']\n",
    "\n",
    "# Holdout\n",
    "from sklearn.model_selection import train_test_split\n",
    "\n",
    "X_train, X_test, y_train, y_test = train_test_split(X_data, y_data, test_size=0.2, random_state=0)"
   ]
  },
  {
   "cell_type": "markdown",
   "metadata": {
    "colab_type": "text",
    "id": "cooyd6bv6Mfv"
   },
   "source": [
    "Default parameters"
   ]
  },
  {
   "cell_type": "code",
   "execution_count": null,
   "metadata": {
    "colab": {},
    "colab_type": "code",
    "id": "FFnOWiN76Mfx"
   },
   "outputs": [],
   "source": [
    "from sklearn.linear_model import LogisticRegression\n",
    "\n",
    "model = LogisticRegression()\n",
    "model.fit(X_train, y_train)\n",
    "y_pred = model.predict(X_test)\n",
    "\n",
    "# Report\n",
    "from sklearn.metrics import classification_report\n",
    "\n",
    "print(classification_report(y_test, y_pred))"
   ]
  },
  {
   "cell_type": "markdown",
   "metadata": {
    "colab_type": "text",
    "id": "uoMYELQq6Mf1"
   },
   "source": [
    "Hyperparameter tuning"
   ]
  },
  {
   "cell_type": "code",
   "execution_count": null,
   "metadata": {
    "colab": {},
    "colab_type": "code",
    "id": "c-8p2C_PFusN"
   },
   "outputs": [],
   "source": [
    "from sklearn.model_selection import GridSearchCV\n",
    "from sklearn.linear_model import LogisticRegression\n",
    "\n",
    "grid = {'C' : [1, 5, 10]}\n",
    "\n",
    "model_cv = GridSearchCV(estimator = LogisticRegression(), \n",
    "                        param_grid = grid, cv = 3, scoring = 'f1', n_jobs = -1)\n",
    "\n",
    "model_cv.fit(X_data, y_data)\n",
    "\n",
    "print(\"tuned hpyerparameters :(best parameters) \",model_cv.best_params_)\n",
    "print(\"accuracy :\",model_cv.best_score_)"
   ]
  },
  {
   "cell_type": "markdown",
   "metadata": {
    "colab_type": "text",
    "id": "5sNzMrqGPpmi"
   },
   "source": [
    "Tune hyper parameters using 3-values-method, with f1 metric."
   ]
  },
  {
   "cell_type": "markdown",
   "metadata": {
    "colab_type": "text",
    "id": "P6Dg0_SE6Mf5"
   },
   "source": [
    "### Naive Bayes"
   ]
  },
  {
   "cell_type": "code",
   "execution_count": 26,
   "metadata": {
    "colab": {},
    "colab_type": "code",
    "id": "H4dGJ9EZ6Mf5"
   },
   "outputs": [],
   "source": [
    "df = df_backup.copy()"
   ]
  },
  {
   "cell_type": "markdown",
   "metadata": {
    "colab_type": "text",
    "id": "2yupICHH6Mf8"
   },
   "source": [
    "Label encoder"
   ]
  },
  {
   "cell_type": "code",
   "execution_count": 27,
   "metadata": {
    "colab": {},
    "colab_type": "code",
    "id": "yhoOT0Pv6Mf9"
   },
   "outputs": [],
   "source": [
    "from sklearn.preprocessing import LabelEncoder\n",
    "\n",
    "# Dest column\n",
    "df['Dest'] = LabelEncoder().fit_transform(df['Dest'])\n",
    "\n",
    "# UniqueCarrier column\n",
    "df['UniqueCarrier'] = LabelEncoder().fit_transform(df['UniqueCarrier'])"
   ]
  },
  {
   "cell_type": "markdown",
   "metadata": {
    "colab_type": "text",
    "id": "CsLzcIWD6MgD"
   },
   "source": [
    "Holdout"
   ]
  },
  {
   "cell_type": "code",
   "execution_count": 28,
   "metadata": {
    "colab": {},
    "colab_type": "code",
    "id": "r5Q8zX2Q6MgD"
   },
   "outputs": [],
   "source": [
    "X_data = df.drop(['Delay', 'ArrDelay'], axis=1)\n",
    "y_data = df['Delay']\n",
    "\n",
    "# Holdout\n",
    "from sklearn.model_selection import train_test_split\n",
    "\n",
    "X_train, X_test, y_train, y_test = train_test_split(X_data, y_data, test_size=0.2, random_state=0)"
   ]
  },
  {
   "cell_type": "code",
   "execution_count": 29,
   "metadata": {
    "colab": {
     "base_uri": "https://localhost:8080/",
     "height": 204
    },
    "colab_type": "code",
    "id": "5wYPJaBHnFbi",
    "outputId": "7a86531a-9e4a-4181-a42f-356e82c0306d"
   },
   "outputs": [
    {
     "data": {
      "text/html": [
       "<div>\n",
       "<style scoped>\n",
       "    .dataframe tbody tr th:only-of-type {\n",
       "        vertical-align: middle;\n",
       "    }\n",
       "\n",
       "    .dataframe tbody tr th {\n",
       "        vertical-align: top;\n",
       "    }\n",
       "\n",
       "    .dataframe thead th {\n",
       "        text-align: right;\n",
       "    }\n",
       "</style>\n",
       "<table border=\"1\" class=\"dataframe\">\n",
       "  <thead>\n",
       "    <tr style=\"text-align: right;\">\n",
       "      <th></th>\n",
       "      <th>Month</th>\n",
       "      <th>DayofMonth</th>\n",
       "      <th>DayOfWeek</th>\n",
       "      <th>UniqueCarrier</th>\n",
       "      <th>CRSElapsedTime</th>\n",
       "      <th>AirTime</th>\n",
       "      <th>Dest</th>\n",
       "      <th>Distance</th>\n",
       "      <th>TaxiIn</th>\n",
       "      <th>TaxiOut</th>\n",
       "      <th>PotD</th>\n",
       "    </tr>\n",
       "  </thead>\n",
       "  <tbody>\n",
       "    <tr>\n",
       "      <th>3710883</th>\n",
       "      <td>7</td>\n",
       "      <td>21</td>\n",
       "      <td>1</td>\n",
       "      <td>18</td>\n",
       "      <td>90.0</td>\n",
       "      <td>50.0</td>\n",
       "      <td>243</td>\n",
       "      <td>246</td>\n",
       "      <td>7.0</td>\n",
       "      <td>25.0</td>\n",
       "      <td>3</td>\n",
       "    </tr>\n",
       "    <tr>\n",
       "      <th>5763188</th>\n",
       "      <td>10</td>\n",
       "      <td>31</td>\n",
       "      <td>5</td>\n",
       "      <td>11</td>\n",
       "      <td>65.0</td>\n",
       "      <td>39.0</td>\n",
       "      <td>210</td>\n",
       "      <td>196</td>\n",
       "      <td>9.0</td>\n",
       "      <td>6.0</td>\n",
       "      <td>3</td>\n",
       "    </tr>\n",
       "    <tr>\n",
       "      <th>3518647</th>\n",
       "      <td>6</td>\n",
       "      <td>3</td>\n",
       "      <td>2</td>\n",
       "      <td>1</td>\n",
       "      <td>245.0</td>\n",
       "      <td>226.0</td>\n",
       "      <td>210</td>\n",
       "      <td>1726</td>\n",
       "      <td>26.0</td>\n",
       "      <td>30.0</td>\n",
       "      <td>2</td>\n",
       "    </tr>\n",
       "    <tr>\n",
       "      <th>6418924</th>\n",
       "      <td>11</td>\n",
       "      <td>16</td>\n",
       "      <td>7</td>\n",
       "      <td>4</td>\n",
       "      <td>146.0</td>\n",
       "      <td>115.0</td>\n",
       "      <td>150</td>\n",
       "      <td>944</td>\n",
       "      <td>10.0</td>\n",
       "      <td>15.0</td>\n",
       "      <td>1</td>\n",
       "    </tr>\n",
       "    <tr>\n",
       "      <th>3837282</th>\n",
       "      <td>7</td>\n",
       "      <td>23</td>\n",
       "      <td>3</td>\n",
       "      <td>15</td>\n",
       "      <td>169.0</td>\n",
       "      <td>146.0</td>\n",
       "      <td>64</td>\n",
       "      <td>1155</td>\n",
       "      <td>5.0</td>\n",
       "      <td>20.0</td>\n",
       "      <td>3</td>\n",
       "    </tr>\n",
       "  </tbody>\n",
       "</table>\n",
       "</div>"
      ],
      "text/plain": [
       "         Month  DayofMonth  DayOfWeek  UniqueCarrier  CRSElapsedTime  AirTime  \\\n",
       "3710883      7          21          1             18            90.0     50.0   \n",
       "5763188     10          31          5             11            65.0     39.0   \n",
       "3518647      6           3          2              1           245.0    226.0   \n",
       "6418924     11          16          7              4           146.0    115.0   \n",
       "3837282      7          23          3             15           169.0    146.0   \n",
       "\n",
       "         Dest  Distance  TaxiIn  TaxiOut  PotD  \n",
       "3710883   243       246     7.0     25.0     3  \n",
       "5763188   210       196     9.0      6.0     3  \n",
       "3518647   210      1726    26.0     30.0     2  \n",
       "6418924   150       944    10.0     15.0     1  \n",
       "3837282    64      1155     5.0     20.0     3  "
      ]
     },
     "execution_count": 29,
     "metadata": {},
     "output_type": "execute_result"
    }
   ],
   "source": [
    "X_train.head()"
   ]
  },
  {
   "cell_type": "markdown",
   "metadata": {
    "colab_type": "text",
    "id": "KhtteRcA6MgF"
   },
   "source": [
    "Default parameters"
   ]
  },
  {
   "cell_type": "code",
   "execution_count": 30,
   "metadata": {
    "colab": {
     "base_uri": "https://localhost:8080/",
     "height": 170
    },
    "colab_type": "code",
    "id": "6_jZ2V7_6MgG",
    "outputId": "3238e132-256b-4a7a-e9c4-36ce23346e20"
   },
   "outputs": [
    {
     "name": "stdout",
     "output_type": "stream",
     "text": [
      "              precision    recall  f1-score   support\n",
      "\n",
      "           0       0.89      0.95      0.92    297712\n",
      "           1       0.43      0.23      0.30     45017\n",
      "\n",
      "   micro avg       0.86      0.86      0.86    342729\n",
      "   macro avg       0.66      0.59      0.61    342729\n",
      "weighted avg       0.83      0.86      0.84    342729\n",
      "\n"
     ]
    }
   ],
   "source": [
    "from sklearn.naive_bayes import GaussianNB\n",
    "model = GaussianNB()\n",
    "model.fit(X_train, y_train)\n",
    "y_pred = model.predict(X_test)\n",
    "\n",
    "# Report\n",
    "from sklearn.metrics import classification_report\n",
    "\n",
    "print(classification_report(y_test, y_pred))"
   ]
  },
  {
   "cell_type": "markdown",
   "metadata": {
    "colab_type": "text",
    "id": "bPfcZg50Cb6w"
   },
   "source": [
    "### Random Forest\n",
    "https://medium.com/all-things-ai/in-depth-parameter-tuning-for-random-forest-d67bb7e920d"
   ]
  },
  {
   "cell_type": "markdown",
   "metadata": {
    "colab_type": "text",
    "id": "XvrNpitxXslk"
   },
   "source": [
    "Default parameters"
   ]
  },
  {
   "cell_type": "code",
   "execution_count": 35,
   "metadata": {
    "colab": {
     "base_uri": "https://localhost:8080/",
     "height": 204
    },
    "colab_type": "code",
    "id": "slP-ausGuZLF",
    "outputId": "37b879ce-9244-4a73-812e-ac63ec56fabd"
   },
   "outputs": [
    {
     "name": "stderr",
     "output_type": "stream",
     "text": [
      "/home/npqbuu/anaconda3/lib/python3.7/site-packages/sklearn/ensemble/forest.py:246: FutureWarning: The default value of n_estimators will change from 10 in version 0.20 to 100 in 0.22.\n",
      "  \"10 in version 0.20 to 100 in 0.22.\", FutureWarning)\n"
     ]
    },
    {
     "name": "stdout",
     "output_type": "stream",
     "text": [
      "              precision    recall  f1-score   support\n",
      "\n",
      "           0       0.89      0.99      0.94    297712\n",
      "           1       0.71      0.17      0.27     45017\n",
      "\n",
      "   micro avg       0.88      0.88      0.88    342729\n",
      "   macro avg       0.80      0.58      0.60    342729\n",
      "weighted avg       0.86      0.88      0.85    342729\n",
      "\n"
     ]
    }
   ],
   "source": [
    "from sklearn.ensemble import RandomForestClassifier\n",
    "\n",
    "model = RandomForestClassifier(n_jobs = -1, class_weight = 'balanced')\n",
    "model.fit(X_train, y_train)\n",
    "y_pred = model.predict(X_test)\n",
    "\n",
    "# Report\n",
    "from sklearn.metrics import classification_report\n",
    "\n",
    "\n",
    "print(classification_report(y_test, y_pred))"
   ]
  },
  {
   "cell_type": "markdown",
   "metadata": {
    "colab_type": "text",
    "id": "3nX1e7zP6MgL"
   },
   "source": [
    "Hyperparameter tuning"
   ]
  },
  {
   "cell_type": "code",
   "execution_count": 32,
   "metadata": {
    "colab": {
     "base_uri": "https://localhost:8080/",
     "height": 456
    },
    "colab_type": "code",
    "id": "3Afhjuwlv5RN",
    "outputId": "ae318940-3cd2-4b84-bba8-efd094737211"
   },
   "outputs": [
    {
     "name": "stdout",
     "output_type": "stream",
     "text": [
      "1  done!\n",
      "3  done!\n",
      "5  done!\n",
      "7  done!\n",
      "9  done!\n",
      "11  done!\n",
      "13  done!\n",
      "15  done!\n",
      "20  done!\n",
      "25  done!\n"
     ]
    },
    {
     "data": {
      "text/plain": [
       "<matplotlib.axes._subplots.AxesSubplot at 0x7f8a6d5302b0>"
      ]
     },
     "execution_count": 32,
     "metadata": {},
     "output_type": "execute_result"
    },
    {
     "data": {
      "image/png": "[encoded data removed]",
      "text/plain": [
       "<Figure size 432x288 with 1 Axes>"
      ]
     },
     "metadata": {
      "needs_background": "light"
     },
     "output_type": "display_data"
    }
   ],
   "source": [
    "# n_estimators\n",
    "n_estimators = [1, 3, 5, 7, 9, 11, 13, 15, 20, 25]\n",
    "test_results = []\n",
    "train_results = []\n",
    "for estimator in n_estimators:\n",
    "    model = RandomForestClassifier(n_estimators = estimator, n_jobs = -1, class_weight = 'balanced')\n",
    "    model.fit(X_train, y_train)\n",
    "  \n",
    "    y_pred = model.predict(X_test)\n",
    "    f1 = f1_score(y_test, y_pred)\n",
    "    test_results.append(f1)\n",
    "    \n",
    "    train_pred = model.predict(X_train)\n",
    "    f1 = f1_score(y_train, train_pred)\n",
    "    train_results.append(f1)\n",
    "\n",
    "    \n",
    "    print(estimator, ' done!')\n",
    "    \n",
    "# Plot metrics line chart\n",
    "sns.lineplot(x = n_estimators, y = test_results, label='Test F1')\n",
    "sns.lineplot(x = n_estimators, y = train_results, label='Train F1')"
   ]
  },
  {
   "cell_type": "code",
   "execution_count": 33,
   "metadata": {
    "colab": {
     "base_uri": "https://localhost:8080/",
     "height": 694
    },
    "colab_type": "code",
    "id": "fvd2JvGA6MgQ",
    "outputId": "d895e13e-fe2c-404b-e7ac-c7508d53f952"
   },
   "outputs": [
    {
     "name": "stderr",
     "output_type": "stream",
     "text": [
      "/home/npqbuu/anaconda3/lib/python3.7/site-packages/sklearn/ensemble/forest.py:246: FutureWarning: The default value of n_estimators will change from 10 in version 0.20 to 100 in 0.22.\n",
      "  \"10 in version 0.20 to 100 in 0.22.\", FutureWarning)\n"
     ]
    },
    {
     "name": "stdout",
     "output_type": "stream",
     "text": [
      "5.0  done!\n"
     ]
    },
    {
     "name": "stderr",
     "output_type": "stream",
     "text": [
      "/home/npqbuu/anaconda3/lib/python3.7/site-packages/sklearn/ensemble/forest.py:246: FutureWarning: The default value of n_estimators will change from 10 in version 0.20 to 100 in 0.22.\n",
      "  \"10 in version 0.20 to 100 in 0.22.\", FutureWarning)\n"
     ]
    },
    {
     "name": "stdout",
     "output_type": "stream",
     "text": [
      "8.0  done!\n"
     ]
    },
    {
     "name": "stderr",
     "output_type": "stream",
     "text": [
      "/home/npqbuu/anaconda3/lib/python3.7/site-packages/sklearn/ensemble/forest.py:246: FutureWarning: The default value of n_estimators will change from 10 in version 0.20 to 100 in 0.22.\n",
      "  \"10 in version 0.20 to 100 in 0.22.\", FutureWarning)\n"
     ]
    },
    {
     "name": "stdout",
     "output_type": "stream",
     "text": [
      "11.0  done!\n"
     ]
    },
    {
     "name": "stderr",
     "output_type": "stream",
     "text": [
      "/home/npqbuu/anaconda3/lib/python3.7/site-packages/sklearn/ensemble/forest.py:246: FutureWarning: The default value of n_estimators will change from 10 in version 0.20 to 100 in 0.22.\n",
      "  \"10 in version 0.20 to 100 in 0.22.\", FutureWarning)\n"
     ]
    },
    {
     "name": "stdout",
     "output_type": "stream",
     "text": [
      "14.0  done!\n"
     ]
    },
    {
     "name": "stderr",
     "output_type": "stream",
     "text": [
      "/home/npqbuu/anaconda3/lib/python3.7/site-packages/sklearn/ensemble/forest.py:246: FutureWarning: The default value of n_estimators will change from 10 in version 0.20 to 100 in 0.22.\n",
      "  \"10 in version 0.20 to 100 in 0.22.\", FutureWarning)\n"
     ]
    },
    {
     "name": "stdout",
     "output_type": "stream",
     "text": [
      "17.0  done!\n"
     ]
    },
    {
     "name": "stderr",
     "output_type": "stream",
     "text": [
      "/home/npqbuu/anaconda3/lib/python3.7/site-packages/sklearn/ensemble/forest.py:246: FutureWarning: The default value of n_estimators will change from 10 in version 0.20 to 100 in 0.22.\n",
      "  \"10 in version 0.20 to 100 in 0.22.\", FutureWarning)\n"
     ]
    },
    {
     "name": "stdout",
     "output_type": "stream",
     "text": [
      "20.0  done!\n"
     ]
    },
    {
     "name": "stderr",
     "output_type": "stream",
     "text": [
      "/home/npqbuu/anaconda3/lib/python3.7/site-packages/sklearn/ensemble/forest.py:246: FutureWarning: The default value of n_estimators will change from 10 in version 0.20 to 100 in 0.22.\n",
      "  \"10 in version 0.20 to 100 in 0.22.\", FutureWarning)\n"
     ]
    },
    {
     "name": "stdout",
     "output_type": "stream",
     "text": [
      "23.0  done!\n"
     ]
    },
    {
     "name": "stderr",
     "output_type": "stream",
     "text": [
      "/home/npqbuu/anaconda3/lib/python3.7/site-packages/sklearn/ensemble/forest.py:246: FutureWarning: The default value of n_estimators will change from 10 in version 0.20 to 100 in 0.22.\n",
      "  \"10 in version 0.20 to 100 in 0.22.\", FutureWarning)\n"
     ]
    },
    {
     "name": "stdout",
     "output_type": "stream",
     "text": [
      "26.0  done!\n"
     ]
    },
    {
     "data": {
      "text/plain": [
       "<matplotlib.axes._subplots.AxesSubplot at 0x7f8a5e69b470>"
      ]
     },
     "execution_count": 33,
     "metadata": {},
     "output_type": "execute_result"
    },
    {
     "data": {
      "image/png": "[encoded data removed]",
      "text/plain": [
       "<Figure size 432x288 with 1 Axes>"
      ]
     },
     "metadata": {
      "needs_background": "light"
     },
     "output_type": "display_data"
    }
   ],
   "source": [
    "# max_depths\n",
    "max_depths = np.linspace(5, 26, 8)\n",
    "test_results = []\n",
    "train_results = []\n",
    "\n",
    "for max_depth in max_depths:\n",
    "    model = RandomForestClassifier(max_depth = max_depth, n_jobs = -1, class_weight = 'balanced')\n",
    "    model.fit(X_train, y_train)\n",
    "  \n",
    "    y_pred = model.predict(X_test)\n",
    "    f1 = f1_score(y_test, y_pred)\n",
    "    test_results.append(f1)\n",
    "    \n",
    "    train_pred = model.predict(X_train)\n",
    "    f1 = f1_score(y_train, train_pred)\n",
    "    train_results.append(f1)\n",
    "    \n",
    "    print(max_depth, ' done!')\n",
    "\n",
    "# Plot metrics line chart\n",
    "sns.lineplot(x = max_depths, y = test_results, label='Test F1')\n",
    "sns.lineplot(x = max_depths, y = train_results, label='Train F1')"
   ]
  },
  {
   "cell_type": "markdown",
   "metadata": {
    "colab_type": "text",
    "id": "0q3RByoE6MgU"
   },
   "source": [
    "**Final model**\n",
    "\n",
    "Best parameters:\n",
    "- n_estimators = 3\n",
    "- max_depths = 17"
   ]
  },
  {
   "cell_type": "code",
   "execution_count": 34,
   "metadata": {
    "colab": {
     "base_uri": "https://localhost:8080/",
     "height": 170
    },
    "colab_type": "code",
    "id": "O0QEItv86MgX",
    "outputId": "9a859435-afab-40f9-f8d7-b0823329a79e"
   },
   "outputs": [
    {
     "name": "stdout",
     "output_type": "stream",
     "text": [
      "              precision    recall  f1-score   support\n",
      "\n",
      "           0       0.92      0.77      0.84    297712\n",
      "           1       0.27      0.57      0.37     45017\n",
      "\n",
      "   micro avg       0.74      0.74      0.74    342729\n",
      "   macro avg       0.60      0.67      0.61    342729\n",
      "weighted avg       0.84      0.74      0.78    342729\n",
      "\n"
     ]
    }
   ],
   "source": [
    "model = RandomForestClassifier(n_estimators = 3, max_depth = 17, n_jobs = -1, class_weight = 'balanced')\n",
    "model.fit(X_train, y_train)\n",
    "y_pred = model.predict(X_test)\n",
    "\n",
    "# Report\n",
    "from sklearn.metrics import classification_report\n",
    "\n",
    "print(classification_report(y_test, y_pred))"
   ]
  },
  {
   "cell_type": "markdown",
   "metadata": {
    "colab_type": "text",
    "id": "MwrQdtDgCb66"
   },
   "source": [
    "# TODO"
   ]
  },
  {
   "cell_type": "markdown",
   "metadata": {
    "colab_type": "text",
    "id": "7Qxf4aXsCb67"
   },
   "source": [
    "1. Edit threshhold / class weight\n",
    "2. PCA: Dimension reducing\n",
    "3. RFE: Features selection\n",
    "4. GridsearchCV for tuning\n",
    "- Tuning with 3 values\n",
    "- Goal: Precison ~ Recall (F1 score)\n",
    "5. Compare performances among models"
   ]
  },
  {
   "cell_type": "code",
   "execution_count": null,
   "metadata": {
    "colab": {},
    "colab_type": "code",
    "id": "_CsbrWPJCb69"
   },
   "outputs": [],
   "source": []
  }
 ],
 "metadata": {
  "accelerator": "GPU",
  "colab": {
   "collapsed_sections": [
    "bPfcZg50Cb6w"
   ],
   "name": "Airline-Arrivals-Project.ipynb",
   "provenance": [],
   "version": "0.3.2"
  },
  "kernelspec": {
   "display_name": "Python 3",
   "language": "python",
   "name": "python3"
  },
  "language_info": {
   "codemirror_mode": {
    "name": "ipython",
    "version": 3
   },
   "file_extension": ".py",
   "mimetype": "text/x-python",
   "name": "python",
   "nbconvert_exporter": "python",
   "pygments_lexer": "ipython3",
   "version": "3.7.3"
  }
 },
 "nbformat": 4,
 "nbformat_minor": 1
}
